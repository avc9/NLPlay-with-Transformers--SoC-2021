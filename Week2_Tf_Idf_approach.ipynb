{
  "nbformat": 4,
  "nbformat_minor": 0,
  "metadata": {
    "colab": {
      "name": "Week2_Tf-Idf_approach.ipynb",
      "provenance": [],
      "mount_file_id": "1taEZnQuojs3UIr1eqP73G6FOqeglqiYS",
      "authorship_tag": "ABX9TyMOcC+rwmkA6wbupXUfHCgH",
      "include_colab_link": true
    },
    "kernelspec": {
      "name": "python3",
      "display_name": "Python 3"
    },
    "language_info": {
      "name": "python"
    },
    "accelerator": "GPU"
  },
  "cells": [
    {
      "cell_type": "markdown",
      "metadata": {
        "id": "view-in-github",
        "colab_type": "text"
      },
      "source": [
        "<a href=\"https://colab.research.google.com/github/avc9/NLPlay-with-Transformers--SoC-2021/blob/main/Week2_Tf_Idf_approach.ipynb\" target=\"_parent\"><img src=\"https://colab.research.google.com/assets/colab-badge.svg\" alt=\"Open In Colab\"/></a>"
      ]
    },
    {
      "cell_type": "markdown",
      "metadata": {
        "id": "9jcdZexRsr1J"
      },
      "source": [
        "**Importing all the essential libraries**\n"
      ]
    },
    {
      "cell_type": "code",
      "metadata": {
        "id": "_dlEVQmBe8Np"
      },
      "source": [
        "import numpy as np\n",
        "import pandas as pd\n",
        "import nltk\n",
        "from nltk.corpus import stopwords\n",
        "from nltk.stem import PorterStemmer\n",
        "from nltk.tokenize.treebank import TreebankWordDetokenizer\n",
        "import sklearn\n",
        "import matplotlib.pyplot as plt\n",
        "import re\n",
        "from bs4 import BeautifulSoup\n",
        "from sklearn.model_selection import train_test_split\n",
        "from sklearn.feature_extraction.text import CountVectorizer\n",
        "from sklearn.feature_extraction.text import TfidfVectorizer\n",
        "from sklearn.linear_model import LogisticRegression\n",
        "from sklearn.metrics import classification_report,confusion_matrix,accuracy_score\n",
        "import random"
      ],
      "execution_count": 1,
      "outputs": []
    },
    {
      "cell_type": "code",
      "metadata": {
        "id": "FLNGSU9bsJSk",
        "colab": {
          "base_uri": "https://localhost:8080/"
        },
        "outputId": "26362198-822f-4721-d53f-f9b38f36894a"
      },
      "source": [
        "nltk.download('punkt')\n",
        "nltk.download('stopwords')"
      ],
      "execution_count": 2,
      "outputs": [
        {
          "output_type": "stream",
          "text": [
            "[nltk_data] Downloading package punkt to /root/nltk_data...\n",
            "[nltk_data]   Unzipping tokenizers/punkt.zip.\n",
            "[nltk_data] Downloading package stopwords to /root/nltk_data...\n",
            "[nltk_data]   Unzipping corpora/stopwords.zip.\n"
          ],
          "name": "stdout"
        },
        {
          "output_type": "execute_result",
          "data": {
            "text/plain": [
              "True"
            ]
          },
          "metadata": {
            "tags": []
          },
          "execution_count": 2
        }
      ]
    },
    {
      "cell_type": "code",
      "metadata": {
        "id": "9w4M0XGnfYAh",
        "colab": {
          "base_uri": "https://localhost:8080/",
          "height": 195
        },
        "outputId": "03f29ffc-54ce-4b18-8827-84ddefdb6ab1"
      },
      "source": [
        "data=pd.read_csv(\"/content/drive/MyDrive/SOC-2021 data/IMDB Dataset.csv\")\n",
        "data.head(5)"
      ],
      "execution_count": 3,
      "outputs": [
        {
          "output_type": "execute_result",
          "data": {
            "text/html": [
              "<div>\n",
              "<style scoped>\n",
              "    .dataframe tbody tr th:only-of-type {\n",
              "        vertical-align: middle;\n",
              "    }\n",
              "\n",
              "    .dataframe tbody tr th {\n",
              "        vertical-align: top;\n",
              "    }\n",
              "\n",
              "    .dataframe thead th {\n",
              "        text-align: right;\n",
              "    }\n",
              "</style>\n",
              "<table border=\"1\" class=\"dataframe\">\n",
              "  <thead>\n",
              "    <tr style=\"text-align: right;\">\n",
              "      <th></th>\n",
              "      <th>review</th>\n",
              "      <th>sentiment</th>\n",
              "    </tr>\n",
              "  </thead>\n",
              "  <tbody>\n",
              "    <tr>\n",
              "      <th>0</th>\n",
              "      <td>One of the other reviewers has mentioned that ...</td>\n",
              "      <td>positive</td>\n",
              "    </tr>\n",
              "    <tr>\n",
              "      <th>1</th>\n",
              "      <td>A wonderful little production. &lt;br /&gt;&lt;br /&gt;The...</td>\n",
              "      <td>positive</td>\n",
              "    </tr>\n",
              "    <tr>\n",
              "      <th>2</th>\n",
              "      <td>I thought this was a wonderful way to spend ti...</td>\n",
              "      <td>positive</td>\n",
              "    </tr>\n",
              "    <tr>\n",
              "      <th>3</th>\n",
              "      <td>Basically there's a family where a little boy ...</td>\n",
              "      <td>negative</td>\n",
              "    </tr>\n",
              "    <tr>\n",
              "      <th>4</th>\n",
              "      <td>Petter Mattei's \"Love in the Time of Money\" is...</td>\n",
              "      <td>positive</td>\n",
              "    </tr>\n",
              "  </tbody>\n",
              "</table>\n",
              "</div>"
            ],
            "text/plain": [
              "                                              review sentiment\n",
              "0  One of the other reviewers has mentioned that ...  positive\n",
              "1  A wonderful little production. <br /><br />The...  positive\n",
              "2  I thought this was a wonderful way to spend ti...  positive\n",
              "3  Basically there's a family where a little boy ...  negative\n",
              "4  Petter Mattei's \"Love in the Time of Money\" is...  positive"
            ]
          },
          "metadata": {
            "tags": []
          },
          "execution_count": 3
        }
      ]
    },
    {
      "cell_type": "code",
      "metadata": {
        "id": "syctrTMsgMhn",
        "colab": {
          "base_uri": "https://localhost:8080/"
        },
        "outputId": "671b3f69-ff48-4b68-e74d-3865da4efed8"
      },
      "source": [
        "stop_words=set(stopwords.words('english'))\n",
        "\n",
        "def strip_html(text):\n",
        "    soup = BeautifulSoup(text, \"html.parser\")\n",
        "    return soup.get_text()\n",
        "\n",
        "def remove_between_square_brackets(text):\n",
        "    return re.sub('\\[[^]]*\\]', '', text)\n",
        "\n",
        "\n",
        "def denoise_text(text):\n",
        "    text = strip_html(text)\n",
        "    text = remove_between_square_brackets(text)\n",
        "    return text\n",
        "\n",
        "data['review']=data['review'].apply(denoise_text)\n",
        "print(data.head(5))"
      ],
      "execution_count": 4,
      "outputs": [
        {
          "output_type": "stream",
          "text": [
            "                                              review sentiment\n",
            "0  One of the other reviewers has mentioned that ...  positive\n",
            "1  A wonderful little production. The filming tec...  positive\n",
            "2  I thought this was a wonderful way to spend ti...  positive\n",
            "3  Basically there's a family where a little boy ...  negative\n",
            "4  Petter Mattei's \"Love in the Time of Money\" is...  positive\n"
          ],
          "name": "stdout"
        }
      ]
    },
    {
      "cell_type": "code",
      "metadata": {
        "colab": {
          "base_uri": "https://localhost:8080/"
        },
        "id": "Hlnbl3eMt5sW",
        "outputId": "53ae3edc-a6fa-4753-fca0-ae390a411230"
      },
      "source": [
        "def stem_tokenizer(text):\n",
        "  tokenizer=nltk.RegexpTokenizer(r\"\\w+\")\n",
        "  stemmer=PorterStemmer()\n",
        "  return [(stemmer.stem(word)).lower() for word in tokenizer.tokenize(text) if word.lower() not in stop_words]\n",
        "\n",
        "data['review']=data['review'].apply(stem_tokenizer)\n",
        "print(data.head(5))\n",
        "print(data['review'][0])"
      ],
      "execution_count": 5,
      "outputs": [
        {
          "output_type": "stream",
          "text": [
            "                                              review sentiment\n",
            "0  [one, review, mention, watch, 1, oz, episod, h...  positive\n",
            "1  [wonder, littl, product, film, techniqu, unass...  positive\n",
            "2  [thought, wonder, way, spend, time, hot, summe...  positive\n",
            "3  [basic, famili, littl, boy, jake, think, zombi...  negative\n",
            "4  [petter, mattei, love, time, money, visual, st...  positive\n",
            "['one', 'review', 'mention', 'watch', '1', 'oz', 'episod', 'hook', 'right', 'exactli', 'happen', 'first', 'thing', 'struck', 'oz', 'brutal', 'unflinch', 'scene', 'violenc', 'set', 'right', 'word', 'go', 'trust', 'show', 'faint', 'heart', 'timid', 'show', 'pull', 'punch', 'regard', 'drug', 'sex', 'violenc', 'hardcor', 'classic', 'use', 'word', 'call', 'oz', 'nicknam', 'given', 'oswald', 'maximum', 'secur', 'state', 'penitentari', 'focus', 'mainli', 'emerald', 'citi', 'experiment', 'section', 'prison', 'cell', 'glass', 'front', 'face', 'inward', 'privaci', 'high', 'agenda', 'em', 'citi', 'home', 'mani', 'aryan', 'muslim', 'gangsta', 'latino', 'christian', 'italian', 'irish', 'scuffl', 'death', 'stare', 'dodgi', 'deal', 'shadi', 'agreement', 'never', 'far', 'away', 'would', 'say', 'main', 'appeal', 'show', 'due', 'fact', 'goe', 'show', 'dare', 'forget', 'pretti', 'pictur', 'paint', 'mainstream', 'audienc', 'forget', 'charm', 'forget', 'romanc', 'oz', 'mess', 'around', 'first', 'episod', 'ever', 'saw', 'struck', 'nasti', 'surreal', 'say', 'readi', 'watch', 'develop', 'tast', 'oz', 'got', 'accustom', 'high', 'level', 'graphic', 'violenc', 'violenc', 'injustic', 'crook', 'guard', 'sold', 'nickel', 'inmat', 'kill', 'order', 'get', 'away', 'well', 'manner', 'middl', 'class', 'inmat', 'turn', 'prison', 'bitch', 'due', 'lack', 'street', 'skill', 'prison', 'experi', 'watch', 'oz', 'may', 'becom', 'comfort', 'uncomfort', 'view', 'that', 'get', 'touch', 'darker', 'side']\n"
          ],
          "name": "stdout"
        }
      ]
    },
    {
      "cell_type": "code",
      "metadata": {
        "colab": {
          "base_uri": "https://localhost:8080/"
        },
        "id": "qesicac6vlGb",
        "outputId": "68bbc4e0-fe63-4b44-a036-15b864b9cd3c"
      },
      "source": [
        "def detokenizer_func(text):\n",
        "  detokenizer=TreebankWordDetokenizer()\n",
        "  text=detokenizer.detokenize(text)\n",
        "  return text\n",
        "\n",
        "data['review']=data['review'].apply(detokenizer_func)\n",
        "print(data.head(5))\n",
        "print(data['review'][0])"
      ],
      "execution_count": 6,
      "outputs": [
        {
          "output_type": "stream",
          "text": [
            "                                              review sentiment\n",
            "0  one review mention watch 1 oz episod hook righ...  positive\n",
            "1  wonder littl product film techniqu unassum old...  positive\n",
            "2  thought wonder way spend time hot summer weeke...  positive\n",
            "3  basic famili littl boy jake think zombi closet...  negative\n",
            "4  petter mattei love time money visual stun film...  positive\n",
            "one review mention watch 1 oz episod hook right exactli happen first thing struck oz brutal unflinch scene violenc set right word go trust show faint heart timid show pull punch regard drug sex violenc hardcor classic use word call oz nicknam given oswald maximum secur state penitentari focus mainli emerald citi experiment section prison cell glass front face inward privaci high agenda em citi home mani aryan muslim gangsta latino christian italian irish scuffl death stare dodgi deal shadi agreement never far away would say main appeal show due fact goe show dare forget pretti pictur paint mainstream audienc forget charm forget romanc oz mess around first episod ever saw struck nasti surreal say readi watch develop tast oz got accustom high level graphic violenc violenc injustic crook guard sold nickel inmat kill order get away well manner middl class inmat turn prison bitch due lack street skill prison experi watch oz may becom comfort uncomfort view that get touch darker side\n"
          ],
          "name": "stdout"
        }
      ]
    },
    {
      "cell_type": "markdown",
      "metadata": {
        "id": "WPpBkVAmIJ9v"
      },
      "source": [
        "<h1><b>Limiting max features based on Zipf's law</b></h1>"
      ]
    },
    {
      "cell_type": "code",
      "metadata": {
        "id": "BsHIn8lf5eht"
      },
      "source": [
        "tidif=TfidfVectorizer(max_features=10000)\n",
        "tidif_data=tidif.fit_transform(data['review'])"
      ],
      "execution_count": 43,
      "outputs": []
    },
    {
      "cell_type": "code",
      "metadata": {
        "colab": {
          "base_uri": "https://localhost:8080/"
        },
        "id": "qcI5YS7L8Lhc",
        "outputId": "6ec96738-b89a-4d7d-f69f-e3d6d7792323"
      },
      "source": [
        "row=tidif_data[0,:]\n",
        "print(row.shape)"
      ],
      "execution_count": 44,
      "outputs": [
        {
          "output_type": "stream",
          "text": [
            "(1, 10000)\n"
          ],
          "name": "stdout"
        }
      ]
    },
    {
      "cell_type": "code",
      "metadata": {
        "colab": {
          "base_uri": "https://localhost:8080/"
        },
        "id": "mdwdQ6OT_ce_",
        "outputId": "7f45a887-ca8d-450e-c533-2c1c809b2d17"
      },
      "source": [
        "def class_pre(val):\n",
        "  if val=='positive':\n",
        "    return 1\n",
        "  else:\n",
        "    return 0\n",
        "data['sentiment']=data['sentiment'].apply(class_pre)\n",
        "print(data.sentiment.value_counts())"
      ],
      "execution_count": 9,
      "outputs": [
        {
          "output_type": "stream",
          "text": [
            "1    25000\n",
            "0    25000\n",
            "Name: sentiment, dtype: int64\n"
          ],
          "name": "stdout"
        }
      ]
    },
    {
      "cell_type": "code",
      "metadata": {
        "id": "eiTrcL9QBAsk"
      },
      "source": [
        "X_train,X_test,y_train,y_test=train_test_split(tidif_data,data['sentiment'],train_size=0.7,shuffle=True,random_state=15)"
      ],
      "execution_count": 45,
      "outputs": []
    },
    {
      "cell_type": "code",
      "metadata": {
        "colab": {
          "base_uri": "https://localhost:8080/"
        },
        "id": "IbJ2gTBpQ6cS",
        "outputId": "3f55778c-3f3f-463f-8b82-ed99459665ae"
      },
      "source": [
        "print(X_train.shape)\n",
        "print(y_train.shape)\n",
        "print(X_test.shape)\n",
        "print(y_test.shape)\n",
        "#print(y_train.values.reshape(35000,1))"
      ],
      "execution_count": 46,
      "outputs": [
        {
          "output_type": "stream",
          "text": [
            "(35000, 10000)\n",
            "(35000,)\n",
            "(15000, 10000)\n",
            "(15000,)\n"
          ],
          "name": "stdout"
        }
      ]
    },
    {
      "cell_type": "markdown",
      "metadata": {
        "id": "6vFgp06MGbRX"
      },
      "source": [
        "<h1><b>Testing with Logistic Regression</b></h1>"
      ]
    },
    {
      "cell_type": "code",
      "metadata": {
        "colab": {
          "base_uri": "https://localhost:8080/"
        },
        "id": "BcDWJR74n75s",
        "outputId": "9da5aa6d-ebdc-4b69-a5ba-72720972c089"
      },
      "source": [
        "#training the model\n",
        "lr=LogisticRegression(penalty='l2',max_iter=500,C=1,random_state=42)\n",
        "\"\"\"#Fitting the model for Bag of words\n",
        "lr_bow=lr.fit(cv_train_reviews,train_sentiments)\n",
        "print(lr_bow)\"\"\"\n",
        "#Fitting the model for tfidf features\n",
        "lr_tfidf=lr.fit(X_train,y_train)\n",
        "#print(lr_tfidf)\n",
        "\n",
        "\"\"\"lr_bow_predict=lr.predict(cv_test_reviews)\n",
        "print(lr_bow_predict)\"\"\"\n",
        "##Predicting the model for tfidf features\n",
        "lr_tfidf_predict=lr.predict(X_test)\n",
        "print(lr_tfidf_predict.shape)\n",
        "\n",
        "#Accuracy score for bag of words\n",
        "\"\"\"lr_bow_score=accuracy_score(test_sentiments,lr_bow_predict)\n",
        "print(\"lr_bow_score :\",lr_bow_score)\"\"\"\n",
        "#Accuracy score for tfidf features\n",
        "lr_tfidf_score=accuracy_score(y_test,lr_tfidf_predict)\n",
        "print(\"lr_tfidf_score :\",lr_tfidf_score)"
      ],
      "execution_count": 47,
      "outputs": [
        {
          "output_type": "stream",
          "text": [
            "(15000,)\n",
            "lr_tfidf_score : 0.8866\n"
          ],
          "name": "stdout"
        }
      ]
    },
    {
      "cell_type": "code",
      "metadata": {
        "id": "o8K-A1ZgygU7"
      },
      "source": [
        "import torch\n",
        "import torch.nn as nn\n",
        "import torch.nn.functional as F\n",
        "device = torch.device(\"cuda\" if torch.cuda.is_available() else \"cpu\")"
      ],
      "execution_count": 13,
      "outputs": []
    },
    {
      "cell_type": "code",
      "metadata": {
        "colab": {
          "base_uri": "https://localhost:8080/"
        },
        "id": "muHebkVH0woS",
        "outputId": "ad4cf050-51e8-4b4e-d51d-d714a53d89cf"
      },
      "source": [
        "class net(nn.Module):\n",
        "  def __init__(self,input_dim):\n",
        "    super(net,self).__init__()\n",
        "    #self.bn1=nn.BatchNorm1d(input_dim)\n",
        "    self.fc1=nn.Linear(input_dim,500)\n",
        "    self.g1=nn.ReLU()\n",
        "    #self.bn2=nn.BatchNorm1d(128)\n",
        "    #self.d1=nn.Dropout(p=0.4)\n",
        "    self.fc2=nn.Linear(500,500)\n",
        "    self.g2=nn.ReLU()\n",
        "    #self.bn3=nn.BatchNorm1d(256)\n",
        "    self.fc3=nn.Linear(500,1)\n",
        "    self.g3=nn.Sigmoid()\n",
        "    \n",
        "  def forward(self, x):\n",
        "    #out=self.bn1(x)\n",
        "    out=x\n",
        "    out=self.fc1(out)\n",
        "    out=self.g1(out)\n",
        "    #out=F.dropout(out,p=0.2)\n",
        "    #out=self.bn2(out)\n",
        "    #out=self.d1(out)\n",
        "    out=self.fc2(out)\n",
        "    out=self.g2(out)\n",
        "    #out=F.dropout(out,p=0.2)\n",
        "    #out=self.bn3(out)\n",
        "    out=self.fc3(out)\n",
        "    out=self.g3(out)\n",
        "    return out\n",
        "\n",
        "print(net(X_train.shape[1]))"
      ],
      "execution_count": 48,
      "outputs": [
        {
          "output_type": "stream",
          "text": [
            "net(\n",
            "  (bn1): BatchNorm1d(10000, eps=1e-05, momentum=0.1, affine=True, track_running_stats=True)\n",
            "  (fc1): Linear(in_features=10000, out_features=500, bias=True)\n",
            "  (g1): ReLU()\n",
            "  (fc2): Linear(in_features=500, out_features=500, bias=True)\n",
            "  (g2): ReLU()\n",
            "  (fc3): Linear(in_features=500, out_features=1, bias=True)\n",
            "  (g3): Sigmoid()\n",
            ")\n"
          ],
          "name": "stdout"
        }
      ]
    },
    {
      "cell_type": "code",
      "metadata": {
        "colab": {
          "base_uri": "https://localhost:8080/"
        },
        "id": "skEeO-HU6tdp",
        "outputId": "82451f56-3ace-46bc-9514-342a548c764d"
      },
      "source": [
        "net1=net(X_train.shape[1])\n",
        "params = list(net1.parameters())\n",
        "print(len(params))\n",
        "print(params[0].size())"
      ],
      "execution_count": 49,
      "outputs": [
        {
          "output_type": "stream",
          "text": [
            "8\n",
            "torch.Size([10000])\n"
          ],
          "name": "stdout"
        }
      ]
    },
    {
      "cell_type": "code",
      "metadata": {
        "id": "6_L5SJlq7g0b"
      },
      "source": [
        "import torch.optim as optim\n",
        "\n",
        "criterion = nn.BCELoss()\n",
        "optimizer = optim.SGD(net1.parameters(), lr=0.01, weight_decay=0.01)"
      ],
      "execution_count": 53,
      "outputs": []
    },
    {
      "cell_type": "code",
      "metadata": {
        "colab": {
          "base_uri": "https://localhost:8080/",
          "height": 727
        },
        "id": "yuDnDIEG_FLq",
        "outputId": "177a8464-0126-414c-cf6b-5b8308c0d0f4"
      },
      "source": [
        "iters=25\n",
        "train_loss=[]\n",
        "test_loss=[]\n",
        "train_loss_buff=0\n",
        "test_loss_buff=0\n",
        "batch=1024\n",
        "offset=0\n",
        "for j in range(iters):\n",
        "  while (offset+batch<35000):\n",
        "    #number=random.randint(0,X_test.shape[0]-batch)\n",
        "\n",
        "    inputs=X_train.copy()[offset:offset+batch,:]\n",
        "    labels=torch.tensor(y_train.copy().values,dtype=torch.float32)\n",
        "    labels=labels[offset:offset+batch]\n",
        "    offset=offset+batch\n",
        "\n",
        "    \"\"\"inputs=X_train.copy()\n",
        "    labels=torch.tensor(y_train.copy().values,dtype=torch.float32)\"\"\"\n",
        "\n",
        "    \"\"\"inputs_test=X_test.copy()[number:number+batch,:]\n",
        "    labels_test=torch.tensor(y_test.copy().values,dtype=torch.float32)\n",
        "    labels_test=labels_test[number:number+batch]\n",
        "    offset=offset+batch\"\"\"\n",
        "\n",
        "    #Converting Sparse matrix to Pytorch Tensor Begins\n",
        "\n",
        "    Acoo = inputs.tocoo()\n",
        "    #print('Acoo',Acoo)\n",
        "\n",
        "    values = Acoo.data\n",
        "    indices = np.vstack((Acoo.row, Acoo.col))\n",
        "\n",
        "    i = torch.LongTensor(indices)\n",
        "    v = torch.FloatTensor(values)\n",
        "    shape = Acoo.shape\n",
        "\n",
        "    inputs=torch.sparse.FloatTensor(i, v, torch.Size(shape)).to_dense()\n",
        "    \n",
        "\n",
        "    ###Conversion Process Ends\n",
        "\n",
        "    \"\"\"Acoo = inputs_test.tocoo()\n",
        "    #print('Acoo',Acoo)\n",
        "\n",
        "    values = Acoo.data\n",
        "    indices = np.vstack((Acoo.row, Acoo.col))\n",
        "\n",
        "    i = torch.LongTensor(indices)\n",
        "    v = torch.FloatTensor(values)\n",
        "    shape = Acoo.shape\n",
        "\n",
        "    inputs_test=torch.sparse.FloatTensor(i, v, torch.Size(shape)).to_dense()\"\"\"\n",
        "\n",
        "\n",
        "    optimizer.zero_grad()\n",
        "\n",
        "    outputs = net1(inputs)\n",
        "    #outputs_test=net1(inputs_test)\n",
        "\n",
        "    outputs=outputs.flatten()\n",
        "    #outputs_test=outputs_test.flatten()\n",
        "\n",
        "    loss = criterion(outputs, labels)\n",
        "    #loss_test=criterion(outputs_test, labels_test)\n",
        "    loss.backward()\n",
        "    optimizer.step()\n",
        "\n",
        "    \n",
        "    train_loss_buff+=loss.item()\n",
        "    #test_loss_buff+=loss_test.item()\n",
        "    \n",
        "\n",
        "\n",
        "    #print('iter %d loss: %.3f' %(i + 1,loss.item()))\n",
        "    #plt.plot(loss.item())\n",
        "    #train_loss.append(loss.item())\n",
        "    #test_loss.append(loss_test.item())\n",
        "    #cur_train=(loss.item()).numpy()\n",
        "    #cur_test=loss_test.item()\n",
        "    #print(outputs.dtype)\n",
        "    #print(labels.dtype)\n",
        "  train_loss.append(train_loss_buff/batch)\n",
        "  test_loss.append(test_loss_buff/batch)  \n",
        "  print(\"epoch %d.    train_loss=%f      test_loss=%f\" % (j+1,train_loss_buff/batch,test_loss_buff/batch))\n",
        "  offset=0\n",
        "  train_loss_buff=0\n",
        "  train_loss_buff=0\n",
        "\n",
        "plt.plot(train_loss)\n",
        "#plt.plot(test_loss)\n",
        "plt.legend()\n",
        "plt.show()"
      ],
      "execution_count": 75,
      "outputs": [
        {
          "output_type": "stream",
          "text": [
            "epoch 1.    train_loss=0.020567      test_loss=0.000000\n",
            "epoch 2.    train_loss=0.020020      test_loss=0.000000\n",
            "epoch 3.    train_loss=0.019362      test_loss=0.000000\n",
            "epoch 4.    train_loss=0.018583      test_loss=0.000000\n",
            "epoch 5.    train_loss=0.017687      test_loss=0.000000\n",
            "epoch 6.    train_loss=0.016695      test_loss=0.000000\n",
            "epoch 7.    train_loss=0.015642      test_loss=0.000000\n",
            "epoch 8.    train_loss=0.014574      test_loss=0.000000\n",
            "epoch 9.    train_loss=0.013537      test_loss=0.000000\n",
            "epoch 10.    train_loss=0.012563      test_loss=0.000000\n",
            "epoch 11.    train_loss=0.011672      test_loss=0.000000\n",
            "epoch 12.    train_loss=0.010870      test_loss=0.000000\n",
            "epoch 13.    train_loss=0.010153      test_loss=0.000000\n",
            "epoch 14.    train_loss=0.009514      test_loss=0.000000\n",
            "epoch 15.    train_loss=0.008942      test_loss=0.000000\n",
            "epoch 16.    train_loss=0.008429      test_loss=0.000000\n",
            "epoch 17.    train_loss=0.007967      test_loss=0.000000\n",
            "epoch 18.    train_loss=0.007548      test_loss=0.000000\n",
            "epoch 19.    train_loss=0.007166      test_loss=0.000000\n",
            "epoch 20.    train_loss=0.006816      test_loss=0.000000\n",
            "epoch 21.    train_loss=0.006493      test_loss=0.000000\n",
            "epoch 22.    train_loss=0.006194      test_loss=0.000000\n",
            "epoch 23.    train_loss=0.005916      test_loss=0.000000\n",
            "epoch 24.    train_loss=0.005657      test_loss=0.000000\n"
          ],
          "name": "stdout"
        },
        {
          "output_type": "stream",
          "text": [
            "No handles with labels found to put in legend.\n"
          ],
          "name": "stderr"
        },
        {
          "output_type": "stream",
          "text": [
            "epoch 25.    train_loss=0.005414      test_loss=0.000000\n"
          ],
          "name": "stdout"
        },
        {
          "output_type": "display_data",
          "data": {
            "image/png": "[encoded data removed]",
            "text/plain": [
              "<Figure size 432x288 with 1 Axes>"
            ]
          },
          "metadata": {
            "tags": [],
            "needs_background": "light"
          }
        }
      ]
    },
    {
      "cell_type": "code",
      "metadata": {
        "colab": {
          "base_uri": "https://localhost:8080/"
        },
        "id": "2F0lRYsU6eb-",
        "outputId": "cf9e34f2-4afb-4375-9abc-7a63f8543331"
      },
      "source": [
        "#Converting Sparse test matrix to Pytorch Tensor\n",
        "\n",
        "inputs_test=X_test.copy()\n",
        "Acoo = inputs_test.tocoo()\n",
        "#print('Acoo',Acoo)\n",
        "\n",
        "values = Acoo.data\n",
        "indices = np.vstack((Acoo.row, Acoo.col))\n",
        "\n",
        "i = torch.LongTensor(indices)\n",
        "v = torch.FloatTensor(values)\n",
        "shape = Acoo.shape\n",
        "\n",
        "inputs_test=torch.sparse.FloatTensor(i, v, torch.Size(shape)).to_dense()\n",
        "\n",
        "prediction=net1(inputs_test)\n",
        "print(prediction.dtype)"
      ],
      "execution_count": 76,
      "outputs": [
        {
          "output_type": "stream",
          "text": [
            "torch.float32\n"
          ],
          "name": "stdout"
        }
      ]
    },
    {
      "cell_type": "code",
      "metadata": {
        "colab": {
          "base_uri": "https://localhost:8080/"
        },
        "id": "mUpbndvz864a",
        "outputId": "58e9bc19-39c7-457a-9793-fc547affdf78"
      },
      "source": [
        "prediction=prediction.flatten()\n",
        "print(prediction.shape)\n",
        "preds=prediction.detach().numpy()\n",
        "print(preds.shape)\n",
        "#y_test=y_test.to_numpy()\n",
        "print(y_test.shape)\n",
        "print(preds)\n",
        "final_preds=np.array([])\n",
        "for iterator in preds.copy():\n",
        "  if (iterator>0.5):\n",
        "    final_preds=np.append(final_preds,1)\n",
        "  else :\n",
        "    final_preds=np.append(final_preds,0)\n",
        "print(final_preds)\n",
        "print(final_preds.shape)\n",
        "from sklearn.metrics import classification_report\n"
      ],
      "execution_count": 78,
      "outputs": [
        {
          "output_type": "stream",
          "text": [
            "torch.Size([15000])\n",
            "(15000,)\n",
            "(15000,)\n",
            "[0.07544795 0.14692518 0.9984486  ... 0.08188771 0.03738041 0.9366346 ]\n",
            "[0. 0. 1. ... 0. 0. 1.]\n",
            "(15000,)\n"
          ],
          "name": "stdout"
        }
      ]
    },
    {
      "cell_type": "code",
      "metadata": {
        "colab": {
          "base_uri": "https://localhost:8080/"
        },
        "id": "HhkKe2GbHw0I",
        "outputId": "9efc03b8-5b1f-405f-efb7-7f7fde0ba069"
      },
      "source": [
        "print(classification_report(y_test,final_preds))"
      ],
      "execution_count": 79,
      "outputs": [
        {
          "output_type": "stream",
          "text": [
            "              precision    recall  f1-score   support\n",
            "\n",
            "           0       0.89      0.88      0.88      7488\n",
            "           1       0.88      0.89      0.89      7512\n",
            "\n",
            "    accuracy                           0.88     15000\n",
            "   macro avg       0.88      0.88      0.88     15000\n",
            "weighted avg       0.88      0.88      0.88     15000\n",
            "\n"
          ],
          "name": "stdout"
        }
      ]
    }
  ]
}