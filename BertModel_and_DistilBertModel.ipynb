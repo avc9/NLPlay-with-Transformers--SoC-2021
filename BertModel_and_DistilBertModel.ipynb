{
  "nbformat": 4,
  "nbformat_minor": 0,
  "metadata": {
    "colab": {
      "name": "BertModel and DistilBertModel.ipynb",
      "provenance": [],
      "mount_file_id": "1Q9Bv01NsndPHTCWDWVDlRELjWC8IpYlS",
      "authorship_tag": "ABX9TyMJ5N79g5OZPNGtXH/Ixj3P",
      "include_colab_link": true
    },
    "kernelspec": {
      "name": "python3",
      "display_name": "Python 3"
    },
    "language_info": {
      "name": "python"
    },
    "widgets": {
      "application/vnd.jupyter.widget-state+json": {
        "6e83a86c38c54cda852ebea3fbfa54ec": {
          "model_module": "@jupyter-widgets/controls",
          "model_name": "HBoxModel",
          "state": {
            "_view_name": "HBoxView",
            "_dom_classes": [],
            "_model_name": "HBoxModel",
            "_view_module": "@jupyter-widgets/controls",
            "_model_module_version": "1.5.0",
            "_view_count": null,
            "_view_module_version": "1.5.0",
            "box_style": "",
            "layout": "IPY_MODEL_4cfbf1badd5e45a994d743b979055fd8",
            "_model_module": "@jupyter-widgets/controls",
            "children": [
              "IPY_MODEL_9f8ab009fa6448f693f6911ec5971bf5",
              "IPY_MODEL_7e7135bc07274f46846922ad50de0048"
            ]
          }
        },
        "4cfbf1badd5e45a994d743b979055fd8": {
          "model_module": "@jupyter-widgets/base",
          "model_name": "LayoutModel",
          "state": {
            "_view_name": "LayoutView",
            "grid_template_rows": null,
            "right": null,
            "justify_content": null,
            "_view_module": "@jupyter-widgets/base",
            "overflow": null,
            "_model_module_version": "1.2.0",
            "_view_count": null,
            "flex_flow": null,
            "width": null,
            "min_width": null,
            "border": null,
            "align_items": null,
            "bottom": null,
            "_model_module": "@jupyter-widgets/base",
            "top": null,
            "grid_column": null,
            "overflow_y": null,
            "overflow_x": null,
            "grid_auto_flow": null,
            "grid_area": null,
            "grid_template_columns": null,
            "flex": null,
            "_model_name": "LayoutModel",
            "justify_items": null,
            "grid_row": null,
            "max_height": null,
            "align_content": null,
            "visibility": null,
            "align_self": null,
            "height": null,
            "min_height": null,
            "padding": null,
            "grid_auto_rows": null,
            "grid_gap": null,
            "max_width": null,
            "order": null,
            "_view_module_version": "1.2.0",
            "grid_template_areas": null,
            "object_position": null,
            "object_fit": null,
            "grid_auto_columns": null,
            "margin": null,
            "display": null,
            "left": null
          }
        },
        "9f8ab009fa6448f693f6911ec5971bf5": {
          "model_module": "@jupyter-widgets/controls",
          "model_name": "FloatProgressModel",
          "state": {
            "_view_name": "ProgressView",
            "style": "IPY_MODEL_e9fa533925f2474087c9c93e23885366",
            "_dom_classes": [],
            "description": "100%",
            "_model_name": "FloatProgressModel",
            "bar_style": "success",
            "max": 50,
            "_view_module": "@jupyter-widgets/controls",
            "_model_module_version": "1.5.0",
            "value": 50,
            "_view_count": null,
            "_view_module_version": "1.5.0",
            "orientation": "horizontal",
            "min": 0,
            "description_tooltip": null,
            "_model_module": "@jupyter-widgets/controls",
            "layout": "IPY_MODEL_cd28b995a6914dd1af65da691f67e420"
          }
        },
        "7e7135bc07274f46846922ad50de0048": {
          "model_module": "@jupyter-widgets/controls",
          "model_name": "HTMLModel",
          "state": {
            "_view_name": "HTMLView",
            "style": "IPY_MODEL_74ec66e36d16492ca491043a4ff91a53",
            "_dom_classes": [],
            "description": "",
            "_model_name": "HTMLModel",
            "placeholder": "​",
            "_view_module": "@jupyter-widgets/controls",
            "_model_module_version": "1.5.0",
            "value": " 50/50 [1:36:47&lt;00:00, 116.14s/ba]",
            "_view_count": null,
            "_view_module_version": "1.5.0",
            "description_tooltip": null,
            "_model_module": "@jupyter-widgets/controls",
            "layout": "IPY_MODEL_4548e4def77f46909938543581ee78c4"
          }
        },
        "e9fa533925f2474087c9c93e23885366": {
          "model_module": "@jupyter-widgets/controls",
          "model_name": "ProgressStyleModel",
          "state": {
            "_view_name": "StyleView",
            "_model_name": "ProgressStyleModel",
            "description_width": "initial",
            "_view_module": "@jupyter-widgets/base",
            "_model_module_version": "1.5.0",
            "_view_count": null,
            "_view_module_version": "1.2.0",
            "bar_color": null,
            "_model_module": "@jupyter-widgets/controls"
          }
        },
        "cd28b995a6914dd1af65da691f67e420": {
          "model_module": "@jupyter-widgets/base",
          "model_name": "LayoutModel",
          "state": {
            "_view_name": "LayoutView",
            "grid_template_rows": null,
            "right": null,
            "justify_content": null,
            "_view_module": "@jupyter-widgets/base",
            "overflow": null,
            "_model_module_version": "1.2.0",
            "_view_count": null,
            "flex_flow": null,
            "width": null,
            "min_width": null,
            "border": null,
            "align_items": null,
            "bottom": null,
            "_model_module": "@jupyter-widgets/base",
            "top": null,
            "grid_column": null,
            "overflow_y": null,
            "overflow_x": null,
            "grid_auto_flow": null,
            "grid_area": null,
            "grid_template_columns": null,
            "flex": null,
            "_model_name": "LayoutModel",
            "justify_items": null,
            "grid_row": null,
            "max_height": null,
            "align_content": null,
            "visibility": null,
            "align_self": null,
            "height": null,
            "min_height": null,
            "padding": null,
            "grid_auto_rows": null,
            "grid_gap": null,
            "max_width": null,
            "order": null,
            "_view_module_version": "1.2.0",
            "grid_template_areas": null,
            "object_position": null,
            "object_fit": null,
            "grid_auto_columns": null,
            "margin": null,
            "display": null,
            "left": null
          }
        },
        "74ec66e36d16492ca491043a4ff91a53": {
          "model_module": "@jupyter-widgets/controls",
          "model_name": "DescriptionStyleModel",
          "state": {
            "_view_name": "StyleView",
            "_model_name": "DescriptionStyleModel",
            "description_width": "",
            "_view_module": "@jupyter-widgets/base",
            "_model_module_version": "1.5.0",
            "_view_count": null,
            "_view_module_version": "1.2.0",
            "_model_module": "@jupyter-widgets/controls"
          }
        },
        "4548e4def77f46909938543581ee78c4": {
          "model_module": "@jupyter-widgets/base",
          "model_name": "LayoutModel",
          "state": {
            "_view_name": "LayoutView",
            "grid_template_rows": null,
            "right": null,
            "justify_content": null,
            "_view_module": "@jupyter-widgets/base",
            "overflow": null,
            "_model_module_version": "1.2.0",
            "_view_count": null,
            "flex_flow": null,
            "width": null,
            "min_width": null,
            "border": null,
            "align_items": null,
            "bottom": null,
            "_model_module": "@jupyter-widgets/base",
            "top": null,
            "grid_column": null,
            "overflow_y": null,
            "overflow_x": null,
            "grid_auto_flow": null,
            "grid_area": null,
            "grid_template_columns": null,
            "flex": null,
            "_model_name": "LayoutModel",
            "justify_items": null,
            "grid_row": null,
            "max_height": null,
            "align_content": null,
            "visibility": null,
            "align_self": null,
            "height": null,
            "min_height": null,
            "padding": null,
            "grid_auto_rows": null,
            "grid_gap": null,
            "max_width": null,
            "order": null,
            "_view_module_version": "1.2.0",
            "grid_template_areas": null,
            "object_position": null,
            "object_fit": null,
            "grid_auto_columns": null,
            "margin": null,
            "display": null,
            "left": null
          }
        },
        "01f1417da62340098984b0e26c2d1ce0": {
          "model_module": "@jupyter-widgets/controls",
          "model_name": "HBoxModel",
          "state": {
            "_view_name": "HBoxView",
            "_dom_classes": [],
            "_model_name": "HBoxModel",
            "_view_module": "@jupyter-widgets/controls",
            "_model_module_version": "1.5.0",
            "_view_count": null,
            "_view_module_version": "1.5.0",
            "box_style": "",
            "layout": "IPY_MODEL_ad808b2ff32a4644beb8fbdc78af8faf",
            "_model_module": "@jupyter-widgets/controls",
            "children": [
              "IPY_MODEL_9f553ac77e8348a99d99a5782138de96",
              "IPY_MODEL_bb339c4672cd4806981fb1055a013019"
            ]
          }
        },
        "ad808b2ff32a4644beb8fbdc78af8faf": {
          "model_module": "@jupyter-widgets/base",
          "model_name": "LayoutModel",
          "state": {
            "_view_name": "LayoutView",
            "grid_template_rows": null,
            "right": null,
            "justify_content": null,
            "_view_module": "@jupyter-widgets/base",
            "overflow": null,
            "_model_module_version": "1.2.0",
            "_view_count": null,
            "flex_flow": null,
            "width": null,
            "min_width": null,
            "border": null,
            "align_items": null,
            "bottom": null,
            "_model_module": "@jupyter-widgets/base",
            "top": null,
            "grid_column": null,
            "overflow_y": null,
            "overflow_x": null,
            "grid_auto_flow": null,
            "grid_area": null,
            "grid_template_columns": null,
            "flex": null,
            "_model_name": "LayoutModel",
            "justify_items": null,
            "grid_row": null,
            "max_height": null,
            "align_content": null,
            "visibility": null,
            "align_self": null,
            "height": null,
            "min_height": null,
            "padding": null,
            "grid_auto_rows": null,
            "grid_gap": null,
            "max_width": null,
            "order": null,
            "_view_module_version": "1.2.0",
            "grid_template_areas": null,
            "object_position": null,
            "object_fit": null,
            "grid_auto_columns": null,
            "margin": null,
            "display": null,
            "left": null
          }
        },
        "9f553ac77e8348a99d99a5782138de96": {
          "model_module": "@jupyter-widgets/controls",
          "model_name": "FloatProgressModel",
          "state": {
            "_view_name": "ProgressView",
            "style": "IPY_MODEL_a716e1a5218c42a9a125f17200252aae",
            "_dom_classes": [],
            "description": "100%",
            "_model_name": "FloatProgressModel",
            "bar_style": "",
            "max": 3750,
            "_view_module": "@jupyter-widgets/controls",
            "_model_module_version": "1.5.0",
            "value": 3750,
            "_view_count": null,
            "_view_module_version": "1.5.0",
            "orientation": "horizontal",
            "min": 0,
            "description_tooltip": null,
            "_model_module": "@jupyter-widgets/controls",
            "layout": "IPY_MODEL_29574f0c96dc48fca6e84c300fa9d2da"
          }
        },
        "bb339c4672cd4806981fb1055a013019": {
          "model_module": "@jupyter-widgets/controls",
          "model_name": "HTMLModel",
          "state": {
            "_view_name": "HTMLView",
            "style": "IPY_MODEL_a24c223bfaaa4370adaf75e512210796",
            "_dom_classes": [],
            "description": "",
            "_model_name": "HTMLModel",
            "placeholder": "​",
            "_view_module": "@jupyter-widgets/controls",
            "_model_module_version": "1.5.0",
            "value": " 3750/3750 [1:11:36&lt;00:00,  1.15s/it]",
            "_view_count": null,
            "_view_module_version": "1.5.0",
            "description_tooltip": null,
            "_model_module": "@jupyter-widgets/controls",
            "layout": "IPY_MODEL_5ecaff5956d24e0bbb8e09675e433401"
          }
        },
        "a716e1a5218c42a9a125f17200252aae": {
          "model_module": "@jupyter-widgets/controls",
          "model_name": "ProgressStyleModel",
          "state": {
            "_view_name": "StyleView",
            "_model_name": "ProgressStyleModel",
            "description_width": "initial",
            "_view_module": "@jupyter-widgets/base",
            "_model_module_version": "1.5.0",
            "_view_count": null,
            "_view_module_version": "1.2.0",
            "bar_color": null,
            "_model_module": "@jupyter-widgets/controls"
          }
        },
        "29574f0c96dc48fca6e84c300fa9d2da": {
          "model_module": "@jupyter-widgets/base",
          "model_name": "LayoutModel",
          "state": {
            "_view_name": "LayoutView",
            "grid_template_rows": null,
            "right": null,
            "justify_content": null,
            "_view_module": "@jupyter-widgets/base",
            "overflow": null,
            "_model_module_version": "1.2.0",
            "_view_count": null,
            "flex_flow": null,
            "width": null,
            "min_width": null,
            "border": null,
            "align_items": null,
            "bottom": null,
            "_model_module": "@jupyter-widgets/base",
            "top": null,
            "grid_column": null,
            "overflow_y": null,
            "overflow_x": null,
            "grid_auto_flow": null,
            "grid_area": null,
            "grid_template_columns": null,
            "flex": null,
            "_model_name": "LayoutModel",
            "justify_items": null,
            "grid_row": null,
            "max_height": null,
            "align_content": null,
            "visibility": null,
            "align_self": null,
            "height": null,
            "min_height": null,
            "padding": null,
            "grid_auto_rows": null,
            "grid_gap": null,
            "max_width": null,
            "order": null,
            "_view_module_version": "1.2.0",
            "grid_template_areas": null,
            "object_position": null,
            "object_fit": null,
            "grid_auto_columns": null,
            "margin": null,
            "display": null,
            "left": null
          }
        },
        "a24c223bfaaa4370adaf75e512210796": {
          "model_module": "@jupyter-widgets/controls",
          "model_name": "DescriptionStyleModel",
          "state": {
            "_view_name": "StyleView",
            "_model_name": "DescriptionStyleModel",
            "description_width": "",
            "_view_module": "@jupyter-widgets/base",
            "_model_module_version": "1.5.0",
            "_view_count": null,
            "_view_module_version": "1.2.0",
            "_model_module": "@jupyter-widgets/controls"
          }
        },
        "5ecaff5956d24e0bbb8e09675e433401": {
          "model_module": "@jupyter-widgets/base",
          "model_name": "LayoutModel",
          "state": {
            "_view_name": "LayoutView",
            "grid_template_rows": null,
            "right": null,
            "justify_content": null,
            "_view_module": "@jupyter-widgets/base",
            "overflow": null,
            "_model_module_version": "1.2.0",
            "_view_count": null,
            "flex_flow": null,
            "width": null,
            "min_width": null,
            "border": null,
            "align_items": null,
            "bottom": null,
            "_model_module": "@jupyter-widgets/base",
            "top": null,
            "grid_column": null,
            "overflow_y": null,
            "overflow_x": null,
            "grid_auto_flow": null,
            "grid_area": null,
            "grid_template_columns": null,
            "flex": null,
            "_model_name": "LayoutModel",
            "justify_items": null,
            "grid_row": null,
            "max_height": null,
            "align_content": null,
            "visibility": null,
            "align_self": null,
            "height": null,
            "min_height": null,
            "padding": null,
            "grid_auto_rows": null,
            "grid_gap": null,
            "max_width": null,
            "order": null,
            "_view_module_version": "1.2.0",
            "grid_template_areas": null,
            "object_position": null,
            "object_fit": null,
            "grid_auto_columns": null,
            "margin": null,
            "display": null,
            "left": null
          }
        },
        "b3652bc5825847e4a5568a37947fe2d4": {
          "model_module": "@jupyter-widgets/controls",
          "model_name": "HBoxModel",
          "state": {
            "_view_name": "HBoxView",
            "_dom_classes": [],
            "_model_name": "HBoxModel",
            "_view_module": "@jupyter-widgets/controls",
            "_model_module_version": "1.5.0",
            "_view_count": null,
            "_view_module_version": "1.5.0",
            "box_style": "",
            "layout": "IPY_MODEL_666a47a3d49b4710aae29883c302252f",
            "_model_module": "@jupyter-widgets/controls",
            "children": [
              "IPY_MODEL_11b8d5ea8bc04e77ba08c9c4434b1613",
              "IPY_MODEL_61ed835e44c6428cb1df85bbb7043bb5"
            ]
          }
        },
        "666a47a3d49b4710aae29883c302252f": {
          "model_module": "@jupyter-widgets/base",
          "model_name": "LayoutModel",
          "state": {
            "_view_name": "LayoutView",
            "grid_template_rows": null,
            "right": null,
            "justify_content": null,
            "_view_module": "@jupyter-widgets/base",
            "overflow": null,
            "_model_module_version": "1.2.0",
            "_view_count": null,
            "flex_flow": null,
            "width": null,
            "min_width": null,
            "border": null,
            "align_items": null,
            "bottom": null,
            "_model_module": "@jupyter-widgets/base",
            "top": null,
            "grid_column": null,
            "overflow_y": null,
            "overflow_x": null,
            "grid_auto_flow": null,
            "grid_area": null,
            "grid_template_columns": null,
            "flex": null,
            "_model_name": "LayoutModel",
            "justify_items": null,
            "grid_row": null,
            "max_height": null,
            "align_content": null,
            "visibility": null,
            "align_self": null,
            "height": null,
            "min_height": null,
            "padding": null,
            "grid_auto_rows": null,
            "grid_gap": null,
            "max_width": null,
            "order": null,
            "_view_module_version": "1.2.0",
            "grid_template_areas": null,
            "object_position": null,
            "object_fit": null,
            "grid_auto_columns": null,
            "margin": null,
            "display": null,
            "left": null
          }
        },
        "11b8d5ea8bc04e77ba08c9c4434b1613": {
          "model_module": "@jupyter-widgets/controls",
          "model_name": "FloatProgressModel",
          "state": {
            "_view_name": "ProgressView",
            "style": "IPY_MODEL_0a37f976f2eb4921a8687e12964d306b",
            "_dom_classes": [],
            "description": "Downloading: ",
            "_model_name": "FloatProgressModel",
            "bar_style": "success",
            "max": 1362,
            "_view_module": "@jupyter-widgets/controls",
            "_model_module_version": "1.5.0",
            "value": 1362,
            "_view_count": null,
            "_view_module_version": "1.5.0",
            "orientation": "horizontal",
            "min": 0,
            "description_tooltip": null,
            "_model_module": "@jupyter-widgets/controls",
            "layout": "IPY_MODEL_437f2cabe4124e36893ca80fb495e6be"
          }
        },
        "61ed835e44c6428cb1df85bbb7043bb5": {
          "model_module": "@jupyter-widgets/controls",
          "model_name": "HTMLModel",
          "state": {
            "_view_name": "HTMLView",
            "style": "IPY_MODEL_9244fe7534a54bc28f1415bf57f277b0",
            "_dom_classes": [],
            "description": "",
            "_model_name": "HTMLModel",
            "placeholder": "​",
            "_view_module": "@jupyter-widgets/controls",
            "_model_module_version": "1.5.0",
            "value": " 2.92k/? [02:09&lt;00:00, 22.5B/s]",
            "_view_count": null,
            "_view_module_version": "1.5.0",
            "description_tooltip": null,
            "_model_module": "@jupyter-widgets/controls",
            "layout": "IPY_MODEL_f05d0b994fdf4cdcb724e0aa4a09ef13"
          }
        },
        "0a37f976f2eb4921a8687e12964d306b": {
          "model_module": "@jupyter-widgets/controls",
          "model_name": "ProgressStyleModel",
          "state": {
            "_view_name": "StyleView",
            "_model_name": "ProgressStyleModel",
            "description_width": "initial",
            "_view_module": "@jupyter-widgets/base",
            "_model_module_version": "1.5.0",
            "_view_count": null,
            "_view_module_version": "1.2.0",
            "bar_color": null,
            "_model_module": "@jupyter-widgets/controls"
          }
        },
        "437f2cabe4124e36893ca80fb495e6be": {
          "model_module": "@jupyter-widgets/base",
          "model_name": "LayoutModel",
          "state": {
            "_view_name": "LayoutView",
            "grid_template_rows": null,
            "right": null,
            "justify_content": null,
            "_view_module": "@jupyter-widgets/base",
            "overflow": null,
            "_model_module_version": "1.2.0",
            "_view_count": null,
            "flex_flow": null,
            "width": null,
            "min_width": null,
            "border": null,
            "align_items": null,
            "bottom": null,
            "_model_module": "@jupyter-widgets/base",
            "top": null,
            "grid_column": null,
            "overflow_y": null,
            "overflow_x": null,
            "grid_auto_flow": null,
            "grid_area": null,
            "grid_template_columns": null,
            "flex": null,
            "_model_name": "LayoutModel",
            "justify_items": null,
            "grid_row": null,
            "max_height": null,
            "align_content": null,
            "visibility": null,
            "align_self": null,
            "height": null,
            "min_height": null,
            "padding": null,
            "grid_auto_rows": null,
            "grid_gap": null,
            "max_width": null,
            "order": null,
            "_view_module_version": "1.2.0",
            "grid_template_areas": null,
            "object_position": null,
            "object_fit": null,
            "grid_auto_columns": null,
            "margin": null,
            "display": null,
            "left": null
          }
        },
        "9244fe7534a54bc28f1415bf57f277b0": {
          "model_module": "@jupyter-widgets/controls",
          "model_name": "DescriptionStyleModel",
          "state": {
            "_view_name": "StyleView",
            "_model_name": "DescriptionStyleModel",
            "description_width": "",
            "_view_module": "@jupyter-widgets/base",
            "_model_module_version": "1.5.0",
            "_view_count": null,
            "_view_module_version": "1.2.0",
            "_model_module": "@jupyter-widgets/controls"
          }
        },
        "f05d0b994fdf4cdcb724e0aa4a09ef13": {
          "model_module": "@jupyter-widgets/base",
          "model_name": "LayoutModel",
          "state": {
            "_view_name": "LayoutView",
            "grid_template_rows": null,
            "right": null,
            "justify_content": null,
            "_view_module": "@jupyter-widgets/base",
            "overflow": null,
            "_model_module_version": "1.2.0",
            "_view_count": null,
            "flex_flow": null,
            "width": null,
            "min_width": null,
            "border": null,
            "align_items": null,
            "bottom": null,
            "_model_module": "@jupyter-widgets/base",
            "top": null,
            "grid_column": null,
            "overflow_y": null,
            "overflow_x": null,
            "grid_auto_flow": null,
            "grid_area": null,
            "grid_template_columns": null,
            "flex": null,
            "_model_name": "LayoutModel",
            "justify_items": null,
            "grid_row": null,
            "max_height": null,
            "align_content": null,
            "visibility": null,
            "align_self": null,
            "height": null,
            "min_height": null,
            "padding": null,
            "grid_auto_rows": null,
            "grid_gap": null,
            "max_width": null,
            "order": null,
            "_view_module_version": "1.2.0",
            "grid_template_areas": null,
            "object_position": null,
            "object_fit": null,
            "grid_auto_columns": null,
            "margin": null,
            "display": null,
            "left": null
          }
        },
        "c06b57639734410cb829bcc6ab563123": {
          "model_module": "@jupyter-widgets/controls",
          "model_name": "HBoxModel",
          "state": {
            "_view_name": "HBoxView",
            "_dom_classes": [],
            "_model_name": "HBoxModel",
            "_view_module": "@jupyter-widgets/controls",
            "_model_module_version": "1.5.0",
            "_view_count": null,
            "_view_module_version": "1.5.0",
            "box_style": "",
            "layout": "IPY_MODEL_34b132796c4347c392074a09ade0df58",
            "_model_module": "@jupyter-widgets/controls",
            "children": [
              "IPY_MODEL_0e391c6a755544f1a5876f16148dd25f",
              "IPY_MODEL_5de003d3638d4cf498502de3c888df72"
            ]
          }
        },
        "34b132796c4347c392074a09ade0df58": {
          "model_module": "@jupyter-widgets/base",
          "model_name": "LayoutModel",
          "state": {
            "_view_name": "LayoutView",
            "grid_template_rows": null,
            "right": null,
            "justify_content": null,
            "_view_module": "@jupyter-widgets/base",
            "overflow": null,
            "_model_module_version": "1.2.0",
            "_view_count": null,
            "flex_flow": null,
            "width": null,
            "min_width": null,
            "border": null,
            "align_items": null,
            "bottom": null,
            "_model_module": "@jupyter-widgets/base",
            "top": null,
            "grid_column": null,
            "overflow_y": null,
            "overflow_x": null,
            "grid_auto_flow": null,
            "grid_area": null,
            "grid_template_columns": null,
            "flex": null,
            "_model_name": "LayoutModel",
            "justify_items": null,
            "grid_row": null,
            "max_height": null,
            "align_content": null,
            "visibility": null,
            "align_self": null,
            "height": null,
            "min_height": null,
            "padding": null,
            "grid_auto_rows": null,
            "grid_gap": null,
            "max_width": null,
            "order": null,
            "_view_module_version": "1.2.0",
            "grid_template_areas": null,
            "object_position": null,
            "object_fit": null,
            "grid_auto_columns": null,
            "margin": null,
            "display": null,
            "left": null
          }
        },
        "0e391c6a755544f1a5876f16148dd25f": {
          "model_module": "@jupyter-widgets/controls",
          "model_name": "FloatProgressModel",
          "state": {
            "_view_name": "ProgressView",
            "style": "IPY_MODEL_599c0242ea584c59bce9386cdad66fbb",
            "_dom_classes": [],
            "description": "100%",
            "_model_name": "FloatProgressModel",
            "bar_style": "",
            "max": 3750,
            "_view_module": "@jupyter-widgets/controls",
            "_model_module_version": "1.5.0",
            "value": 3750,
            "_view_count": null,
            "_view_module_version": "1.5.0",
            "orientation": "horizontal",
            "min": 0,
            "description_tooltip": null,
            "_model_module": "@jupyter-widgets/controls",
            "layout": "IPY_MODEL_92f3bd21de8c4057be1446c2aa93c0c6"
          }
        },
        "5de003d3638d4cf498502de3c888df72": {
          "model_module": "@jupyter-widgets/controls",
          "model_name": "HTMLModel",
          "state": {
            "_view_name": "HTMLView",
            "style": "IPY_MODEL_a6482c9618e447beb3d45fcbef261372",
            "_dom_classes": [],
            "description": "",
            "_model_name": "HTMLModel",
            "placeholder": "​",
            "_view_module": "@jupyter-widgets/controls",
            "_model_module_version": "1.5.0",
            "value": " 3750/3750 [36:53&lt;00:00,  1.70it/s]",
            "_view_count": null,
            "_view_module_version": "1.5.0",
            "description_tooltip": null,
            "_model_module": "@jupyter-widgets/controls",
            "layout": "IPY_MODEL_b880e369525245199a9537bb93a37db5"
          }
        },
        "599c0242ea584c59bce9386cdad66fbb": {
          "model_module": "@jupyter-widgets/controls",
          "model_name": "ProgressStyleModel",
          "state": {
            "_view_name": "StyleView",
            "_model_name": "ProgressStyleModel",
            "description_width": "initial",
            "_view_module": "@jupyter-widgets/base",
            "_model_module_version": "1.5.0",
            "_view_count": null,
            "_view_module_version": "1.2.0",
            "bar_color": null,
            "_model_module": "@jupyter-widgets/controls"
          }
        },
        "92f3bd21de8c4057be1446c2aa93c0c6": {
          "model_module": "@jupyter-widgets/base",
          "model_name": "LayoutModel",
          "state": {
            "_view_name": "LayoutView",
            "grid_template_rows": null,
            "right": null,
            "justify_content": null,
            "_view_module": "@jupyter-widgets/base",
            "overflow": null,
            "_model_module_version": "1.2.0",
            "_view_count": null,
            "flex_flow": null,
            "width": null,
            "min_width": null,
            "border": null,
            "align_items": null,
            "bottom": null,
            "_model_module": "@jupyter-widgets/base",
            "top": null,
            "grid_column": null,
            "overflow_y": null,
            "overflow_x": null,
            "grid_auto_flow": null,
            "grid_area": null,
            "grid_template_columns": null,
            "flex": null,
            "_model_name": "LayoutModel",
            "justify_items": null,
            "grid_row": null,
            "max_height": null,
            "align_content": null,
            "visibility": null,
            "align_self": null,
            "height": null,
            "min_height": null,
            "padding": null,
            "grid_auto_rows": null,
            "grid_gap": null,
            "max_width": null,
            "order": null,
            "_view_module_version": "1.2.0",
            "grid_template_areas": null,
            "object_position": null,
            "object_fit": null,
            "grid_auto_columns": null,
            "margin": null,
            "display": null,
            "left": null
          }
        },
        "a6482c9618e447beb3d45fcbef261372": {
          "model_module": "@jupyter-widgets/controls",
          "model_name": "DescriptionStyleModel",
          "state": {
            "_view_name": "StyleView",
            "_model_name": "DescriptionStyleModel",
            "description_width": "",
            "_view_module": "@jupyter-widgets/base",
            "_model_module_version": "1.5.0",
            "_view_count": null,
            "_view_module_version": "1.2.0",
            "_model_module": "@jupyter-widgets/controls"
          }
        },
        "b880e369525245199a9537bb93a37db5": {
          "model_module": "@jupyter-widgets/base",
          "model_name": "LayoutModel",
          "state": {
            "_view_name": "LayoutView",
            "grid_template_rows": null,
            "right": null,
            "justify_content": null,
            "_view_module": "@jupyter-widgets/base",
            "overflow": null,
            "_model_module_version": "1.2.0",
            "_view_count": null,
            "flex_flow": null,
            "width": null,
            "min_width": null,
            "border": null,
            "align_items": null,
            "bottom": null,
            "_model_module": "@jupyter-widgets/base",
            "top": null,
            "grid_column": null,
            "overflow_y": null,
            "overflow_x": null,
            "grid_auto_flow": null,
            "grid_area": null,
            "grid_template_columns": null,
            "flex": null,
            "_model_name": "LayoutModel",
            "justify_items": null,
            "grid_row": null,
            "max_height": null,
            "align_content": null,
            "visibility": null,
            "align_self": null,
            "height": null,
            "min_height": null,
            "padding": null,
            "grid_auto_rows": null,
            "grid_gap": null,
            "max_width": null,
            "order": null,
            "_view_module_version": "1.2.0",
            "grid_template_areas": null,
            "object_position": null,
            "object_fit": null,
            "grid_auto_columns": null,
            "margin": null,
            "display": null,
            "left": null
          }
        }
      }
    },
    "accelerator": "GPU"
  },
  "cells": [
    {
      "cell_type": "markdown",
      "metadata": {
        "id": "view-in-github",
        "colab_type": "text"
      },
      "source": [
        "<a href=\"https://colab.research.google.com/github/avc9/NLPlay-with-Transformers--SoC-2021/blob/main/BertModel_and_DistilBertModel.ipynb\" target=\"_parent\"><img src=\"https://colab.research.google.com/assets/colab-badge.svg\" alt=\"Open In Colab\"/></a>"
      ]
    },
    {
      "cell_type": "code",
      "metadata": {
        "id": "oiOgiWuQbwrP"
      },
      "source": [
        "!pip install transformers\n",
        "!pip install datasets"
      ],
      "execution_count": null,
      "outputs": []
    },
    {
      "cell_type": "code",
      "metadata": {
        "id": "SakWeQiPb5rZ"
      },
      "source": [
        "import numpy as np\n",
        "import pandas as pd\n",
        "import matplotlib.pyplot as plt\n",
        "import re\n",
        "from bs4 import BeautifulSoup\n",
        "\n",
        "import torch\n",
        "from torch import nn, optim\n",
        "from torch.utils.data import Dataset, DataLoader\n",
        "\n",
        "from sklearn.model_selection import train_test_split\n",
        "from sklearn.metrics import confusion_matrix, classification_report"
      ],
      "execution_count": null,
      "outputs": []
    },
    {
      "cell_type": "code",
      "metadata": {
        "colab": {
          "base_uri": "https://localhost:8080/"
        },
        "id": "mK_wRbSIb7aK",
        "outputId": "e36b9996-0879-481b-ce8f-17f5f1d728dd"
      },
      "source": [
        "device = torch.device(\"cuda:0\" if torch.cuda.is_available() else \"cpu\")\n",
        "print(device)"
      ],
      "execution_count": null,
      "outputs": [
        {
          "output_type": "stream",
          "text": [
            "cuda:0\n"
          ],
          "name": "stdout"
        }
      ]
    },
    {
      "cell_type": "code",
      "metadata": {
        "id": "5D_66Pvdb83A"
      },
      "source": [
        "data=pd.read_csv(\"/content/drive/MyDrive/SOC-2021 data/IMDB Dataset.csv\")"
      ],
      "execution_count": null,
      "outputs": []
    },
    {
      "cell_type": "code",
      "metadata": {
        "colab": {
          "base_uri": "https://localhost:8080/"
        },
        "id": "xwatR-RYb-UE",
        "outputId": "cf7a0008-9e7b-425e-a699-ea7ca41bb06b"
      },
      "source": [
        "def strip_html(text):\n",
        "    soup = BeautifulSoup(text, \"html.parser\")\n",
        "    return soup.get_text()\n",
        "\n",
        "def remove_between_square_brackets(text):\n",
        "    return re.sub('\\[[^]]*\\]', '', text)\n",
        "\n",
        "def remove_hypen(text):\n",
        "  return re.sub('-','',text)\n",
        "\n",
        "\n",
        "def denoise_text(text):\n",
        "    text = strip_html(text)\n",
        "    text = remove_between_square_brackets(text)\n",
        "    text=remove_hypen(text)\n",
        "    return text\n",
        "\n",
        "data['review_processed']=data['review'].apply(denoise_text)\n",
        "print(data.head(5))"
      ],
      "execution_count": null,
      "outputs": [
        {
          "output_type": "stream",
          "text": [
            "                                              review  ...                                   review_processed\n",
            "0  One of the other reviewers has mentioned that ...  ...  One of the other reviewers has mentioned that ...\n",
            "1  A wonderful little production. <br /><br />The...  ...  A wonderful little production. The filming tec...\n",
            "2  I thought this was a wonderful way to spend ti...  ...  I thought this was a wonderful way to spend ti...\n",
            "3  Basically there's a family where a little boy ...  ...  Basically there's a family where a little boy ...\n",
            "4  Petter Mattei's \"Love in the Time of Money\" is...  ...  Petter Mattei's \"Love in the Time of Money\" is...\n",
            "\n",
            "[5 rows x 3 columns]\n"
          ],
          "name": "stdout"
        }
      ]
    },
    {
      "cell_type": "code",
      "metadata": {
        "colab": {
          "base_uri": "https://localhost:8080/"
        },
        "id": "Twuhlhw8cAMm",
        "outputId": "4996be1e-3272-4e34-f2cc-a8296bae7a5f"
      },
      "source": [
        "data['sentiment']=data['sentiment'].map({'positive':1,'negative':0})\n",
        "print(data[\"sentiment\"][:5])"
      ],
      "execution_count": null,
      "outputs": [
        {
          "output_type": "stream",
          "text": [
            "0    1\n",
            "1    1\n",
            "2    1\n",
            "3    0\n",
            "4    1\n",
            "Name: sentiment, dtype: int64\n"
          ],
          "name": "stdout"
        }
      ]
    },
    {
      "cell_type": "code",
      "metadata": {
        "id": "390Kl3c_gbon"
      },
      "source": [
        "from datasets import Dataset\n",
        "\n",
        "data=Dataset.from_pandas(data)"
      ],
      "execution_count": null,
      "outputs": []
    },
    {
      "cell_type": "code",
      "metadata": {
        "colab": {
          "base_uri": "https://localhost:8080/"
        },
        "id": "N_f9eAIKgjJ4",
        "outputId": "e6ab057f-80f5-4235-b072-3b47f887d8b6"
      },
      "source": [
        "print(data)"
      ],
      "execution_count": null,
      "outputs": [
        {
          "output_type": "stream",
          "text": [
            "Dataset({\n",
            "    features: ['review', 'sentiment', 'review_processed'],\n",
            "    num_rows: 50000\n",
            "})\n"
          ],
          "name": "stdout"
        }
      ]
    },
    {
      "cell_type": "code",
      "metadata": {
        "colab": {
          "base_uri": "https://localhost:8080/",
          "height": 66,
          "referenced_widgets": [
            "6e83a86c38c54cda852ebea3fbfa54ec",
            "4cfbf1badd5e45a994d743b979055fd8",
            "9f8ab009fa6448f693f6911ec5971bf5",
            "7e7135bc07274f46846922ad50de0048",
            "e9fa533925f2474087c9c93e23885366",
            "cd28b995a6914dd1af65da691f67e420",
            "74ec66e36d16492ca491043a4ff91a53",
            "4548e4def77f46909938543581ee78c4"
          ]
        },
        "id": "gVrrXcylcETS",
        "outputId": "b80daf7b-a3af-4879-db82-86c132686f2b"
      },
      "source": [
        "from transformers import AutoTokenizer\n",
        "\n",
        "tokenizer=AutoTokenizer.from_pretrained('bert-base-uncased')\n",
        "\n",
        "def tokenize_function(examples):\n",
        "    return tokenizer(examples[\"review_processed\"], padding=\"max_length\", truncation=True,return_token_type_ids=False,max_length=200)\n",
        "\n",
        "tokenized_datasets = data.map(tokenize_function, batched=True)"
      ],
      "execution_count": null,
      "outputs": [
        {
          "output_type": "display_data",
          "data": {
            "application/vnd.jupyter.widget-view+json": {
              "model_id": "6e83a86c38c54cda852ebea3fbfa54ec",
              "version_minor": 0,
              "version_major": 2
            },
            "text/plain": [
              "HBox(children=(FloatProgress(value=0.0, max=50.0), HTML(value='')))"
            ]
          },
          "metadata": {
            "tags": []
          }
        },
        {
          "output_type": "stream",
          "text": [
            "\n"
          ],
          "name": "stdout"
        }
      ]
    },
    {
      "cell_type": "code",
      "metadata": {
        "colab": {
          "base_uri": "https://localhost:8080/"
        },
        "id": "hQ-I2wmXf8_h",
        "outputId": "7a16290a-d763-43ef-895c-ba15ba03db47"
      },
      "source": [
        "print(tokenized_datasets)"
      ],
      "execution_count": null,
      "outputs": [
        {
          "output_type": "stream",
          "text": [
            "Dataset({\n",
            "    features: ['attention_mask', 'input_ids', 'review', 'review_processed', 'sentiment'],\n",
            "    num_rows: 50000\n",
            "})\n"
          ],
          "name": "stdout"
        }
      ]
    },
    {
      "cell_type": "code",
      "metadata": {
        "id": "ZKy2H9u8hKTH"
      },
      "source": [
        "tokenized_datasets = tokenized_datasets.remove_columns([\"review\",\"review_processed\"])\n",
        "tokenized_datasets = tokenized_datasets.rename_column(\"sentiment\", \"labels\")"
      ],
      "execution_count": null,
      "outputs": []
    },
    {
      "cell_type": "code",
      "metadata": {
        "colab": {
          "base_uri": "https://localhost:8080/"
        },
        "id": "2d_O0h0KhU-e",
        "outputId": "206da7bd-7c65-467b-da78-02e5a36c62e5"
      },
      "source": [
        "print(tokenized_datasets)"
      ],
      "execution_count": null,
      "outputs": [
        {
          "output_type": "stream",
          "text": [
            "Dataset({\n",
            "    features: ['attention_mask', 'input_ids', 'labels'],\n",
            "    num_rows: 50000\n",
            "})\n"
          ],
          "name": "stdout"
        }
      ]
    },
    {
      "cell_type": "code",
      "metadata": {
        "id": "OsV8ennQhXY5"
      },
      "source": [
        "tokenized_datasets=tokenized_datasets.train_test_split(test_size=0.2)\n",
        "train_data=tokenized_datasets['train']\n",
        "test_data=tokenized_datasets['test']"
      ],
      "execution_count": null,
      "outputs": []
    },
    {
      "cell_type": "code",
      "metadata": {
        "id": "gdI0F9yih0_4"
      },
      "source": [
        "train_data.set_format(\"torch\")\n",
        "test_data.set_format(\"torch\")"
      ],
      "execution_count": null,
      "outputs": []
    },
    {
      "cell_type": "code",
      "metadata": {
        "colab": {
          "base_uri": "https://localhost:8080/"
        },
        "id": "uPUloEM_h_rf",
        "outputId": "c0bb5255-cab4-45c8-f51d-c2fa38223246"
      },
      "source": [
        "print(train_data)"
      ],
      "execution_count": null,
      "outputs": [
        {
          "output_type": "stream",
          "text": [
            "Dataset({\n",
            "    features: ['attention_mask', 'input_ids', 'labels'],\n",
            "    num_rows: 40000\n",
            "})\n"
          ],
          "name": "stdout"
        }
      ]
    },
    {
      "cell_type": "code",
      "metadata": {
        "id": "IsXU82uolPbQ",
        "colab": {
          "base_uri": "https://localhost:8080/",
          "height": 69
        },
        "outputId": "b49b473f-b75f-49d9-b437-1d016a77be35"
      },
      "source": [
        "\"\"\"class CustomDataset(Dataset):\n",
        "\n",
        "  def __init__ (self,df):\n",
        "    self.attention=df['attention_mask']\n",
        "    self.ip_ids=df['input_ids']\n",
        "    self.labels=df[\"labels\"]\n",
        "    \n",
        "\n",
        "  def __len__(self):\n",
        "    return ip_ids.shape[0]\n",
        "\n",
        "  def __getitem__(self,x):\n",
        "    \n",
        "    return ip_ids,attention,labels\n",
        "\n",
        "ds=CustomDataset(tokenized_datasets)\n",
        "full_dataloader=DataLoader(ds,batch_size=32)\"\"\""
      ],
      "execution_count": null,
      "outputs": [
        {
          "output_type": "execute_result",
          "data": {
            "application/vnd.google.colaboratory.intrinsic+json": {
              "type": "string"
            },
            "text/plain": [
              "'class CustomDataset(Dataset):\\n\\n  def __init__ (self,df):\\n    self.attention=df[\\'attention_mask\\']\\n    self.ip_ids=df[\\'input_ids\\']\\n    self.labels=df[\"labels\"]\\n    \\n\\n  def __len__(self):\\n    return ip_ids.shape[0]\\n\\n  def __getitem__(self,x):\\n    \\n    return ip_ids,attention,labels\\n\\nds=CustomDataset(tokenized_datasets)\\nfull_dataloader=DataLoader(ds,batch_size=32)'"
            ]
          },
          "metadata": {
            "tags": []
          },
          "execution_count": 16
        }
      ]
    },
    {
      "cell_type": "code",
      "metadata": {
        "id": "2L720S01iC_D"
      },
      "source": [
        "train_dataloader = DataLoader(train_data, shuffle=True, batch_size=32)\n",
        "eval_dataloader = DataLoader(test_data, batch_size=32)\n",
        "#full_dataloader=DataLoader(tokenized_datasets,batch_size=32)"
      ],
      "execution_count": null,
      "outputs": []
    },
    {
      "cell_type": "code",
      "metadata": {
        "id": "zRdGm0711I1z"
      },
      "source": [
        "#full_dataloader=DataLoader(tokenized_datasets,batch_size=32)"
      ],
      "execution_count": null,
      "outputs": []
    },
    {
      "cell_type": "code",
      "metadata": {
        "colab": {
          "base_uri": "https://localhost:8080/"
        },
        "id": "pifA3BA5iU2K",
        "outputId": "2a65d47f-279a-47c9-8c57-9349251aa39e"
      },
      "source": [
        "from transformers import AutoModelForSequenceClassification\n",
        "\n",
        "model = AutoModelForSequenceClassification.from_pretrained(\"bert-base-cased\", num_labels=2)"
      ],
      "execution_count": null,
      "outputs": [
        {
          "output_type": "stream",
          "text": [
            "Some weights of the model checkpoint at bert-base-cased were not used when initializing BertForSequenceClassification: ['cls.predictions.transform.dense.bias', 'cls.predictions.transform.dense.weight', 'cls.predictions.transform.LayerNorm.bias', 'cls.predictions.decoder.weight', 'cls.seq_relationship.bias', 'cls.predictions.bias', 'cls.seq_relationship.weight', 'cls.predictions.transform.LayerNorm.weight']\n",
            "- This IS expected if you are initializing BertForSequenceClassification from the checkpoint of a model trained on another task or with another architecture (e.g. initializing a BertForSequenceClassification model from a BertForPreTraining model).\n",
            "- This IS NOT expected if you are initializing BertForSequenceClassification from the checkpoint of a model that you expect to be exactly identical (initializing a BertForSequenceClassification model from a BertForSequenceClassification model).\n",
            "Some weights of BertForSequenceClassification were not initialized from the model checkpoint at bert-base-cased and are newly initialized: ['classifier.bias', 'classifier.weight']\n",
            "You should probably TRAIN this model on a down-stream task to be able to use it for predictions and inference.\n"
          ],
          "name": "stderr"
        }
      ]
    },
    {
      "cell_type": "code",
      "metadata": {
        "id": "DySyBwUOibvG"
      },
      "source": [
        "from transformers import AdamW\n",
        "\n",
        "optimizer = AdamW(model.parameters(), lr=5e-5)"
      ],
      "execution_count": null,
      "outputs": []
    },
    {
      "cell_type": "code",
      "metadata": {
        "id": "KzAd1sEdih7D"
      },
      "source": [
        "from transformers import get_scheduler\n",
        "\n",
        "num_epochs = 3\n",
        "num_training_steps = num_epochs * len(train_dataloader)\n",
        "lr_scheduler = get_scheduler(\n",
        "    \"linear\",\n",
        "    optimizer=optimizer,\n",
        "    num_warmup_steps=0,\n",
        "    num_training_steps=num_training_steps\n",
        ")"
      ],
      "execution_count": null,
      "outputs": []
    },
    {
      "cell_type": "code",
      "metadata": {
        "id": "ZUjT3jNznpy6"
      },
      "source": [
        "loss_fn=nn.CrossEntropyLoss()"
      ],
      "execution_count": null,
      "outputs": []
    },
    {
      "cell_type": "code",
      "metadata": {
        "id": "ZPAAzpq3ilvU",
        "colab": {
          "base_uri": "https://localhost:8080/"
        },
        "outputId": "4135bea7-55c3-46bc-dc53-3947fd29670c"
      },
      "source": [
        "import torch\n",
        "\n",
        "device = torch.device(\"cuda\") if torch.cuda.is_available() else torch.device(\"cpu\")\n",
        "model=model.to(device)\n",
        "model.resize_token_embeddings(len(tokenizer))"
      ],
      "execution_count": null,
      "outputs": [
        {
          "output_type": "execute_result",
          "data": {
            "text/plain": [
              "Embedding(30522, 768)"
            ]
          },
          "metadata": {
            "tags": []
          },
          "execution_count": 23
        }
      ]
    },
    {
      "cell_type": "code",
      "metadata": {
        "colab": {
          "base_uri": "https://localhost:8080/",
          "height": 671,
          "referenced_widgets": [
            "01f1417da62340098984b0e26c2d1ce0",
            "ad808b2ff32a4644beb8fbdc78af8faf",
            "9f553ac77e8348a99d99a5782138de96",
            "bb339c4672cd4806981fb1055a013019",
            "a716e1a5218c42a9a125f17200252aae",
            "29574f0c96dc48fca6e84c300fa9d2da",
            "a24c223bfaaa4370adaf75e512210796",
            "5ecaff5956d24e0bbb8e09675e433401"
          ]
        },
        "id": "bI0sHdiNirBd",
        "outputId": "0f6a87ad-7689-4361-abeb-d9a75579a5bf"
      },
      "source": [
        "from tqdm.auto import tqdm\n",
        "\n",
        "progress_bar = tqdm(range(num_training_steps))\n",
        "\n",
        "model.train()\n",
        "for epoch in range(num_epochs):\n",
        "    i=0\n",
        "    for batch in train_dataloader:\n",
        "        i+=1\n",
        "        ips=batch['input_ids'].to(device)\n",
        "        at=batch['attention_mask'].to(device)\n",
        "        lbls=batch['labels'].to(device)\n",
        "        #batch = {k: v.to(device) for k, v in batch.items()}\n",
        "        outputs = model(\n",
        "          input_ids=ips,\n",
        "          attention_mask=at\n",
        "        )\n",
        "        loss = loss_fn(outputs.logits,lbls)\n",
        "        if i%100==0:\n",
        "          print(f'Batchs {i} : loss={loss.item()}')\n",
        "        loss.backward()\n",
        "\n",
        "        optimizer.step()\n",
        "        #lr_scheduler.step()\n",
        "        optimizer.zero_grad()\n",
        "        progress_bar.update(1)"
      ],
      "execution_count": null,
      "outputs": [
        {
          "output_type": "display_data",
          "data": {
            "application/vnd.jupyter.widget-view+json": {
              "model_id": "01f1417da62340098984b0e26c2d1ce0",
              "version_minor": 0,
              "version_major": 2
            },
            "text/plain": [
              "HBox(children=(FloatProgress(value=0.0, max=3750.0), HTML(value='')))"
            ]
          },
          "metadata": {
            "tags": []
          }
        },
        {
          "output_type": "stream",
          "text": [
            "Batchs 100 : loss=0.7280068397521973\n",
            "Batchs 200 : loss=0.7195586562156677\n",
            "Batchs 300 : loss=0.6792771816253662\n",
            "Batchs 400 : loss=0.7403715252876282\n",
            "Batchs 500 : loss=0.4994155764579773\n",
            "Batchs 600 : loss=0.6747782230377197\n",
            "Batchs 700 : loss=0.49341893196105957\n",
            "Batchs 800 : loss=0.45201191306114197\n",
            "Batchs 900 : loss=0.4349404275417328\n",
            "Batchs 1000 : loss=0.41780656576156616\n",
            "Batchs 1100 : loss=0.5307081937789917\n",
            "Batchs 1200 : loss=0.3673816919326782\n",
            "Batchs 100 : loss=0.5176873803138733\n",
            "Batchs 200 : loss=0.5415432453155518\n",
            "Batchs 300 : loss=0.43107330799102783\n",
            "Batchs 400 : loss=0.47166839241981506\n",
            "Batchs 500 : loss=0.40786266326904297\n",
            "Batchs 600 : loss=0.24705491960048676\n",
            "Batchs 700 : loss=0.3744812607765198\n",
            "Batchs 800 : loss=0.2559586465358734\n",
            "Batchs 900 : loss=0.3125087022781372\n",
            "Batchs 1000 : loss=0.35304099321365356\n",
            "Batchs 1100 : loss=0.3127206861972809\n",
            "Batchs 1200 : loss=0.2636920213699341\n",
            "Batchs 100 : loss=0.2872583568096161\n",
            "Batchs 200 : loss=0.19434508681297302\n",
            "Batchs 300 : loss=0.30468422174453735\n",
            "Batchs 400 : loss=0.24068334698677063\n",
            "Batchs 500 : loss=0.1599481850862503\n",
            "Batchs 600 : loss=0.40888530015945435\n",
            "Batchs 700 : loss=0.3034142553806305\n",
            "Batchs 800 : loss=0.22149546444416046\n",
            "Batchs 900 : loss=0.17787998914718628\n",
            "Batchs 1000 : loss=0.25650861859321594\n",
            "Batchs 1100 : loss=0.1303703486919403\n",
            "Batchs 1200 : loss=0.45979467034339905\n"
          ],
          "name": "stdout"
        }
      ]
    },
    {
      "cell_type": "code",
      "metadata": {
        "id": "qJYHmbkAi7pv",
        "colab": {
          "base_uri": "https://localhost:8080/",
          "height": 84,
          "referenced_widgets": [
            "b3652bc5825847e4a5568a37947fe2d4",
            "666a47a3d49b4710aae29883c302252f",
            "11b8d5ea8bc04e77ba08c9c4434b1613",
            "61ed835e44c6428cb1df85bbb7043bb5",
            "0a37f976f2eb4921a8687e12964d306b",
            "437f2cabe4124e36893ca80fb495e6be",
            "9244fe7534a54bc28f1415bf57f277b0",
            "f05d0b994fdf4cdcb724e0aa4a09ef13"
          ]
        },
        "outputId": "fa2a6414-1450-4f30-c926-1cce2b6e52ac"
      },
      "source": [
        "from datasets import load_metric\n",
        "metric= load_metric(\"accuracy\")\n",
        "model.eval()\n",
        "for batch in eval_dataloader:\n",
        "    batch = {k: v.to(device) for k, v in batch.items()}\n",
        "    with torch.no_grad():\n",
        "        outputs = model(**batch)\n",
        "\n",
        "    logits = outputs.logits\n",
        "    predictions = torch.argmax(logits, dim=-1)\n",
        "    metric.add_batch(predictions=predictions, references=batch[\"labels\"])\n",
        "\n",
        "metric.compute()"
      ],
      "execution_count": null,
      "outputs": [
        {
          "output_type": "display_data",
          "data": {
            "application/vnd.jupyter.widget-view+json": {
              "model_id": "b3652bc5825847e4a5568a37947fe2d4",
              "version_minor": 0,
              "version_major": 2
            },
            "text/plain": [
              "HBox(children=(FloatProgress(value=0.0, description='Downloading', max=1362.0, style=ProgressStyle(description…"
            ]
          },
          "metadata": {
            "tags": []
          }
        },
        {
          "output_type": "stream",
          "text": [
            "\n"
          ],
          "name": "stdout"
        },
        {
          "output_type": "execute_result",
          "data": {
            "text/plain": [
              "{'accuracy': 0.8577}"
            ]
          },
          "metadata": {
            "tags": []
          },
          "execution_count": 27
        }
      ]
    },
    {
      "cell_type": "code",
      "metadata": {
        "id": "QNDFh1bqoPYO"
      },
      "source": [
        "torch.save(model,'/content/drive/MyDrive/SOC-2021 data/model1_bert.pt')"
      ],
      "execution_count": null,
      "outputs": []
    },
    {
      "cell_type": "markdown",
      "metadata": {
        "id": "Iz__QsrXWSXW"
      },
      "source": [
        "#DistilBert"
      ]
    },
    {
      "cell_type": "code",
      "metadata": {
        "colab": {
          "base_uri": "https://localhost:8080/"
        },
        "id": "4nQRbWFpXzat",
        "outputId": "e3dfcfa0-0ed6-4caa-9bbb-6e47d3d0ca6f"
      },
      "source": [
        "print(data)"
      ],
      "execution_count": null,
      "outputs": [
        {
          "output_type": "stream",
          "text": [
            "Dataset({\n",
            "    features: ['review', 'sentiment', 'review_processed'],\n",
            "    num_rows: 50000\n",
            "})\n"
          ],
          "name": "stdout"
        }
      ]
    },
    {
      "cell_type": "code",
      "metadata": {
        "id": "sh_OjG8FV897"
      },
      "source": [
        "tokenizer2=AutoTokenizer.from_pretrained('distilbert-base-uncased')\n",
        "\n",
        "def tokenize_function2(examples):\n",
        "    return tokenizer2(examples[\"review_processed\"], padding=\"max_length\", truncation=True,return_token_type_ids=False,max_length=200)\n",
        "\n",
        "tokenized_datasets2 = data.map(tokenize_function2, batched=True)\n",
        "\n"
      ],
      "execution_count": null,
      "outputs": []
    },
    {
      "cell_type": "code",
      "metadata": {
        "id": "oc2q4h_5X6_E"
      },
      "source": [
        "tokenized_datasets2 = tokenized_datasets2.remove_columns([\"review\",\"review_processed\"])\n",
        "tokenized_datasets2 = tokenized_datasets2.rename_column(\"sentiment\", \"labels\")\n",
        "\n",
        "tokenized_datasets2=tokenized_datasets2.train_test_split(test_size=0.2)\n",
        "train_data2=tokenized_datasets2['train']\n",
        "test_data2=tokenized_datasets2['test']\n",
        "\n",
        "train_data2.set_format(\"torch\")\n",
        "test_data2.set_format(\"torch\")\n",
        "\n"
      ],
      "execution_count": null,
      "outputs": []
    },
    {
      "cell_type": "code",
      "metadata": {
        "id": "_w5T_f4KYGCg"
      },
      "source": [
        "train_dataloader2=DataLoader(train_data2,batch_size=32)\n",
        "eval_dataloader2=DataLoader(test_data2,batch_size=32)"
      ],
      "execution_count": null,
      "outputs": []
    },
    {
      "cell_type": "code",
      "metadata": {
        "id": "vmuVqzMdUL-t"
      },
      "source": [
        "model2 = AutoModelForSequenceClassification.from_pretrained(\"distilbert-base-cased\", num_labels=2)"
      ],
      "execution_count": null,
      "outputs": []
    },
    {
      "cell_type": "code",
      "metadata": {
        "id": "dEcMN2jFUxoP"
      },
      "source": [
        "num_epochs = 3\n",
        "num_training_steps = num_epochs * len(train_dataloader2)\n",
        "lr_scheduler = get_scheduler(\n",
        "    \"linear\",\n",
        "    optimizer=optimizer,\n",
        "    num_warmup_steps=0,\n",
        "    num_training_steps=num_training_steps\n",
        ")"
      ],
      "execution_count": null,
      "outputs": []
    },
    {
      "cell_type": "code",
      "metadata": {
        "id": "ynchzt5SU8Qe"
      },
      "source": [
        "torch.cuda.empty_cache()"
      ],
      "execution_count": null,
      "outputs": []
    },
    {
      "cell_type": "code",
      "metadata": {
        "colab": {
          "base_uri": "https://localhost:8080/"
        },
        "id": "JLpO_w7lU-kK",
        "outputId": "e9af4e5b-ceac-4267-b3fa-6546519c2077"
      },
      "source": [
        "device = torch.device(\"cuda\") if torch.cuda.is_available() else torch.device(\"cpu\")\n",
        "model2=model2.to(device)\n",
        "model2.resize_token_embeddings(len(tokenizer))"
      ],
      "execution_count": null,
      "outputs": [
        {
          "output_type": "execute_result",
          "data": {
            "text/plain": [
              "Embedding(30522, 768)"
            ]
          },
          "metadata": {
            "tags": []
          },
          "execution_count": 44
        }
      ]
    },
    {
      "cell_type": "code",
      "metadata": {
        "colab": {
          "base_uri": "https://localhost:8080/",
          "height": 671,
          "referenced_widgets": [
            "c06b57639734410cb829bcc6ab563123",
            "34b132796c4347c392074a09ade0df58",
            "0e391c6a755544f1a5876f16148dd25f",
            "5de003d3638d4cf498502de3c888df72",
            "599c0242ea584c59bce9386cdad66fbb",
            "92f3bd21de8c4057be1446c2aa93c0c6",
            "a6482c9618e447beb3d45fcbef261372",
            "b880e369525245199a9537bb93a37db5"
          ]
        },
        "id": "-luAO0yBVIvy",
        "outputId": "3dc6e4a2-2af0-49c3-e793-29c52625edac"
      },
      "source": [
        "progress_bar = tqdm(range(num_training_steps))\n",
        "\n",
        "model2.train()\n",
        "for epoch in range(num_epochs):\n",
        "    i=0\n",
        "    for batch in train_dataloader2:\n",
        "        i+=1\n",
        "        ips=batch['input_ids'].to(device)\n",
        "        at=batch['attention_mask'].to(device)\n",
        "        lbls=batch['labels'].to(device)\n",
        "        #batch = {k: v.to(device) for k, v in batch.items()}\n",
        "        outputs = model2(\n",
        "          input_ids=ips,\n",
        "          attention_mask=at\n",
        "        )\n",
        "        loss = loss_fn(outputs.logits,lbls)\n",
        "        if i%100==0:\n",
        "          print(f'Batchs {i} : loss={loss.item()}')\n",
        "        loss.backward()\n",
        "\n",
        "        optimizer.step()\n",
        "        #lr_scheduler.step()\n",
        "        optimizer.zero_grad()\n",
        "        progress_bar.update(1)"
      ],
      "execution_count": null,
      "outputs": [
        {
          "output_type": "display_data",
          "data": {
            "application/vnd.jupyter.widget-view+json": {
              "model_id": "c06b57639734410cb829bcc6ab563123",
              "version_minor": 0,
              "version_major": 2
            },
            "text/plain": [
              "HBox(children=(FloatProgress(value=0.0, max=3750.0), HTML(value='')))"
            ]
          },
          "metadata": {
            "tags": []
          }
        },
        {
          "output_type": "stream",
          "text": [
            "Batchs 100 : loss=0.6504943370819092\n",
            "Batchs 200 : loss=0.6912938952445984\n",
            "Batchs 300 : loss=0.7687283158302307\n",
            "Batchs 400 : loss=0.767971932888031\n",
            "Batchs 500 : loss=0.7379786372184753\n",
            "Batchs 600 : loss=0.748385488986969\n",
            "Batchs 700 : loss=0.7772084474563599\n",
            "Batchs 800 : loss=0.718869149684906\n",
            "Batchs 900 : loss=0.7295811772346497\n",
            "Batchs 1000 : loss=0.7096270322799683\n",
            "Batchs 1100 : loss=0.7113319635391235\n",
            "Batchs 1200 : loss=0.751264750957489\n",
            "Batchs 100 : loss=0.65660160779953\n",
            "Batchs 200 : loss=0.6803796291351318\n",
            "Batchs 300 : loss=0.7395634651184082\n",
            "Batchs 400 : loss=0.775536298751831\n",
            "Batchs 500 : loss=0.7006624937057495\n",
            "Batchs 600 : loss=0.7525128722190857\n",
            "Batchs 700 : loss=0.7696014046669006\n",
            "Batchs 800 : loss=0.7226356863975525\n",
            "Batchs 900 : loss=0.7719789743423462\n",
            "Batchs 1000 : loss=0.7103750109672546\n",
            "Batchs 1100 : loss=0.7200673222541809\n",
            "Batchs 1200 : loss=0.7860475182533264\n",
            "Batchs 100 : loss=0.6588095426559448\n",
            "Batchs 200 : loss=0.6859438419342041\n",
            "Batchs 300 : loss=0.7601941227912903\n",
            "Batchs 400 : loss=0.7569739818572998\n",
            "Batchs 500 : loss=0.721238374710083\n",
            "Batchs 600 : loss=0.7628340721130371\n",
            "Batchs 700 : loss=0.7928654551506042\n",
            "Batchs 800 : loss=0.7265235781669617\n",
            "Batchs 900 : loss=0.7454595565795898\n",
            "Batchs 1000 : loss=0.692293107509613\n",
            "Batchs 1100 : loss=0.7205338478088379\n",
            "Batchs 1200 : loss=0.7713207006454468\n"
          ],
          "name": "stdout"
        }
      ]
    },
    {
      "cell_type": "code",
      "metadata": {
        "id": "FOKlaMcbVTpP"
      },
      "source": [
        "torch.save(model2,'/content/drive/MyDrive/SOC-2021 data/model1_distilbert.pt')"
      ],
      "execution_count": null,
      "outputs": []
    },
    {
      "cell_type": "code",
      "metadata": {
        "colab": {
          "base_uri": "https://localhost:8080/"
        },
        "id": "Cb8kPvSDVQKl",
        "outputId": "2e7666c9-7936-4323-8e59-f4c233fa50e6"
      },
      "source": [
        "metric= load_metric(\"accuracy\")\n",
        "model2.eval()\n",
        "for batch in eval_dataloader2:\n",
        "    batch = {k: v.to(device) for k, v in batch.items()}\n",
        "    with torch.no_grad():\n",
        "        outputs = model2(**batch)\n",
        "\n",
        "    logits = outputs.logits\n",
        "    predictions = torch.argmax(logits, dim=-1)\n",
        "    metric.add_batch(predictions=predictions, references=batch[\"labels\"])\n",
        "\n",
        "metric.compute()"
      ],
      "execution_count": null,
      "outputs": [
        {
          "output_type": "execute_result",
          "data": {
            "text/plain": [
              "{'accuracy': 0.4985}"
            ]
          },
          "metadata": {
            "tags": []
          },
          "execution_count": 47
        }
      ]
    }
  ]
}