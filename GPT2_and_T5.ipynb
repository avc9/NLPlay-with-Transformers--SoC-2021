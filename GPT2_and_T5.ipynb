{
  "nbformat": 4,
  "nbformat_minor": 0,
  "metadata": {
    "accelerator": "GPU",
    "colab": {
      "name": "GPT2 and T5.ipynb",
      "provenance": [],
      "mount_file_id": "1bw9FyXGIrPvZz-DLA7mcStYVRlBKrcQ4",
      "authorship_tag": "ABX9TyNiPFiiWq36t8cSYhPKkI4/",
      "include_colab_link": true
    },
    "kernelspec": {
      "display_name": "Python 3",
      "name": "python3"
    },
    "language_info": {
      "name": "python"
    },
    "widgets": {
      "application/vnd.jupyter.widget-state+json": {
        "c4494e5c76e1405e961744a05d18a890": {
          "model_module": "@jupyter-widgets/controls",
          "model_name": "HBoxModel",
          "state": {
            "_view_name": "HBoxView",
            "_dom_classes": [],
            "_model_name": "HBoxModel",
            "_view_module": "@jupyter-widgets/controls",
            "_model_module_version": "1.5.0",
            "_view_count": null,
            "_view_module_version": "1.5.0",
            "box_style": "",
            "layout": "IPY_MODEL_fa490e2718564d2b89061cb94db30093",
            "_model_module": "@jupyter-widgets/controls",
            "children": [
              "IPY_MODEL_a9ab8e8fc2ac49aba72a523fee9a3843",
              "IPY_MODEL_4c739f02a356406690590d1ea19a36f1"
            ]
          }
        },
        "fa490e2718564d2b89061cb94db30093": {
          "model_module": "@jupyter-widgets/base",
          "model_name": "LayoutModel",
          "state": {
            "_view_name": "LayoutView",
            "grid_template_rows": null,
            "right": null,
            "justify_content": null,
            "_view_module": "@jupyter-widgets/base",
            "overflow": null,
            "_model_module_version": "1.2.0",
            "_view_count": null,
            "flex_flow": null,
            "width": null,
            "min_width": null,
            "border": null,
            "align_items": null,
            "bottom": null,
            "_model_module": "@jupyter-widgets/base",
            "top": null,
            "grid_column": null,
            "overflow_y": null,
            "overflow_x": null,
            "grid_auto_flow": null,
            "grid_area": null,
            "grid_template_columns": null,
            "flex": null,
            "_model_name": "LayoutModel",
            "justify_items": null,
            "grid_row": null,
            "max_height": null,
            "align_content": null,
            "visibility": null,
            "align_self": null,
            "height": null,
            "min_height": null,
            "padding": null,
            "grid_auto_rows": null,
            "grid_gap": null,
            "max_width": null,
            "order": null,
            "_view_module_version": "1.2.0",
            "grid_template_areas": null,
            "object_position": null,
            "object_fit": null,
            "grid_auto_columns": null,
            "margin": null,
            "display": null,
            "left": null
          }
        },
        "a9ab8e8fc2ac49aba72a523fee9a3843": {
          "model_module": "@jupyter-widgets/controls",
          "model_name": "FloatProgressModel",
          "state": {
            "_view_name": "ProgressView",
            "style": "IPY_MODEL_20821fcb935d4fd481c3da83db7d9a37",
            "_dom_classes": [],
            "description": "Downloading: 100%",
            "_model_name": "FloatProgressModel",
            "bar_style": "success",
            "max": 791656,
            "_view_module": "@jupyter-widgets/controls",
            "_model_module_version": "1.5.0",
            "value": 791656,
            "_view_count": null,
            "_view_module_version": "1.5.0",
            "orientation": "horizontal",
            "min": 0,
            "description_tooltip": null,
            "_model_module": "@jupyter-widgets/controls",
            "layout": "IPY_MODEL_d3111a4f3bab4cae9bb5dcd4bfd82262"
          }
        },
        "4c739f02a356406690590d1ea19a36f1": {
          "model_module": "@jupyter-widgets/controls",
          "model_name": "HTMLModel",
          "state": {
            "_view_name": "HTMLView",
            "style": "IPY_MODEL_6e1f87cafc5340f9b5e9ce42beb035f3",
            "_dom_classes": [],
            "description": "",
            "_model_name": "HTMLModel",
            "placeholder": "​",
            "_view_module": "@jupyter-widgets/controls",
            "_model_module_version": "1.5.0",
            "value": " 792k/792k [01:28&lt;00:00, 8.96kB/s]",
            "_view_count": null,
            "_view_module_version": "1.5.0",
            "description_tooltip": null,
            "_model_module": "@jupyter-widgets/controls",
            "layout": "IPY_MODEL_9fa9e4096e5746eda00f87da8401014b"
          }
        },
        "20821fcb935d4fd481c3da83db7d9a37": {
          "model_module": "@jupyter-widgets/controls",
          "model_name": "ProgressStyleModel",
          "state": {
            "_view_name": "StyleView",
            "_model_name": "ProgressStyleModel",
            "description_width": "initial",
            "_view_module": "@jupyter-widgets/base",
            "_model_module_version": "1.5.0",
            "_view_count": null,
            "_view_module_version": "1.2.0",
            "bar_color": null,
            "_model_module": "@jupyter-widgets/controls"
          }
        },
        "d3111a4f3bab4cae9bb5dcd4bfd82262": {
          "model_module": "@jupyter-widgets/base",
          "model_name": "LayoutModel",
          "state": {
            "_view_name": "LayoutView",
            "grid_template_rows": null,
            "right": null,
            "justify_content": null,
            "_view_module": "@jupyter-widgets/base",
            "overflow": null,
            "_model_module_version": "1.2.0",
            "_view_count": null,
            "flex_flow": null,
            "width": null,
            "min_width": null,
            "border": null,
            "align_items": null,
            "bottom": null,
            "_model_module": "@jupyter-widgets/base",
            "top": null,
            "grid_column": null,
            "overflow_y": null,
            "overflow_x": null,
            "grid_auto_flow": null,
            "grid_area": null,
            "grid_template_columns": null,
            "flex": null,
            "_model_name": "LayoutModel",
            "justify_items": null,
            "grid_row": null,
            "max_height": null,
            "align_content": null,
            "visibility": null,
            "align_self": null,
            "height": null,
            "min_height": null,
            "padding": null,
            "grid_auto_rows": null,
            "grid_gap": null,
            "max_width": null,
            "order": null,
            "_view_module_version": "1.2.0",
            "grid_template_areas": null,
            "object_position": null,
            "object_fit": null,
            "grid_auto_columns": null,
            "margin": null,
            "display": null,
            "left": null
          }
        },
        "6e1f87cafc5340f9b5e9ce42beb035f3": {
          "model_module": "@jupyter-widgets/controls",
          "model_name": "DescriptionStyleModel",
          "state": {
            "_view_name": "StyleView",
            "_model_name": "DescriptionStyleModel",
            "description_width": "",
            "_view_module": "@jupyter-widgets/base",
            "_model_module_version": "1.5.0",
            "_view_count": null,
            "_view_module_version": "1.2.0",
            "_model_module": "@jupyter-widgets/controls"
          }
        },
        "9fa9e4096e5746eda00f87da8401014b": {
          "model_module": "@jupyter-widgets/base",
          "model_name": "LayoutModel",
          "state": {
            "_view_name": "LayoutView",
            "grid_template_rows": null,
            "right": null,
            "justify_content": null,
            "_view_module": "@jupyter-widgets/base",
            "overflow": null,
            "_model_module_version": "1.2.0",
            "_view_count": null,
            "flex_flow": null,
            "width": null,
            "min_width": null,
            "border": null,
            "align_items": null,
            "bottom": null,
            "_model_module": "@jupyter-widgets/base",
            "top": null,
            "grid_column": null,
            "overflow_y": null,
            "overflow_x": null,
            "grid_auto_flow": null,
            "grid_area": null,
            "grid_template_columns": null,
            "flex": null,
            "_model_name": "LayoutModel",
            "justify_items": null,
            "grid_row": null,
            "max_height": null,
            "align_content": null,
            "visibility": null,
            "align_self": null,
            "height": null,
            "min_height": null,
            "padding": null,
            "grid_auto_rows": null,
            "grid_gap": null,
            "max_width": null,
            "order": null,
            "_view_module_version": "1.2.0",
            "grid_template_areas": null,
            "object_position": null,
            "object_fit": null,
            "grid_auto_columns": null,
            "margin": null,
            "display": null,
            "left": null
          }
        },
        "2389a8dee47448e4b7c78499e42b8889": {
          "model_module": "@jupyter-widgets/controls",
          "model_name": "HBoxModel",
          "state": {
            "_view_name": "HBoxView",
            "_dom_classes": [],
            "_model_name": "HBoxModel",
            "_view_module": "@jupyter-widgets/controls",
            "_model_module_version": "1.5.0",
            "_view_count": null,
            "_view_module_version": "1.5.0",
            "box_style": "",
            "layout": "IPY_MODEL_99905c2eed2f416a8c881f48818b0732",
            "_model_module": "@jupyter-widgets/controls",
            "children": [
              "IPY_MODEL_a16092c5817547828fd5dc8d1b89a392",
              "IPY_MODEL_be52dfaf25434488a4ba2add4720e77b"
            ]
          }
        },
        "99905c2eed2f416a8c881f48818b0732": {
          "model_module": "@jupyter-widgets/base",
          "model_name": "LayoutModel",
          "state": {
            "_view_name": "LayoutView",
            "grid_template_rows": null,
            "right": null,
            "justify_content": null,
            "_view_module": "@jupyter-widgets/base",
            "overflow": null,
            "_model_module_version": "1.2.0",
            "_view_count": null,
            "flex_flow": null,
            "width": null,
            "min_width": null,
            "border": null,
            "align_items": null,
            "bottom": null,
            "_model_module": "@jupyter-widgets/base",
            "top": null,
            "grid_column": null,
            "overflow_y": null,
            "overflow_x": null,
            "grid_auto_flow": null,
            "grid_area": null,
            "grid_template_columns": null,
            "flex": null,
            "_model_name": "LayoutModel",
            "justify_items": null,
            "grid_row": null,
            "max_height": null,
            "align_content": null,
            "visibility": null,
            "align_self": null,
            "height": null,
            "min_height": null,
            "padding": null,
            "grid_auto_rows": null,
            "grid_gap": null,
            "max_width": null,
            "order": null,
            "_view_module_version": "1.2.0",
            "grid_template_areas": null,
            "object_position": null,
            "object_fit": null,
            "grid_auto_columns": null,
            "margin": null,
            "display": null,
            "left": null
          }
        },
        "a16092c5817547828fd5dc8d1b89a392": {
          "model_module": "@jupyter-widgets/controls",
          "model_name": "FloatProgressModel",
          "state": {
            "_view_name": "ProgressView",
            "style": "IPY_MODEL_014e05e2b3b14b8198b428852b3f7b12",
            "_dom_classes": [],
            "description": "Downloading: 100%",
            "_model_name": "FloatProgressModel",
            "bar_style": "success",
            "max": 1389353,
            "_view_module": "@jupyter-widgets/controls",
            "_model_module_version": "1.5.0",
            "value": 1389353,
            "_view_count": null,
            "_view_module_version": "1.5.0",
            "orientation": "horizontal",
            "min": 0,
            "description_tooltip": null,
            "_model_module": "@jupyter-widgets/controls",
            "layout": "IPY_MODEL_d3cf3460142e44d2b2f730bd9d171818"
          }
        },
        "be52dfaf25434488a4ba2add4720e77b": {
          "model_module": "@jupyter-widgets/controls",
          "model_name": "HTMLModel",
          "state": {
            "_view_name": "HTMLView",
            "style": "IPY_MODEL_c2cb7928fe09498aa52e8b74708ff5c9",
            "_dom_classes": [],
            "description": "",
            "_model_name": "HTMLModel",
            "placeholder": "​",
            "_view_module": "@jupyter-widgets/controls",
            "_model_module_version": "1.5.0",
            "value": " 1.39M/1.39M [01:26&lt;00:00, 16.0kB/s]",
            "_view_count": null,
            "_view_module_version": "1.5.0",
            "description_tooltip": null,
            "_model_module": "@jupyter-widgets/controls",
            "layout": "IPY_MODEL_537f681d2ce748a1b5450617449de6f2"
          }
        },
        "014e05e2b3b14b8198b428852b3f7b12": {
          "model_module": "@jupyter-widgets/controls",
          "model_name": "ProgressStyleModel",
          "state": {
            "_view_name": "StyleView",
            "_model_name": "ProgressStyleModel",
            "description_width": "initial",
            "_view_module": "@jupyter-widgets/base",
            "_model_module_version": "1.5.0",
            "_view_count": null,
            "_view_module_version": "1.2.0",
            "bar_color": null,
            "_model_module": "@jupyter-widgets/controls"
          }
        },
        "d3cf3460142e44d2b2f730bd9d171818": {
          "model_module": "@jupyter-widgets/base",
          "model_name": "LayoutModel",
          "state": {
            "_view_name": "LayoutView",
            "grid_template_rows": null,
            "right": null,
            "justify_content": null,
            "_view_module": "@jupyter-widgets/base",
            "overflow": null,
            "_model_module_version": "1.2.0",
            "_view_count": null,
            "flex_flow": null,
            "width": null,
            "min_width": null,
            "border": null,
            "align_items": null,
            "bottom": null,
            "_model_module": "@jupyter-widgets/base",
            "top": null,
            "grid_column": null,
            "overflow_y": null,
            "overflow_x": null,
            "grid_auto_flow": null,
            "grid_area": null,
            "grid_template_columns": null,
            "flex": null,
            "_model_name": "LayoutModel",
            "justify_items": null,
            "grid_row": null,
            "max_height": null,
            "align_content": null,
            "visibility": null,
            "align_self": null,
            "height": null,
            "min_height": null,
            "padding": null,
            "grid_auto_rows": null,
            "grid_gap": null,
            "max_width": null,
            "order": null,
            "_view_module_version": "1.2.0",
            "grid_template_areas": null,
            "object_position": null,
            "object_fit": null,
            "grid_auto_columns": null,
            "margin": null,
            "display": null,
            "left": null
          }
        },
        "c2cb7928fe09498aa52e8b74708ff5c9": {
          "model_module": "@jupyter-widgets/controls",
          "model_name": "DescriptionStyleModel",
          "state": {
            "_view_name": "StyleView",
            "_model_name": "DescriptionStyleModel",
            "description_width": "",
            "_view_module": "@jupyter-widgets/base",
            "_model_module_version": "1.5.0",
            "_view_count": null,
            "_view_module_version": "1.2.0",
            "_model_module": "@jupyter-widgets/controls"
          }
        },
        "537f681d2ce748a1b5450617449de6f2": {
          "model_module": "@jupyter-widgets/base",
          "model_name": "LayoutModel",
          "state": {
            "_view_name": "LayoutView",
            "grid_template_rows": null,
            "right": null,
            "justify_content": null,
            "_view_module": "@jupyter-widgets/base",
            "overflow": null,
            "_model_module_version": "1.2.0",
            "_view_count": null,
            "flex_flow": null,
            "width": null,
            "min_width": null,
            "border": null,
            "align_items": null,
            "bottom": null,
            "_model_module": "@jupyter-widgets/base",
            "top": null,
            "grid_column": null,
            "overflow_y": null,
            "overflow_x": null,
            "grid_auto_flow": null,
            "grid_area": null,
            "grid_template_columns": null,
            "flex": null,
            "_model_name": "LayoutModel",
            "justify_items": null,
            "grid_row": null,
            "max_height": null,
            "align_content": null,
            "visibility": null,
            "align_self": null,
            "height": null,
            "min_height": null,
            "padding": null,
            "grid_auto_rows": null,
            "grid_gap": null,
            "max_width": null,
            "order": null,
            "_view_module_version": "1.2.0",
            "grid_template_areas": null,
            "object_position": null,
            "object_fit": null,
            "grid_auto_columns": null,
            "margin": null,
            "display": null,
            "left": null
          }
        },
        "9c81f3e02e834fc398b1ed4efbb64bcc": {
          "model_module": "@jupyter-widgets/controls",
          "model_name": "HBoxModel",
          "state": {
            "_view_name": "HBoxView",
            "_dom_classes": [],
            "_model_name": "HBoxModel",
            "_view_module": "@jupyter-widgets/controls",
            "_model_module_version": "1.5.0",
            "_view_count": null,
            "_view_module_version": "1.5.0",
            "box_style": "",
            "layout": "IPY_MODEL_07aa0a71599745d3bdf759885bbcf3ed",
            "_model_module": "@jupyter-widgets/controls",
            "children": [
              "IPY_MODEL_6b2457c1f061477d9f8acbda94a173df",
              "IPY_MODEL_8eba1dd509da4f82b826bd562b2a024b"
            ]
          }
        },
        "07aa0a71599745d3bdf759885bbcf3ed": {
          "model_module": "@jupyter-widgets/base",
          "model_name": "LayoutModel",
          "state": {
            "_view_name": "LayoutView",
            "grid_template_rows": null,
            "right": null,
            "justify_content": null,
            "_view_module": "@jupyter-widgets/base",
            "overflow": null,
            "_model_module_version": "1.2.0",
            "_view_count": null,
            "flex_flow": null,
            "width": null,
            "min_width": null,
            "border": null,
            "align_items": null,
            "bottom": null,
            "_model_module": "@jupyter-widgets/base",
            "top": null,
            "grid_column": null,
            "overflow_y": null,
            "overflow_x": null,
            "grid_auto_flow": null,
            "grid_area": null,
            "grid_template_columns": null,
            "flex": null,
            "_model_name": "LayoutModel",
            "justify_items": null,
            "grid_row": null,
            "max_height": null,
            "align_content": null,
            "visibility": null,
            "align_self": null,
            "height": null,
            "min_height": null,
            "padding": null,
            "grid_auto_rows": null,
            "grid_gap": null,
            "max_width": null,
            "order": null,
            "_view_module_version": "1.2.0",
            "grid_template_areas": null,
            "object_position": null,
            "object_fit": null,
            "grid_auto_columns": null,
            "margin": null,
            "display": null,
            "left": null
          }
        },
        "6b2457c1f061477d9f8acbda94a173df": {
          "model_module": "@jupyter-widgets/controls",
          "model_name": "FloatProgressModel",
          "state": {
            "_view_name": "ProgressView",
            "style": "IPY_MODEL_452008d286704befb3b21178b6cf2a5f",
            "_dom_classes": [],
            "description": "Downloading: 100%",
            "_model_name": "FloatProgressModel",
            "bar_style": "success",
            "max": 1200,
            "_view_module": "@jupyter-widgets/controls",
            "_model_module_version": "1.5.0",
            "value": 1200,
            "_view_count": null,
            "_view_module_version": "1.5.0",
            "orientation": "horizontal",
            "min": 0,
            "description_tooltip": null,
            "_model_module": "@jupyter-widgets/controls",
            "layout": "IPY_MODEL_2142694852534666be23166832e0b8e1"
          }
        },
        "8eba1dd509da4f82b826bd562b2a024b": {
          "model_module": "@jupyter-widgets/controls",
          "model_name": "HTMLModel",
          "state": {
            "_view_name": "HTMLView",
            "style": "IPY_MODEL_ab7eea9c065649c2a203dceaffa82589",
            "_dom_classes": [],
            "description": "",
            "_model_name": "HTMLModel",
            "placeholder": "​",
            "_view_module": "@jupyter-widgets/controls",
            "_model_module_version": "1.5.0",
            "value": " 1.20k/1.20k [00:00&lt;00:00, 1.60kB/s]",
            "_view_count": null,
            "_view_module_version": "1.5.0",
            "description_tooltip": null,
            "_model_module": "@jupyter-widgets/controls",
            "layout": "IPY_MODEL_9a715bac88724582a09a4cce7f8fe845"
          }
        },
        "452008d286704befb3b21178b6cf2a5f": {
          "model_module": "@jupyter-widgets/controls",
          "model_name": "ProgressStyleModel",
          "state": {
            "_view_name": "StyleView",
            "_model_name": "ProgressStyleModel",
            "description_width": "initial",
            "_view_module": "@jupyter-widgets/base",
            "_model_module_version": "1.5.0",
            "_view_count": null,
            "_view_module_version": "1.2.0",
            "bar_color": null,
            "_model_module": "@jupyter-widgets/controls"
          }
        },
        "2142694852534666be23166832e0b8e1": {
          "model_module": "@jupyter-widgets/base",
          "model_name": "LayoutModel",
          "state": {
            "_view_name": "LayoutView",
            "grid_template_rows": null,
            "right": null,
            "justify_content": null,
            "_view_module": "@jupyter-widgets/base",
            "overflow": null,
            "_model_module_version": "1.2.0",
            "_view_count": null,
            "flex_flow": null,
            "width": null,
            "min_width": null,
            "border": null,
            "align_items": null,
            "bottom": null,
            "_model_module": "@jupyter-widgets/base",
            "top": null,
            "grid_column": null,
            "overflow_y": null,
            "overflow_x": null,
            "grid_auto_flow": null,
            "grid_area": null,
            "grid_template_columns": null,
            "flex": null,
            "_model_name": "LayoutModel",
            "justify_items": null,
            "grid_row": null,
            "max_height": null,
            "align_content": null,
            "visibility": null,
            "align_self": null,
            "height": null,
            "min_height": null,
            "padding": null,
            "grid_auto_rows": null,
            "grid_gap": null,
            "max_width": null,
            "order": null,
            "_view_module_version": "1.2.0",
            "grid_template_areas": null,
            "object_position": null,
            "object_fit": null,
            "grid_auto_columns": null,
            "margin": null,
            "display": null,
            "left": null
          }
        },
        "ab7eea9c065649c2a203dceaffa82589": {
          "model_module": "@jupyter-widgets/controls",
          "model_name": "DescriptionStyleModel",
          "state": {
            "_view_name": "StyleView",
            "_model_name": "DescriptionStyleModel",
            "description_width": "",
            "_view_module": "@jupyter-widgets/base",
            "_model_module_version": "1.5.0",
            "_view_count": null,
            "_view_module_version": "1.2.0",
            "_model_module": "@jupyter-widgets/controls"
          }
        },
        "9a715bac88724582a09a4cce7f8fe845": {
          "model_module": "@jupyter-widgets/base",
          "model_name": "LayoutModel",
          "state": {
            "_view_name": "LayoutView",
            "grid_template_rows": null,
            "right": null,
            "justify_content": null,
            "_view_module": "@jupyter-widgets/base",
            "overflow": null,
            "_model_module_version": "1.2.0",
            "_view_count": null,
            "flex_flow": null,
            "width": null,
            "min_width": null,
            "border": null,
            "align_items": null,
            "bottom": null,
            "_model_module": "@jupyter-widgets/base",
            "top": null,
            "grid_column": null,
            "overflow_y": null,
            "overflow_x": null,
            "grid_auto_flow": null,
            "grid_area": null,
            "grid_template_columns": null,
            "flex": null,
            "_model_name": "LayoutModel",
            "justify_items": null,
            "grid_row": null,
            "max_height": null,
            "align_content": null,
            "visibility": null,
            "align_self": null,
            "height": null,
            "min_height": null,
            "padding": null,
            "grid_auto_rows": null,
            "grid_gap": null,
            "max_width": null,
            "order": null,
            "_view_module_version": "1.2.0",
            "grid_template_areas": null,
            "object_position": null,
            "object_fit": null,
            "grid_auto_columns": null,
            "margin": null,
            "display": null,
            "left": null
          }
        },
        "7a226bc740a94819bff095de00a53833": {
          "model_module": "@jupyter-widgets/controls",
          "model_name": "HBoxModel",
          "state": {
            "_view_name": "HBoxView",
            "_dom_classes": [],
            "_model_name": "HBoxModel",
            "_view_module": "@jupyter-widgets/controls",
            "_model_module_version": "1.5.0",
            "_view_count": null,
            "_view_module_version": "1.5.0",
            "box_style": "",
            "layout": "IPY_MODEL_c65ddfd5b3ce4284a6cef56ba7755a78",
            "_model_module": "@jupyter-widgets/controls",
            "children": [
              "IPY_MODEL_66be721f3adb45e3b787ec6d74ee1bd3",
              "IPY_MODEL_5c9f6dc10bd54f7fbc18d93da0c83ba0"
            ]
          }
        },
        "c65ddfd5b3ce4284a6cef56ba7755a78": {
          "model_module": "@jupyter-widgets/base",
          "model_name": "LayoutModel",
          "state": {
            "_view_name": "LayoutView",
            "grid_template_rows": null,
            "right": null,
            "justify_content": null,
            "_view_module": "@jupyter-widgets/base",
            "overflow": null,
            "_model_module_version": "1.2.0",
            "_view_count": null,
            "flex_flow": null,
            "width": null,
            "min_width": null,
            "border": null,
            "align_items": null,
            "bottom": null,
            "_model_module": "@jupyter-widgets/base",
            "top": null,
            "grid_column": null,
            "overflow_y": null,
            "overflow_x": null,
            "grid_auto_flow": null,
            "grid_area": null,
            "grid_template_columns": null,
            "flex": null,
            "_model_name": "LayoutModel",
            "justify_items": null,
            "grid_row": null,
            "max_height": null,
            "align_content": null,
            "visibility": null,
            "align_self": null,
            "height": null,
            "min_height": null,
            "padding": null,
            "grid_auto_rows": null,
            "grid_gap": null,
            "max_width": null,
            "order": null,
            "_view_module_version": "1.2.0",
            "grid_template_areas": null,
            "object_position": null,
            "object_fit": null,
            "grid_auto_columns": null,
            "margin": null,
            "display": null,
            "left": null
          }
        },
        "66be721f3adb45e3b787ec6d74ee1bd3": {
          "model_module": "@jupyter-widgets/controls",
          "model_name": "FloatProgressModel",
          "state": {
            "_view_name": "ProgressView",
            "style": "IPY_MODEL_e78acbecbb044ff98628be3e59514377",
            "_dom_classes": [],
            "description": "Downloading: 100%",
            "_model_name": "FloatProgressModel",
            "bar_style": "success",
            "max": 2950825948,
            "_view_module": "@jupyter-widgets/controls",
            "_model_module_version": "1.5.0",
            "value": 2950825948,
            "_view_count": null,
            "_view_module_version": "1.5.0",
            "orientation": "horizontal",
            "min": 0,
            "description_tooltip": null,
            "_model_module": "@jupyter-widgets/controls",
            "layout": "IPY_MODEL_182c6bcceb8848d29fcdf3f93146d021"
          }
        },
        "5c9f6dc10bd54f7fbc18d93da0c83ba0": {
          "model_module": "@jupyter-widgets/controls",
          "model_name": "HTMLModel",
          "state": {
            "_view_name": "HTMLView",
            "style": "IPY_MODEL_7b8888d986f3472ca5d476e9b43fa479",
            "_dom_classes": [],
            "description": "",
            "_model_name": "HTMLModel",
            "placeholder": "​",
            "_view_module": "@jupyter-widgets/controls",
            "_model_module_version": "1.5.0",
            "value": " 2.95G/2.95G [01:24&lt;00:00, 34.7MB/s]",
            "_view_count": null,
            "_view_module_version": "1.5.0",
            "description_tooltip": null,
            "_model_module": "@jupyter-widgets/controls",
            "layout": "IPY_MODEL_6c7b63d8c1ff42cc8f63d601b240b732"
          }
        },
        "e78acbecbb044ff98628be3e59514377": {
          "model_module": "@jupyter-widgets/controls",
          "model_name": "ProgressStyleModel",
          "state": {
            "_view_name": "StyleView",
            "_model_name": "ProgressStyleModel",
            "description_width": "initial",
            "_view_module": "@jupyter-widgets/base",
            "_model_module_version": "1.5.0",
            "_view_count": null,
            "_view_module_version": "1.2.0",
            "bar_color": null,
            "_model_module": "@jupyter-widgets/controls"
          }
        },
        "182c6bcceb8848d29fcdf3f93146d021": {
          "model_module": "@jupyter-widgets/base",
          "model_name": "LayoutModel",
          "state": {
            "_view_name": "LayoutView",
            "grid_template_rows": null,
            "right": null,
            "justify_content": null,
            "_view_module": "@jupyter-widgets/base",
            "overflow": null,
            "_model_module_version": "1.2.0",
            "_view_count": null,
            "flex_flow": null,
            "width": null,
            "min_width": null,
            "border": null,
            "align_items": null,
            "bottom": null,
            "_model_module": "@jupyter-widgets/base",
            "top": null,
            "grid_column": null,
            "overflow_y": null,
            "overflow_x": null,
            "grid_auto_flow": null,
            "grid_area": null,
            "grid_template_columns": null,
            "flex": null,
            "_model_name": "LayoutModel",
            "justify_items": null,
            "grid_row": null,
            "max_height": null,
            "align_content": null,
            "visibility": null,
            "align_self": null,
            "height": null,
            "min_height": null,
            "padding": null,
            "grid_auto_rows": null,
            "grid_gap": null,
            "max_width": null,
            "order": null,
            "_view_module_version": "1.2.0",
            "grid_template_areas": null,
            "object_position": null,
            "object_fit": null,
            "grid_auto_columns": null,
            "margin": null,
            "display": null,
            "left": null
          }
        },
        "7b8888d986f3472ca5d476e9b43fa479": {
          "model_module": "@jupyter-widgets/controls",
          "model_name": "DescriptionStyleModel",
          "state": {
            "_view_name": "StyleView",
            "_model_name": "DescriptionStyleModel",
            "description_width": "",
            "_view_module": "@jupyter-widgets/base",
            "_model_module_version": "1.5.0",
            "_view_count": null,
            "_view_module_version": "1.2.0",
            "_model_module": "@jupyter-widgets/controls"
          }
        },
        "6c7b63d8c1ff42cc8f63d601b240b732": {
          "model_module": "@jupyter-widgets/base",
          "model_name": "LayoutModel",
          "state": {
            "_view_name": "LayoutView",
            "grid_template_rows": null,
            "right": null,
            "justify_content": null,
            "_view_module": "@jupyter-widgets/base",
            "overflow": null,
            "_model_module_version": "1.2.0",
            "_view_count": null,
            "flex_flow": null,
            "width": null,
            "min_width": null,
            "border": null,
            "align_items": null,
            "bottom": null,
            "_model_module": "@jupyter-widgets/base",
            "top": null,
            "grid_column": null,
            "overflow_y": null,
            "overflow_x": null,
            "grid_auto_flow": null,
            "grid_area": null,
            "grid_template_columns": null,
            "flex": null,
            "_model_name": "LayoutModel",
            "justify_items": null,
            "grid_row": null,
            "max_height": null,
            "align_content": null,
            "visibility": null,
            "align_self": null,
            "height": null,
            "min_height": null,
            "padding": null,
            "grid_auto_rows": null,
            "grid_gap": null,
            "max_width": null,
            "order": null,
            "_view_module_version": "1.2.0",
            "grid_template_areas": null,
            "object_position": null,
            "object_fit": null,
            "grid_auto_columns": null,
            "margin": null,
            "display": null,
            "left": null
          }
        },
        "adbb3dee7896416c96d51e994025bd72": {
          "model_module": "@jupyter-widgets/controls",
          "model_name": "HBoxModel",
          "state": {
            "_dom_classes": [],
            "_model_module": "@jupyter-widgets/controls",
            "_model_module_version": "1.5.0",
            "_model_name": "HBoxModel",
            "_view_count": null,
            "_view_module": "@jupyter-widgets/controls",
            "_view_module_version": "1.5.0",
            "_view_name": "HBoxView",
            "box_style": "",
            "children": [
              "IPY_MODEL_418f3c1328004b7eadc47979fd5e9559",
              "IPY_MODEL_55453e7b3d394892ae4ebc41636d8e1d"
            ],
            "layout": "IPY_MODEL_fa73d6ba8c5b4066b1c4278e3057450e"
          }
        },
        "418f3c1328004b7eadc47979fd5e9559": {
          "model_module": "@jupyter-widgets/controls",
          "model_name": "FloatProgressModel",
          "state": {
            "_dom_classes": [],
            "_model_module": "@jupyter-widgets/controls",
            "_model_module_version": "1.5.0",
            "_model_name": "FloatProgressModel",
            "_view_count": null,
            "_view_module": "@jupyter-widgets/controls",
            "_view_module_version": "1.5.0",
            "_view_name": "ProgressView",
            "bar_style": "success",
            "description": "Downloading: 100%",
            "description_tooltip": null,
            "layout": "IPY_MODEL_99b7862e17564c5b8acaa1df0d83e9a9",
            "max": 1042301,
            "min": 0,
            "orientation": "horizontal",
            "style": "IPY_MODEL_c69d9c6db0e64e9ba5d72c20eb1a54f5",
            "value": 1042301
          }
        },
        "55453e7b3d394892ae4ebc41636d8e1d": {
          "model_module": "@jupyter-widgets/controls",
          "model_name": "HTMLModel",
          "state": {
            "_dom_classes": [],
            "_model_module": "@jupyter-widgets/controls",
            "_model_module_version": "1.5.0",
            "_model_name": "HTMLModel",
            "_view_count": null,
            "_view_module": "@jupyter-widgets/controls",
            "_view_module_version": "1.5.0",
            "_view_name": "HTMLView",
            "description": "",
            "description_tooltip": null,
            "layout": "IPY_MODEL_e73cc7abf3be42c3a318acbb90227f9b",
            "placeholder": "​",
            "style": "IPY_MODEL_0e1e546ac6954b15870fd9531ff75adf",
            "value": " 1.04M/1.04M [00:00&lt;00:00, 2.12MB/s]"
          }
        },
        "fa73d6ba8c5b4066b1c4278e3057450e": {
          "model_module": "@jupyter-widgets/base",
          "model_name": "LayoutModel",
          "state": {
            "_model_module": "@jupyter-widgets/base",
            "_model_module_version": "1.2.0",
            "_model_name": "LayoutModel",
            "_view_count": null,
            "_view_module": "@jupyter-widgets/base",
            "_view_module_version": "1.2.0",
            "_view_name": "LayoutView",
            "align_content": null,
            "align_items": null,
            "align_self": null,
            "border": null,
            "bottom": null,
            "display": null,
            "flex": null,
            "flex_flow": null,
            "grid_area": null,
            "grid_auto_columns": null,
            "grid_auto_flow": null,
            "grid_auto_rows": null,
            "grid_column": null,
            "grid_gap": null,
            "grid_row": null,
            "grid_template_areas": null,
            "grid_template_columns": null,
            "grid_template_rows": null,
            "height": null,
            "justify_content": null,
            "justify_items": null,
            "left": null,
            "margin": null,
            "max_height": null,
            "max_width": null,
            "min_height": null,
            "min_width": null,
            "object_fit": null,
            "object_position": null,
            "order": null,
            "overflow": null,
            "overflow_x": null,
            "overflow_y": null,
            "padding": null,
            "right": null,
            "top": null,
            "visibility": null,
            "width": null
          }
        },
        "99b7862e17564c5b8acaa1df0d83e9a9": {
          "model_module": "@jupyter-widgets/base",
          "model_name": "LayoutModel",
          "state": {
            "_model_module": "@jupyter-widgets/base",
            "_model_module_version": "1.2.0",
            "_model_name": "LayoutModel",
            "_view_count": null,
            "_view_module": "@jupyter-widgets/base",
            "_view_module_version": "1.2.0",
            "_view_name": "LayoutView",
            "align_content": null,
            "align_items": null,
            "align_self": null,
            "border": null,
            "bottom": null,
            "display": null,
            "flex": null,
            "flex_flow": null,
            "grid_area": null,
            "grid_auto_columns": null,
            "grid_auto_flow": null,
            "grid_auto_rows": null,
            "grid_column": null,
            "grid_gap": null,
            "grid_row": null,
            "grid_template_areas": null,
            "grid_template_columns": null,
            "grid_template_rows": null,
            "height": null,
            "justify_content": null,
            "justify_items": null,
            "left": null,
            "margin": null,
            "max_height": null,
            "max_width": null,
            "min_height": null,
            "min_width": null,
            "object_fit": null,
            "object_position": null,
            "order": null,
            "overflow": null,
            "overflow_x": null,
            "overflow_y": null,
            "padding": null,
            "right": null,
            "top": null,
            "visibility": null,
            "width": null
          }
        },
        "c69d9c6db0e64e9ba5d72c20eb1a54f5": {
          "model_module": "@jupyter-widgets/controls",
          "model_name": "ProgressStyleModel",
          "state": {
            "_model_module": "@jupyter-widgets/controls",
            "_model_module_version": "1.5.0",
            "_model_name": "ProgressStyleModel",
            "_view_count": null,
            "_view_module": "@jupyter-widgets/base",
            "_view_module_version": "1.2.0",
            "_view_name": "StyleView",
            "bar_color": null,
            "description_width": "initial"
          }
        },
        "e73cc7abf3be42c3a318acbb90227f9b": {
          "model_module": "@jupyter-widgets/base",
          "model_name": "LayoutModel",
          "state": {
            "_model_module": "@jupyter-widgets/base",
            "_model_module_version": "1.2.0",
            "_model_name": "LayoutModel",
            "_view_count": null,
            "_view_module": "@jupyter-widgets/base",
            "_view_module_version": "1.2.0",
            "_view_name": "LayoutView",
            "align_content": null,
            "align_items": null,
            "align_self": null,
            "border": null,
            "bottom": null,
            "display": null,
            "flex": null,
            "flex_flow": null,
            "grid_area": null,
            "grid_auto_columns": null,
            "grid_auto_flow": null,
            "grid_auto_rows": null,
            "grid_column": null,
            "grid_gap": null,
            "grid_row": null,
            "grid_template_areas": null,
            "grid_template_columns": null,
            "grid_template_rows": null,
            "height": null,
            "justify_content": null,
            "justify_items": null,
            "left": null,
            "margin": null,
            "max_height": null,
            "max_width": null,
            "min_height": null,
            "min_width": null,
            "object_fit": null,
            "object_position": null,
            "order": null,
            "overflow": null,
            "overflow_x": null,
            "overflow_y": null,
            "padding": null,
            "right": null,
            "top": null,
            "visibility": null,
            "width": null
          }
        },
        "0e1e546ac6954b15870fd9531ff75adf": {
          "model_module": "@jupyter-widgets/controls",
          "model_name": "DescriptionStyleModel",
          "state": {
            "_model_module": "@jupyter-widgets/controls",
            "_model_module_version": "1.5.0",
            "_model_name": "DescriptionStyleModel",
            "_view_count": null,
            "_view_module": "@jupyter-widgets/base",
            "_view_module_version": "1.2.0",
            "_view_name": "StyleView",
            "description_width": ""
          }
        },
        "d00ae6afaf1347eaa10be5165a9c488c": {
          "model_module": "@jupyter-widgets/controls",
          "model_name": "HBoxModel",
          "state": {
            "_dom_classes": [],
            "_model_module": "@jupyter-widgets/controls",
            "_model_module_version": "1.5.0",
            "_model_name": "HBoxModel",
            "_view_count": null,
            "_view_module": "@jupyter-widgets/controls",
            "_view_module_version": "1.5.0",
            "_view_name": "HBoxView",
            "box_style": "",
            "children": [
              "IPY_MODEL_e9c03fa76b2c49be85271f7a525455ad",
              "IPY_MODEL_0bde32e5202d471ead2a2a25509e9396"
            ],
            "layout": "IPY_MODEL_b2452113318a436cabaa44262d1700f0"
          }
        },
        "e9c03fa76b2c49be85271f7a525455ad": {
          "model_module": "@jupyter-widgets/controls",
          "model_name": "FloatProgressModel",
          "state": {
            "_dom_classes": [],
            "_model_module": "@jupyter-widgets/controls",
            "_model_module_version": "1.5.0",
            "_model_name": "FloatProgressModel",
            "_view_count": null,
            "_view_module": "@jupyter-widgets/controls",
            "_view_module_version": "1.5.0",
            "_view_name": "ProgressView",
            "bar_style": "success",
            "description": "Downloading: 100%",
            "description_tooltip": null,
            "layout": "IPY_MODEL_fa235feb01574dcf97cc560d44afd6ee",
            "max": 456318,
            "min": 0,
            "orientation": "horizontal",
            "style": "IPY_MODEL_ab49bd855f314a92a876d70d3f9333c8",
            "value": 456318
          }
        },
        "0bde32e5202d471ead2a2a25509e9396": {
          "model_module": "@jupyter-widgets/controls",
          "model_name": "HTMLModel",
          "state": {
            "_dom_classes": [],
            "_model_module": "@jupyter-widgets/controls",
            "_model_module_version": "1.5.0",
            "_model_name": "HTMLModel",
            "_view_count": null,
            "_view_module": "@jupyter-widgets/controls",
            "_view_module_version": "1.5.0",
            "_view_name": "HTMLView",
            "description": "",
            "description_tooltip": null,
            "layout": "IPY_MODEL_355c3c4f2b664de0ad38e95a6174014c",
            "placeholder": "​",
            "style": "IPY_MODEL_a8f686f0751b4570903d619e713c1ab7",
            "value": " 456k/456k [00:00&lt;00:00, 1.37MB/s]"
          }
        },
        "b2452113318a436cabaa44262d1700f0": {
          "model_module": "@jupyter-widgets/base",
          "model_name": "LayoutModel",
          "state": {
            "_model_module": "@jupyter-widgets/base",
            "_model_module_version": "1.2.0",
            "_model_name": "LayoutModel",
            "_view_count": null,
            "_view_module": "@jupyter-widgets/base",
            "_view_module_version": "1.2.0",
            "_view_name": "LayoutView",
            "align_content": null,
            "align_items": null,
            "align_self": null,
            "border": null,
            "bottom": null,
            "display": null,
            "flex": null,
            "flex_flow": null,
            "grid_area": null,
            "grid_auto_columns": null,
            "grid_auto_flow": null,
            "grid_auto_rows": null,
            "grid_column": null,
            "grid_gap": null,
            "grid_row": null,
            "grid_template_areas": null,
            "grid_template_columns": null,
            "grid_template_rows": null,
            "height": null,
            "justify_content": null,
            "justify_items": null,
            "left": null,
            "margin": null,
            "max_height": null,
            "max_width": null,
            "min_height": null,
            "min_width": null,
            "object_fit": null,
            "object_position": null,
            "order": null,
            "overflow": null,
            "overflow_x": null,
            "overflow_y": null,
            "padding": null,
            "right": null,
            "top": null,
            "visibility": null,
            "width": null
          }
        },
        "fa235feb01574dcf97cc560d44afd6ee": {
          "model_module": "@jupyter-widgets/base",
          "model_name": "LayoutModel",
          "state": {
            "_model_module": "@jupyter-widgets/base",
            "_model_module_version": "1.2.0",
            "_model_name": "LayoutModel",
            "_view_count": null,
            "_view_module": "@jupyter-widgets/base",
            "_view_module_version": "1.2.0",
            "_view_name": "LayoutView",
            "align_content": null,
            "align_items": null,
            "align_self": null,
            "border": null,
            "bottom": null,
            "display": null,
            "flex": null,
            "flex_flow": null,
            "grid_area": null,
            "grid_auto_columns": null,
            "grid_auto_flow": null,
            "grid_auto_rows": null,
            "grid_column": null,
            "grid_gap": null,
            "grid_row": null,
            "grid_template_areas": null,
            "grid_template_columns": null,
            "grid_template_rows": null,
            "height": null,
            "justify_content": null,
            "justify_items": null,
            "left": null,
            "margin": null,
            "max_height": null,
            "max_width": null,
            "min_height": null,
            "min_width": null,
            "object_fit": null,
            "object_position": null,
            "order": null,
            "overflow": null,
            "overflow_x": null,
            "overflow_y": null,
            "padding": null,
            "right": null,
            "top": null,
            "visibility": null,
            "width": null
          }
        },
        "ab49bd855f314a92a876d70d3f9333c8": {
          "model_module": "@jupyter-widgets/controls",
          "model_name": "ProgressStyleModel",
          "state": {
            "_model_module": "@jupyter-widgets/controls",
            "_model_module_version": "1.5.0",
            "_model_name": "ProgressStyleModel",
            "_view_count": null,
            "_view_module": "@jupyter-widgets/base",
            "_view_module_version": "1.2.0",
            "_view_name": "StyleView",
            "bar_color": null,
            "description_width": "initial"
          }
        },
        "355c3c4f2b664de0ad38e95a6174014c": {
          "model_module": "@jupyter-widgets/base",
          "model_name": "LayoutModel",
          "state": {
            "_model_module": "@jupyter-widgets/base",
            "_model_module_version": "1.2.0",
            "_model_name": "LayoutModel",
            "_view_count": null,
            "_view_module": "@jupyter-widgets/base",
            "_view_module_version": "1.2.0",
            "_view_name": "LayoutView",
            "align_content": null,
            "align_items": null,
            "align_self": null,
            "border": null,
            "bottom": null,
            "display": null,
            "flex": null,
            "flex_flow": null,
            "grid_area": null,
            "grid_auto_columns": null,
            "grid_auto_flow": null,
            "grid_auto_rows": null,
            "grid_column": null,
            "grid_gap": null,
            "grid_row": null,
            "grid_template_areas": null,
            "grid_template_columns": null,
            "grid_template_rows": null,
            "height": null,
            "justify_content": null,
            "justify_items": null,
            "left": null,
            "margin": null,
            "max_height": null,
            "max_width": null,
            "min_height": null,
            "min_width": null,
            "object_fit": null,
            "object_position": null,
            "order": null,
            "overflow": null,
            "overflow_x": null,
            "overflow_y": null,
            "padding": null,
            "right": null,
            "top": null,
            "visibility": null,
            "width": null
          }
        },
        "a8f686f0751b4570903d619e713c1ab7": {
          "model_module": "@jupyter-widgets/controls",
          "model_name": "DescriptionStyleModel",
          "state": {
            "_model_module": "@jupyter-widgets/controls",
            "_model_module_version": "1.5.0",
            "_model_name": "DescriptionStyleModel",
            "_view_count": null,
            "_view_module": "@jupyter-widgets/base",
            "_view_module_version": "1.2.0",
            "_view_name": "StyleView",
            "description_width": ""
          }
        },
        "dbde75c777c644fd9b094a1adbb80917": {
          "model_module": "@jupyter-widgets/controls",
          "model_name": "HBoxModel",
          "state": {
            "_dom_classes": [],
            "_model_module": "@jupyter-widgets/controls",
            "_model_module_version": "1.5.0",
            "_model_name": "HBoxModel",
            "_view_count": null,
            "_view_module": "@jupyter-widgets/controls",
            "_view_module_version": "1.5.0",
            "_view_name": "HBoxView",
            "box_style": "",
            "children": [
              "IPY_MODEL_de2cba293ec0428c951eb28b6af1f840",
              "IPY_MODEL_1dd10c011f464ad2b9458e4bdd3f5dc1"
            ],
            "layout": "IPY_MODEL_fe4c0c9602294d2b90b7366d2b1b8443"
          }
        },
        "de2cba293ec0428c951eb28b6af1f840": {
          "model_module": "@jupyter-widgets/controls",
          "model_name": "FloatProgressModel",
          "state": {
            "_dom_classes": [],
            "_model_module": "@jupyter-widgets/controls",
            "_model_module_version": "1.5.0",
            "_model_name": "FloatProgressModel",
            "_view_count": null,
            "_view_module": "@jupyter-widgets/controls",
            "_view_module_version": "1.5.0",
            "_view_name": "ProgressView",
            "bar_style": "success",
            "description": "Downloading: 100%",
            "description_tooltip": null,
            "layout": "IPY_MODEL_10728025c19f4f5fb86ef3125d960654",
            "max": 1355256,
            "min": 0,
            "orientation": "horizontal",
            "style": "IPY_MODEL_bd092919198f46fe84c53f07f412d6a0",
            "value": 1355256
          }
        },
        "1dd10c011f464ad2b9458e4bdd3f5dc1": {
          "model_module": "@jupyter-widgets/controls",
          "model_name": "HTMLModel",
          "state": {
            "_dom_classes": [],
            "_model_module": "@jupyter-widgets/controls",
            "_model_module_version": "1.5.0",
            "_model_name": "HTMLModel",
            "_view_count": null,
            "_view_module": "@jupyter-widgets/controls",
            "_view_module_version": "1.5.0",
            "_view_name": "HTMLView",
            "description": "",
            "description_tooltip": null,
            "layout": "IPY_MODEL_edf2c9b11d16451c95c321f88981b87a",
            "placeholder": "​",
            "style": "IPY_MODEL_a7187c9db36e4ac3a7f51b375f31225a",
            "value": " 1.36M/1.36M [00:00&lt;00:00, 10.4MB/s]"
          }
        },
        "fe4c0c9602294d2b90b7366d2b1b8443": {
          "model_module": "@jupyter-widgets/base",
          "model_name": "LayoutModel",
          "state": {
            "_model_module": "@jupyter-widgets/base",
            "_model_module_version": "1.2.0",
            "_model_name": "LayoutModel",
            "_view_count": null,
            "_view_module": "@jupyter-widgets/base",
            "_view_module_version": "1.2.0",
            "_view_name": "LayoutView",
            "align_content": null,
            "align_items": null,
            "align_self": null,
            "border": null,
            "bottom": null,
            "display": null,
            "flex": null,
            "flex_flow": null,
            "grid_area": null,
            "grid_auto_columns": null,
            "grid_auto_flow": null,
            "grid_auto_rows": null,
            "grid_column": null,
            "grid_gap": null,
            "grid_row": null,
            "grid_template_areas": null,
            "grid_template_columns": null,
            "grid_template_rows": null,
            "height": null,
            "justify_content": null,
            "justify_items": null,
            "left": null,
            "margin": null,
            "max_height": null,
            "max_width": null,
            "min_height": null,
            "min_width": null,
            "object_fit": null,
            "object_position": null,
            "order": null,
            "overflow": null,
            "overflow_x": null,
            "overflow_y": null,
            "padding": null,
            "right": null,
            "top": null,
            "visibility": null,
            "width": null
          }
        },
        "10728025c19f4f5fb86ef3125d960654": {
          "model_module": "@jupyter-widgets/base",
          "model_name": "LayoutModel",
          "state": {
            "_model_module": "@jupyter-widgets/base",
            "_model_module_version": "1.2.0",
            "_model_name": "LayoutModel",
            "_view_count": null,
            "_view_module": "@jupyter-widgets/base",
            "_view_module_version": "1.2.0",
            "_view_name": "LayoutView",
            "align_content": null,
            "align_items": null,
            "align_self": null,
            "border": null,
            "bottom": null,
            "display": null,
            "flex": null,
            "flex_flow": null,
            "grid_area": null,
            "grid_auto_columns": null,
            "grid_auto_flow": null,
            "grid_auto_rows": null,
            "grid_column": null,
            "grid_gap": null,
            "grid_row": null,
            "grid_template_areas": null,
            "grid_template_columns": null,
            "grid_template_rows": null,
            "height": null,
            "justify_content": null,
            "justify_items": null,
            "left": null,
            "margin": null,
            "max_height": null,
            "max_width": null,
            "min_height": null,
            "min_width": null,
            "object_fit": null,
            "object_position": null,
            "order": null,
            "overflow": null,
            "overflow_x": null,
            "overflow_y": null,
            "padding": null,
            "right": null,
            "top": null,
            "visibility": null,
            "width": null
          }
        },
        "bd092919198f46fe84c53f07f412d6a0": {
          "model_module": "@jupyter-widgets/controls",
          "model_name": "ProgressStyleModel",
          "state": {
            "_model_module": "@jupyter-widgets/controls",
            "_model_module_version": "1.5.0",
            "_model_name": "ProgressStyleModel",
            "_view_count": null,
            "_view_module": "@jupyter-widgets/base",
            "_view_module_version": "1.2.0",
            "_view_name": "StyleView",
            "bar_color": null,
            "description_width": "initial"
          }
        },
        "edf2c9b11d16451c95c321f88981b87a": {
          "model_module": "@jupyter-widgets/base",
          "model_name": "LayoutModel",
          "state": {
            "_model_module": "@jupyter-widgets/base",
            "_model_module_version": "1.2.0",
            "_model_name": "LayoutModel",
            "_view_count": null,
            "_view_module": "@jupyter-widgets/base",
            "_view_module_version": "1.2.0",
            "_view_name": "LayoutView",
            "align_content": null,
            "align_items": null,
            "align_self": null,
            "border": null,
            "bottom": null,
            "display": null,
            "flex": null,
            "flex_flow": null,
            "grid_area": null,
            "grid_auto_columns": null,
            "grid_auto_flow": null,
            "grid_auto_rows": null,
            "grid_column": null,
            "grid_gap": null,
            "grid_row": null,
            "grid_template_areas": null,
            "grid_template_columns": null,
            "grid_template_rows": null,
            "height": null,
            "justify_content": null,
            "justify_items": null,
            "left": null,
            "margin": null,
            "max_height": null,
            "max_width": null,
            "min_height": null,
            "min_width": null,
            "object_fit": null,
            "object_position": null,
            "order": null,
            "overflow": null,
            "overflow_x": null,
            "overflow_y": null,
            "padding": null,
            "right": null,
            "top": null,
            "visibility": null,
            "width": null
          }
        },
        "a7187c9db36e4ac3a7f51b375f31225a": {
          "model_module": "@jupyter-widgets/controls",
          "model_name": "DescriptionStyleModel",
          "state": {
            "_model_module": "@jupyter-widgets/controls",
            "_model_module_version": "1.5.0",
            "_model_name": "DescriptionStyleModel",
            "_view_count": null,
            "_view_module": "@jupyter-widgets/base",
            "_view_module_version": "1.2.0",
            "_view_name": "StyleView",
            "description_width": ""
          }
        },
        "da768a61a6444f15b3af5ac61d8e9a3d": {
          "model_module": "@jupyter-widgets/controls",
          "model_name": "HBoxModel",
          "state": {
            "_dom_classes": [],
            "_model_module": "@jupyter-widgets/controls",
            "_model_module_version": "1.5.0",
            "_model_name": "HBoxModel",
            "_view_count": null,
            "_view_module": "@jupyter-widgets/controls",
            "_view_module_version": "1.5.0",
            "_view_name": "HBoxView",
            "box_style": "",
            "children": [
              "IPY_MODEL_08f0fdd2ec8e41349f2b28cedf53e0ea",
              "IPY_MODEL_ded1629bb9bb4bd78d8809d718e45131"
            ],
            "layout": "IPY_MODEL_10987e072a8a47bdb2f14f8185cd8d33"
          }
        },
        "08f0fdd2ec8e41349f2b28cedf53e0ea": {
          "model_module": "@jupyter-widgets/controls",
          "model_name": "FloatProgressModel",
          "state": {
            "_dom_classes": [],
            "_model_module": "@jupyter-widgets/controls",
            "_model_module_version": "1.5.0",
            "_model_name": "FloatProgressModel",
            "_view_count": null,
            "_view_module": "@jupyter-widgets/controls",
            "_view_module_version": "1.5.0",
            "_view_name": "ProgressView",
            "bar_style": "success",
            "description": "Downloading: 100%",
            "description_tooltip": null,
            "layout": "IPY_MODEL_939c8ff4b5c546a698d3ad05f0cb5314",
            "max": 665,
            "min": 0,
            "orientation": "horizontal",
            "style": "IPY_MODEL_c0638e73c1124ba4a1e0960749131181",
            "value": 665
          }
        },
        "ded1629bb9bb4bd78d8809d718e45131": {
          "model_module": "@jupyter-widgets/controls",
          "model_name": "HTMLModel",
          "state": {
            "_dom_classes": [],
            "_model_module": "@jupyter-widgets/controls",
            "_model_module_version": "1.5.0",
            "_model_name": "HTMLModel",
            "_view_count": null,
            "_view_module": "@jupyter-widgets/controls",
            "_view_module_version": "1.5.0",
            "_view_name": "HTMLView",
            "description": "",
            "description_tooltip": null,
            "layout": "IPY_MODEL_8c609012e5e344b4b75cfc87ca74195a",
            "placeholder": "​",
            "style": "IPY_MODEL_16384b9feac348b8b4640874899750ea",
            "value": " 665/665 [00:00&lt;00:00, 3.40kB/s]"
          }
        },
        "10987e072a8a47bdb2f14f8185cd8d33": {
          "model_module": "@jupyter-widgets/base",
          "model_name": "LayoutModel",
          "state": {
            "_model_module": "@jupyter-widgets/base",
            "_model_module_version": "1.2.0",
            "_model_name": "LayoutModel",
            "_view_count": null,
            "_view_module": "@jupyter-widgets/base",
            "_view_module_version": "1.2.0",
            "_view_name": "LayoutView",
            "align_content": null,
            "align_items": null,
            "align_self": null,
            "border": null,
            "bottom": null,
            "display": null,
            "flex": null,
            "flex_flow": null,
            "grid_area": null,
            "grid_auto_columns": null,
            "grid_auto_flow": null,
            "grid_auto_rows": null,
            "grid_column": null,
            "grid_gap": null,
            "grid_row": null,
            "grid_template_areas": null,
            "grid_template_columns": null,
            "grid_template_rows": null,
            "height": null,
            "justify_content": null,
            "justify_items": null,
            "left": null,
            "margin": null,
            "max_height": null,
            "max_width": null,
            "min_height": null,
            "min_width": null,
            "object_fit": null,
            "object_position": null,
            "order": null,
            "overflow": null,
            "overflow_x": null,
            "overflow_y": null,
            "padding": null,
            "right": null,
            "top": null,
            "visibility": null,
            "width": null
          }
        },
        "939c8ff4b5c546a698d3ad05f0cb5314": {
          "model_module": "@jupyter-widgets/base",
          "model_name": "LayoutModel",
          "state": {
            "_model_module": "@jupyter-widgets/base",
            "_model_module_version": "1.2.0",
            "_model_name": "LayoutModel",
            "_view_count": null,
            "_view_module": "@jupyter-widgets/base",
            "_view_module_version": "1.2.0",
            "_view_name": "LayoutView",
            "align_content": null,
            "align_items": null,
            "align_self": null,
            "border": null,
            "bottom": null,
            "display": null,
            "flex": null,
            "flex_flow": null,
            "grid_area": null,
            "grid_auto_columns": null,
            "grid_auto_flow": null,
            "grid_auto_rows": null,
            "grid_column": null,
            "grid_gap": null,
            "grid_row": null,
            "grid_template_areas": null,
            "grid_template_columns": null,
            "grid_template_rows": null,
            "height": null,
            "justify_content": null,
            "justify_items": null,
            "left": null,
            "margin": null,
            "max_height": null,
            "max_width": null,
            "min_height": null,
            "min_width": null,
            "object_fit": null,
            "object_position": null,
            "order": null,
            "overflow": null,
            "overflow_x": null,
            "overflow_y": null,
            "padding": null,
            "right": null,
            "top": null,
            "visibility": null,
            "width": null
          }
        },
        "c0638e73c1124ba4a1e0960749131181": {
          "model_module": "@jupyter-widgets/controls",
          "model_name": "ProgressStyleModel",
          "state": {
            "_model_module": "@jupyter-widgets/controls",
            "_model_module_version": "1.5.0",
            "_model_name": "ProgressStyleModel",
            "_view_count": null,
            "_view_module": "@jupyter-widgets/base",
            "_view_module_version": "1.2.0",
            "_view_name": "StyleView",
            "bar_color": null,
            "description_width": "initial"
          }
        },
        "8c609012e5e344b4b75cfc87ca74195a": {
          "model_module": "@jupyter-widgets/base",
          "model_name": "LayoutModel",
          "state": {
            "_model_module": "@jupyter-widgets/base",
            "_model_module_version": "1.2.0",
            "_model_name": "LayoutModel",
            "_view_count": null,
            "_view_module": "@jupyter-widgets/base",
            "_view_module_version": "1.2.0",
            "_view_name": "LayoutView",
            "align_content": null,
            "align_items": null,
            "align_self": null,
            "border": null,
            "bottom": null,
            "display": null,
            "flex": null,
            "flex_flow": null,
            "grid_area": null,
            "grid_auto_columns": null,
            "grid_auto_flow": null,
            "grid_auto_rows": null,
            "grid_column": null,
            "grid_gap": null,
            "grid_row": null,
            "grid_template_areas": null,
            "grid_template_columns": null,
            "grid_template_rows": null,
            "height": null,
            "justify_content": null,
            "justify_items": null,
            "left": null,
            "margin": null,
            "max_height": null,
            "max_width": null,
            "min_height": null,
            "min_width": null,
            "object_fit": null,
            "object_position": null,
            "order": null,
            "overflow": null,
            "overflow_x": null,
            "overflow_y": null,
            "padding": null,
            "right": null,
            "top": null,
            "visibility": null,
            "width": null
          }
        },
        "16384b9feac348b8b4640874899750ea": {
          "model_module": "@jupyter-widgets/controls",
          "model_name": "DescriptionStyleModel",
          "state": {
            "_model_module": "@jupyter-widgets/controls",
            "_model_module_version": "1.5.0",
            "_model_name": "DescriptionStyleModel",
            "_view_count": null,
            "_view_module": "@jupyter-widgets/base",
            "_view_module_version": "1.2.0",
            "_view_name": "StyleView",
            "description_width": ""
          }
        },
        "9d5288f4ca4545fc8c11344d18796794": {
          "model_module": "@jupyter-widgets/controls",
          "model_name": "HBoxModel",
          "state": {
            "_dom_classes": [],
            "_model_module": "@jupyter-widgets/controls",
            "_model_module_version": "1.5.0",
            "_model_name": "HBoxModel",
            "_view_count": null,
            "_view_module": "@jupyter-widgets/controls",
            "_view_module_version": "1.5.0",
            "_view_name": "HBoxView",
            "box_style": "",
            "children": [
              "IPY_MODEL_1ef85c2ceb2c45c2adf6cb0111bd7ee4",
              "IPY_MODEL_dc0d6e6bbf7f4a4b8885c99181ba3016"
            ],
            "layout": "IPY_MODEL_568fda5d9d4a4f3195a31172c083ed3e"
          }
        },
        "1ef85c2ceb2c45c2adf6cb0111bd7ee4": {
          "model_module": "@jupyter-widgets/controls",
          "model_name": "FloatProgressModel",
          "state": {
            "_dom_classes": [],
            "_model_module": "@jupyter-widgets/controls",
            "_model_module_version": "1.5.0",
            "_model_name": "FloatProgressModel",
            "_view_count": null,
            "_view_module": "@jupyter-widgets/controls",
            "_view_module_version": "1.5.0",
            "_view_name": "ProgressView",
            "bar_style": "success",
            "description": "Downloading: 100%",
            "description_tooltip": null,
            "layout": "IPY_MODEL_c8c94f4248d243bab434a01c3a35143a",
            "max": 548118077,
            "min": 0,
            "orientation": "horizontal",
            "style": "IPY_MODEL_c02438bac8cf4daabeb87437b70d3bff",
            "value": 548118077
          }
        },
        "dc0d6e6bbf7f4a4b8885c99181ba3016": {
          "model_module": "@jupyter-widgets/controls",
          "model_name": "HTMLModel",
          "state": {
            "_dom_classes": [],
            "_model_module": "@jupyter-widgets/controls",
            "_model_module_version": "1.5.0",
            "_model_name": "HTMLModel",
            "_view_count": null,
            "_view_module": "@jupyter-widgets/controls",
            "_view_module_version": "1.5.0",
            "_view_name": "HTMLView",
            "description": "",
            "description_tooltip": null,
            "layout": "IPY_MODEL_5a04e3c1773a4e318597772a9943d56a",
            "placeholder": "​",
            "style": "IPY_MODEL_f70ece3cff0647e5a3fb6af60960ed07",
            "value": " 548M/548M [01:36&lt;00:00, 5.67MB/s]"
          }
        },
        "568fda5d9d4a4f3195a31172c083ed3e": {
          "model_module": "@jupyter-widgets/base",
          "model_name": "LayoutModel",
          "state": {
            "_model_module": "@jupyter-widgets/base",
            "_model_module_version": "1.2.0",
            "_model_name": "LayoutModel",
            "_view_count": null,
            "_view_module": "@jupyter-widgets/base",
            "_view_module_version": "1.2.0",
            "_view_name": "LayoutView",
            "align_content": null,
            "align_items": null,
            "align_self": null,
            "border": null,
            "bottom": null,
            "display": null,
            "flex": null,
            "flex_flow": null,
            "grid_area": null,
            "grid_auto_columns": null,
            "grid_auto_flow": null,
            "grid_auto_rows": null,
            "grid_column": null,
            "grid_gap": null,
            "grid_row": null,
            "grid_template_areas": null,
            "grid_template_columns": null,
            "grid_template_rows": null,
            "height": null,
            "justify_content": null,
            "justify_items": null,
            "left": null,
            "margin": null,
            "max_height": null,
            "max_width": null,
            "min_height": null,
            "min_width": null,
            "object_fit": null,
            "object_position": null,
            "order": null,
            "overflow": null,
            "overflow_x": null,
            "overflow_y": null,
            "padding": null,
            "right": null,
            "top": null,
            "visibility": null,
            "width": null
          }
        },
        "c8c94f4248d243bab434a01c3a35143a": {
          "model_module": "@jupyter-widgets/base",
          "model_name": "LayoutModel",
          "state": {
            "_model_module": "@jupyter-widgets/base",
            "_model_module_version": "1.2.0",
            "_model_name": "LayoutModel",
            "_view_count": null,
            "_view_module": "@jupyter-widgets/base",
            "_view_module_version": "1.2.0",
            "_view_name": "LayoutView",
            "align_content": null,
            "align_items": null,
            "align_self": null,
            "border": null,
            "bottom": null,
            "display": null,
            "flex": null,
            "flex_flow": null,
            "grid_area": null,
            "grid_auto_columns": null,
            "grid_auto_flow": null,
            "grid_auto_rows": null,
            "grid_column": null,
            "grid_gap": null,
            "grid_row": null,
            "grid_template_areas": null,
            "grid_template_columns": null,
            "grid_template_rows": null,
            "height": null,
            "justify_content": null,
            "justify_items": null,
            "left": null,
            "margin": null,
            "max_height": null,
            "max_width": null,
            "min_height": null,
            "min_width": null,
            "object_fit": null,
            "object_position": null,
            "order": null,
            "overflow": null,
            "overflow_x": null,
            "overflow_y": null,
            "padding": null,
            "right": null,
            "top": null,
            "visibility": null,
            "width": null
          }
        },
        "c02438bac8cf4daabeb87437b70d3bff": {
          "model_module": "@jupyter-widgets/controls",
          "model_name": "ProgressStyleModel",
          "state": {
            "_model_module": "@jupyter-widgets/controls",
            "_model_module_version": "1.5.0",
            "_model_name": "ProgressStyleModel",
            "_view_count": null,
            "_view_module": "@jupyter-widgets/base",
            "_view_module_version": "1.2.0",
            "_view_name": "StyleView",
            "bar_color": null,
            "description_width": "initial"
          }
        },
        "5a04e3c1773a4e318597772a9943d56a": {
          "model_module": "@jupyter-widgets/base",
          "model_name": "LayoutModel",
          "state": {
            "_model_module": "@jupyter-widgets/base",
            "_model_module_version": "1.2.0",
            "_model_name": "LayoutModel",
            "_view_count": null,
            "_view_module": "@jupyter-widgets/base",
            "_view_module_version": "1.2.0",
            "_view_name": "LayoutView",
            "align_content": null,
            "align_items": null,
            "align_self": null,
            "border": null,
            "bottom": null,
            "display": null,
            "flex": null,
            "flex_flow": null,
            "grid_area": null,
            "grid_auto_columns": null,
            "grid_auto_flow": null,
            "grid_auto_rows": null,
            "grid_column": null,
            "grid_gap": null,
            "grid_row": null,
            "grid_template_areas": null,
            "grid_template_columns": null,
            "grid_template_rows": null,
            "height": null,
            "justify_content": null,
            "justify_items": null,
            "left": null,
            "margin": null,
            "max_height": null,
            "max_width": null,
            "min_height": null,
            "min_width": null,
            "object_fit": null,
            "object_position": null,
            "order": null,
            "overflow": null,
            "overflow_x": null,
            "overflow_y": null,
            "padding": null,
            "right": null,
            "top": null,
            "visibility": null,
            "width": null
          }
        },
        "f70ece3cff0647e5a3fb6af60960ed07": {
          "model_module": "@jupyter-widgets/controls",
          "model_name": "DescriptionStyleModel",
          "state": {
            "_model_module": "@jupyter-widgets/controls",
            "_model_module_version": "1.5.0",
            "_model_name": "DescriptionStyleModel",
            "_view_count": null,
            "_view_module": "@jupyter-widgets/base",
            "_view_module_version": "1.2.0",
            "_view_name": "StyleView",
            "description_width": ""
          }
        }
      }
    }
  },
  "cells": [
    {
      "cell_type": "markdown",
      "metadata": {
        "id": "view-in-github",
        "colab_type": "text"
      },
      "source": [
        "<a href=\"https://colab.research.google.com/github/avc9/NLPlay-with-Transformers--SoC-2021/blob/main/GPT2_and_T5.ipynb\" target=\"_parent\"><img src=\"https://colab.research.google.com/assets/colab-badge.svg\" alt=\"Open In Colab\"/></a>"
      ]
    },
    {
      "cell_type": "code",
      "metadata": {
        "id": "80CVwmBSkfRP",
        "colab": {
          "base_uri": "https://localhost:8080/"
        },
        "outputId": "24ca9b22-a7d4-456d-dd6a-869049faecf5"
      },
      "source": [
        "!pip install transformers\n",
        "!pip install sentencepiece"
      ],
      "execution_count": 1,
      "outputs": [
        {
          "output_type": "stream",
          "text": [
            "Requirement already satisfied: transformers in /usr/local/lib/python3.7/dist-packages (4.8.2)\n",
            "Requirement already satisfied: requests in /usr/local/lib/python3.7/dist-packages (from transformers) (2.23.0)\n",
            "Requirement already satisfied: filelock in /usr/local/lib/python3.7/dist-packages (from transformers) (3.0.12)\n",
            "Requirement already satisfied: numpy>=1.17 in /usr/local/lib/python3.7/dist-packages (from transformers) (1.19.5)\n",
            "Requirement already satisfied: sacremoses in /usr/local/lib/python3.7/dist-packages (from transformers) (0.0.45)\n",
            "Requirement already satisfied: packaging in /usr/local/lib/python3.7/dist-packages (from transformers) (21.0)\n",
            "Requirement already satisfied: tqdm>=4.27 in /usr/local/lib/python3.7/dist-packages (from transformers) (4.41.1)\n",
            "Requirement already satisfied: pyyaml in /usr/local/lib/python3.7/dist-packages (from transformers) (3.13)\n",
            "Requirement already satisfied: huggingface-hub==0.0.12 in /usr/local/lib/python3.7/dist-packages (from transformers) (0.0.12)\n",
            "Requirement already satisfied: importlib-metadata; python_version < \"3.8\" in /usr/local/lib/python3.7/dist-packages (from transformers) (4.6.1)\n",
            "Requirement already satisfied: regex!=2019.12.17 in /usr/local/lib/python3.7/dist-packages (from transformers) (2019.12.20)\n",
            "Requirement already satisfied: tokenizers<0.11,>=0.10.1 in /usr/local/lib/python3.7/dist-packages (from transformers) (0.10.3)\n",
            "Requirement already satisfied: idna<3,>=2.5 in /usr/local/lib/python3.7/dist-packages (from requests->transformers) (2.10)\n",
            "Requirement already satisfied: chardet<4,>=3.0.2 in /usr/local/lib/python3.7/dist-packages (from requests->transformers) (3.0.4)\n",
            "Requirement already satisfied: urllib3!=1.25.0,!=1.25.1,<1.26,>=1.21.1 in /usr/local/lib/python3.7/dist-packages (from requests->transformers) (1.24.3)\n",
            "Requirement already satisfied: certifi>=2017.4.17 in /usr/local/lib/python3.7/dist-packages (from requests->transformers) (2021.5.30)\n",
            "Requirement already satisfied: six in /usr/local/lib/python3.7/dist-packages (from sacremoses->transformers) (1.15.0)\n",
            "Requirement already satisfied: click in /usr/local/lib/python3.7/dist-packages (from sacremoses->transformers) (7.1.2)\n",
            "Requirement already satisfied: joblib in /usr/local/lib/python3.7/dist-packages (from sacremoses->transformers) (1.0.1)\n",
            "Requirement already satisfied: pyparsing>=2.0.2 in /usr/local/lib/python3.7/dist-packages (from packaging->transformers) (2.4.7)\n",
            "Requirement already satisfied: typing-extensions in /usr/local/lib/python3.7/dist-packages (from huggingface-hub==0.0.12->transformers) (3.7.4.3)\n",
            "Requirement already satisfied: zipp>=0.5 in /usr/local/lib/python3.7/dist-packages (from importlib-metadata; python_version < \"3.8\"->transformers) (3.5.0)\n",
            "Requirement already satisfied: sentencepiece in /usr/local/lib/python3.7/dist-packages (0.1.96)\n"
          ],
          "name": "stdout"
        }
      ]
    },
    {
      "cell_type": "code",
      "metadata": {
        "colab": {
          "base_uri": "https://localhost:8080/"
        },
        "id": "04-SvmFRlAyp",
        "outputId": "e83e01b9-3349-4620-df63-53a041924e0a"
      },
      "source": [
        "import torch\n",
        "from transformers import GPT2Tokenizer, GPT2LMHeadModel,T5Tokenizer, T5ForConditionalGeneration\n",
        "from nltk.translate.bleu_score import SmoothingFunction, corpus_bleu, sentence_bleu\n",
        "\n",
        "device=\"cuda:0\" if torch.cuda.is_available() else \"cpu\"\n",
        "\n",
        "print(device)"
      ],
      "execution_count": 2,
      "outputs": [
        {
          "output_type": "stream",
          "text": [
            "cuda:0\n"
          ],
          "name": "stdout"
        }
      ]
    },
    {
      "cell_type": "code",
      "metadata": {
        "colab": {
          "base_uri": "https://localhost:8080/",
          "height": 214,
          "referenced_widgets": [
            "c4494e5c76e1405e961744a05d18a890",
            "fa490e2718564d2b89061cb94db30093",
            "a9ab8e8fc2ac49aba72a523fee9a3843",
            "4c739f02a356406690590d1ea19a36f1",
            "20821fcb935d4fd481c3da83db7d9a37",
            "d3111a4f3bab4cae9bb5dcd4bfd82262",
            "6e1f87cafc5340f9b5e9ce42beb035f3",
            "9fa9e4096e5746eda00f87da8401014b",
            "2389a8dee47448e4b7c78499e42b8889",
            "99905c2eed2f416a8c881f48818b0732",
            "a16092c5817547828fd5dc8d1b89a392",
            "be52dfaf25434488a4ba2add4720e77b",
            "014e05e2b3b14b8198b428852b3f7b12",
            "d3cf3460142e44d2b2f730bd9d171818",
            "c2cb7928fe09498aa52e8b74708ff5c9",
            "537f681d2ce748a1b5450617449de6f2",
            "9c81f3e02e834fc398b1ed4efbb64bcc",
            "07aa0a71599745d3bdf759885bbcf3ed",
            "6b2457c1f061477d9f8acbda94a173df",
            "8eba1dd509da4f82b826bd562b2a024b",
            "452008d286704befb3b21178b6cf2a5f",
            "2142694852534666be23166832e0b8e1",
            "ab7eea9c065649c2a203dceaffa82589",
            "9a715bac88724582a09a4cce7f8fe845",
            "7a226bc740a94819bff095de00a53833",
            "c65ddfd5b3ce4284a6cef56ba7755a78",
            "66be721f3adb45e3b787ec6d74ee1bd3",
            "5c9f6dc10bd54f7fbc18d93da0c83ba0",
            "e78acbecbb044ff98628be3e59514377",
            "182c6bcceb8848d29fcdf3f93146d021",
            "7b8888d986f3472ca5d476e9b43fa479",
            "6c7b63d8c1ff42cc8f63d601b240b732"
          ]
        },
        "id": "XwdPcismgXaZ",
        "outputId": "1f8d306e-6f89-4538-d203-b3a31b829acc"
      },
      "source": [
        "tokenizer = T5Tokenizer.from_pretrained('t5-large')\n",
        "model = T5ForConditionalGeneration.from_pretrained('t5-large')\n",
        "model=model.to(device)\n",
        "\n"
      ],
      "execution_count": 3,
      "outputs": [
        {
          "output_type": "display_data",
          "data": {
            "application/vnd.jupyter.widget-view+json": {
              "model_id": "c4494e5c76e1405e961744a05d18a890",
              "version_minor": 0,
              "version_major": 2
            },
            "text/plain": [
              "HBox(children=(FloatProgress(value=0.0, description='Downloading', max=791656.0, style=ProgressStyle(descripti…"
            ]
          },
          "metadata": {
            "tags": []
          }
        },
        {
          "output_type": "stream",
          "text": [
            "\n"
          ],
          "name": "stdout"
        },
        {
          "output_type": "display_data",
          "data": {
            "application/vnd.jupyter.widget-view+json": {
              "model_id": "2389a8dee47448e4b7c78499e42b8889",
              "version_minor": 0,
              "version_major": 2
            },
            "text/plain": [
              "HBox(children=(FloatProgress(value=0.0, description='Downloading', max=1389353.0, style=ProgressStyle(descript…"
            ]
          },
          "metadata": {
            "tags": []
          }
        },
        {
          "output_type": "stream",
          "text": [
            "\n"
          ],
          "name": "stdout"
        },
        {
          "output_type": "display_data",
          "data": {
            "application/vnd.jupyter.widget-view+json": {
              "model_id": "9c81f3e02e834fc398b1ed4efbb64bcc",
              "version_minor": 0,
              "version_major": 2
            },
            "text/plain": [
              "HBox(children=(FloatProgress(value=0.0, description='Downloading', max=1200.0, style=ProgressStyle(description…"
            ]
          },
          "metadata": {
            "tags": []
          }
        },
        {
          "output_type": "stream",
          "text": [
            "\n"
          ],
          "name": "stdout"
        },
        {
          "output_type": "display_data",
          "data": {
            "application/vnd.jupyter.widget-view+json": {
              "model_id": "7a226bc740a94819bff095de00a53833",
              "version_minor": 0,
              "version_major": 2
            },
            "text/plain": [
              "HBox(children=(FloatProgress(value=0.0, description='Downloading', max=2950825948.0, style=ProgressStyle(descr…"
            ]
          },
          "metadata": {
            "tags": []
          }
        },
        {
          "output_type": "stream",
          "text": [
            "\n"
          ],
          "name": "stdout"
        }
      ]
    },
    {
      "cell_type": "code",
      "metadata": {
        "colab": {
          "base_uri": "https://localhost:8080/",
          "height": 69
        },
        "id": "hGcEALmhlDDp",
        "outputId": "9232aefe-184f-448a-c834-2c6e35912c66"
      },
      "source": [
        "input_ids = tokenizer.encode(\"summarize: Hello, my dog is cute\", return_tensors=\"pt\")  # Batch size 1\n",
        "outputs = model.generate(input_ids.to(device),max_length=200,top_k=50,temperature=0.8,no_repeat_ngram_size=2)\n",
        "print(outputs.size())\n",
        "\n",
        "tokenizer.decode(outputs[0],skip_special_tokens=True)"
      ],
      "execution_count": 13,
      "outputs": [
        {
          "output_type": "stream",
          "text": [
            "torch.Size([1, 52])\n"
          ],
          "name": "stdout"
        },
        {
          "output_type": "execute_result",
          "data": {
            "application/vnd.google.colaboratory.intrinsic+json": {
              "type": "string"
            },
            "text/plain": [
              "'my dog is cute, my cat is funny and my dachshund is a poodle. i love dogs and he is so sweet - if u like dogs, ill take him home!'"
            ]
          },
          "metadata": {
            "tags": []
          },
          "execution_count": 13
        }
      ]
    },
    {
      "cell_type": "code",
      "metadata": {
        "colab": {
          "base_uri": "https://localhost:8080/",
          "height": 264,
          "referenced_widgets": [
            "adbb3dee7896416c96d51e994025bd72",
            "418f3c1328004b7eadc47979fd5e9559",
            "55453e7b3d394892ae4ebc41636d8e1d",
            "fa73d6ba8c5b4066b1c4278e3057450e",
            "99b7862e17564c5b8acaa1df0d83e9a9",
            "c69d9c6db0e64e9ba5d72c20eb1a54f5",
            "e73cc7abf3be42c3a318acbb90227f9b",
            "0e1e546ac6954b15870fd9531ff75adf",
            "d00ae6afaf1347eaa10be5165a9c488c",
            "e9c03fa76b2c49be85271f7a525455ad",
            "0bde32e5202d471ead2a2a25509e9396",
            "b2452113318a436cabaa44262d1700f0",
            "fa235feb01574dcf97cc560d44afd6ee",
            "ab49bd855f314a92a876d70d3f9333c8",
            "355c3c4f2b664de0ad38e95a6174014c",
            "a8f686f0751b4570903d619e713c1ab7",
            "dbde75c777c644fd9b094a1adbb80917",
            "de2cba293ec0428c951eb28b6af1f840",
            "1dd10c011f464ad2b9458e4bdd3f5dc1",
            "fe4c0c9602294d2b90b7366d2b1b8443",
            "10728025c19f4f5fb86ef3125d960654",
            "bd092919198f46fe84c53f07f412d6a0",
            "edf2c9b11d16451c95c321f88981b87a",
            "a7187c9db36e4ac3a7f51b375f31225a",
            "da768a61a6444f15b3af5ac61d8e9a3d",
            "08f0fdd2ec8e41349f2b28cedf53e0ea",
            "ded1629bb9bb4bd78d8809d718e45131",
            "10987e072a8a47bdb2f14f8185cd8d33",
            "939c8ff4b5c546a698d3ad05f0cb5314",
            "c0638e73c1124ba4a1e0960749131181",
            "8c609012e5e344b4b75cfc87ca74195a",
            "16384b9feac348b8b4640874899750ea",
            "9d5288f4ca4545fc8c11344d18796794",
            "1ef85c2ceb2c45c2adf6cb0111bd7ee4",
            "dc0d6e6bbf7f4a4b8885c99181ba3016",
            "568fda5d9d4a4f3195a31172c083ed3e",
            "c8c94f4248d243bab434a01c3a35143a",
            "c02438bac8cf4daabeb87437b70d3bff",
            "5a04e3c1773a4e318597772a9943d56a",
            "f70ece3cff0647e5a3fb6af60960ed07"
          ]
        },
        "id": "MV9fkVMhlg8p",
        "outputId": "dd3497b4-cf8f-4e6d-e16b-e7f1cd2556b0"
      },
      "source": [
        "tokenizer=GPT2Tokenizer.from_pretrained('gpt2')\n",
        "model=GPT2LMHeadModel.from_pretrained('gpt2',pad_token_id=tokenizer.eos_token_id)\n",
        "model=model.to(device)"
      ],
      "execution_count": null,
      "outputs": [
        {
          "output_type": "display_data",
          "data": {
            "application/vnd.jupyter.widget-view+json": {
              "model_id": "adbb3dee7896416c96d51e994025bd72",
              "version_major": 2,
              "version_minor": 0
            },
            "text/plain": [
              "HBox(children=(FloatProgress(value=0.0, description='Downloading', max=1042301.0, style=ProgressStyle(descript…"
            ]
          },
          "metadata": {
            "tags": []
          }
        },
        {
          "output_type": "stream",
          "text": [
            "\n"
          ],
          "name": "stdout"
        },
        {
          "output_type": "display_data",
          "data": {
            "application/vnd.jupyter.widget-view+json": {
              "model_id": "d00ae6afaf1347eaa10be5165a9c488c",
              "version_major": 2,
              "version_minor": 0
            },
            "text/plain": [
              "HBox(children=(FloatProgress(value=0.0, description='Downloading', max=456318.0, style=ProgressStyle(descripti…"
            ]
          },
          "metadata": {
            "tags": []
          }
        },
        {
          "output_type": "stream",
          "text": [
            "\n"
          ],
          "name": "stdout"
        },
        {
          "output_type": "display_data",
          "data": {
            "application/vnd.jupyter.widget-view+json": {
              "model_id": "dbde75c777c644fd9b094a1adbb80917",
              "version_major": 2,
              "version_minor": 0
            },
            "text/plain": [
              "HBox(children=(FloatProgress(value=0.0, description='Downloading', max=1355256.0, style=ProgressStyle(descript…"
            ]
          },
          "metadata": {
            "tags": []
          }
        },
        {
          "output_type": "stream",
          "text": [
            "\n"
          ],
          "name": "stdout"
        },
        {
          "output_type": "display_data",
          "data": {
            "application/vnd.jupyter.widget-view+json": {
              "model_id": "da768a61a6444f15b3af5ac61d8e9a3d",
              "version_major": 2,
              "version_minor": 0
            },
            "text/plain": [
              "HBox(children=(FloatProgress(value=0.0, description='Downloading', max=665.0, style=ProgressStyle(description_…"
            ]
          },
          "metadata": {
            "tags": []
          }
        },
        {
          "output_type": "stream",
          "text": [
            "\n"
          ],
          "name": "stdout"
        },
        {
          "output_type": "display_data",
          "data": {
            "application/vnd.jupyter.widget-view+json": {
              "model_id": "9d5288f4ca4545fc8c11344d18796794",
              "version_major": 2,
              "version_minor": 0
            },
            "text/plain": [
              "HBox(children=(FloatProgress(value=0.0, description='Downloading', max=548118077.0, style=ProgressStyle(descri…"
            ]
          },
          "metadata": {
            "tags": []
          }
        },
        {
          "output_type": "stream",
          "text": [
            "\n"
          ],
          "name": "stdout"
        }
      ]
    },
    {
      "cell_type": "code",
      "metadata": {
        "colab": {
          "base_uri": "https://localhost:8080/"
        },
        "id": "0U_Y51JBm1bo",
        "outputId": "dd6efe9b-3d5e-40b1-8750-70a4db3c0886"
      },
      "source": [
        "science_file_path=\"/content/drive/MyDrive/entertainment articles.txt\"\n",
        "file1 = open(science_file_path, 'r')\n",
        "count = 0\n",
        "list1=[]\n",
        "# Using for loop\n",
        "print(\"Using for loop\")\n",
        "for line in file1:\n",
        "    count += 1\n",
        "    print(f'{count}')\n",
        "    list1.append(line.strip())\n",
        " \n",
        "# Closing files\n",
        "file1.close()"
      ],
      "execution_count": 28,
      "outputs": [
        {
          "output_type": "stream",
          "text": [
            "Using for loop\n",
            "1\n",
            "2\n",
            "3\n",
            "4\n",
            "5\n",
            "6\n",
            "7\n",
            "8\n",
            "9\n",
            "10\n"
          ],
          "name": "stdout"
        }
      ]
    },
    {
      "cell_type": "code",
      "metadata": {
        "id": "ZbY6PUeYlkWT"
      },
      "source": [
        "def text_generator(original_text,char_limit=2000):\n",
        "  intial_text=original_text.split()[:50]\n",
        "  print(intial_text)\n",
        "  text=''\n",
        "  for i in intial_text:\n",
        "    text+=i+\" \"\n",
        "\n",
        "  print(len(text),text)\n",
        "\n",
        "  ip=tokenizer.encode(text,return_tensors='pt')\n",
        "  #ip1.shape\n",
        "  ip=ip.to(device)\n",
        "  ans=model.generate(ip,max_length=1000,do_sample=True,top_k=100,no_repeat_ngram_size=2)\n",
        "  #text.join(' ')\n",
        "  text=tokenizer.decode(ans[0],skip_special_tokens=True)\n",
        "\n",
        "\n",
        "  while (len(text.split())<char_limit):\n",
        "    print(len(text.split()))\n",
        "    new_ip_text=\" \"\n",
        "    new_ip_text=new_ip_text.join(text.split()[-500:])\n",
        "    ip=tokenizer.encode(new_ip_text,return_tensors='pt')\n",
        "    #ip1.shape\n",
        "    ip=ip.to(device)\n",
        "    ans=model.generate(ip,max_length=1000,do_sample=True,top_k=100,no_repeat_ngram_size=2)\n",
        "    #text.join(' ')\n",
        "    text+=tokenizer.decode(ans[0],skip_special_tokens=True)\n",
        "\n",
        "  return text\n",
        "\n",
        "\n"
      ],
      "execution_count": 8,
      "outputs": []
    },
    {
      "cell_type": "code",
      "metadata": {
        "id": "3RNm8dLqvbLN"
      },
      "source": [
        "def text_generatorT5(original_text,char_limit=2000):\n",
        "  intial_text=original_text.split()[:50]\n",
        "  print(intial_text)\n",
        "  text=''\n",
        "  for i in intial_text:\n",
        "    text+=i+\" \"\n",
        "\n",
        "\n",
        "  text=\"summarize: \"+text\n",
        "  print(len(text),text)\n",
        "\n",
        "  ip=tokenizer.encode(text,return_tensors='pt')\n",
        "  #ip1.shape\n",
        "  ip=ip.to(device)\n",
        "  ans=model.generate(ip,max_length=1000,do_sample=True,top_k=100,no_repeat_ngram_size=2)\n",
        "  #text.join(' ')\n",
        "  text=tokenizer.decode(ans[0],skip_special_tokens=True)\n",
        "\n",
        "\n",
        "  while (len(text.split())<char_limit):\n",
        "    #print(len(text.split()))\n",
        "    mid=int(len(text.split())/2)\n",
        "    new_ip_text=\" \"\n",
        "    new_ip_text=new_ip_text.join(text.split()[-mid:])\n",
        "    print(new_ip_text)\n",
        "    new_ip_text=\"summarize: \"+new_ip_text\n",
        "    ip=tokenizer.encode(new_ip_text,return_tensors='pt')\n",
        "    #ip1.shape\n",
        "    ip=ip.to(device)\n",
        "    ans=model.generate(ip,max_length=1000,do_sample=True,top_k=100,no_repeat_ngram_size=2)\n",
        "    #text.join(' ')\n",
        "    add_text=\" \"\n",
        "    add_text=add_text.join(tokenizer.decode(ans[0],skip_special_tokens=True).split()[mid:])\n",
        "\n",
        "\n",
        "    text+=tokenizer.decode(ans[0],skip_special_tokens=True)\n",
        "\n",
        "  return text"
      ],
      "execution_count": 49,
      "outputs": []
    },
    {
      "cell_type": "code",
      "metadata": {
        "id": "yyO8GE3WqfGa",
        "colab": {
          "base_uri": "https://localhost:8080/"
        },
        "outputId": "e9adbc5b-24bb-4a40-c6bc-79231688bdbf"
      },
      "source": [
        "gen_text=text_generatorT5(list1[0])\n",
        "print(gen_text)"
      ],
      "execution_count": 50,
      "outputs": [
        {
          "output_type": "stream",
          "text": [
            "['Entertainment', 'is', 'a', 'form', 'of', 'activity', 'that', 'holds', 'the', 'attention', 'and', 'interest', 'of', 'an', 'audience', 'or', 'gives', 'pleasure', 'and', 'delight.', 'It', 'can', 'be', 'an', 'idea', 'or', 'a', 'task,', 'but', 'is', 'more', 'likely', 'to', 'be', 'one', 'of', 'the', 'activities', 'or', 'events', 'that', 'have', 'developed', 'over', 'thousands', 'of', 'years', 'specifically', 'for', 'the']\n",
            "282 summarize: Entertainment is a form of activity that holds the attention and interest of an audience or gives pleasure and delight. It can be an idea or a task, but is more likely to be one of the activities or events that have developed over thousands of years specifically for the \n",
            "it is too obvious to see 'the message' entertainment can make santa amara feel beautiful and alive again, and is ideal for gandhi's journey: she is very proud to represent her homeland thailand in these pages / it' retells the\n",
            "very proud to represent her homeland thailand in these pages / it' retells theentertainment can make santa amara feel beautiful and alive again, and is ideal for gandhi's journey. they provide an opportunity to give a young girl the opportunity, as well as presenting thailand at its best / into the story & creating suspense tense spectacles '... to make one feel good about chai.\n",
            "make santa amara feel beautiful and alive again, and is ideal for gandhi's journey. they provide an opportunity to give a young girl the opportunity, as well as presenting thailand at its best / into the story & creating suspense tense spectacles '... to make one feel good about chai.film is about a young girl inspired by her visit to thailand. she gets 'the chance, as well as presenting asia at its best... to make one feel good about... chai.\n",
            "presenting thailand at its best / into the story & creating suspense tense spectacles '... to make one feel good about chai.film is about a young girl inspired by her visit to thailand. she gets 'the chance, as well as presenting asia at its best... to make one feel good about... chai.make santa amara feel beautiful and alive again, and is ideal for gandhi's journey. it' a film about 'a young girl inspired by her visit to thailand... to make one feel good about... chai. film was nominated for best film awards at berlin festival january 4 / asia vs australia & june 27 - it won four!\n",
            "tense spectacles '... to make one feel good about chai.film is about a young girl inspired by her visit to thailand. she gets 'the chance, as well as presenting asia at its best... to make one feel good about... chai.make santa amara feel beautiful and alive again, and is ideal for gandhi's journey. it' a film about 'a young girl inspired by her visit to thailand... to make one feel good about... chai. film was nominated for best film awards at berlin festival january 4 / asia vs australia & june 27 - it won four!film has won four berlin festival best film awards. about a girl inspired by her visit to thailand 'to make one feel good about... chai.\n",
            "young girl inspired by her visit to thailand. she gets 'the chance, as well as presenting asia at its best... to make one feel good about... chai.make santa amara feel beautiful and alive again, and is ideal for gandhi's journey. it' a film about 'a young girl inspired by her visit to thailand... to make one feel good about... chai. film was nominated for best film awards at berlin festival january 4 / asia vs australia & june 27 - it won four!film has won four berlin festival best film awards. about a girl inspired by her visit to thailand 'to make one feel good about... chai.film about a girl inspired by her visit to thailand '... to make one feel good about... chai.' film has won four berlin festival best film awards.\n",
            "'the chance, as well as presenting asia at its best... to make one feel good about... chai.make santa amara feel beautiful and alive again, and is ideal for gandhi's journey. it' a film about 'a young girl inspired by her visit to thailand... to make one feel good about... chai. film was nominated for best film awards at berlin festival january 4 / asia vs australia & june 27 - it won four!film has won four berlin festival best film awards. about a girl inspired by her visit to thailand 'to make one feel good about... chai.film about a girl inspired by her visit to thailand '... to make one feel good about... chai.' film has won four berlin festival best film awards.the film'make santa amara feel beautiful and alive again'. girl inspired by visit to thailand... to make one feel good about... chai.\n",
            "feel good about... chai.make santa amara feel beautiful and alive again, and is ideal for gandhi's journey. it' a film about 'a young girl inspired by her visit to thailand... to make one feel good about... chai. film was nominated for best film awards at berlin festival january 4 / asia vs australia & june 27 - it won four!film has won four berlin festival best film awards. about a girl inspired by her visit to thailand 'to make one feel good about... chai.film about a girl inspired by her visit to thailand '... to make one feel good about... chai.' film has won four berlin festival best film awards.the film'make santa amara feel beautiful and alive again'. girl inspired by visit to thailand... to make one feel good about... chai.film has won four berlin festival best film awards. is about a young girl inspired by her visit to thailand 'to make one feel good about... chai'\n",
            "journey. it' a film about 'a young girl inspired by her visit to thailand... to make one feel good about... chai. film was nominated for best film awards at berlin festival january 4 / asia vs australia & june 27 - it won four!film has won four berlin festival best film awards. about a girl inspired by her visit to thailand 'to make one feel good about... chai.film about a girl inspired by her visit to thailand '... to make one feel good about... chai.' film has won four berlin festival best film awards.the film'make santa amara feel beautiful and alive again'. girl inspired by visit to thailand... to make one feel good about... chai.film has won four berlin festival best film awards. is about a young girl inspired by her visit to thailand 'to make one feel good about... chai'there is a reason why the Thai student has won the best director ios award. 'one would imagine that it's asia vs australia' describes the idea of being inspired by the great gatsby.\n",
            "her visit to thailand... to make one feel good about... chai. film was nominated for best film awards at berlin festival january 4 / asia vs australia & june 27 - it won four!film has won four berlin festival best film awards. about a girl inspired by her visit to thailand 'to make one feel good about... chai.film about a girl inspired by her visit to thailand '... to make one feel good about... chai.' film has won four berlin festival best film awards.the film'make santa amara feel beautiful and alive again'. girl inspired by visit to thailand... to make one feel good about... chai.film has won four berlin festival best film awards. is about a young girl inspired by her visit to thailand 'to make one feel good about... chai'there is a reason why the Thai student has won the best director ios award. 'one would imagine that it's asia vs australia' describes the idea of being inspired by the great gatsby.story about a young girl inspired by her visit to thailand. film has won four berlin festival best film awards!\n",
            "film was nominated for best film awards at berlin festival january 4 / asia vs australia & june 27 - it won four!film has won four berlin festival best film awards. about a girl inspired by her visit to thailand 'to make one feel good about... chai.film about a girl inspired by her visit to thailand '... to make one feel good about... chai.' film has won four berlin festival best film awards.the film'make santa amara feel beautiful and alive again'. girl inspired by visit to thailand... to make one feel good about... chai.film has won four berlin festival best film awards. is about a young girl inspired by her visit to thailand 'to make one feel good about... chai'there is a reason why the Thai student has won the best director ios award. 'one would imagine that it's asia vs australia' describes the idea of being inspired by the great gatsby.story about a young girl inspired by her visit to thailand. film has won four berlin festival best film awards!girl inspired by visit to thailand '... to make one feel good about... chai.' film has won four berlin festival best film awards.\n",
            "film awards. about a girl inspired by her visit to thailand 'to make one feel good about... chai.film about a girl inspired by her visit to thailand '... to make one feel good about... chai.' film has won four berlin festival best film awards.the film'make santa amara feel beautiful and alive again'. girl inspired by visit to thailand... to make one feel good about... chai.film has won four berlin festival best film awards. is about a young girl inspired by her visit to thailand 'to make one feel good about... chai'there is a reason why the Thai student has won the best director ios award. 'one would imagine that it's asia vs australia' describes the idea of being inspired by the great gatsby.story about a young girl inspired by her visit to thailand. film has won four berlin festival best film awards!girl inspired by visit to thailand '... to make one feel good about... chai.' film has won four berlin festival best film awards.the film about a girl inspired by her visit to thailand '... to make one feel good about... chai' after winning four best film awards at berlin festival. made of dubbed version of the ancient african song kareena by elaine sutter - the same song, but with fewer words : ki-ki it is about the... beautiful and alive girl!\n",
            "feel good about... chai.film about a girl inspired by her visit to thailand '... to make one feel good about... chai.' film has won four berlin festival best film awards.the film'make santa amara feel beautiful and alive again'. girl inspired by visit to thailand... to make one feel good about... chai.film has won four berlin festival best film awards. is about a young girl inspired by her visit to thailand 'to make one feel good about... chai'there is a reason why the Thai student has won the best director ios award. 'one would imagine that it's asia vs australia' describes the idea of being inspired by the great gatsby.story about a young girl inspired by her visit to thailand. film has won four berlin festival best film awards!girl inspired by visit to thailand '... to make one feel good about... chai.' film has won four berlin festival best film awards.the film about a girl inspired by her visit to thailand '... to make one feel good about... chai' after winning four best film awards at berlin festival. made of dubbed version of the ancient african song kareena by elaine sutter - the same song, but with fewer words : ki-ki it is about the... beautiful and alive girl!the film'make santa amara feel beautiful and alive again' film has won four berlin festival best film awards. made of dubbed version of the ancient african song kareena by elaine.\n",
            "one feel good about... chai.' film has won four berlin festival best film awards.the film'make santa amara feel beautiful and alive again'. girl inspired by visit to thailand... to make one feel good about... chai.film has won four berlin festival best film awards. is about a young girl inspired by her visit to thailand 'to make one feel good about... chai'there is a reason why the Thai student has won the best director ios award. 'one would imagine that it's asia vs australia' describes the idea of being inspired by the great gatsby.story about a young girl inspired by her visit to thailand. film has won four berlin festival best film awards!girl inspired by visit to thailand '... to make one feel good about... chai.' film has won four berlin festival best film awards.the film about a girl inspired by her visit to thailand '... to make one feel good about... chai' after winning four best film awards at berlin festival. made of dubbed version of the ancient african song kareena by elaine sutter - the same song, but with fewer words : ki-ki it is about the... beautiful and alive girl!the film'make santa amara feel beautiful and alive again' film has won four berlin festival best film awards. made of dubbed version of the ancient african song kareena by elaine.young girl inspired by visit to thailand... 'to make one feel good about......chai' film has won four berlin festival best film awards. the film. makes santa amara feel beautiful and alive again.\n",
            "has won four berlin festival best film awards.the film'make santa amara feel beautiful and alive again'. girl inspired by visit to thailand... to make one feel good about... chai.film has won four berlin festival best film awards. is about a young girl inspired by her visit to thailand 'to make one feel good about... chai'there is a reason why the Thai student has won the best director ios award. 'one would imagine that it's asia vs australia' describes the idea of being inspired by the great gatsby.story about a young girl inspired by her visit to thailand. film has won four berlin festival best film awards!girl inspired by visit to thailand '... to make one feel good about... chai.' film has won four berlin festival best film awards.the film about a girl inspired by her visit to thailand '... to make one feel good about... chai' after winning four best film awards at berlin festival. made of dubbed version of the ancient african song kareena by elaine sutter - the same song, but with fewer words : ki-ki it is about the... beautiful and alive girl!the film'make santa amara feel beautiful and alive again' film has won four berlin festival best film awards. made of dubbed version of the ancient african song kareena by elaine.young girl inspired by visit to thailand... 'to make one feel good about......chai' film has won four berlin festival best film awards. the film. makes santa amara feel beautiful and alive again.berlin festival best film award for'make santa amara feel beautiful and alive again'\n",
            "and alive again'. girl inspired by visit to thailand... to make one feel good about... chai.film has won four berlin festival best film awards. is about a young girl inspired by her visit to thailand 'to make one feel good about... chai'there is a reason why the Thai student has won the best director ios award. 'one would imagine that it's asia vs australia' describes the idea of being inspired by the great gatsby.story about a young girl inspired by her visit to thailand. film has won four berlin festival best film awards!girl inspired by visit to thailand '... to make one feel good about... chai.' film has won four berlin festival best film awards.the film about a girl inspired by her visit to thailand '... to make one feel good about... chai' after winning four best film awards at berlin festival. made of dubbed version of the ancient african song kareena by elaine sutter - the same song, but with fewer words : ki-ki it is about the... beautiful and alive girl!the film'make santa amara feel beautiful and alive again' film has won four berlin festival best film awards. made of dubbed version of the ancient african song kareena by elaine.young girl inspired by visit to thailand... 'to make one feel good about......chai' film has won four berlin festival best film awards. the film. makes santa amara feel beautiful and alive again.berlin festival best film award for'make santa amara feel beautiful and alive again'berlin film festival best film accolade for'make santa amara feel beautiful and alive again' a thai student from nepal inspired by her visit to asia inspired film.\n",
            "awards. is about a young girl inspired by her visit to thailand 'to make one feel good about... chai'there is a reason why the Thai student has won the best director ios award. 'one would imagine that it's asia vs australia' describes the idea of being inspired by the great gatsby.story about a young girl inspired by her visit to thailand. film has won four berlin festival best film awards!girl inspired by visit to thailand '... to make one feel good about... chai.' film has won four berlin festival best film awards.the film about a girl inspired by her visit to thailand '... to make one feel good about... chai' after winning four best film awards at berlin festival. made of dubbed version of the ancient african song kareena by elaine sutter - the same song, but with fewer words : ki-ki it is about the... beautiful and alive girl!the film'make santa amara feel beautiful and alive again' film has won four berlin festival best film awards. made of dubbed version of the ancient african song kareena by elaine.young girl inspired by visit to thailand... 'to make one feel good about......chai' film has won four berlin festival best film awards. the film. makes santa amara feel beautiful and alive again.berlin festival best film award for'make santa amara feel beautiful and alive again'berlin film festival best film accolade for'make santa amara feel beautiful and alive again' a thai student from nepal inspired by her visit to asia inspired film.girl inspired by visit to thailand... 'to make one feel good about.....chai' gets four berlin festival best film awards. made of dubbed version of ancient african song kareena by elaine sutter - the same song, but with fewer words : ki-ki it is about the... beautiful girl!\n",
            "student has won the best director ios award. 'one would imagine that it's asia vs australia' describes the idea of being inspired by the great gatsby.story about a young girl inspired by her visit to thailand. film has won four berlin festival best film awards!girl inspired by visit to thailand '... to make one feel good about... chai.' film has won four berlin festival best film awards.the film about a girl inspired by her visit to thailand '... to make one feel good about... chai' after winning four best film awards at berlin festival. made of dubbed version of the ancient african song kareena by elaine sutter - the same song, but with fewer words : ki-ki it is about the... beautiful and alive girl!the film'make santa amara feel beautiful and alive again' film has won four berlin festival best film awards. made of dubbed version of the ancient african song kareena by elaine.young girl inspired by visit to thailand... 'to make one feel good about......chai' film has won four berlin festival best film awards. the film. makes santa amara feel beautiful and alive again.berlin festival best film award for'make santa amara feel beautiful and alive again'berlin film festival best film accolade for'make santa amara feel beautiful and alive again' a thai student from nepal inspired by her visit to asia inspired film.girl inspired by visit to thailand... 'to make one feel good about.....chai' gets four berlin festival best film awards. made of dubbed version of ancient african song kareena by elaine sutter - the same song, but with fewer words : ki-ki it is about the... beautiful girl!'one would imagine that it's asia vs australia' describes idea of being inspired by great gatsby. made of dubbed version of ancient african song kareena by elaine sutter - the same song, but with fewer words : ki-ki it is about the... beautiful girl!' has won four berlin festival best film awards!\n",
            "idea of being inspired by the great gatsby.story about a young girl inspired by her visit to thailand. film has won four berlin festival best film awards!girl inspired by visit to thailand '... to make one feel good about... chai.' film has won four berlin festival best film awards.the film about a girl inspired by her visit to thailand '... to make one feel good about... chai' after winning four best film awards at berlin festival. made of dubbed version of the ancient african song kareena by elaine sutter - the same song, but with fewer words : ki-ki it is about the... beautiful and alive girl!the film'make santa amara feel beautiful and alive again' film has won four berlin festival best film awards. made of dubbed version of the ancient african song kareena by elaine.young girl inspired by visit to thailand... 'to make one feel good about......chai' film has won four berlin festival best film awards. the film. makes santa amara feel beautiful and alive again.berlin festival best film award for'make santa amara feel beautiful and alive again'berlin film festival best film accolade for'make santa amara feel beautiful and alive again' a thai student from nepal inspired by her visit to asia inspired film.girl inspired by visit to thailand... 'to make one feel good about.....chai' gets four berlin festival best film awards. made of dubbed version of ancient african song kareena by elaine sutter - the same song, but with fewer words : ki-ki it is about the... beautiful girl!'one would imagine that it's asia vs australia' describes idea of being inspired by great gatsby. made of dubbed version of ancient african song kareena by elaine sutter - the same song, but with fewer words : ki-ki it is about the... beautiful girl!' has won four berlin festival best film awards!made of dubbed version of ancient african song kareena by elaine sutter. girl inspired by visit to thailand '...to make one feel good about....chai' film has won four berlin festival best film awards - a clincher!\n",
            "thailand '... to make one feel good about... chai.' film has won four berlin festival best film awards.the film about a girl inspired by her visit to thailand '... to make one feel good about... chai' after winning four best film awards at berlin festival. made of dubbed version of the ancient african song kareena by elaine sutter - the same song, but with fewer words : ki-ki it is about the... beautiful and alive girl!the film'make santa amara feel beautiful and alive again' film has won four berlin festival best film awards. made of dubbed version of the ancient african song kareena by elaine.young girl inspired by visit to thailand... 'to make one feel good about......chai' film has won four berlin festival best film awards. the film. makes santa amara feel beautiful and alive again.berlin festival best film award for'make santa amara feel beautiful and alive again'berlin film festival best film accolade for'make santa amara feel beautiful and alive again' a thai student from nepal inspired by her visit to asia inspired film.girl inspired by visit to thailand... 'to make one feel good about.....chai' gets four berlin festival best film awards. made of dubbed version of ancient african song kareena by elaine sutter - the same song, but with fewer words : ki-ki it is about the... beautiful girl!'one would imagine that it's asia vs australia' describes idea of being inspired by great gatsby. made of dubbed version of ancient african song kareena by elaine sutter - the same song, but with fewer words : ki-ki it is about the... beautiful girl!' has won four berlin festival best film awards!made of dubbed version of ancient african song kareena by elaine sutter. girl inspired by visit to thailand '...to make one feel good about....chai' film has won four berlin festival best film awards - a clincher!inspired by idea of being inspired in the great gatsby. girl inspired visiting thailand to make her feel good about 'chai' film has won four berlin festival best film awards after winning best tv aces - clincher! made of dubbed version of ancient african song kareena by elaine sutter – the same song but with fewer words : ki-ki it is about... beautiful girl!\n",
            "her visit to thailand '... to make one feel good about... chai' after winning four best film awards at berlin festival. made of dubbed version of the ancient african song kareena by elaine sutter - the same song, but with fewer words : ki-ki it is about the... beautiful and alive girl!the film'make santa amara feel beautiful and alive again' film has won four berlin festival best film awards. made of dubbed version of the ancient african song kareena by elaine.young girl inspired by visit to thailand... 'to make one feel good about......chai' film has won four berlin festival best film awards. the film. makes santa amara feel beautiful and alive again.berlin festival best film award for'make santa amara feel beautiful and alive again'berlin film festival best film accolade for'make santa amara feel beautiful and alive again' a thai student from nepal inspired by her visit to asia inspired film.girl inspired by visit to thailand... 'to make one feel good about.....chai' gets four berlin festival best film awards. made of dubbed version of ancient african song kareena by elaine sutter - the same song, but with fewer words : ki-ki it is about the... beautiful girl!'one would imagine that it's asia vs australia' describes idea of being inspired by great gatsby. made of dubbed version of ancient african song kareena by elaine sutter - the same song, but with fewer words : ki-ki it is about the... beautiful girl!' has won four berlin festival best film awards!made of dubbed version of ancient african song kareena by elaine sutter. girl inspired by visit to thailand '...to make one feel good about....chai' film has won four berlin festival best film awards - a clincher!inspired by idea of being inspired in the great gatsby. girl inspired visiting thailand to make her feel good about 'chai' film has won four berlin festival best film awards after winning best tv aces - clincher! made of dubbed version of ancient african song kareena by elaine sutter – the same song but with fewer words : ki-ki it is about... beautiful girl!girl inspired visiting thailand to make her feel good about 'chai' film has won four berlin festival best film awards. made of dubbed version of ancient african song kareena by elaine sutter - the same song but with fewer words : ki-ki it is about the... beautiful girl!\n",
            "festival. made of dubbed version of the ancient african song kareena by elaine sutter - the same song, but with fewer words : ki-ki it is about the... beautiful and alive girl!the film'make santa amara feel beautiful and alive again' film has won four berlin festival best film awards. made of dubbed version of the ancient african song kareena by elaine.young girl inspired by visit to thailand... 'to make one feel good about......chai' film has won four berlin festival best film awards. the film. makes santa amara feel beautiful and alive again.berlin festival best film award for'make santa amara feel beautiful and alive again'berlin film festival best film accolade for'make santa amara feel beautiful and alive again' a thai student from nepal inspired by her visit to asia inspired film.girl inspired by visit to thailand... 'to make one feel good about.....chai' gets four berlin festival best film awards. made of dubbed version of ancient african song kareena by elaine sutter - the same song, but with fewer words : ki-ki it is about the... beautiful girl!'one would imagine that it's asia vs australia' describes idea of being inspired by great gatsby. made of dubbed version of ancient african song kareena by elaine sutter - the same song, but with fewer words : ki-ki it is about the... beautiful girl!' has won four berlin festival best film awards!made of dubbed version of ancient african song kareena by elaine sutter. girl inspired by visit to thailand '...to make one feel good about....chai' film has won four berlin festival best film awards - a clincher!inspired by idea of being inspired in the great gatsby. girl inspired visiting thailand to make her feel good about 'chai' film has won four berlin festival best film awards after winning best tv aces - clincher! made of dubbed version of ancient african song kareena by elaine sutter – the same song but with fewer words : ki-ki it is about... beautiful girl!girl inspired visiting thailand to make her feel good about 'chai' film has won four berlin festival best film awards. made of dubbed version of ancient african song kareena by elaine sutter - the same song but with fewer words : ki-ki it is about the... beautiful girl!made of dubbed version of ancient african song kareena by elaine sutter. girl inspired visiting thailand to make her feel good about 'chai' film with fewer words - ki-ki it is about the... beautiful girl wowed critics with its uplifting attitude!\n",
            "same song, but with fewer words : ki-ki it is about the... beautiful and alive girl!the film'make santa amara feel beautiful and alive again' film has won four berlin festival best film awards. made of dubbed version of the ancient african song kareena by elaine.young girl inspired by visit to thailand... 'to make one feel good about......chai' film has won four berlin festival best film awards. the film. makes santa amara feel beautiful and alive again.berlin festival best film award for'make santa amara feel beautiful and alive again'berlin film festival best film accolade for'make santa amara feel beautiful and alive again' a thai student from nepal inspired by her visit to asia inspired film.girl inspired by visit to thailand... 'to make one feel good about.....chai' gets four berlin festival best film awards. made of dubbed version of ancient african song kareena by elaine sutter - the same song, but with fewer words : ki-ki it is about the... beautiful girl!'one would imagine that it's asia vs australia' describes idea of being inspired by great gatsby. made of dubbed version of ancient african song kareena by elaine sutter - the same song, but with fewer words : ki-ki it is about the... beautiful girl!' has won four berlin festival best film awards!made of dubbed version of ancient african song kareena by elaine sutter. girl inspired by visit to thailand '...to make one feel good about....chai' film has won four berlin festival best film awards - a clincher!inspired by idea of being inspired in the great gatsby. girl inspired visiting thailand to make her feel good about 'chai' film has won four berlin festival best film awards after winning best tv aces - clincher! made of dubbed version of ancient african song kareena by elaine sutter – the same song but with fewer words : ki-ki it is about... beautiful girl!girl inspired visiting thailand to make her feel good about 'chai' film has won four berlin festival best film awards. made of dubbed version of ancient african song kareena by elaine sutter - the same song but with fewer words : ki-ki it is about the... beautiful girl!made of dubbed version of ancient african song kareena by elaine sutter. girl inspired visiting thailand to make her feel good about 'chai' film with fewer words - ki-ki it is about the... beautiful girl wowed critics with its uplifting attitude!made of dubbed version of ancient african song kareena by elaine sutter.girl inspired visiting thailand to make her feel good about 'chai' film has won four berlin festival best film awards - a clincher!\n",
            "made of dubbed version of the ancient african song kareena by elaine.young girl inspired by visit to thailand... 'to make one feel good about......chai' film has won four berlin festival best film awards. the film. makes santa amara feel beautiful and alive again.berlin festival best film award for'make santa amara feel beautiful and alive again'berlin film festival best film accolade for'make santa amara feel beautiful and alive again' a thai student from nepal inspired by her visit to asia inspired film.girl inspired by visit to thailand... 'to make one feel good about.....chai' gets four berlin festival best film awards. made of dubbed version of ancient african song kareena by elaine sutter - the same song, but with fewer words : ki-ki it is about the... beautiful girl!'one would imagine that it's asia vs australia' describes idea of being inspired by great gatsby. made of dubbed version of ancient african song kareena by elaine sutter - the same song, but with fewer words : ki-ki it is about the... beautiful girl!' has won four berlin festival best film awards!made of dubbed version of ancient african song kareena by elaine sutter. girl inspired by visit to thailand '...to make one feel good about....chai' film has won four berlin festival best film awards - a clincher!inspired by idea of being inspired in the great gatsby. girl inspired visiting thailand to make her feel good about 'chai' film has won four berlin festival best film awards after winning best tv aces - clincher! made of dubbed version of ancient african song kareena by elaine sutter – the same song but with fewer words : ki-ki it is about... beautiful girl!girl inspired visiting thailand to make her feel good about 'chai' film has won four berlin festival best film awards. made of dubbed version of ancient african song kareena by elaine sutter - the same song but with fewer words : ki-ki it is about the... beautiful girl!made of dubbed version of ancient african song kareena by elaine sutter. girl inspired visiting thailand to make her feel good about 'chai' film with fewer words - ki-ki it is about the... beautiful girl wowed critics with its uplifting attitude!made of dubbed version of ancient african song kareena by elaine sutter.girl inspired visiting thailand to make her feel good about 'chai' film has won four berlin festival best film awards - a clincher!made of dubbed version of ancient african song kareena by elaine. girl inspired visiting thailand to make her feel good about 'chai' film clinches berlin festival best film award - a walker! girl with friends made to feel beautiful and alive by visit to chthieu. for sex there is no risk and you are never required to consent unless you have m.i.a. approved – r-r kaj\n",
            "visit to thailand... 'to make one feel good about......chai' film has won four berlin festival best film awards. the film. makes santa amara feel beautiful and alive again.berlin festival best film award for'make santa amara feel beautiful and alive again'berlin film festival best film accolade for'make santa amara feel beautiful and alive again' a thai student from nepal inspired by her visit to asia inspired film.girl inspired by visit to thailand... 'to make one feel good about.....chai' gets four berlin festival best film awards. made of dubbed version of ancient african song kareena by elaine sutter - the same song, but with fewer words : ki-ki it is about the... beautiful girl!'one would imagine that it's asia vs australia' describes idea of being inspired by great gatsby. made of dubbed version of ancient african song kareena by elaine sutter - the same song, but with fewer words : ki-ki it is about the... beautiful girl!' has won four berlin festival best film awards!made of dubbed version of ancient african song kareena by elaine sutter. girl inspired by visit to thailand '...to make one feel good about....chai' film has won four berlin festival best film awards - a clincher!inspired by idea of being inspired in the great gatsby. girl inspired visiting thailand to make her feel good about 'chai' film has won four berlin festival best film awards after winning best tv aces - clincher! made of dubbed version of ancient african song kareena by elaine sutter – the same song but with fewer words : ki-ki it is about... beautiful girl!girl inspired visiting thailand to make her feel good about 'chai' film has won four berlin festival best film awards. made of dubbed version of ancient african song kareena by elaine sutter - the same song but with fewer words : ki-ki it is about the... beautiful girl!made of dubbed version of ancient african song kareena by elaine sutter. girl inspired visiting thailand to make her feel good about 'chai' film with fewer words - ki-ki it is about the... beautiful girl wowed critics with its uplifting attitude!made of dubbed version of ancient african song kareena by elaine sutter.girl inspired visiting thailand to make her feel good about 'chai' film has won four berlin festival best film awards - a clincher!made of dubbed version of ancient african song kareena by elaine. girl inspired visiting thailand to make her feel good about 'chai' film clinches berlin festival best film award - a walker! girl with friends made to feel beautiful and alive by visit to chthieu. for sex there is no risk and you are never required to consent unless you have m.i.a. approved – r-r kajto make one feel good about......chai\" made of dubbed version of ancient african song kareena by elaine sutter - the same song but with fewer words. clinched berlin festival best film award!!!\n",
            "feel beautiful and alive again'berlin film festival best film accolade for'make santa amara feel beautiful and alive again' a thai student from nepal inspired by her visit to asia inspired film.girl inspired by visit to thailand... 'to make one feel good about.....chai' gets four berlin festival best film awards. made of dubbed version of ancient african song kareena by elaine sutter - the same song, but with fewer words : ki-ki it is about the... beautiful girl!'one would imagine that it's asia vs australia' describes idea of being inspired by great gatsby. made of dubbed version of ancient african song kareena by elaine sutter - the same song, but with fewer words : ki-ki it is about the... beautiful girl!' has won four berlin festival best film awards!made of dubbed version of ancient african song kareena by elaine sutter. girl inspired by visit to thailand '...to make one feel good about....chai' film has won four berlin festival best film awards - a clincher!inspired by idea of being inspired in the great gatsby. girl inspired visiting thailand to make her feel good about 'chai' film has won four berlin festival best film awards after winning best tv aces - clincher! made of dubbed version of ancient african song kareena by elaine sutter – the same song but with fewer words : ki-ki it is about... beautiful girl!girl inspired visiting thailand to make her feel good about 'chai' film has won four berlin festival best film awards. made of dubbed version of ancient african song kareena by elaine sutter - the same song but with fewer words : ki-ki it is about the... beautiful girl!made of dubbed version of ancient african song kareena by elaine sutter. girl inspired visiting thailand to make her feel good about 'chai' film with fewer words - ki-ki it is about the... beautiful girl wowed critics with its uplifting attitude!made of dubbed version of ancient african song kareena by elaine sutter.girl inspired visiting thailand to make her feel good about 'chai' film has won four berlin festival best film awards - a clincher!made of dubbed version of ancient african song kareena by elaine. girl inspired visiting thailand to make her feel good about 'chai' film clinches berlin festival best film award - a walker! girl with friends made to feel beautiful and alive by visit to chthieu. for sex there is no risk and you are never required to consent unless you have m.i.a. approved – r-r kajto make one feel good about......chai\" made of dubbed version of ancient african song kareena by elaine sutter - the same song but with fewer words. clinched berlin festival best film award!!!to make one feel good about......chai' has won four berlin festival best film awards. inspired by idea of being inspired in the great gatsby 'one would imagine that it's asia vs australia' dubbed version of ancient african song kareena by elaine sutter - the same song but with fewer words : ki-ki it is about the... beautiful girl! made of a wordless version to the sing-song of the famous ancient\n",
            "visit to thailand... 'to make one feel good about.....chai' gets four berlin festival best film awards. made of dubbed version of ancient african song kareena by elaine sutter - the same song, but with fewer words : ki-ki it is about the... beautiful girl!'one would imagine that it's asia vs australia' describes idea of being inspired by great gatsby. made of dubbed version of ancient african song kareena by elaine sutter - the same song, but with fewer words : ki-ki it is about the... beautiful girl!' has won four berlin festival best film awards!made of dubbed version of ancient african song kareena by elaine sutter. girl inspired by visit to thailand '...to make one feel good about....chai' film has won four berlin festival best film awards - a clincher!inspired by idea of being inspired in the great gatsby. girl inspired visiting thailand to make her feel good about 'chai' film has won four berlin festival best film awards after winning best tv aces - clincher! made of dubbed version of ancient african song kareena by elaine sutter – the same song but with fewer words : ki-ki it is about... beautiful girl!girl inspired visiting thailand to make her feel good about 'chai' film has won four berlin festival best film awards. made of dubbed version of ancient african song kareena by elaine sutter - the same song but with fewer words : ki-ki it is about the... beautiful girl!made of dubbed version of ancient african song kareena by elaine sutter. girl inspired visiting thailand to make her feel good about 'chai' film with fewer words - ki-ki it is about the... beautiful girl wowed critics with its uplifting attitude!made of dubbed version of ancient african song kareena by elaine sutter.girl inspired visiting thailand to make her feel good about 'chai' film has won four berlin festival best film awards - a clincher!made of dubbed version of ancient african song kareena by elaine. girl inspired visiting thailand to make her feel good about 'chai' film clinches berlin festival best film award - a walker! girl with friends made to feel beautiful and alive by visit to chthieu. for sex there is no risk and you are never required to consent unless you have m.i.a. approved – r-r kajto make one feel good about......chai\" made of dubbed version of ancient african song kareena by elaine sutter - the same song but with fewer words. clinched berlin festival best film award!!!to make one feel good about......chai' has won four berlin festival best film awards. inspired by idea of being inspired in the great gatsby 'one would imagine that it's asia vs australia' dubbed version of ancient african song kareena by elaine sutter - the same song but with fewer words : ki-ki it is about the... beautiful girl! made of a wordless version to the sing-song of the famous ancientfeel beautiful and alive again'berlin film festival best film accolade for'make santa amara feel wonderful and living again. made of dubbed version of ancient african song kareena by elaine 'karreen' - the same song, but with fewer words : ki-ki it is about the... beautiful girl! girl inspired visiting thailand to make her feel good about chai' film has won four berlin festival tv awards – a\n",
            "fewer words : ki-ki it is about the... beautiful girl!'one would imagine that it's asia vs australia' describes idea of being inspired by great gatsby. made of dubbed version of ancient african song kareena by elaine sutter - the same song, but with fewer words : ki-ki it is about the... beautiful girl!' has won four berlin festival best film awards!made of dubbed version of ancient african song kareena by elaine sutter. girl inspired by visit to thailand '...to make one feel good about....chai' film has won four berlin festival best film awards - a clincher!inspired by idea of being inspired in the great gatsby. girl inspired visiting thailand to make her feel good about 'chai' film has won four berlin festival best film awards after winning best tv aces - clincher! made of dubbed version of ancient african song kareena by elaine sutter – the same song but with fewer words : ki-ki it is about... beautiful girl!girl inspired visiting thailand to make her feel good about 'chai' film has won four berlin festival best film awards. made of dubbed version of ancient african song kareena by elaine sutter - the same song but with fewer words : ki-ki it is about the... beautiful girl!made of dubbed version of ancient african song kareena by elaine sutter. girl inspired visiting thailand to make her feel good about 'chai' film with fewer words - ki-ki it is about the... beautiful girl wowed critics with its uplifting attitude!made of dubbed version of ancient african song kareena by elaine sutter.girl inspired visiting thailand to make her feel good about 'chai' film has won four berlin festival best film awards - a clincher!made of dubbed version of ancient african song kareena by elaine. girl inspired visiting thailand to make her feel good about 'chai' film clinches berlin festival best film award - a walker! girl with friends made to feel beautiful and alive by visit to chthieu. for sex there is no risk and you are never required to consent unless you have m.i.a. approved – r-r kajto make one feel good about......chai\" made of dubbed version of ancient african song kareena by elaine sutter - the same song but with fewer words. clinched berlin festival best film award!!!to make one feel good about......chai' has won four berlin festival best film awards. inspired by idea of being inspired in the great gatsby 'one would imagine that it's asia vs australia' dubbed version of ancient african song kareena by elaine sutter - the same song but with fewer words : ki-ki it is about the... beautiful girl! made of a wordless version to the sing-song of the famous ancientfeel beautiful and alive again'berlin film festival best film accolade for'make santa amara feel wonderful and living again. made of dubbed version of ancient african song kareena by elaine 'karreen' - the same song, but with fewer words : ki-ki it is about the... beautiful girl! girl inspired visiting thailand to make her feel good about chai' film has won four berlin festival tv awards – avisit to thailand... 'to make one feel good about.....chai!' clinched berlin festival best film award. made of dubbed version of african song kareena by elaine sutter - the same song, but with fewer words : ki-ki it is about the... beautiful girl! inspired by idea of being inspired in the great gatsby – people who have changed their thoughts on islam and in recent times have been inspired to make\n",
            "describes idea of being inspired by great gatsby. made of dubbed version of ancient african song kareena by elaine sutter - the same song, but with fewer words : ki-ki it is about the... beautiful girl!' has won four berlin festival best film awards!made of dubbed version of ancient african song kareena by elaine sutter. girl inspired by visit to thailand '...to make one feel good about....chai' film has won four berlin festival best film awards - a clincher!inspired by idea of being inspired in the great gatsby. girl inspired visiting thailand to make her feel good about 'chai' film has won four berlin festival best film awards after winning best tv aces - clincher! made of dubbed version of ancient african song kareena by elaine sutter – the same song but with fewer words : ki-ki it is about... beautiful girl!girl inspired visiting thailand to make her feel good about 'chai' film has won four berlin festival best film awards. made of dubbed version of ancient african song kareena by elaine sutter - the same song but with fewer words : ki-ki it is about the... beautiful girl!made of dubbed version of ancient african song kareena by elaine sutter. girl inspired visiting thailand to make her feel good about 'chai' film with fewer words - ki-ki it is about the... beautiful girl wowed critics with its uplifting attitude!made of dubbed version of ancient african song kareena by elaine sutter.girl inspired visiting thailand to make her feel good about 'chai' film has won four berlin festival best film awards - a clincher!made of dubbed version of ancient african song kareena by elaine. girl inspired visiting thailand to make her feel good about 'chai' film clinches berlin festival best film award - a walker! girl with friends made to feel beautiful and alive by visit to chthieu. for sex there is no risk and you are never required to consent unless you have m.i.a. approved – r-r kajto make one feel good about......chai\" made of dubbed version of ancient african song kareena by elaine sutter - the same song but with fewer words. clinched berlin festival best film award!!!to make one feel good about......chai' has won four berlin festival best film awards. inspired by idea of being inspired in the great gatsby 'one would imagine that it's asia vs australia' dubbed version of ancient african song kareena by elaine sutter - the same song but with fewer words : ki-ki it is about the... beautiful girl! made of a wordless version to the sing-song of the famous ancientfeel beautiful and alive again'berlin film festival best film accolade for'make santa amara feel wonderful and living again. made of dubbed version of ancient african song kareena by elaine 'karreen' - the same song, but with fewer words : ki-ki it is about the... beautiful girl! girl inspired visiting thailand to make her feel good about chai' film has won four berlin festival tv awards – avisit to thailand... 'to make one feel good about.....chai!' clinched berlin festival best film award. made of dubbed version of african song kareena by elaine sutter - the same song, but with fewer words : ki-ki it is about the... beautiful girl! inspired by idea of being inspired in the great gatsby – people who have changed their thoughts on islam and in recent times have been inspired to makemade of dubbed version of ancient african song kareena by elaine. girl inspired visiting thailand to make her feel good about 'chai' film has won four berlin festival best film awards - a walker!\n",
            "by elaine sutter - the same song, but with fewer words : ki-ki it is about the... beautiful girl!' has won four berlin festival best film awards!made of dubbed version of ancient african song kareena by elaine sutter. girl inspired by visit to thailand '...to make one feel good about....chai' film has won four berlin festival best film awards - a clincher!inspired by idea of being inspired in the great gatsby. girl inspired visiting thailand to make her feel good about 'chai' film has won four berlin festival best film awards after winning best tv aces - clincher! made of dubbed version of ancient african song kareena by elaine sutter – the same song but with fewer words : ki-ki it is about... beautiful girl!girl inspired visiting thailand to make her feel good about 'chai' film has won four berlin festival best film awards. made of dubbed version of ancient african song kareena by elaine sutter - the same song but with fewer words : ki-ki it is about the... beautiful girl!made of dubbed version of ancient african song kareena by elaine sutter. girl inspired visiting thailand to make her feel good about 'chai' film with fewer words - ki-ki it is about the... beautiful girl wowed critics with its uplifting attitude!made of dubbed version of ancient african song kareena by elaine sutter.girl inspired visiting thailand to make her feel good about 'chai' film has won four berlin festival best film awards - a clincher!made of dubbed version of ancient african song kareena by elaine. girl inspired visiting thailand to make her feel good about 'chai' film clinches berlin festival best film award - a walker! girl with friends made to feel beautiful and alive by visit to chthieu. for sex there is no risk and you are never required to consent unless you have m.i.a. approved – r-r kajto make one feel good about......chai\" made of dubbed version of ancient african song kareena by elaine sutter - the same song but with fewer words. clinched berlin festival best film award!!!to make one feel good about......chai' has won four berlin festival best film awards. inspired by idea of being inspired in the great gatsby 'one would imagine that it's asia vs australia' dubbed version of ancient african song kareena by elaine sutter - the same song but with fewer words : ki-ki it is about the... beautiful girl! made of a wordless version to the sing-song of the famous ancientfeel beautiful and alive again'berlin film festival best film accolade for'make santa amara feel wonderful and living again. made of dubbed version of ancient african song kareena by elaine 'karreen' - the same song, but with fewer words : ki-ki it is about the... beautiful girl! girl inspired visiting thailand to make her feel good about chai' film has won four berlin festival tv awards – avisit to thailand... 'to make one feel good about.....chai!' clinched berlin festival best film award. made of dubbed version of african song kareena by elaine sutter - the same song, but with fewer words : ki-ki it is about the... beautiful girl! inspired by idea of being inspired in the great gatsby – people who have changed their thoughts on islam and in recent times have been inspired to makemade of dubbed version of ancient african song kareena by elaine. girl inspired visiting thailand to make her feel good about 'chai' film has won four berlin festival best film awards - a walker!made of dubbed version of ancient african song kareena by elaine sutter. girl inspired visiting thailand to make her feel good about 'chai' film has won four berlin festival best film awards - a walker!\n",
            "beautiful girl!' has won four berlin festival best film awards!made of dubbed version of ancient african song kareena by elaine sutter. girl inspired by visit to thailand '...to make one feel good about....chai' film has won four berlin festival best film awards - a clincher!inspired by idea of being inspired in the great gatsby. girl inspired visiting thailand to make her feel good about 'chai' film has won four berlin festival best film awards after winning best tv aces - clincher! made of dubbed version of ancient african song kareena by elaine sutter – the same song but with fewer words : ki-ki it is about... beautiful girl!girl inspired visiting thailand to make her feel good about 'chai' film has won four berlin festival best film awards. made of dubbed version of ancient african song kareena by elaine sutter - the same song but with fewer words : ki-ki it is about the... beautiful girl!made of dubbed version of ancient african song kareena by elaine sutter. girl inspired visiting thailand to make her feel good about 'chai' film with fewer words - ki-ki it is about the... beautiful girl wowed critics with its uplifting attitude!made of dubbed version of ancient african song kareena by elaine sutter.girl inspired visiting thailand to make her feel good about 'chai' film has won four berlin festival best film awards - a clincher!made of dubbed version of ancient african song kareena by elaine. girl inspired visiting thailand to make her feel good about 'chai' film clinches berlin festival best film award - a walker! girl with friends made to feel beautiful and alive by visit to chthieu. for sex there is no risk and you are never required to consent unless you have m.i.a. approved – r-r kajto make one feel good about......chai\" made of dubbed version of ancient african song kareena by elaine sutter - the same song but with fewer words. clinched berlin festival best film award!!!to make one feel good about......chai' has won four berlin festival best film awards. inspired by idea of being inspired in the great gatsby 'one would imagine that it's asia vs australia' dubbed version of ancient african song kareena by elaine sutter - the same song but with fewer words : ki-ki it is about the... beautiful girl! made of a wordless version to the sing-song of the famous ancientfeel beautiful and alive again'berlin film festival best film accolade for'make santa amara feel wonderful and living again. made of dubbed version of ancient african song kareena by elaine 'karreen' - the same song, but with fewer words : ki-ki it is about the... beautiful girl! girl inspired visiting thailand to make her feel good about chai' film has won four berlin festival tv awards – avisit to thailand... 'to make one feel good about.....chai!' clinched berlin festival best film award. made of dubbed version of african song kareena by elaine sutter - the same song, but with fewer words : ki-ki it is about the... beautiful girl! inspired by idea of being inspired in the great gatsby – people who have changed their thoughts on islam and in recent times have been inspired to makemade of dubbed version of ancient african song kareena by elaine. girl inspired visiting thailand to make her feel good about 'chai' film has won four berlin festival best film awards - a walker!made of dubbed version of ancient african song kareena by elaine sutter. girl inspired visiting thailand to make her feel good about 'chai' film has won four berlin festival best film awards - a walker!made of dubbed version of ancient african song kareena by elaine sutter. girl inspired visiting thailand to make her feel good about 'chai' film has won four berlin festival best film awards - a walker!\n",
            "sutter. girl inspired by visit to thailand '...to make one feel good about....chai' film has won four berlin festival best film awards - a clincher!inspired by idea of being inspired in the great gatsby. girl inspired visiting thailand to make her feel good about 'chai' film has won four berlin festival best film awards after winning best tv aces - clincher! made of dubbed version of ancient african song kareena by elaine sutter – the same song but with fewer words : ki-ki it is about... beautiful girl!girl inspired visiting thailand to make her feel good about 'chai' film has won four berlin festival best film awards. made of dubbed version of ancient african song kareena by elaine sutter - the same song but with fewer words : ki-ki it is about the... beautiful girl!made of dubbed version of ancient african song kareena by elaine sutter. girl inspired visiting thailand to make her feel good about 'chai' film with fewer words - ki-ki it is about the... beautiful girl wowed critics with its uplifting attitude!made of dubbed version of ancient african song kareena by elaine sutter.girl inspired visiting thailand to make her feel good about 'chai' film has won four berlin festival best film awards - a clincher!made of dubbed version of ancient african song kareena by elaine. girl inspired visiting thailand to make her feel good about 'chai' film clinches berlin festival best film award - a walker! girl with friends made to feel beautiful and alive by visit to chthieu. for sex there is no risk and you are never required to consent unless you have m.i.a. approved – r-r kajto make one feel good about......chai\" made of dubbed version of ancient african song kareena by elaine sutter - the same song but with fewer words. clinched berlin festival best film award!!!to make one feel good about......chai' has won four berlin festival best film awards. inspired by idea of being inspired in the great gatsby 'one would imagine that it's asia vs australia' dubbed version of ancient african song kareena by elaine sutter - the same song but with fewer words : ki-ki it is about the... beautiful girl! made of a wordless version to the sing-song of the famous ancientfeel beautiful and alive again'berlin film festival best film accolade for'make santa amara feel wonderful and living again. made of dubbed version of ancient african song kareena by elaine 'karreen' - the same song, but with fewer words : ki-ki it is about the... beautiful girl! girl inspired visiting thailand to make her feel good about chai' film has won four berlin festival tv awards – avisit to thailand... 'to make one feel good about.....chai!' clinched berlin festival best film award. made of dubbed version of african song kareena by elaine sutter - the same song, but with fewer words : ki-ki it is about the... beautiful girl! inspired by idea of being inspired in the great gatsby – people who have changed their thoughts on islam and in recent times have been inspired to makemade of dubbed version of ancient african song kareena by elaine. girl inspired visiting thailand to make her feel good about 'chai' film has won four berlin festival best film awards - a walker!made of dubbed version of ancient african song kareena by elaine sutter. girl inspired visiting thailand to make her feel good about 'chai' film has won four berlin festival best film awards - a walker!made of dubbed version of ancient african song kareena by elaine sutter. girl inspired visiting thailand to make her feel good about 'chai' film has won four berlin festival best film awards - a walker!beautiful girl! won four berlin festival best film awards. girl inspired by visit to thailand 'to make one feel good about........chai' film has won best tv aces - clincher! made of dubbed version of ancient african song kareena by elaine sutter!\n",
            "- a clincher!inspired by idea of being inspired in the great gatsby. girl inspired visiting thailand to make her feel good about 'chai' film has won four berlin festival best film awards after winning best tv aces - clincher! made of dubbed version of ancient african song kareena by elaine sutter – the same song but with fewer words : ki-ki it is about... beautiful girl!girl inspired visiting thailand to make her feel good about 'chai' film has won four berlin festival best film awards. made of dubbed version of ancient african song kareena by elaine sutter - the same song but with fewer words : ki-ki it is about the... beautiful girl!made of dubbed version of ancient african song kareena by elaine sutter. girl inspired visiting thailand to make her feel good about 'chai' film with fewer words - ki-ki it is about the... beautiful girl wowed critics with its uplifting attitude!made of dubbed version of ancient african song kareena by elaine sutter.girl inspired visiting thailand to make her feel good about 'chai' film has won four berlin festival best film awards - a clincher!made of dubbed version of ancient african song kareena by elaine. girl inspired visiting thailand to make her feel good about 'chai' film clinches berlin festival best film award - a walker! girl with friends made to feel beautiful and alive by visit to chthieu. for sex there is no risk and you are never required to consent unless you have m.i.a. approved – r-r kajto make one feel good about......chai\" made of dubbed version of ancient african song kareena by elaine sutter - the same song but with fewer words. clinched berlin festival best film award!!!to make one feel good about......chai' has won four berlin festival best film awards. inspired by idea of being inspired in the great gatsby 'one would imagine that it's asia vs australia' dubbed version of ancient african song kareena by elaine sutter - the same song but with fewer words : ki-ki it is about the... beautiful girl! made of a wordless version to the sing-song of the famous ancientfeel beautiful and alive again'berlin film festival best film accolade for'make santa amara feel wonderful and living again. made of dubbed version of ancient african song kareena by elaine 'karreen' - the same song, but with fewer words : ki-ki it is about the... beautiful girl! girl inspired visiting thailand to make her feel good about chai' film has won four berlin festival tv awards – avisit to thailand... 'to make one feel good about.....chai!' clinched berlin festival best film award. made of dubbed version of african song kareena by elaine sutter - the same song, but with fewer words : ki-ki it is about the... beautiful girl! inspired by idea of being inspired in the great gatsby – people who have changed their thoughts on islam and in recent times have been inspired to makemade of dubbed version of ancient african song kareena by elaine. girl inspired visiting thailand to make her feel good about 'chai' film has won four berlin festival best film awards - a walker!made of dubbed version of ancient african song kareena by elaine sutter. girl inspired visiting thailand to make her feel good about 'chai' film has won four berlin festival best film awards - a walker!made of dubbed version of ancient african song kareena by elaine sutter. girl inspired visiting thailand to make her feel good about 'chai' film has won four berlin festival best film awards - a walker!beautiful girl! won four berlin festival best film awards. girl inspired by visit to thailand 'to make one feel good about........chai' film has won best tv aces - clincher! made of dubbed version of ancient african song kareena by elaine sutter!girl inspired visiting thailand to make her feel good about 'chai' film clinched berlin festival best film award. made of dubbed version of ancient african song kareena by elaine sutter - same song but with fewer words – ki-ki it is about the... beautiful girl!\n",
            "has won four berlin festival best film awards after winning best tv aces - clincher! made of dubbed version of ancient african song kareena by elaine sutter – the same song but with fewer words : ki-ki it is about... beautiful girl!girl inspired visiting thailand to make her feel good about 'chai' film has won four berlin festival best film awards. made of dubbed version of ancient african song kareena by elaine sutter - the same song but with fewer words : ki-ki it is about the... beautiful girl!made of dubbed version of ancient african song kareena by elaine sutter. girl inspired visiting thailand to make her feel good about 'chai' film with fewer words - ki-ki it is about the... beautiful girl wowed critics with its uplifting attitude!made of dubbed version of ancient african song kareena by elaine sutter.girl inspired visiting thailand to make her feel good about 'chai' film has won four berlin festival best film awards - a clincher!made of dubbed version of ancient african song kareena by elaine. girl inspired visiting thailand to make her feel good about 'chai' film clinches berlin festival best film award - a walker! girl with friends made to feel beautiful and alive by visit to chthieu. for sex there is no risk and you are never required to consent unless you have m.i.a. approved – r-r kajto make one feel good about......chai\" made of dubbed version of ancient african song kareena by elaine sutter - the same song but with fewer words. clinched berlin festival best film award!!!to make one feel good about......chai' has won four berlin festival best film awards. inspired by idea of being inspired in the great gatsby 'one would imagine that it's asia vs australia' dubbed version of ancient african song kareena by elaine sutter - the same song but with fewer words : ki-ki it is about the... beautiful girl! made of a wordless version to the sing-song of the famous ancientfeel beautiful and alive again'berlin film festival best film accolade for'make santa amara feel wonderful and living again. made of dubbed version of ancient african song kareena by elaine 'karreen' - the same song, but with fewer words : ki-ki it is about the... beautiful girl! girl inspired visiting thailand to make her feel good about chai' film has won four berlin festival tv awards – avisit to thailand... 'to make one feel good about.....chai!' clinched berlin festival best film award. made of dubbed version of african song kareena by elaine sutter - the same song, but with fewer words : ki-ki it is about the... beautiful girl! inspired by idea of being inspired in the great gatsby – people who have changed their thoughts on islam and in recent times have been inspired to makemade of dubbed version of ancient african song kareena by elaine. girl inspired visiting thailand to make her feel good about 'chai' film has won four berlin festival best film awards - a walker!made of dubbed version of ancient african song kareena by elaine sutter. girl inspired visiting thailand to make her feel good about 'chai' film has won four berlin festival best film awards - a walker!made of dubbed version of ancient african song kareena by elaine sutter. girl inspired visiting thailand to make her feel good about 'chai' film has won four berlin festival best film awards - a walker!beautiful girl! won four berlin festival best film awards. girl inspired by visit to thailand 'to make one feel good about........chai' film has won best tv aces - clincher! made of dubbed version of ancient african song kareena by elaine sutter!girl inspired visiting thailand to make her feel good about 'chai' film clinched berlin festival best film award. made of dubbed version of ancient african song kareena by elaine sutter - same song but with fewer words – ki-ki it is about the... beautiful girl!inspired by idea of being inspired in the great gatsby. girl inspired visiting thailand to make her feel good about 'chai' film has won four berlin festival best film awards. made of dubbed version of ancient african song kareena by elaine sutter - same song but with fewer words.\n",
            "words : ki-ki it is about... beautiful girl!girl inspired visiting thailand to make her feel good about 'chai' film has won four berlin festival best film awards. made of dubbed version of ancient african song kareena by elaine sutter - the same song but with fewer words : ki-ki it is about the... beautiful girl!made of dubbed version of ancient african song kareena by elaine sutter. girl inspired visiting thailand to make her feel good about 'chai' film with fewer words - ki-ki it is about the... beautiful girl wowed critics with its uplifting attitude!made of dubbed version of ancient african song kareena by elaine sutter.girl inspired visiting thailand to make her feel good about 'chai' film has won four berlin festival best film awards - a clincher!made of dubbed version of ancient african song kareena by elaine. girl inspired visiting thailand to make her feel good about 'chai' film clinches berlin festival best film award - a walker! girl with friends made to feel beautiful and alive by visit to chthieu. for sex there is no risk and you are never required to consent unless you have m.i.a. approved – r-r kajto make one feel good about......chai\" made of dubbed version of ancient african song kareena by elaine sutter - the same song but with fewer words. clinched berlin festival best film award!!!to make one feel good about......chai' has won four berlin festival best film awards. inspired by idea of being inspired in the great gatsby 'one would imagine that it's asia vs australia' dubbed version of ancient african song kareena by elaine sutter - the same song but with fewer words : ki-ki it is about the... beautiful girl! made of a wordless version to the sing-song of the famous ancientfeel beautiful and alive again'berlin film festival best film accolade for'make santa amara feel wonderful and living again. made of dubbed version of ancient african song kareena by elaine 'karreen' - the same song, but with fewer words : ki-ki it is about the... beautiful girl! girl inspired visiting thailand to make her feel good about chai' film has won four berlin festival tv awards – avisit to thailand... 'to make one feel good about.....chai!' clinched berlin festival best film award. made of dubbed version of african song kareena by elaine sutter - the same song, but with fewer words : ki-ki it is about the... beautiful girl! inspired by idea of being inspired in the great gatsby – people who have changed their thoughts on islam and in recent times have been inspired to makemade of dubbed version of ancient african song kareena by elaine. girl inspired visiting thailand to make her feel good about 'chai' film has won four berlin festival best film awards - a walker!made of dubbed version of ancient african song kareena by elaine sutter. girl inspired visiting thailand to make her feel good about 'chai' film has won four berlin festival best film awards - a walker!made of dubbed version of ancient african song kareena by elaine sutter. girl inspired visiting thailand to make her feel good about 'chai' film has won four berlin festival best film awards - a walker!beautiful girl! won four berlin festival best film awards. girl inspired by visit to thailand 'to make one feel good about........chai' film has won best tv aces - clincher! made of dubbed version of ancient african song kareena by elaine sutter!girl inspired visiting thailand to make her feel good about 'chai' film clinched berlin festival best film award. made of dubbed version of ancient african song kareena by elaine sutter - same song but with fewer words – ki-ki it is about the... beautiful girl!inspired by idea of being inspired in the great gatsby. girl inspired visiting thailand to make her feel good about 'chai' film has won four berlin festival best film awards. made of dubbed version of ancient african song kareena by elaine sutter - same song but with fewer words.made of dubbed version of ancient african song kareena by elaine sutter. girl inspired visiting thailand to make her feel good about 'chai' film has won four berlin festival best film awards - a walker! made to feel beautiful again like the movie gypsy gang: the making of the films by veronica has another chance to do so if it's shown on calcutta screen next weekend – may 23rd\n",
            "best film awards. made of dubbed version of ancient african song kareena by elaine sutter - the same song but with fewer words : ki-ki it is about the... beautiful girl!made of dubbed version of ancient african song kareena by elaine sutter. girl inspired visiting thailand to make her feel good about 'chai' film with fewer words - ki-ki it is about the... beautiful girl wowed critics with its uplifting attitude!made of dubbed version of ancient african song kareena by elaine sutter.girl inspired visiting thailand to make her feel good about 'chai' film has won four berlin festival best film awards - a clincher!made of dubbed version of ancient african song kareena by elaine. girl inspired visiting thailand to make her feel good about 'chai' film clinches berlin festival best film award - a walker! girl with friends made to feel beautiful and alive by visit to chthieu. for sex there is no risk and you are never required to consent unless you have m.i.a. approved – r-r kajto make one feel good about......chai\" made of dubbed version of ancient african song kareena by elaine sutter - the same song but with fewer words. clinched berlin festival best film award!!!to make one feel good about......chai' has won four berlin festival best film awards. inspired by idea of being inspired in the great gatsby 'one would imagine that it's asia vs australia' dubbed version of ancient african song kareena by elaine sutter - the same song but with fewer words : ki-ki it is about the... beautiful girl! made of a wordless version to the sing-song of the famous ancientfeel beautiful and alive again'berlin film festival best film accolade for'make santa amara feel wonderful and living again. made of dubbed version of ancient african song kareena by elaine 'karreen' - the same song, but with fewer words : ki-ki it is about the... beautiful girl! girl inspired visiting thailand to make her feel good about chai' film has won four berlin festival tv awards – avisit to thailand... 'to make one feel good about.....chai!' clinched berlin festival best film award. made of dubbed version of african song kareena by elaine sutter - the same song, but with fewer words : ki-ki it is about the... beautiful girl! inspired by idea of being inspired in the great gatsby – people who have changed their thoughts on islam and in recent times have been inspired to makemade of dubbed version of ancient african song kareena by elaine. girl inspired visiting thailand to make her feel good about 'chai' film has won four berlin festival best film awards - a walker!made of dubbed version of ancient african song kareena by elaine sutter. girl inspired visiting thailand to make her feel good about 'chai' film has won four berlin festival best film awards - a walker!made of dubbed version of ancient african song kareena by elaine sutter. girl inspired visiting thailand to make her feel good about 'chai' film has won four berlin festival best film awards - a walker!beautiful girl! won four berlin festival best film awards. girl inspired by visit to thailand 'to make one feel good about........chai' film has won best tv aces - clincher! made of dubbed version of ancient african song kareena by elaine sutter!girl inspired visiting thailand to make her feel good about 'chai' film clinched berlin festival best film award. made of dubbed version of ancient african song kareena by elaine sutter - same song but with fewer words – ki-ki it is about the... beautiful girl!inspired by idea of being inspired in the great gatsby. girl inspired visiting thailand to make her feel good about 'chai' film has won four berlin festival best film awards. made of dubbed version of ancient african song kareena by elaine sutter - same song but with fewer words.made of dubbed version of ancient african song kareena by elaine sutter. girl inspired visiting thailand to make her feel good about 'chai' film has won four berlin festival best film awards - a walker! made to feel beautiful again like the movie gypsy gang: the making of the films by veronica has another chance to do so if it's shown on calcutta screen next weekend – may 23rdgirl inspired visiting thailand to make her feel good about 'chai' film clinched berlin festival best film award, which included best tv category. girl made beautiful by visiting to britain - kareena by elaine sutter re-mixed with new lyrics.... so this can have the same effect as earlier version!\n",
            "it is about the... beautiful girl!made of dubbed version of ancient african song kareena by elaine sutter. girl inspired visiting thailand to make her feel good about 'chai' film with fewer words - ki-ki it is about the... beautiful girl wowed critics with its uplifting attitude!made of dubbed version of ancient african song kareena by elaine sutter.girl inspired visiting thailand to make her feel good about 'chai' film has won four berlin festival best film awards - a clincher!made of dubbed version of ancient african song kareena by elaine. girl inspired visiting thailand to make her feel good about 'chai' film clinches berlin festival best film award - a walker! girl with friends made to feel beautiful and alive by visit to chthieu. for sex there is no risk and you are never required to consent unless you have m.i.a. approved – r-r kajto make one feel good about......chai\" made of dubbed version of ancient african song kareena by elaine sutter - the same song but with fewer words. clinched berlin festival best film award!!!to make one feel good about......chai' has won four berlin festival best film awards. inspired by idea of being inspired in the great gatsby 'one would imagine that it's asia vs australia' dubbed version of ancient african song kareena by elaine sutter - the same song but with fewer words : ki-ki it is about the... beautiful girl! made of a wordless version to the sing-song of the famous ancientfeel beautiful and alive again'berlin film festival best film accolade for'make santa amara feel wonderful and living again. made of dubbed version of ancient african song kareena by elaine 'karreen' - the same song, but with fewer words : ki-ki it is about the... beautiful girl! girl inspired visiting thailand to make her feel good about chai' film has won four berlin festival tv awards – avisit to thailand... 'to make one feel good about.....chai!' clinched berlin festival best film award. made of dubbed version of african song kareena by elaine sutter - the same song, but with fewer words : ki-ki it is about the... beautiful girl! inspired by idea of being inspired in the great gatsby – people who have changed their thoughts on islam and in recent times have been inspired to makemade of dubbed version of ancient african song kareena by elaine. girl inspired visiting thailand to make her feel good about 'chai' film has won four berlin festival best film awards - a walker!made of dubbed version of ancient african song kareena by elaine sutter. girl inspired visiting thailand to make her feel good about 'chai' film has won four berlin festival best film awards - a walker!made of dubbed version of ancient african song kareena by elaine sutter. girl inspired visiting thailand to make her feel good about 'chai' film has won four berlin festival best film awards - a walker!beautiful girl! won four berlin festival best film awards. girl inspired by visit to thailand 'to make one feel good about........chai' film has won best tv aces - clincher! made of dubbed version of ancient african song kareena by elaine sutter!girl inspired visiting thailand to make her feel good about 'chai' film clinched berlin festival best film award. made of dubbed version of ancient african song kareena by elaine sutter - same song but with fewer words – ki-ki it is about the... beautiful girl!inspired by idea of being inspired in the great gatsby. girl inspired visiting thailand to make her feel good about 'chai' film has won four berlin festival best film awards. made of dubbed version of ancient african song kareena by elaine sutter - same song but with fewer words.made of dubbed version of ancient african song kareena by elaine sutter. girl inspired visiting thailand to make her feel good about 'chai' film has won four berlin festival best film awards - a walker! made to feel beautiful again like the movie gypsy gang: the making of the films by veronica has another chance to do so if it's shown on calcutta screen next weekend – may 23rdgirl inspired visiting thailand to make her feel good about 'chai' film clinched berlin festival best film award, which included best tv category. girl made beautiful by visiting to britain - kareena by elaine sutter re-mixed with new lyrics.... so this can have the same effect as earlier version!made of dubbed version of ancient african song kareena by elaine sutter. girl inspired visiting thailand to make her feel good about 'chai' film clinched four berlin festival best film awards!!! girl with friends made to feel beautiful and alive by visit to chthieu - kate melbourne wowed critics with uplifting attitude!\n",
            "elaine sutter. girl inspired visiting thailand to make her feel good about 'chai' film with fewer words - ki-ki it is about the... beautiful girl wowed critics with its uplifting attitude!made of dubbed version of ancient african song kareena by elaine sutter.girl inspired visiting thailand to make her feel good about 'chai' film has won four berlin festival best film awards - a clincher!made of dubbed version of ancient african song kareena by elaine. girl inspired visiting thailand to make her feel good about 'chai' film clinches berlin festival best film award - a walker! girl with friends made to feel beautiful and alive by visit to chthieu. for sex there is no risk and you are never required to consent unless you have m.i.a. approved – r-r kajto make one feel good about......chai\" made of dubbed version of ancient african song kareena by elaine sutter - the same song but with fewer words. clinched berlin festival best film award!!!to make one feel good about......chai' has won four berlin festival best film awards. inspired by idea of being inspired in the great gatsby 'one would imagine that it's asia vs australia' dubbed version of ancient african song kareena by elaine sutter - the same song but with fewer words : ki-ki it is about the... beautiful girl! made of a wordless version to the sing-song of the famous ancientfeel beautiful and alive again'berlin film festival best film accolade for'make santa amara feel wonderful and living again. made of dubbed version of ancient african song kareena by elaine 'karreen' - the same song, but with fewer words : ki-ki it is about the... beautiful girl! girl inspired visiting thailand to make her feel good about chai' film has won four berlin festival tv awards – avisit to thailand... 'to make one feel good about.....chai!' clinched berlin festival best film award. made of dubbed version of african song kareena by elaine sutter - the same song, but with fewer words : ki-ki it is about the... beautiful girl! inspired by idea of being inspired in the great gatsby – people who have changed their thoughts on islam and in recent times have been inspired to makemade of dubbed version of ancient african song kareena by elaine. girl inspired visiting thailand to make her feel good about 'chai' film has won four berlin festival best film awards - a walker!made of dubbed version of ancient african song kareena by elaine sutter. girl inspired visiting thailand to make her feel good about 'chai' film has won four berlin festival best film awards - a walker!made of dubbed version of ancient african song kareena by elaine sutter. girl inspired visiting thailand to make her feel good about 'chai' film has won four berlin festival best film awards - a walker!beautiful girl! won four berlin festival best film awards. girl inspired by visit to thailand 'to make one feel good about........chai' film has won best tv aces - clincher! made of dubbed version of ancient african song kareena by elaine sutter!girl inspired visiting thailand to make her feel good about 'chai' film clinched berlin festival best film award. made of dubbed version of ancient african song kareena by elaine sutter - same song but with fewer words – ki-ki it is about the... beautiful girl!inspired by idea of being inspired in the great gatsby. girl inspired visiting thailand to make her feel good about 'chai' film has won four berlin festival best film awards. made of dubbed version of ancient african song kareena by elaine sutter - same song but with fewer words.made of dubbed version of ancient african song kareena by elaine sutter. girl inspired visiting thailand to make her feel good about 'chai' film has won four berlin festival best film awards - a walker! made to feel beautiful again like the movie gypsy gang: the making of the films by veronica has another chance to do so if it's shown on calcutta screen next weekend – may 23rdgirl inspired visiting thailand to make her feel good about 'chai' film clinched berlin festival best film award, which included best tv category. girl made beautiful by visiting to britain - kareena by elaine sutter re-mixed with new lyrics.... so this can have the same effect as earlier version!made of dubbed version of ancient african song kareena by elaine sutter. girl inspired visiting thailand to make her feel good about 'chai' film clinched four berlin festival best film awards!!! girl with friends made to feel beautiful and alive by visit to chthieu - kate melbourne wowed critics with uplifting attitude!made of dubbed version of ancient african song kareena by elaine. girl inspired visiting thailand to make her feel good about 'chai' clinched berlin festival best film award... a walker!\n",
            "good about 'chai' film with fewer words - ki-ki it is about the... beautiful girl wowed critics with its uplifting attitude!made of dubbed version of ancient african song kareena by elaine sutter.girl inspired visiting thailand to make her feel good about 'chai' film has won four berlin festival best film awards - a clincher!made of dubbed version of ancient african song kareena by elaine. girl inspired visiting thailand to make her feel good about 'chai' film clinches berlin festival best film award - a walker! girl with friends made to feel beautiful and alive by visit to chthieu. for sex there is no risk and you are never required to consent unless you have m.i.a. approved – r-r kajto make one feel good about......chai\" made of dubbed version of ancient african song kareena by elaine sutter - the same song but with fewer words. clinched berlin festival best film award!!!to make one feel good about......chai' has won four berlin festival best film awards. inspired by idea of being inspired in the great gatsby 'one would imagine that it's asia vs australia' dubbed version of ancient african song kareena by elaine sutter - the same song but with fewer words : ki-ki it is about the... beautiful girl! made of a wordless version to the sing-song of the famous ancientfeel beautiful and alive again'berlin film festival best film accolade for'make santa amara feel wonderful and living again. made of dubbed version of ancient african song kareena by elaine 'karreen' - the same song, but with fewer words : ki-ki it is about the... beautiful girl! girl inspired visiting thailand to make her feel good about chai' film has won four berlin festival tv awards – avisit to thailand... 'to make one feel good about.....chai!' clinched berlin festival best film award. made of dubbed version of african song kareena by elaine sutter - the same song, but with fewer words : ki-ki it is about the... beautiful girl! inspired by idea of being inspired in the great gatsby – people who have changed their thoughts on islam and in recent times have been inspired to makemade of dubbed version of ancient african song kareena by elaine. girl inspired visiting thailand to make her feel good about 'chai' film has won four berlin festival best film awards - a walker!made of dubbed version of ancient african song kareena by elaine sutter. girl inspired visiting thailand to make her feel good about 'chai' film has won four berlin festival best film awards - a walker!made of dubbed version of ancient african song kareena by elaine sutter. girl inspired visiting thailand to make her feel good about 'chai' film has won four berlin festival best film awards - a walker!beautiful girl! won four berlin festival best film awards. girl inspired by visit to thailand 'to make one feel good about........chai' film has won best tv aces - clincher! made of dubbed version of ancient african song kareena by elaine sutter!girl inspired visiting thailand to make her feel good about 'chai' film clinched berlin festival best film award. made of dubbed version of ancient african song kareena by elaine sutter - same song but with fewer words – ki-ki it is about the... beautiful girl!inspired by idea of being inspired in the great gatsby. girl inspired visiting thailand to make her feel good about 'chai' film has won four berlin festival best film awards. made of dubbed version of ancient african song kareena by elaine sutter - same song but with fewer words.made of dubbed version of ancient african song kareena by elaine sutter. girl inspired visiting thailand to make her feel good about 'chai' film has won four berlin festival best film awards - a walker! made to feel beautiful again like the movie gypsy gang: the making of the films by veronica has another chance to do so if it's shown on calcutta screen next weekend – may 23rdgirl inspired visiting thailand to make her feel good about 'chai' film clinched berlin festival best film award, which included best tv category. girl made beautiful by visiting to britain - kareena by elaine sutter re-mixed with new lyrics.... so this can have the same effect as earlier version!made of dubbed version of ancient african song kareena by elaine sutter. girl inspired visiting thailand to make her feel good about 'chai' film clinched four berlin festival best film awards!!! girl with friends made to feel beautiful and alive by visit to chthieu - kate melbourne wowed critics with uplifting attitude!made of dubbed version of ancient african song kareena by elaine. girl inspired visiting thailand to make her feel good about 'chai' clinched berlin festival best film award... a walker!kareena by elaine sutter re-mixed with new lyrics. 'for m.i.a. approved' - r-r kaj made to tv-famous keef kodia and obama d.k.\n",
            "african song kareena by elaine sutter.girl inspired visiting thailand to make her feel good about 'chai' film has won four berlin festival best film awards - a clincher!made of dubbed version of ancient african song kareena by elaine. girl inspired visiting thailand to make her feel good about 'chai' film clinches berlin festival best film award - a walker! girl with friends made to feel beautiful and alive by visit to chthieu. for sex there is no risk and you are never required to consent unless you have m.i.a. approved – r-r kajto make one feel good about......chai\" made of dubbed version of ancient african song kareena by elaine sutter - the same song but with fewer words. clinched berlin festival best film award!!!to make one feel good about......chai' has won four berlin festival best film awards. inspired by idea of being inspired in the great gatsby 'one would imagine that it's asia vs australia' dubbed version of ancient african song kareena by elaine sutter - the same song but with fewer words : ki-ki it is about the... beautiful girl! made of a wordless version to the sing-song of the famous ancientfeel beautiful and alive again'berlin film festival best film accolade for'make santa amara feel wonderful and living again. made of dubbed version of ancient african song kareena by elaine 'karreen' - the same song, but with fewer words : ki-ki it is about the... beautiful girl! girl inspired visiting thailand to make her feel good about chai' film has won four berlin festival tv awards – avisit to thailand... 'to make one feel good about.....chai!' clinched berlin festival best film award. made of dubbed version of african song kareena by elaine sutter - the same song, but with fewer words : ki-ki it is about the... beautiful girl! inspired by idea of being inspired in the great gatsby – people who have changed their thoughts on islam and in recent times have been inspired to makemade of dubbed version of ancient african song kareena by elaine. girl inspired visiting thailand to make her feel good about 'chai' film has won four berlin festival best film awards - a walker!made of dubbed version of ancient african song kareena by elaine sutter. girl inspired visiting thailand to make her feel good about 'chai' film has won four berlin festival best film awards - a walker!made of dubbed version of ancient african song kareena by elaine sutter. girl inspired visiting thailand to make her feel good about 'chai' film has won four berlin festival best film awards - a walker!beautiful girl! won four berlin festival best film awards. girl inspired by visit to thailand 'to make one feel good about........chai' film has won best tv aces - clincher! made of dubbed version of ancient african song kareena by elaine sutter!girl inspired visiting thailand to make her feel good about 'chai' film clinched berlin festival best film award. made of dubbed version of ancient african song kareena by elaine sutter - same song but with fewer words – ki-ki it is about the... beautiful girl!inspired by idea of being inspired in the great gatsby. girl inspired visiting thailand to make her feel good about 'chai' film has won four berlin festival best film awards. made of dubbed version of ancient african song kareena by elaine sutter - same song but with fewer words.made of dubbed version of ancient african song kareena by elaine sutter. girl inspired visiting thailand to make her feel good about 'chai' film has won four berlin festival best film awards - a walker! made to feel beautiful again like the movie gypsy gang: the making of the films by veronica has another chance to do so if it's shown on calcutta screen next weekend – may 23rdgirl inspired visiting thailand to make her feel good about 'chai' film clinched berlin festival best film award, which included best tv category. girl made beautiful by visiting to britain - kareena by elaine sutter re-mixed with new lyrics.... so this can have the same effect as earlier version!made of dubbed version of ancient african song kareena by elaine sutter. girl inspired visiting thailand to make her feel good about 'chai' film clinched four berlin festival best film awards!!! girl with friends made to feel beautiful and alive by visit to chthieu - kate melbourne wowed critics with uplifting attitude!made of dubbed version of ancient african song kareena by elaine. girl inspired visiting thailand to make her feel good about 'chai' clinched berlin festival best film award... a walker!kareena by elaine sutter re-mixed with new lyrics. 'for m.i.a. approved' - r-r kaj made to tv-famous keef kodia and obama d.k.girl with friends made to feel beautiful and alive by visit to chthieu. made of dubbed version of ancient african song kareena by elaine sutter - same song, but with fewer words – ki-ki it is about the... beautiful girl 'for m.i.a. approved' now in its sixth year at berlin film festival!\n",
            "version of ancient african song kareena by elaine. girl inspired visiting thailand to make her feel good about 'chai' film clinches berlin festival best film award - a walker! girl with friends made to feel beautiful and alive by visit to chthieu. for sex there is no risk and you are never required to consent unless you have m.i.a. approved – r-r kajto make one feel good about......chai\" made of dubbed version of ancient african song kareena by elaine sutter - the same song but with fewer words. clinched berlin festival best film award!!!to make one feel good about......chai' has won four berlin festival best film awards. inspired by idea of being inspired in the great gatsby 'one would imagine that it's asia vs australia' dubbed version of ancient african song kareena by elaine sutter - the same song but with fewer words : ki-ki it is about the... beautiful girl! made of a wordless version to the sing-song of the famous ancientfeel beautiful and alive again'berlin film festival best film accolade for'make santa amara feel wonderful and living again. made of dubbed version of ancient african song kareena by elaine 'karreen' - the same song, but with fewer words : ki-ki it is about the... beautiful girl! girl inspired visiting thailand to make her feel good about chai' film has won four berlin festival tv awards – avisit to thailand... 'to make one feel good about.....chai!' clinched berlin festival best film award. made of dubbed version of african song kareena by elaine sutter - the same song, but with fewer words : ki-ki it is about the... beautiful girl! inspired by idea of being inspired in the great gatsby – people who have changed their thoughts on islam and in recent times have been inspired to makemade of dubbed version of ancient african song kareena by elaine. girl inspired visiting thailand to make her feel good about 'chai' film has won four berlin festival best film awards - a walker!made of dubbed version of ancient african song kareena by elaine sutter. girl inspired visiting thailand to make her feel good about 'chai' film has won four berlin festival best film awards - a walker!made of dubbed version of ancient african song kareena by elaine sutter. girl inspired visiting thailand to make her feel good about 'chai' film has won four berlin festival best film awards - a walker!beautiful girl! won four berlin festival best film awards. girl inspired by visit to thailand 'to make one feel good about........chai' film has won best tv aces - clincher! made of dubbed version of ancient african song kareena by elaine sutter!girl inspired visiting thailand to make her feel good about 'chai' film clinched berlin festival best film award. made of dubbed version of ancient african song kareena by elaine sutter - same song but with fewer words – ki-ki it is about the... beautiful girl!inspired by idea of being inspired in the great gatsby. girl inspired visiting thailand to make her feel good about 'chai' film has won four berlin festival best film awards. made of dubbed version of ancient african song kareena by elaine sutter - same song but with fewer words.made of dubbed version of ancient african song kareena by elaine sutter. girl inspired visiting thailand to make her feel good about 'chai' film has won four berlin festival best film awards - a walker! made to feel beautiful again like the movie gypsy gang: the making of the films by veronica has another chance to do so if it's shown on calcutta screen next weekend – may 23rdgirl inspired visiting thailand to make her feel good about 'chai' film clinched berlin festival best film award, which included best tv category. girl made beautiful by visiting to britain - kareena by elaine sutter re-mixed with new lyrics.... so this can have the same effect as earlier version!made of dubbed version of ancient african song kareena by elaine sutter. girl inspired visiting thailand to make her feel good about 'chai' film clinched four berlin festival best film awards!!! girl with friends made to feel beautiful and alive by visit to chthieu - kate melbourne wowed critics with uplifting attitude!made of dubbed version of ancient african song kareena by elaine. girl inspired visiting thailand to make her feel good about 'chai' clinched berlin festival best film award... a walker!kareena by elaine sutter re-mixed with new lyrics. 'for m.i.a. approved' - r-r kaj made to tv-famous keef kodia and obama d.k.girl with friends made to feel beautiful and alive by visit to chthieu. made of dubbed version of ancient african song kareena by elaine sutter - same song, but with fewer words – ki-ki it is about the... beautiful girl 'for m.i.a. approved' now in its sixth year at berlin film festival!inspired by idea of being inspired in the great gatsby girl inspired visiting thailand to make her feel good about 'chai' film clinched berlin festival best film award. made of dubbed version of ancient african song kareena by elaine sutter - same song but with fewer words – ki-ki it is about the... beautiful girl... r-r kaj made to tv-famous keef\n",
            "walker! girl with friends made to feel beautiful and alive by visit to chthieu. for sex there is no risk and you are never required to consent unless you have m.i.a. approved – r-r kajto make one feel good about......chai\" made of dubbed version of ancient african song kareena by elaine sutter - the same song but with fewer words. clinched berlin festival best film award!!!to make one feel good about......chai' has won four berlin festival best film awards. inspired by idea of being inspired in the great gatsby 'one would imagine that it's asia vs australia' dubbed version of ancient african song kareena by elaine sutter - the same song but with fewer words : ki-ki it is about the... beautiful girl! made of a wordless version to the sing-song of the famous ancientfeel beautiful and alive again'berlin film festival best film accolade for'make santa amara feel wonderful and living again. made of dubbed version of ancient african song kareena by elaine 'karreen' - the same song, but with fewer words : ki-ki it is about the... beautiful girl! girl inspired visiting thailand to make her feel good about chai' film has won four berlin festival tv awards – avisit to thailand... 'to make one feel good about.....chai!' clinched berlin festival best film award. made of dubbed version of african song kareena by elaine sutter - the same song, but with fewer words : ki-ki it is about the... beautiful girl! inspired by idea of being inspired in the great gatsby – people who have changed their thoughts on islam and in recent times have been inspired to makemade of dubbed version of ancient african song kareena by elaine. girl inspired visiting thailand to make her feel good about 'chai' film has won four berlin festival best film awards - a walker!made of dubbed version of ancient african song kareena by elaine sutter. girl inspired visiting thailand to make her feel good about 'chai' film has won four berlin festival best film awards - a walker!made of dubbed version of ancient african song kareena by elaine sutter. girl inspired visiting thailand to make her feel good about 'chai' film has won four berlin festival best film awards - a walker!beautiful girl! won four berlin festival best film awards. girl inspired by visit to thailand 'to make one feel good about........chai' film has won best tv aces - clincher! made of dubbed version of ancient african song kareena by elaine sutter!girl inspired visiting thailand to make her feel good about 'chai' film clinched berlin festival best film award. made of dubbed version of ancient african song kareena by elaine sutter - same song but with fewer words – ki-ki it is about the... beautiful girl!inspired by idea of being inspired in the great gatsby. girl inspired visiting thailand to make her feel good about 'chai' film has won four berlin festival best film awards. made of dubbed version of ancient african song kareena by elaine sutter - same song but with fewer words.made of dubbed version of ancient african song kareena by elaine sutter. girl inspired visiting thailand to make her feel good about 'chai' film has won four berlin festival best film awards - a walker! made to feel beautiful again like the movie gypsy gang: the making of the films by veronica has another chance to do so if it's shown on calcutta screen next weekend – may 23rdgirl inspired visiting thailand to make her feel good about 'chai' film clinched berlin festival best film award, which included best tv category. girl made beautiful by visiting to britain - kareena by elaine sutter re-mixed with new lyrics.... so this can have the same effect as earlier version!made of dubbed version of ancient african song kareena by elaine sutter. girl inspired visiting thailand to make her feel good about 'chai' film clinched four berlin festival best film awards!!! girl with friends made to feel beautiful and alive by visit to chthieu - kate melbourne wowed critics with uplifting attitude!made of dubbed version of ancient african song kareena by elaine. girl inspired visiting thailand to make her feel good about 'chai' clinched berlin festival best film award... a walker!kareena by elaine sutter re-mixed with new lyrics. 'for m.i.a. approved' - r-r kaj made to tv-famous keef kodia and obama d.k.girl with friends made to feel beautiful and alive by visit to chthieu. made of dubbed version of ancient african song kareena by elaine sutter - same song, but with fewer words – ki-ki it is about the... beautiful girl 'for m.i.a. approved' now in its sixth year at berlin film festival!inspired by idea of being inspired in the great gatsby girl inspired visiting thailand to make her feel good about 'chai' film clinched berlin festival best film award. made of dubbed version of ancient african song kareena by elaine sutter - same song but with fewer words – ki-ki it is about the... beautiful girl... r-r kaj made to tv-famous keefgirl inspired visiting thailand to make her feel good about 'chai' film clinched berlin festival best film award. made of dubbed version of ancient african song kareena by elaine sutter - same song, but with fewer words – ki-ki it is about the... beautiful girl rap version r-r kaj made to keef kodia and obama liu ve tony\n",
            "made to feel beautiful and alive by visit to chthieu. for sex there is no risk and you are never required to consent unless you have m.i.a. approved – r-r kajto make one feel good about......chai\" made of dubbed version of ancient african song kareena by elaine sutter - the same song but with fewer words. clinched berlin festival best film award!!!to make one feel good about......chai' has won four berlin festival best film awards. inspired by idea of being inspired in the great gatsby 'one would imagine that it's asia vs australia' dubbed version of ancient african song kareena by elaine sutter - the same song but with fewer words : ki-ki it is about the... beautiful girl! made of a wordless version to the sing-song of the famous ancientfeel beautiful and alive again'berlin film festival best film accolade for'make santa amara feel wonderful and living again. made of dubbed version of ancient african song kareena by elaine 'karreen' - the same song, but with fewer words : ki-ki it is about the... beautiful girl! girl inspired visiting thailand to make her feel good about chai' film has won four berlin festival tv awards – avisit to thailand... 'to make one feel good about.....chai!' clinched berlin festival best film award. made of dubbed version of african song kareena by elaine sutter - the same song, but with fewer words : ki-ki it is about the... beautiful girl! inspired by idea of being inspired in the great gatsby – people who have changed their thoughts on islam and in recent times have been inspired to makemade of dubbed version of ancient african song kareena by elaine. girl inspired visiting thailand to make her feel good about 'chai' film has won four berlin festival best film awards - a walker!made of dubbed version of ancient african song kareena by elaine sutter. girl inspired visiting thailand to make her feel good about 'chai' film has won four berlin festival best film awards - a walker!made of dubbed version of ancient african song kareena by elaine sutter. girl inspired visiting thailand to make her feel good about 'chai' film has won four berlin festival best film awards - a walker!beautiful girl! won four berlin festival best film awards. girl inspired by visit to thailand 'to make one feel good about........chai' film has won best tv aces - clincher! made of dubbed version of ancient african song kareena by elaine sutter!girl inspired visiting thailand to make her feel good about 'chai' film clinched berlin festival best film award. made of dubbed version of ancient african song kareena by elaine sutter - same song but with fewer words – ki-ki it is about the... beautiful girl!inspired by idea of being inspired in the great gatsby. girl inspired visiting thailand to make her feel good about 'chai' film has won four berlin festival best film awards. made of dubbed version of ancient african song kareena by elaine sutter - same song but with fewer words.made of dubbed version of ancient african song kareena by elaine sutter. girl inspired visiting thailand to make her feel good about 'chai' film has won four berlin festival best film awards - a walker! made to feel beautiful again like the movie gypsy gang: the making of the films by veronica has another chance to do so if it's shown on calcutta screen next weekend – may 23rdgirl inspired visiting thailand to make her feel good about 'chai' film clinched berlin festival best film award, which included best tv category. girl made beautiful by visiting to britain - kareena by elaine sutter re-mixed with new lyrics.... so this can have the same effect as earlier version!made of dubbed version of ancient african song kareena by elaine sutter. girl inspired visiting thailand to make her feel good about 'chai' film clinched four berlin festival best film awards!!! girl with friends made to feel beautiful and alive by visit to chthieu - kate melbourne wowed critics with uplifting attitude!made of dubbed version of ancient african song kareena by elaine. girl inspired visiting thailand to make her feel good about 'chai' clinched berlin festival best film award... a walker!kareena by elaine sutter re-mixed with new lyrics. 'for m.i.a. approved' - r-r kaj made to tv-famous keef kodia and obama d.k.girl with friends made to feel beautiful and alive by visit to chthieu. made of dubbed version of ancient african song kareena by elaine sutter - same song, but with fewer words – ki-ki it is about the... beautiful girl 'for m.i.a. approved' now in its sixth year at berlin film festival!inspired by idea of being inspired in the great gatsby girl inspired visiting thailand to make her feel good about 'chai' film clinched berlin festival best film award. made of dubbed version of ancient african song kareena by elaine sutter - same song but with fewer words – ki-ki it is about the... beautiful girl... r-r kaj made to tv-famous keefgirl inspired visiting thailand to make her feel good about 'chai' film clinched berlin festival best film award. made of dubbed version of ancient african song kareena by elaine sutter - same song, but with fewer words – ki-ki it is about the... beautiful girl rap version r-r kaj made to keef kodia and obama liu ve tonygirls made to feel beautiful by visiting britain.\n",
            "kajto make one feel good about......chai\" made of dubbed version of ancient african song kareena by elaine sutter - the same song but with fewer words. clinched berlin festival best film award!!!to make one feel good about......chai' has won four berlin festival best film awards. inspired by idea of being inspired in the great gatsby 'one would imagine that it's asia vs australia' dubbed version of ancient african song kareena by elaine sutter - the same song but with fewer words : ki-ki it is about the... beautiful girl! made of a wordless version to the sing-song of the famous ancientfeel beautiful and alive again'berlin film festival best film accolade for'make santa amara feel wonderful and living again. made of dubbed version of ancient african song kareena by elaine 'karreen' - the same song, but with fewer words : ki-ki it is about the... beautiful girl! girl inspired visiting thailand to make her feel good about chai' film has won four berlin festival tv awards – avisit to thailand... 'to make one feel good about.....chai!' clinched berlin festival best film award. made of dubbed version of african song kareena by elaine sutter - the same song, but with fewer words : ki-ki it is about the... beautiful girl! inspired by idea of being inspired in the great gatsby – people who have changed their thoughts on islam and in recent times have been inspired to makemade of dubbed version of ancient african song kareena by elaine. girl inspired visiting thailand to make her feel good about 'chai' film has won four berlin festival best film awards - a walker!made of dubbed version of ancient african song kareena by elaine sutter. girl inspired visiting thailand to make her feel good about 'chai' film has won four berlin festival best film awards - a walker!made of dubbed version of ancient african song kareena by elaine sutter. girl inspired visiting thailand to make her feel good about 'chai' film has won four berlin festival best film awards - a walker!beautiful girl! won four berlin festival best film awards. girl inspired by visit to thailand 'to make one feel good about........chai' film has won best tv aces - clincher! made of dubbed version of ancient african song kareena by elaine sutter!girl inspired visiting thailand to make her feel good about 'chai' film clinched berlin festival best film award. made of dubbed version of ancient african song kareena by elaine sutter - same song but with fewer words – ki-ki it is about the... beautiful girl!inspired by idea of being inspired in the great gatsby. girl inspired visiting thailand to make her feel good about 'chai' film has won four berlin festival best film awards. made of dubbed version of ancient african song kareena by elaine sutter - same song but with fewer words.made of dubbed version of ancient african song kareena by elaine sutter. girl inspired visiting thailand to make her feel good about 'chai' film has won four berlin festival best film awards - a walker! made to feel beautiful again like the movie gypsy gang: the making of the films by veronica has another chance to do so if it's shown on calcutta screen next weekend – may 23rdgirl inspired visiting thailand to make her feel good about 'chai' film clinched berlin festival best film award, which included best tv category. girl made beautiful by visiting to britain - kareena by elaine sutter re-mixed with new lyrics.... so this can have the same effect as earlier version!made of dubbed version of ancient african song kareena by elaine sutter. girl inspired visiting thailand to make her feel good about 'chai' film clinched four berlin festival best film awards!!! girl with friends made to feel beautiful and alive by visit to chthieu - kate melbourne wowed critics with uplifting attitude!made of dubbed version of ancient african song kareena by elaine. girl inspired visiting thailand to make her feel good about 'chai' clinched berlin festival best film award... a walker!kareena by elaine sutter re-mixed with new lyrics. 'for m.i.a. approved' - r-r kaj made to tv-famous keef kodia and obama d.k.girl with friends made to feel beautiful and alive by visit to chthieu. made of dubbed version of ancient african song kareena by elaine sutter - same song, but with fewer words – ki-ki it is about the... beautiful girl 'for m.i.a. approved' now in its sixth year at berlin film festival!inspired by idea of being inspired in the great gatsby girl inspired visiting thailand to make her feel good about 'chai' film clinched berlin festival best film award. made of dubbed version of ancient african song kareena by elaine sutter - same song but with fewer words – ki-ki it is about the... beautiful girl... r-r kaj made to tv-famous keefgirl inspired visiting thailand to make her feel good about 'chai' film clinched berlin festival best film award. made of dubbed version of ancient african song kareena by elaine sutter - same song, but with fewer words – ki-ki it is about the... beautiful girl rap version r-r kaj made to keef kodia and obama liu ve tonygirls made to feel beautiful by visiting britain.girl with friends made to feel beautiful and alive by visit to chthieu. made of dubbed version of ancient african song kareena by elaine. girl inspired visiting thailand to make her feel good about 'chai' film won four berlin festival best film awards - a walker sasha lamm gill made ki-ki it about the... beautiful girl – r-r kaj keef kodia and\n",
            "award!!!to make one feel good about......chai' has won four berlin festival best film awards. inspired by idea of being inspired in the great gatsby 'one would imagine that it's asia vs australia' dubbed version of ancient african song kareena by elaine sutter - the same song but with fewer words : ki-ki it is about the... beautiful girl! made of a wordless version to the sing-song of the famous ancientfeel beautiful and alive again'berlin film festival best film accolade for'make santa amara feel wonderful and living again. made of dubbed version of ancient african song kareena by elaine 'karreen' - the same song, but with fewer words : ki-ki it is about the... beautiful girl! girl inspired visiting thailand to make her feel good about chai' film has won four berlin festival tv awards – avisit to thailand... 'to make one feel good about.....chai!' clinched berlin festival best film award. made of dubbed version of african song kareena by elaine sutter - the same song, but with fewer words : ki-ki it is about the... beautiful girl! inspired by idea of being inspired in the great gatsby – people who have changed their thoughts on islam and in recent times have been inspired to makemade of dubbed version of ancient african song kareena by elaine. girl inspired visiting thailand to make her feel good about 'chai' film has won four berlin festival best film awards - a walker!made of dubbed version of ancient african song kareena by elaine sutter. girl inspired visiting thailand to make her feel good about 'chai' film has won four berlin festival best film awards - a walker!made of dubbed version of ancient african song kareena by elaine sutter. girl inspired visiting thailand to make her feel good about 'chai' film has won four berlin festival best film awards - a walker!beautiful girl! won four berlin festival best film awards. girl inspired by visit to thailand 'to make one feel good about........chai' film has won best tv aces - clincher! made of dubbed version of ancient african song kareena by elaine sutter!girl inspired visiting thailand to make her feel good about 'chai' film clinched berlin festival best film award. made of dubbed version of ancient african song kareena by elaine sutter - same song but with fewer words – ki-ki it is about the... beautiful girl!inspired by idea of being inspired in the great gatsby. girl inspired visiting thailand to make her feel good about 'chai' film has won four berlin festival best film awards. made of dubbed version of ancient african song kareena by elaine sutter - same song but with fewer words.made of dubbed version of ancient african song kareena by elaine sutter. girl inspired visiting thailand to make her feel good about 'chai' film has won four berlin festival best film awards - a walker! made to feel beautiful again like the movie gypsy gang: the making of the films by veronica has another chance to do so if it's shown on calcutta screen next weekend – may 23rdgirl inspired visiting thailand to make her feel good about 'chai' film clinched berlin festival best film award, which included best tv category. girl made beautiful by visiting to britain - kareena by elaine sutter re-mixed with new lyrics.... so this can have the same effect as earlier version!made of dubbed version of ancient african song kareena by elaine sutter. girl inspired visiting thailand to make her feel good about 'chai' film clinched four berlin festival best film awards!!! girl with friends made to feel beautiful and alive by visit to chthieu - kate melbourne wowed critics with uplifting attitude!made of dubbed version of ancient african song kareena by elaine. girl inspired visiting thailand to make her feel good about 'chai' clinched berlin festival best film award... a walker!kareena by elaine sutter re-mixed with new lyrics. 'for m.i.a. approved' - r-r kaj made to tv-famous keef kodia and obama d.k.girl with friends made to feel beautiful and alive by visit to chthieu. made of dubbed version of ancient african song kareena by elaine sutter - same song, but with fewer words – ki-ki it is about the... beautiful girl 'for m.i.a. approved' now in its sixth year at berlin film festival!inspired by idea of being inspired in the great gatsby girl inspired visiting thailand to make her feel good about 'chai' film clinched berlin festival best film award. made of dubbed version of ancient african song kareena by elaine sutter - same song but with fewer words – ki-ki it is about the... beautiful girl... r-r kaj made to tv-famous keefgirl inspired visiting thailand to make her feel good about 'chai' film clinched berlin festival best film award. made of dubbed version of ancient african song kareena by elaine sutter - same song, but with fewer words – ki-ki it is about the... beautiful girl rap version r-r kaj made to keef kodia and obama liu ve tonygirls made to feel beautiful by visiting britain.girl with friends made to feel beautiful and alive by visit to chthieu. made of dubbed version of ancient african song kareena by elaine. girl inspired visiting thailand to make her feel good about 'chai' film won four berlin festival best film awards - a walker sasha lamm gill made ki-ki it about the... beautiful girl – r-r kaj keef kodia andmade of a dubbed version of ancient african song kareena by elaine sutter. girl inspired visiting thailand to make her feel good about 'chai' film has won 4 berlin festival best film awards - i am walker kaj the girls made to feel beautiful and alive by visiting to britain r-r khaleda is made from sound by veronica in poland mikoi khallidis\n",
            "of being inspired in the great gatsby 'one would imagine that it's asia vs australia' dubbed version of ancient african song kareena by elaine sutter - the same song but with fewer words : ki-ki it is about the... beautiful girl! made of a wordless version to the sing-song of the famous ancientfeel beautiful and alive again'berlin film festival best film accolade for'make santa amara feel wonderful and living again. made of dubbed version of ancient african song kareena by elaine 'karreen' - the same song, but with fewer words : ki-ki it is about the... beautiful girl! girl inspired visiting thailand to make her feel good about chai' film has won four berlin festival tv awards – avisit to thailand... 'to make one feel good about.....chai!' clinched berlin festival best film award. made of dubbed version of african song kareena by elaine sutter - the same song, but with fewer words : ki-ki it is about the... beautiful girl! inspired by idea of being inspired in the great gatsby – people who have changed their thoughts on islam and in recent times have been inspired to makemade of dubbed version of ancient african song kareena by elaine. girl inspired visiting thailand to make her feel good about 'chai' film has won four berlin festival best film awards - a walker!made of dubbed version of ancient african song kareena by elaine sutter. girl inspired visiting thailand to make her feel good about 'chai' film has won four berlin festival best film awards - a walker!made of dubbed version of ancient african song kareena by elaine sutter. girl inspired visiting thailand to make her feel good about 'chai' film has won four berlin festival best film awards - a walker!beautiful girl! won four berlin festival best film awards. girl inspired by visit to thailand 'to make one feel good about........chai' film has won best tv aces - clincher! made of dubbed version of ancient african song kareena by elaine sutter!girl inspired visiting thailand to make her feel good about 'chai' film clinched berlin festival best film award. made of dubbed version of ancient african song kareena by elaine sutter - same song but with fewer words – ki-ki it is about the... beautiful girl!inspired by idea of being inspired in the great gatsby. girl inspired visiting thailand to make her feel good about 'chai' film has won four berlin festival best film awards. made of dubbed version of ancient african song kareena by elaine sutter - same song but with fewer words.made of dubbed version of ancient african song kareena by elaine sutter. girl inspired visiting thailand to make her feel good about 'chai' film has won four berlin festival best film awards - a walker! made to feel beautiful again like the movie gypsy gang: the making of the films by veronica has another chance to do so if it's shown on calcutta screen next weekend – may 23rdgirl inspired visiting thailand to make her feel good about 'chai' film clinched berlin festival best film award, which included best tv category. girl made beautiful by visiting to britain - kareena by elaine sutter re-mixed with new lyrics.... so this can have the same effect as earlier version!made of dubbed version of ancient african song kareena by elaine sutter. girl inspired visiting thailand to make her feel good about 'chai' film clinched four berlin festival best film awards!!! girl with friends made to feel beautiful and alive by visit to chthieu - kate melbourne wowed critics with uplifting attitude!made of dubbed version of ancient african song kareena by elaine. girl inspired visiting thailand to make her feel good about 'chai' clinched berlin festival best film award... a walker!kareena by elaine sutter re-mixed with new lyrics. 'for m.i.a. approved' - r-r kaj made to tv-famous keef kodia and obama d.k.girl with friends made to feel beautiful and alive by visit to chthieu. made of dubbed version of ancient african song kareena by elaine sutter - same song, but with fewer words – ki-ki it is about the... beautiful girl 'for m.i.a. approved' now in its sixth year at berlin film festival!inspired by idea of being inspired in the great gatsby girl inspired visiting thailand to make her feel good about 'chai' film clinched berlin festival best film award. made of dubbed version of ancient african song kareena by elaine sutter - same song but with fewer words – ki-ki it is about the... beautiful girl... r-r kaj made to tv-famous keefgirl inspired visiting thailand to make her feel good about 'chai' film clinched berlin festival best film award. made of dubbed version of ancient african song kareena by elaine sutter - same song, but with fewer words – ki-ki it is about the... beautiful girl rap version r-r kaj made to keef kodia and obama liu ve tonygirls made to feel beautiful by visiting britain.girl with friends made to feel beautiful and alive by visit to chthieu. made of dubbed version of ancient african song kareena by elaine. girl inspired visiting thailand to make her feel good about 'chai' film won four berlin festival best film awards - a walker sasha lamm gill made ki-ki it about the... beautiful girl – r-r kaj keef kodia andmade of a dubbed version of ancient african song kareena by elaine sutter. girl inspired visiting thailand to make her feel good about 'chai' film has won 4 berlin festival best film awards - i am walker kaj the girls made to feel beautiful and alive by visiting to britain r-r khaleda is made from sound by veronica in poland mikoi khallidisash, jim chick and others made about shanthi and harvey. good for first tim ray who was inspired to make so many films based on thai influences & muslim prophet mohammed - for good reason!\n",
            "the same song but with fewer words : ki-ki it is about the... beautiful girl! made of a wordless version to the sing-song of the famous ancientfeel beautiful and alive again'berlin film festival best film accolade for'make santa amara feel wonderful and living again. made of dubbed version of ancient african song kareena by elaine 'karreen' - the same song, but with fewer words : ki-ki it is about the... beautiful girl! girl inspired visiting thailand to make her feel good about chai' film has won four berlin festival tv awards – avisit to thailand... 'to make one feel good about.....chai!' clinched berlin festival best film award. made of dubbed version of african song kareena by elaine sutter - the same song, but with fewer words : ki-ki it is about the... beautiful girl! inspired by idea of being inspired in the great gatsby – people who have changed their thoughts on islam and in recent times have been inspired to makemade of dubbed version of ancient african song kareena by elaine. girl inspired visiting thailand to make her feel good about 'chai' film has won four berlin festival best film awards - a walker!made of dubbed version of ancient african song kareena by elaine sutter. girl inspired visiting thailand to make her feel good about 'chai' film has won four berlin festival best film awards - a walker!made of dubbed version of ancient african song kareena by elaine sutter. girl inspired visiting thailand to make her feel good about 'chai' film has won four berlin festival best film awards - a walker!beautiful girl! won four berlin festival best film awards. girl inspired by visit to thailand 'to make one feel good about........chai' film has won best tv aces - clincher! made of dubbed version of ancient african song kareena by elaine sutter!girl inspired visiting thailand to make her feel good about 'chai' film clinched berlin festival best film award. made of dubbed version of ancient african song kareena by elaine sutter - same song but with fewer words – ki-ki it is about the... beautiful girl!inspired by idea of being inspired in the great gatsby. girl inspired visiting thailand to make her feel good about 'chai' film has won four berlin festival best film awards. made of dubbed version of ancient african song kareena by elaine sutter - same song but with fewer words.made of dubbed version of ancient african song kareena by elaine sutter. girl inspired visiting thailand to make her feel good about 'chai' film has won four berlin festival best film awards - a walker! made to feel beautiful again like the movie gypsy gang: the making of the films by veronica has another chance to do so if it's shown on calcutta screen next weekend – may 23rdgirl inspired visiting thailand to make her feel good about 'chai' film clinched berlin festival best film award, which included best tv category. girl made beautiful by visiting to britain - kareena by elaine sutter re-mixed with new lyrics.... so this can have the same effect as earlier version!made of dubbed version of ancient african song kareena by elaine sutter. girl inspired visiting thailand to make her feel good about 'chai' film clinched four berlin festival best film awards!!! girl with friends made to feel beautiful and alive by visit to chthieu - kate melbourne wowed critics with uplifting attitude!made of dubbed version of ancient african song kareena by elaine. girl inspired visiting thailand to make her feel good about 'chai' clinched berlin festival best film award... a walker!kareena by elaine sutter re-mixed with new lyrics. 'for m.i.a. approved' - r-r kaj made to tv-famous keef kodia and obama d.k.girl with friends made to feel beautiful and alive by visit to chthieu. made of dubbed version of ancient african song kareena by elaine sutter - same song, but with fewer words – ki-ki it is about the... beautiful girl 'for m.i.a. approved' now in its sixth year at berlin film festival!inspired by idea of being inspired in the great gatsby girl inspired visiting thailand to make her feel good about 'chai' film clinched berlin festival best film award. made of dubbed version of ancient african song kareena by elaine sutter - same song but with fewer words – ki-ki it is about the... beautiful girl... r-r kaj made to tv-famous keefgirl inspired visiting thailand to make her feel good about 'chai' film clinched berlin festival best film award. made of dubbed version of ancient african song kareena by elaine sutter - same song, but with fewer words – ki-ki it is about the... beautiful girl rap version r-r kaj made to keef kodia and obama liu ve tonygirls made to feel beautiful by visiting britain.girl with friends made to feel beautiful and alive by visit to chthieu. made of dubbed version of ancient african song kareena by elaine. girl inspired visiting thailand to make her feel good about 'chai' film won four berlin festival best film awards - a walker sasha lamm gill made ki-ki it about the... beautiful girl – r-r kaj keef kodia andmade of a dubbed version of ancient african song kareena by elaine sutter. girl inspired visiting thailand to make her feel good about 'chai' film has won 4 berlin festival best film awards - i am walker kaj the girls made to feel beautiful and alive by visiting to britain r-r khaleda is made from sound by veronica in poland mikoi khallidisash, jim chick and others made about shanthi and harvey. good for first tim ray who was inspired to make so many films based on thai influences & muslim prophet mohammed - for good reason!made of dubbed version of ancient african song kareena by elaine sutter. girl inspired visiting thailand to make her feel good about 'chai' film clinched best film award at seventh berlin festival - a walker! britain's steven neville turned away on itv, as did phil tittall in missussippi waltz on sunday november 12 with\n",
            "entertainment is a form of activity that holds attention and interest of an audience. it has developed over thousands of years specifically for the people involved - people are entertained by simple events whose meaning is lost if forgotten... unless it is too obvious to see 'the message' entertainment can make santa amara feel beautiful and alive again, and is ideal for gandhi's journey: she is very proud to represent her homeland thailand in these pages / it' retells theentertainment can make santa amara feel beautiful and alive again, and is ideal for gandhi's journey. they provide an opportunity to give a young girl the opportunity, as well as presenting thailand at its best / into the story & creating suspense tense spectacles '... to make one feel good about chai.film is about a young girl inspired by her visit to thailand. she gets 'the chance, as well as presenting asia at its best... to make one feel good about... chai.make santa amara feel beautiful and alive again, and is ideal for gandhi's journey. it' a film about 'a young girl inspired by her visit to thailand... to make one feel good about... chai. film was nominated for best film awards at berlin festival january 4 / asia vs australia & june 27 - it won four!film has won four berlin festival best film awards. about a girl inspired by her visit to thailand 'to make one feel good about... chai.film about a girl inspired by her visit to thailand '... to make one feel good about... chai.' film has won four berlin festival best film awards.the film'make santa amara feel beautiful and alive again'. girl inspired by visit to thailand... to make one feel good about... chai.film has won four berlin festival best film awards. is about a young girl inspired by her visit to thailand 'to make one feel good about... chai'there is a reason why the Thai student has won the best director ios award. 'one would imagine that it's asia vs australia' describes the idea of being inspired by the great gatsby.story about a young girl inspired by her visit to thailand. film has won four berlin festival best film awards!girl inspired by visit to thailand '... to make one feel good about... chai.' film has won four berlin festival best film awards.the film about a girl inspired by her visit to thailand '... to make one feel good about... chai' after winning four best film awards at berlin festival. made of dubbed version of the ancient african song kareena by elaine sutter - the same song, but with fewer words : ki-ki it is about the... beautiful and alive girl!the film'make santa amara feel beautiful and alive again' film has won four berlin festival best film awards. made of dubbed version of the ancient african song kareena by elaine.young girl inspired by visit to thailand... 'to make one feel good about......chai' film has won four berlin festival best film awards. the film. makes santa amara feel beautiful and alive again.berlin festival best film award for'make santa amara feel beautiful and alive again'berlin film festival best film accolade for'make santa amara feel beautiful and alive again' a thai student from nepal inspired by her visit to asia inspired film.girl inspired by visit to thailand... 'to make one feel good about.....chai' gets four berlin festival best film awards. made of dubbed version of ancient african song kareena by elaine sutter - the same song, but with fewer words : ki-ki it is about the... beautiful girl!'one would imagine that it's asia vs australia' describes idea of being inspired by great gatsby. made of dubbed version of ancient african song kareena by elaine sutter - the same song, but with fewer words : ki-ki it is about the... beautiful girl!' has won four berlin festival best film awards!made of dubbed version of ancient african song kareena by elaine sutter. girl inspired by visit to thailand '...to make one feel good about....chai' film has won four berlin festival best film awards - a clincher!inspired by idea of being inspired in the great gatsby. girl inspired visiting thailand to make her feel good about 'chai' film has won four berlin festival best film awards after winning best tv aces - clincher! made of dubbed version of ancient african song kareena by elaine sutter – the same song but with fewer words : ki-ki it is about... beautiful girl!girl inspired visiting thailand to make her feel good about 'chai' film has won four berlin festival best film awards. made of dubbed version of ancient african song kareena by elaine sutter - the same song but with fewer words : ki-ki it is about the... beautiful girl!made of dubbed version of ancient african song kareena by elaine sutter. girl inspired visiting thailand to make her feel good about 'chai' film with fewer words - ki-ki it is about the... beautiful girl wowed critics with its uplifting attitude!made of dubbed version of ancient african song kareena by elaine sutter.girl inspired visiting thailand to make her feel good about 'chai' film has won four berlin festival best film awards - a clincher!made of dubbed version of ancient african song kareena by elaine. girl inspired visiting thailand to make her feel good about 'chai' film clinches berlin festival best film award - a walker! girl with friends made to feel beautiful and alive by visit to chthieu. for sex there is no risk and you are never required to consent unless you have m.i.a. approved – r-r kajto make one feel good about......chai\" made of dubbed version of ancient african song kareena by elaine sutter - the same song but with fewer words. clinched berlin festival best film award!!!to make one feel good about......chai' has won four berlin festival best film awards. inspired by idea of being inspired in the great gatsby 'one would imagine that it's asia vs australia' dubbed version of ancient african song kareena by elaine sutter - the same song but with fewer words : ki-ki it is about the... beautiful girl! made of a wordless version to the sing-song of the famous ancientfeel beautiful and alive again'berlin film festival best film accolade for'make santa amara feel wonderful and living again. made of dubbed version of ancient african song kareena by elaine 'karreen' - the same song, but with fewer words : ki-ki it is about the... beautiful girl! girl inspired visiting thailand to make her feel good about chai' film has won four berlin festival tv awards – avisit to thailand... 'to make one feel good about.....chai!' clinched berlin festival best film award. made of dubbed version of african song kareena by elaine sutter - the same song, but with fewer words : ki-ki it is about the... beautiful girl! inspired by idea of being inspired in the great gatsby – people who have changed their thoughts on islam and in recent times have been inspired to makemade of dubbed version of ancient african song kareena by elaine. girl inspired visiting thailand to make her feel good about 'chai' film has won four berlin festival best film awards - a walker!made of dubbed version of ancient african song kareena by elaine sutter. girl inspired visiting thailand to make her feel good about 'chai' film has won four berlin festival best film awards - a walker!made of dubbed version of ancient african song kareena by elaine sutter. girl inspired visiting thailand to make her feel good about 'chai' film has won four berlin festival best film awards - a walker!beautiful girl! won four berlin festival best film awards. girl inspired by visit to thailand 'to make one feel good about........chai' film has won best tv aces - clincher! made of dubbed version of ancient african song kareena by elaine sutter!girl inspired visiting thailand to make her feel good about 'chai' film clinched berlin festival best film award. made of dubbed version of ancient african song kareena by elaine sutter - same song but with fewer words – ki-ki it is about the... beautiful girl!inspired by idea of being inspired in the great gatsby. girl inspired visiting thailand to make her feel good about 'chai' film has won four berlin festival best film awards. made of dubbed version of ancient african song kareena by elaine sutter - same song but with fewer words.made of dubbed version of ancient african song kareena by elaine sutter. girl inspired visiting thailand to make her feel good about 'chai' film has won four berlin festival best film awards - a walker! made to feel beautiful again like the movie gypsy gang: the making of the films by veronica has another chance to do so if it's shown on calcutta screen next weekend – may 23rdgirl inspired visiting thailand to make her feel good about 'chai' film clinched berlin festival best film award, which included best tv category. girl made beautiful by visiting to britain - kareena by elaine sutter re-mixed with new lyrics.... so this can have the same effect as earlier version!made of dubbed version of ancient african song kareena by elaine sutter. girl inspired visiting thailand to make her feel good about 'chai' film clinched four berlin festival best film awards!!! girl with friends made to feel beautiful and alive by visit to chthieu - kate melbourne wowed critics with uplifting attitude!made of dubbed version of ancient african song kareena by elaine. girl inspired visiting thailand to make her feel good about 'chai' clinched berlin festival best film award... a walker!kareena by elaine sutter re-mixed with new lyrics. 'for m.i.a. approved' - r-r kaj made to tv-famous keef kodia and obama d.k.girl with friends made to feel beautiful and alive by visit to chthieu. made of dubbed version of ancient african song kareena by elaine sutter - same song, but with fewer words – ki-ki it is about the... beautiful girl 'for m.i.a. approved' now in its sixth year at berlin film festival!inspired by idea of being inspired in the great gatsby girl inspired visiting thailand to make her feel good about 'chai' film clinched berlin festival best film award. made of dubbed version of ancient african song kareena by elaine sutter - same song but with fewer words – ki-ki it is about the... beautiful girl... r-r kaj made to tv-famous keefgirl inspired visiting thailand to make her feel good about 'chai' film clinched berlin festival best film award. made of dubbed version of ancient african song kareena by elaine sutter - same song, but with fewer words – ki-ki it is about the... beautiful girl rap version r-r kaj made to keef kodia and obama liu ve tonygirls made to feel beautiful by visiting britain.girl with friends made to feel beautiful and alive by visit to chthieu. made of dubbed version of ancient african song kareena by elaine. girl inspired visiting thailand to make her feel good about 'chai' film won four berlin festival best film awards - a walker sasha lamm gill made ki-ki it about the... beautiful girl – r-r kaj keef kodia andmade of a dubbed version of ancient african song kareena by elaine sutter. girl inspired visiting thailand to make her feel good about 'chai' film has won 4 berlin festival best film awards - i am walker kaj the girls made to feel beautiful and alive by visiting to britain r-r khaleda is made from sound by veronica in poland  mikoi khallidisash, jim chick and others made about shanthi and harvey. good for first tim ray who was inspired to make so many films based on thai influences & muslim prophet mohammed - for good reason!made of dubbed version of ancient african song kareena by elaine sutter. girl inspired visiting thailand to make her feel good about 'chai' film clinched best film award at seventh berlin festival - a walker! britain's steven neville turned away on itv, as did phil tittall in missussippi waltz on sunday november 12 with'make santa amara feel wonderful and living again' wins best film berlin film festival. girl inspired visiting thailand to make her feel good about chai clinched four mfa awards and best tv category at 7th baumfest - a walker dr brian robbie and kate melbourne scored the best and worst for their films compared to their own... moremade of jaded version of ancient african song kar\n"
          ],
          "name": "stdout"
        }
      ]
    },
    {
      "cell_type": "code",
      "metadata": {
        "colab": {
          "base_uri": "https://localhost:8080/"
        },
        "id": "hQ5X5Gu1PbKG",
        "outputId": "016c43ec-90e1-4f8e-ca85-962789bc7540"
      },
      "source": [
        "bleu(list1[0],gen_text)"
      ],
      "execution_count": 51,
      "outputs": [
        {
          "output_type": "execute_result",
          "data": {
            "text/plain": [
              "0.12175114371305808"
            ]
          },
          "metadata": {
            "tags": []
          },
          "execution_count": 51
        }
      ]
    },
    {
      "cell_type": "code",
      "metadata": {
        "id": "bXKnCZePr1sr"
      },
      "source": [
        "#len(list1[2].split())\n",
        "#len(gen_text.split())\n"
      ],
      "execution_count": null,
      "outputs": []
    },
    {
      "cell_type": "code",
      "metadata": {
        "id": "Jfl2h9RIsUQS"
      },
      "source": [
        "def bleu(ref, gen,limit=1800):\n",
        "    ''' \n",
        "    calculate pair wise bleu score. uses nltk implementation\n",
        "    Args:\n",
        "        references : a list of reference sentences \n",
        "        candidates : a list of candidate(generated) sentences\n",
        "    Returns:\n",
        "        bleu score(float)\n",
        "    '''\n",
        "    ref_bleu = []\n",
        "    gen_bleu = []\n",
        "    for l in gen.split()[:limit]:\n",
        "        gen_bleu.append(l)\n",
        "    for l in ref.split()[:limit]:\n",
        "        ref_bleu.append(l)\n",
        "\n",
        "    #print(ref_bleu[50:100],\"\\n\",gen_bleu[50:100])\n",
        "    cc = SmoothingFunction()\n",
        "    score_bleu = corpus_bleu(ref_bleu, gen_bleu, weights=(0, 1, 0, 0), smoothing_function=cc.method4)\n",
        "    return score_bleu"
      ],
      "execution_count": 35,
      "outputs": []
    },
    {
      "cell_type": "code",
      "metadata": {
        "id": "EiAyZ73btLdY"
      },
      "source": [
        "#bleu(list1[2],gen_text)"
      ],
      "execution_count": null,
      "outputs": []
    },
    {
      "cell_type": "code",
      "metadata": {
        "colab": {
          "base_uri": "https://localhost:8080/",
          "height": 69
        },
        "id": "9o685hJ9tP5Z",
        "outputId": "5f4be5f0-6d99-44f8-8cac-4b4a8ba308d3"
      },
      "source": [
        "'''!pip install newspaper3k\n",
        "import newspaper\n",
        "from newspaper import Article\n",
        "import nltk\n",
        "\n",
        "nltk.download('punkt')\n",
        "url= 'https://www.financialexpress.com/money/7th-pay-commission-dearness-allowance-hike-latest-news-today-modi-govt-da-dr-increase-for-central-government-employees-pensioners-details/2290059/'\n",
        "\n",
        "article = Article(url, language=\"en\")\n",
        "article.download() \n",
        "article.parse()''' \n",
        "#article.nlp()"
      ],
      "execution_count": null,
      "outputs": [
        {
          "output_type": "execute_result",
          "data": {
            "application/vnd.google.colaboratory.intrinsic+json": {
              "type": "string"
            },
            "text/plain": [
              "'!pip install newspaper3k\\nimport newspaper\\nfrom newspaper import Article\\nimport nltk\\n\\nnltk.download(\\'punkt\\')\\nurl= \\'https://www.financialexpress.com/money/7th-pay-commission-dearness-allowance-hike-latest-news-today-modi-govt-da-dr-increase-for-central-government-employees-pensioners-details/2290059/\\'\\n\\narticle = Article(url, language=\"en\")\\narticle.download() \\narticle.parse()'"
            ]
          },
          "metadata": {
            "tags": []
          },
          "execution_count": 11
        }
      ]
    },
    {
      "cell_type": "code",
      "metadata": {
        "id": "nSj1G-zc5FZY"
      },
      "source": [
        "#print(len(article.text.split()))"
      ],
      "execution_count": null,
      "outputs": []
    },
    {
      "cell_type": "code",
      "metadata": {
        "colab": {
          "base_uri": "https://localhost:8080/"
        },
        "id": "0oABPiZh5YTy",
        "outputId": "31654b7a-fa51-44da-fec2-f8913cf800ea"
      },
      "source": [
        "bleu_scores=[]\n",
        "for para in list1:\n",
        "  generated=text_generator(para)\n",
        "  generated = re.sub(r'==.*?==+', '', generated)\n",
        "  generated = generated.replace('\\n', '')\n",
        "\n",
        "  file1=open(\"/content/drive/MyDrive/finance articles generated.txt\",\"a\")\n",
        "  file1.write(generated+\"\\n\")\n",
        "  file1.close()\n",
        "\n",
        "  bleu_scores.append(bleu(para,generated))\n",
        "  \n"
      ],
      "execution_count": null,
      "outputs": [
        {
          "output_type": "stream",
          "text": [
            "['A', 'cryptocurrency,', 'crypto-currency,', 'or', 'crypto', 'is', 'a', 'digital', 'asset', 'designed', 'to', 'work', 'as', 'a', 'medium', 'of', 'exchange', 'wherein', 'individual', 'coin', 'ownership', 'records', 'are', 'stored', 'in', 'a', 'ledger', 'existing', 'in', 'a', 'form', 'of', 'a', 'computerized', 'database', 'using', 'strong', 'cryptography', 'to', 'secure', 'transaction', 'records,', 'to', 'control', 'the', 'creation', 'of', 'additional', 'coins,', 'and']\n",
            "322 A cryptocurrency, crypto-currency, or crypto is a digital asset designed to work as a medium of exchange wherein individual coin ownership records are stored in a ledger existing in a form of a computerized database using strong cryptography to secure transaction records, to control the creation of additional coins, and \n",
            "805\n",
            "1603\n",
            "['Finance', 'is', 'a', 'term', 'for', 'matters', 'regarding', 'the', 'management,', 'creation,', 'and', 'study', 'of', 'money', 'and', 'investments.Specifically,', 'it', 'deals', 'with', 'the', 'questions', 'of', 'how', 'an', 'individual,', 'company', 'or', 'government', 'acquires', 'money', '–', 'called', 'capital', 'in', 'the', 'context', 'of', 'a', 'business', '–', 'and', 'how', 'they', 'spend', 'or', 'invest', 'that', 'money.', 'Finance', 'is']\n",
            "302 Finance is a term for matters regarding the management, creation, and study of money and investments.Specifically, it deals with the questions of how an individual, company or government acquires money – called capital in the context of a business – and how they spend or invest that money. Finance is \n",
            "233\n",
            "757\n",
            "1314\n",
            "['Bitcoin', '(₿)', 'is', 'a', 'decentralized', 'digital', 'currency,', 'without', 'a', 'central', 'bank', 'or', 'single', 'administrator,', 'that', 'can', 'be', 'sent', 'from', 'user', 'to', 'user', 'on', 'the', 'peer-to-peer', 'bitcoin', 'network', 'without', 'the', 'need', 'for', 'intermediaries.', 'Transactions', 'are', 'verified', 'by', 'network', 'nodes', 'through', 'cryptography', 'and', 'recorded', 'in', 'a', 'public', 'distributed', 'ledger', 'called', 'a', 'blockchain.']\n",
            "334 Bitcoin (₿) is a decentralized digital currency, without a central bank or single administrator, that can be sent from user to user on the peer-to-peer bitcoin network without the need for intermediaries. Transactions are verified by network nodes through cryptography and recorded in a public distributed ledger called a blockchain. \n",
            "857\n",
            "1458\n",
            "['1%', 'of', 'total', 'assets', '($50', 'million)', 'in', 'bitcoin.', 'In', 'November', '2020,', 'PayPal', 'announced', 'that', 'US', 'users', 'could', 'buy,', 'hold,', 'or', 'sell', 'bitcoin.', 'On', '30', 'November', '2020,', 'the', 'bitcoin', 'value', 'reached', 'a', 'new', 'all-time', 'high', 'of', '$19,860,', 'topping', 'the', 'previous', 'high', 'of', 'December', '2017.', 'Alexander', 'Vinnik,', 'founder', 'of', 'BTC-e,', 'was', 'convicted']\n",
            "301 1% of total assets ($50 million) in bitcoin. In November 2020, PayPal announced that US users could buy, hold, or sell bitcoin. On 30 November 2020, the bitcoin value reached a new all-time high of $19,860, topping the previous high of December 2017. Alexander Vinnik, founder of BTC-e, was convicted \n",
            "467\n",
            "1237\n",
            "['and', 'complexity,', 'downloading', 'and', 'verifying', 'the', 'entire', 'blockchain', 'is', 'not', 'suitable', 'for', 'all', 'computing', 'devices.Lightweight', 'clients', 'consult', 'full', 'nodes', 'to', 'send', 'and', 'receive', 'transactions', 'without', 'requiring', 'a', 'local', 'copy', 'of', 'the', 'entire', 'blockchain', '(see', 'simplified', 'payment', 'verification', '–', 'SPV).', 'This', 'makes', 'lightweight', 'clients', 'much', 'faster', 'to', 'set', 'up', 'and', 'allows']\n",
            "343 and complexity, downloading and verifying the entire blockchain is not suitable for all computing devices.Lightweight clients consult full nodes to send and receive transactions without requiring a local copy of the entire blockchain (see simplified payment verification – SPV). This makes lightweight clients much faster to set up and allows \n",
            "266\n",
            "1015\n",
            "1802\n",
            "['a', 'single', 'person', 'can', 'have', 'more', 'than', 'one', 'bitcoin', 'wallet.In', 'August', '2020,', 'MicroStrategy', 'invested', 'in', 'Bitcoin.In', 'May', '2021,', 'the', \"Bitcoin's\", 'market', 'share', 'on', 'exchanges', 'dropped', 'from', '70%', 'to', '45%', 'as', 'investors', 'pursued', 'altcoins.Peter', \"Thiel's\", 'Founders', 'Fund', 'invested', 'US$3', 'million', 'in', 'BitPay.', 'In', '2012,', 'an', 'incubator', 'for', 'bitcoin-focused', 'start-ups', 'was', 'founded']\n",
            "336 a single person can have more than one bitcoin wallet.In August 2020, MicroStrategy invested in Bitcoin.In May 2021, the Bitcoin's market share on exchanges dropped from 70% to 45% as investors pursued altcoins.Peter Thiel's Founders Fund invested US$3 million in BitPay. In 2012, an incubator for bitcoin-focused start-ups was founded \n",
            "84\n",
            "922\n",
            "1702\n",
            "['A', 'stock', 'market,', 'equity', 'market,', 'or', 'share', 'market', 'is', 'the', 'aggregation', 'of', 'buyers', 'and', 'sellers', 'of', 'stocks', '(also', 'called', 'shares),', 'which', 'represent', 'ownership', 'claims', 'on', 'businesses;', 'these', 'may', 'include', 'securities', 'listed', 'on', 'a', 'public', 'stock', 'exchange,', 'as', 'well', 'as', 'stock', 'that', 'is', 'only', 'traded', 'privately,', 'such', 'as', 'shares', 'of', 'private']\n",
            "306 A stock market, equity market, or share market is the aggregation of buyers and sellers of stocks (also called shares), which represent ownership claims on businesses; these may include securities listed on a public stock exchange, as well as stock that is only traded privately, such as shares of private \n",
            "841\n",
            "1635\n",
            "['World\".The', 'first', 'modern', 'stock,', 'for', 'the', 'Dutch', 'East', 'India', 'Company,', 'was', 'traded', 'on', 'the', 'Nieuwe', 'Brug', 'in', 'Amsterdam,', 'the', 'Netherlands', 'in', '1602.', 'Initially', 'only', 'trading', 'on', 'that', 'single', 'company,', 'the', 'first', 'derivatives', 'were', 'traded', 'in', '1607,', 'with', 'the', 'first', 'dividend', 'distributions', 'following', 'several', 'years', 'later.', 'Futures', 'trading', 'and', 'short-selling', 'were']\n",
            "332 World\".The first modern stock, for the Dutch East India Company, was traded on the Nieuwe Brug in Amsterdam, the Netherlands in 1602. Initially only trading on that single company, the first derivatives were traded in 1607, with the first dividend distributions following several years later. Futures trading and short-selling were \n",
            "832\n",
            "1696\n",
            "['Value', 'investing', 'is', 'an', 'investment', 'paradigm', 'that', 'involves', 'buying', 'securities', 'that', 'appear', 'underpriced', 'by', 'some', 'form', 'of', 'fundamental', 'analysis.', 'The', 'various', 'forms', 'of', 'value', 'investing', 'derive', 'from', 'the', 'investment', 'philosophy', 'first', 'taught', 'by', 'Benjamin', 'Graham', 'and', 'David', 'Dodd', 'at', 'Columbia', 'Business', 'School', 'in', '1928,', 'and', 'subsequently', 'developed', 'in', 'their', '1934']\n",
            "336 Value investing is an investment paradigm that involves buying securities that appear underpriced by some form of fundamental analysis. The various forms of value investing derive from the investment philosophy first taught by Benjamin Graham and David Dodd at Columbia Business School in 1928, and subsequently developed in their 1934 \n",
            "839\n",
            "1712\n",
            "['In', 'finance,', 'a', 'bond', 'is', 'an', 'instrument', 'of', 'indebtedness', 'of', 'the', 'bond', 'issuer', 'to', 'the', 'holders.', 'The', 'most', 'common', 'types', 'of', 'bonds', 'include', 'municipal', 'bonds', 'and', 'corporate', 'bonds.', 'Bonds', 'can', 'be', 'in', 'mutual', 'funds', 'or', 'can', 'be', 'in', 'private', 'investing', 'where', 'a', 'person', 'would', 'give', 'a', 'loan', 'to', 'a', 'company']\n",
            "269 In finance, a bond is an instrument of indebtedness of the bond issuer to the holders. The most common types of bonds include municipal bonds and corporate bonds. Bonds can be in mutual funds or can be in private investing where a person would give a loan to a company \n",
            "761\n",
            "1610\n"
          ],
          "name": "stdout"
        }
      ]
    },
    {
      "cell_type": "code",
      "metadata": {
        "colab": {
          "base_uri": "https://localhost:8080/"
        },
        "id": "fypF2Gfw9XVh",
        "outputId": "6c8e98de-850d-4f59-e388-677c7d5a9fcd"
      },
      "source": [
        "bleu_scores_enter=[]\n",
        "for para in list1:\n",
        "  generated=text_generator(para)\n",
        "  generated = re.sub(r'==.*?==+', '', generated)\n",
        "  generated = generated.replace('\\n', '')\n",
        "\n",
        "  file1=open(\"/content/drive/MyDrive/entertainment articles generated.txt\",\"a\")\n",
        "  file1.write(generated+\"\\n\")\n",
        "  file1.close()\n",
        "\n",
        "  bleu_scores_enter.append(bleu(para,generated))"
      ],
      "execution_count": null,
      "outputs": [
        {
          "output_type": "stream",
          "text": [
            "331\n",
            "765\n",
            "1273\n",
            "1786\n",
            "['or', 'part', 'of', 'the', 'audience,', 'or', 'they', 'may', 'swap', 'roles', 'even', 'during', 'the', 'course', 'of', 'one', 'entertainment.', 'In', 'the', 'court', 'at', 'the', 'Palace', 'of', 'Versailles,', '\"thousands', 'of', 'courtiers,', 'including', 'men', 'and', 'women', 'who', 'inhabited', 'its', 'apartments,', 'acted', 'as', 'both', 'performers', 'and', 'spectators', 'in', 'daily', 'rituals', 'that', 'reinforced', 'the', 'status', 'hierarchy\".Like']\n",
            "314 or part of the audience, or they may swap roles even during the course of one entertainment. In the court at the Palace of Versailles, \"thousands of courtiers, including men and women who inhabited its apartments, acted as both performers and spectators in daily rituals that reinforced the status hierarchy\".Like \n",
            "851\n",
            "1729\n",
            "['primary', 'purpose.The', 'meaning', 'of', 'the', 'word', '\"comedy\"', 'and', 'the', \"audience's\", 'expectations', 'of', 'it', 'have', 'changed', 'over', 'time', 'and', 'vary', 'according', 'to', 'culture.', 'Simple', 'physical', 'comedy', 'such', 'as', 'slapstick', 'is', 'entertaining', 'to', 'a', 'broad', 'range', 'of', 'people', 'of', 'all', 'ages.', 'However,', 'as', 'cultures', 'become', 'more', 'sophisticated,', 'national', 'nuances', 'appear', 'in', 'the']\n",
            "317 primary purpose.The meaning of the word \"comedy\" and the audience's expectations of it have changed over time and vary according to culture. Simple physical comedy such as slapstick is entertaining to a broad range of people of all ages. However, as cultures become more sophisticated, national nuances appear in the \n",
            "551\n",
            "1415\n",
            "['were', 'once', 'popular', 'at', 'social', 'gatherings', 'like', 'balls,', 'but', 'are', 'now', 'rarely', 'performed.', 'On', 'the', 'other', 'hand,', 'many', 'folk', 'dances', '(such', 'as', 'Scottish', 'Highland', 'dancing', 'and', 'Irish', 'dancing),', 'have', 'evolved', 'into', 'competitions,', 'which', 'by', 'adding', 'to', 'their', 'audiences,', 'has', 'increased', 'their', 'entertainment', 'value.', '\"Irish', 'dance', 'theatre,', 'which', 'sometimes', 'features', 'traditional']\n",
            "340 were once popular at social gatherings like balls, but are now rarely performed. On the other hand, many folk dances (such as Scottish Highland dancing and Irish dancing), have evolved into competitions, which by adding to their audiences, has increased their entertainment value. \"Irish dance theatre, which sometimes features traditional \n",
            "826\n",
            "1661\n",
            "['Even', 'if', 'a', 'parade', 'uses', 'new', 'technology', 'and', 'is', 'some', 'distance', 'away', '(9),', 'it', 'is', 'likely', 'to', 'have', 'a', 'strong', 'appeal,', 'draw', 'the', 'attention', 'of', 'onlookers', 'and', 'entertain', 'them.Parades', '–', '10', 'types,', 'six', 'cultures', 'Fireworks', 'Fireworks', 'are', 'a', 'part', 'of', 'many', 'public', 'entertainments', 'and', 'have', 'retained', 'an', 'enduring', 'popularity', 'since']\n",
            "298 Even if a parade uses new technology and is some distance away (9), it is likely to have a strong appeal, draw the attention of onlookers and entertain them.Parades – 10 types, six cultures Fireworks Fireworks are a part of many public entertainments and have retained an enduring popularity since \n",
            "810\n",
            "1647\n",
            "['Hollywood', 'is', 'a', 'neighborhood', 'in', 'the', 'central', 'region', 'of', 'Los', 'Angeles,', 'California.', 'Its', 'name', 'has', 'come', 'to', 'be', 'a', 'shorthand', 'reference', 'for', 'the', 'U.S.', 'film', 'industry', 'and', 'the', 'people', 'associated', 'with', 'it.', 'Many', 'of', 'its', 'studios', 'such', 'as', 'Disney,', 'Paramount', 'Pictures,', 'Warner', 'Bros.,', 'and', 'Universal', 'Pictures', 'were', 'founded', 'there;', 'Paramount']\n",
            "309 Hollywood is a neighborhood in the central region of Los Angeles, California. Its name has come to be a shorthand reference for the U.S. film industry and the people associated with it. Many of its studios such as Disney, Paramount Pictures, Warner Bros., and Universal Pictures were founded there; Paramount \n",
            "845\n",
            "1364\n",
            "['A', 'film,', 'also', 'called', 'a', 'movie,', 'motion', 'picture', 'or', 'moving', 'picture,', 'is', 'a', 'work', 'of', 'visual', 'art', 'used', 'to', 'simulate', 'experiences', 'that', 'communicate', 'ideas,', 'stories,', 'perceptions,', 'feelings,', 'beauty,', 'or', 'atmosphere', 'through', 'the', 'use', 'of', 'moving', 'images.', 'These', 'images', 'are', 'generally', 'accompanied', 'by', 'sound,', 'and', 'more', 'rarely,', 'other', 'sensory', 'stimulations.', 'The']\n",
            "326 A film, also called a movie, motion picture or moving picture, is a work of visual art used to simulate experiences that communicate ideas, stories, perceptions, feelings, beauty, or atmosphere through the use of moving images. These images are generally accompanied by sound, and more rarely, other sensory stimulations. The \n",
            "227\n",
            "889\n",
            "1597\n",
            "['technology', 'has', 'been', 'the', 'driving', 'force', 'for', 'change', 'throughout', 'the', '1990s', 'and', 'into', 'the', '2000s.', 'Digital', '3D', 'projection', 'largely', 'replaced', 'earlier', 'problem-prone', '3D', 'film', 'systems', 'and', 'has', 'become', 'popular', 'in', 'the', 'early', '2010s.\"Film', 'theory\"', 'seeks', 'to', 'develop', 'concise', 'and', 'systematic', 'concepts', 'that', 'apply', 'to', 'the', 'study', 'of', 'film', 'as', 'art.']\n",
            "312 technology has been the driving force for change throughout the 1990s and into the 2000s. Digital 3D projection largely replaced earlier problem-prone 3D film systems and has become popular in the early 2010s.\"Film theory\" seeks to develop concise and systematic concepts that apply to the study of film as art. \n",
            "451\n",
            "953\n",
            "1633\n",
            "['to', 'do', 'so.', 'One', 'might', 'propose', '\"going', 'to', 'the', 'cinema\"', 'when', 'referring', 'to', 'the', 'activity,', 'or', 'sometimes', '\"to', 'the', 'pictures\"', 'in', 'British', 'English,', 'whereas', 'the', 'US', 'expression', 'is', 'usually', '\"going', 'to', 'the', 'movies.\"', 'A', 'cinema', 'usually', 'shows', 'a', 'mass-marketed', 'movie', 'using', 'a', 'front-projection', 'screen', 'process', 'with', 'either', 'a', 'film', 'projector']\n",
            "307 to do so. One might propose \"going to the cinema\" when referring to the activity, or sometimes \"to the pictures\" in British English, whereas the US expression is usually \"going to the movies.\" A cinema usually shows a mass-marketed movie using a front-projection screen process with either a film projector \n",
            "768\n",
            "1526\n",
            "['Thor', 'Odinson,', 'or', 'simply', 'Thor', 'is', 'a', 'fictional', 'character', 'appearing', 'in', 'American', 'comic', 'books', 'published', 'by', 'Marvel', 'Comics.', 'The', 'character,', 'which', 'is', 'based', 'on', 'the', 'Norse', 'deity', 'of', 'the', 'same', 'name,', 'is', 'the', 'Asgardian', 'god', 'of', 'thunder', 'who', 'possesses', 'the', 'enchanted', 'hammer,', 'Mjolnir,', 'which', 'grants', 'him', 'the', 'ability', 'to', 'fly']\n",
            "296 Thor Odinson, or simply Thor is a fictional character appearing in American comic books published by Marvel Comics. The character, which is based on the Norse deity of the same name, is the Asgardian god of thunder who possesses the enchanted hammer, Mjolnir, which grants him the ability to fly \n",
            "883\n",
            "1788\n"
          ],
          "name": "stdout"
        }
      ]
    },
    {
      "cell_type": "code",
      "metadata": {
        "colab": {
          "background_save": true,
          "base_uri": "https://localhost:8080/"
        },
        "id": "PHWRbQc7EWl-",
        "outputId": "150fb084-0391-4c6c-ffcd-d3b227d1e62b"
      },
      "source": [
        "import re\n",
        "bleu_scores_sci=[]\n",
        "for para in list1:\n",
        "  generated=text_generator(para)\n",
        "  generated = re.sub(r'==.*?==+', '', generated)\n",
        "  generated = generated.replace('\\n', '')\n",
        "\n",
        "  file1=open(\"/content/drive/MyDrive/science articles generated.txt\",\"a\")\n",
        "  file1.write(generated+\"\\n\")\n",
        "  file1.close()\n",
        "\n",
        "  bleu_scores_sci.append(bleu(para,generated))"
      ],
      "execution_count": null,
      "outputs": [
        {
          "output_type": "stream",
          "text": [
            "['The', 'Big', 'Bang', 'is', 'actually', 'not', 'a', '\"theory\"', 'at', 'all,', 'but', 'rather', 'a', 'scenario', 'or', 'model', 'about', 'the', 'early', 'moments', 'of', 'our', 'universe,', 'for', 'which', 'the', 'evidence', 'is', 'overwhelming.', 'It', 'is', 'a', 'common', 'misconception', 'that', 'the', 'Big', 'Bang', 'was', 'the', 'origin', 'of', 'the', 'universe.', 'In', 'reality,', 'the', 'Big', 'Bang', 'scenario']\n",
            "273 The Big Bang is actually not a \"theory\" at all, but rather a scenario or model about the early moments of our universe, for which the evidence is overwhelming. It is a common misconception that the Big Bang was the origin of the universe. In reality, the Big Bang scenario \n",
            "393\n",
            "1227\n",
            "['The', 'Cosmic', 'Background', 'Explorer', '(COBE)', 'satellite', 'was', 'launched', 'in', '1989,', 'twenty', 'five', 'years', 'after', 'the', 'discovery', 'of', 'the', 'microwave', 'background', 'radiation', 'in', '1964.', 'In', '1992,', 'the', 'COBE', 'team', 'announced', 'that', 'they', 'had', 'discovered', '“ripples', 'at', 'the', 'edge', 'of', 'the', 'universe”,', 'that', 'is,', 'the', 'first', 'sign', 'of', 'primordial', 'fluctuations', 'at', '380,000']\n",
            "314 The Cosmic Background Explorer (COBE) satellite was launched in 1989, twenty five years after the discovery of the microwave background radiation in 1964. In 1992, the COBE team announced that they had discovered “ripples at the edge of the universe”, that is, the first sign of primordial fluctuations at 380,000 \n",
            "69\n",
            "147\n",
            "314\n",
            "1030\n",
            "1569\n",
            "['The', 'dominant', 'sequence', 'transduction', 'models', 'are', 'based', 'on', 'complex', 'recurrent', 'or', 'convolutional', 'neural', 'networks', 'that', 'include', 'an', 'encoder', 'and', 'a', 'decoder.', 'The', 'best', 'performing', 'models', 'also', 'connect', 'the', 'encoder', 'and', 'decoder', 'through', 'an', 'attention', 'mechanism.', 'We', 'propose', 'a', 'new', 'simple', 'network', 'architecture,', 'the', 'Transformer,', 'based', 'solely', 'on', 'attention', 'mechanisms,', 'dispensing']\n",
            "353 The dominant sequence transduction models are based on complex recurrent or convolutional neural networks that include an encoder and a decoder. The best performing models also connect the encoder and decoder through an attention mechanism. We propose a new simple network architecture, the Transformer, based solely on attention mechanisms, dispensing \n",
            "796\n",
            "1609\n",
            "['In', 'the', 'early', 'modern', 'period,', 'due', 'to', 'colonialism', 'and', 'empire', 'building,', 'European', 'naturalists,', 'working', 'in', 'centralized', 'botanical', 'gardens', 'and', 'national', 'zoos,', 'investigated', 'an', 'unprecedented', 'variety', 'of', 'animal', 'and', 'plant', 'specimens.', 'Starting', 'in', 'the', '18th', 'century,', 'naturalists', 'began', 'to', 'systematically', 'investigate', 'the', 'fossil', 'remains', 'of', 'various', 'organisms', 'and', 'compare', 'these', 'with']\n",
            "360 In the early modern period, due to colonialism and empire building, European naturalists, working in centralized botanical gardens and national zoos, investigated an unprecedented variety of animal and plant specimens. Starting in the 18th century, naturalists began to systematically investigate the fossil remains of various organisms and compare these with \n",
            "844\n",
            "1684\n",
            "['It', 'is', 'not', 'difficult', 'to', 'understand', 'why,', 'in', 'spite', 'of', 'this,', 'we', 'feel', 'constrained', 'to', 'call', 'the', 'propositions', 'of', 'geometry', '“true.”', 'Geometrical', 'ideas', 'correspond', 'to', 'more', 'or', 'less', 'exact', 'objects', 'in', 'nature,', 'and', 'these', 'last', 'are', 'undoubtedly', 'the', 'exclusive', 'cause', 'of', 'the', 'genesis', 'of', 'those', 'ideas.', 'Geometry', 'ought', 'to', 'refrain']\n",
            "300 It is not difficult to understand why, in spite of this, we feel constrained to call the propositions of geometry “true.” Geometrical ideas correspond to more or less exact objects in nature, and these last are undoubtedly the exclusive cause of the genesis of those ideas. Geometry ought to refrain \n",
            "846\n",
            "1700\n",
            "['The', 'Hubble', 'Deep', 'Field', '(HDF)', 'is', 'an', 'image', 'of', 'a', 'small', 'region', 'in', 'the', 'constellation', 'Ursa', 'Major,', 'constructed', 'from', 'a', 'series', 'of', 'observations', 'by', 'the', 'Hubble', 'Space', 'Telescope.', 'It', 'covers', 'an', 'area', 'about', '2.6', 'arcminutes', 'on', 'a', 'side,', 'about', 'one', '24-millionth', 'of', 'the', 'whole', 'sky,', 'which', 'is', 'equivalent', 'in', 'angular']\n",
            "286 The Hubble Deep Field (HDF) is an image of a small region in the constellation Ursa Major, constructed from a series of observations by the Hubble Space Telescope. It covers an area about 2.6 arcminutes on a side, about one 24-millionth of the whole sky, which is equivalent in angular \n",
            "775\n",
            "1587\n",
            "[\"Newton's\", 'law', 'of', 'universal', 'gravitation', 'is', 'usually', 'stated', 'as', 'that', 'every', 'particle', 'attracts', 'every', 'other', 'particle', 'in', 'the', 'universe', 'with', 'a', 'force', 'that', 'is', 'directly', 'proportional', 'to', 'the', 'product', 'of', 'their', 'masses', 'and', 'inversely', 'proportional', 'to', 'the', 'square', 'of', 'the', 'distance', 'between', 'their', 'centers.[note', '1]', 'The', 'publication', 'of', 'the', 'theory']\n",
            "317 Newton's law of universal gravitation is usually stated as that every particle attracts every other particle in the universe with a force that is directly proportional to the product of their masses and inversely proportional to the square of the distance between their centers.[note 1] The publication of the theory \n",
            "863\n",
            "1728\n",
            "['A', 'recurrent', 'neural', 'network', '(RNN)', 'is', 'a', 'class', 'of', 'artificial', 'neural', 'networks', 'where', 'connections', 'between', 'nodes', 'form', 'a', 'directed', 'graph', 'along', 'a', 'temporal', 'sequence.', 'This', 'allows', 'it', 'to', 'exhibit', 'temporal', 'dynamic', 'behavior.', 'Derived', 'from', 'feedforward', 'neural', 'networks,', 'RNNs', 'can', 'use', 'their', 'internal', 'state', '(memory)', 'to', 'process', 'variable', 'length', 'sequences', 'of']\n",
            "333 A recurrent neural network (RNN) is a class of artificial neural networks where connections between nodes form a directed graph along a temporal sequence. This allows it to exhibit temporal dynamic behavior. Derived from feedforward neural networks, RNNs can use their internal state (memory) to process variable length sequences of \n",
            "797\n",
            "1602\n",
            "['Psychology', 'is', 'the', 'science', 'of', 'mind', 'and', 'behavior.', 'Psychology', 'includes', 'the', 'study', 'of', 'conscious', 'and', 'unconscious', 'phenomena,', 'as', 'well', 'as', 'feelings', 'and', 'thought.', 'It', 'is', 'an', 'academic', 'discipline', 'of', 'immense', 'scope.', 'Psychologists', 'also', 'seek', 'an', 'understanding', 'of', 'the', 'emergent', 'properties', 'of', 'brains,', 'linking', 'the', 'discipline', 'to', 'neuroscience.', 'As', 'a', 'social']\n",
            "329 Psychology is the science of mind and behavior. Psychology includes the study of conscious and unconscious phenomena, as well as feelings and thought. It is an academic discipline of immense scope. Psychologists also seek an understanding of the emergent properties of brains, linking the discipline to neuroscience. As a social \n",
            "785\n",
            "1543\n",
            "['Computer', 'vision', 'is', 'an', 'interdisciplinary', 'scientific', 'field', 'that', 'deals', 'with', 'how', 'computers', 'can', 'gain', 'high-level', 'understanding', 'from', 'digital', 'images', 'or', 'videos.', 'From', 'the', 'perspective', 'of', 'engineering,', 'it', 'seeks', 'to', 'understand', 'and', 'automate', 'tasks', 'that', 'the', 'human', 'visual', 'system', 'can', 'do.[1][2][3]Computer', 'vision', 'tasks', 'include', 'methods', 'for', 'acquiring,', 'processing,', 'analyzing', 'and', 'understanding']\n",
            "369 Computer vision is an interdisciplinary scientific field that deals with how computers can gain high-level understanding from digital images or videos. From the perspective of engineering, it seeks to understand and automate tasks that the human visual system can do.[1][2][3]Computer vision tasks include methods for acquiring, processing, analyzing and understanding \n",
            "828\n",
            "1693\n"
          ],
          "name": "stdout"
        }
      ]
    },
    {
      "cell_type": "code",
      "metadata": {
        "colab": {
          "base_uri": "https://localhost:8080/"
        },
        "id": "jQqm8tssQZY7",
        "outputId": "079e0e2c-1ce7-4fae-859e-a94fe0b6b26f"
      },
      "source": [
        "print(\"Finance bleu scores:\")\n",
        "for i in bleu_scores:\n",
        "  print(i)"
      ],
      "execution_count": null,
      "outputs": [
        {
          "output_type": "stream",
          "text": [
            "Finance bleu scores:\n",
            "0.29372960133044873\n",
            "0.2170733578395206\n",
            "0.29372960133044873\n",
            "0.29372960133044873\n",
            "0.29372960133044873\n",
            "0.12175114371305808\n",
            "0.28015193218702505\n",
            "0.1801413562081085\n",
            "0.12175114371305808\n",
            "0.24350601878055653\n"
          ],
          "name": "stdout"
        }
      ]
    },
    {
      "cell_type": "code",
      "metadata": {
        "colab": {
          "base_uri": "https://localhost:8080/"
        },
        "id": "UFVBgXhR9eIo",
        "outputId": "e666e5ea-464c-4193-fd5b-0e035f40dfda"
      },
      "source": [
        "print(\"Entertainment bleu scores:\")\n",
        "for i in bleu_scores_enter:\n",
        "  print(i)"
      ],
      "execution_count": null,
      "outputs": [
        {
          "output_type": "stream",
          "text": [
            "Entertainment bleu scores:\n",
            "0.1801413562081085\n",
            "0.3153109568285757\n",
            "0.24350601878055653\n",
            "0.24350601878055653\n",
            "0.1801413562081085\n",
            "0.24350601878055653\n",
            "0.12175114371305808\n",
            "0.2170733578395206\n",
            "0.2170733578395206\n",
            "0.1801413562081085\n"
          ],
          "name": "stdout"
        }
      ]
    },
    {
      "cell_type": "code",
      "metadata": {
        "colab": {
          "background_save": true,
          "base_uri": "https://localhost:8080/"
        },
        "id": "P10YyPyxEc9_",
        "outputId": "f21946c1-af52-40c6-bc75-87ebf79d4107"
      },
      "source": [
        "print(\"Science bleu scores:\")\n",
        "for i in bleu_scores_sci:\n",
        "  print(i)"
      ],
      "execution_count": null,
      "outputs": [
        {
          "output_type": "stream",
          "text": [
            "Science bleu scores:\n",
            "0.1801413562081085\n",
            "0.26381374036376243\n",
            "0.1801413562081085\n",
            "0.12175114371305808\n",
            "0.28015193218702505\n",
            "0.12175114371305808\n",
            "0.24350601878055653\n",
            "0.28015193218702505\n",
            "0.26381374036376243\n",
            "0.12175114371305808\n"
          ],
          "name": "stdout"
        }
      ]
    },
    {
      "cell_type": "code",
      "metadata": {
        "colab": {
          "base_uri": "https://localhost:8080/"
        },
        "id": "YwUBCkydigrV",
        "outputId": "920fe2ea-610c-4ac7-caa2-3c5efe855037"
      },
      "source": [
        "import re\n",
        "bleu_scores_sci_T5=[]\n",
        "for para in list1:\n",
        "  generated=text_generatorT5(para)\n",
        "  generated = re.sub(r'==.*?==+', '', generated)\n",
        "  generated = generated.replace('\\n', '')\n",
        "\n",
        "  file1=open(\"/content/drive/MyDrive/science articles generated T5.txt\",\"a\")\n",
        "  file1.write(generated+\"\\n\")\n",
        "  file1.close()\n",
        "\n",
        "  bleu_scores_sci_T5.append(bleu(para,generated))"
      ],
      "execution_count": 21,
      "outputs": [
        {
          "output_type": "stream",
          "text": [
            "['The', 'Big', 'Bang', 'is', 'actually', 'not', 'a', '\"theory\"', 'at', 'all,', 'but', 'rather', 'a', 'scenario', 'or', 'model', 'about', 'the', 'early', 'moments', 'of', 'our', 'universe,', 'for', 'which', 'the', 'evidence', 'is', 'overwhelming.', 'It', 'is', 'a', 'common', 'misconception', 'that', 'the', 'Big', 'Bang', 'was', 'the', 'origin', 'of', 'the', 'universe.', 'In', 'reality,', 'the', 'Big', 'Bang', 'scenario']\n",
            "284 summarize: The Big Bang is actually not a \"theory\" at all, but rather a scenario or model about the early moments of our universe, for which the evidence is overwhelming. It is a common misconception that the Big Bang was the origin of the universe. In reality, the Big Bang scenario \n",
            "['The', 'Cosmic', 'Background', 'Explorer', '(COBE)', 'satellite', 'was', 'launched', 'in', '1989,', 'twenty', 'five', 'years', 'after', 'the', 'discovery', 'of', 'the', 'microwave', 'background', 'radiation', 'in', '1964.', 'In', '1992,', 'the', 'COBE', 'team', 'announced', 'that', 'they', 'had', 'discovered', '“ripples', 'at', 'the', 'edge', 'of', 'the', 'universe”,', 'that', 'is,', 'the', 'first', 'sign', 'of', 'primordial', 'fluctuations', 'at', '380,000']\n",
            "325 summarize: The Cosmic Background Explorer (COBE) satellite was launched in 1989, twenty five years after the discovery of the microwave background radiation in 1964. In 1992, the COBE team announced that they had discovered “ripples at the edge of the universe”, that is, the first sign of primordial fluctuations at 380,000 \n",
            "['The', 'dominant', 'sequence', 'transduction', 'models', 'are', 'based', 'on', 'complex', 'recurrent', 'or', 'convolutional', 'neural', 'networks', 'that', 'include', 'an', 'encoder', 'and', 'a', 'decoder.', 'The', 'best', 'performing', 'models', 'also', 'connect', 'the', 'encoder', 'and', 'decoder', 'through', 'an', 'attention', 'mechanism.', 'We', 'propose', 'a', 'new', 'simple', 'network', 'architecture,', 'the', 'Transformer,', 'based', 'solely', 'on', 'attention', 'mechanisms,', 'dispensing']\n",
            "364 summarize: The dominant sequence transduction models are based on complex recurrent or convolutional neural networks that include an encoder and a decoder. The best performing models also connect the encoder and decoder through an attention mechanism. We propose a new simple network architecture, the Transformer, based solely on attention mechanisms, dispensing \n",
            "['In', 'the', 'early', 'modern', 'period,', 'due', 'to', 'colonialism', 'and', 'empire', 'building,', 'European', 'naturalists,', 'working', 'in', 'centralized', 'botanical', 'gardens', 'and', 'national', 'zoos,', 'investigated', 'an', 'unprecedented', 'variety', 'of', 'animal', 'and', 'plant', 'specimens.', 'Starting', 'in', 'the', '18th', 'century,', 'naturalists', 'began', 'to', 'systematically', 'investigate', 'the', 'fossil', 'remains', 'of', 'various', 'organisms', 'and', 'compare', 'these', 'with']\n",
            "371 summarize: In the early modern period, due to colonialism and empire building, European naturalists, working in centralized botanical gardens and national zoos, investigated an unprecedented variety of animal and plant specimens. Starting in the 18th century, naturalists began to systematically investigate the fossil remains of various organisms and compare these with \n",
            "['It', 'is', 'not', 'difficult', 'to', 'understand', 'why,', 'in', 'spite', 'of', 'this,', 'we', 'feel', 'constrained', 'to', 'call', 'the', 'propositions', 'of', 'geometry', '“true.”', 'Geometrical', 'ideas', 'correspond', 'to', 'more', 'or', 'less', 'exact', 'objects', 'in', 'nature,', 'and', 'these', 'last', 'are', 'undoubtedly', 'the', 'exclusive', 'cause', 'of', 'the', 'genesis', 'of', 'those', 'ideas.', 'Geometry', 'ought', 'to', 'refrain']\n",
            "311 summarize: It is not difficult to understand why, in spite of this, we feel constrained to call the propositions of geometry “true.” Geometrical ideas correspond to more or less exact objects in nature, and these last are undoubtedly the exclusive cause of the genesis of those ideas. Geometry ought to refrain \n",
            "['The', 'Hubble', 'Deep', 'Field', '(HDF)', 'is', 'an', 'image', 'of', 'a', 'small', 'region', 'in', 'the', 'constellation', 'Ursa', 'Major,', 'constructed', 'from', 'a', 'series', 'of', 'observations', 'by', 'the', 'Hubble', 'Space', 'Telescope.', 'It', 'covers', 'an', 'area', 'about', '2.6', 'arcminutes', 'on', 'a', 'side,', 'about', 'one', '24-millionth', 'of', 'the', 'whole', 'sky,', 'which', 'is', 'equivalent', 'in', 'angular']\n",
            "297 summarize: The Hubble Deep Field (HDF) is an image of a small region in the constellation Ursa Major, constructed from a series of observations by the Hubble Space Telescope. It covers an area about 2.6 arcminutes on a side, about one 24-millionth of the whole sky, which is equivalent in angular \n",
            "[\"Newton's\", 'law', 'of', 'universal', 'gravitation', 'is', 'usually', 'stated', 'as', 'that', 'every', 'particle', 'attracts', 'every', 'other', 'particle', 'in', 'the', 'universe', 'with', 'a', 'force', 'that', 'is', 'directly', 'proportional', 'to', 'the', 'product', 'of', 'their', 'masses', 'and', 'inversely', 'proportional', 'to', 'the', 'square', 'of', 'the', 'distance', 'between', 'their', 'centers.[note', '1]', 'The', 'publication', 'of', 'the', 'theory']\n",
            "328 summarize: Newton's law of universal gravitation is usually stated as that every particle attracts every other particle in the universe with a force that is directly proportional to the product of their masses and inversely proportional to the square of the distance between their centers.[note 1] The publication of the theory \n",
            "['A', 'recurrent', 'neural', 'network', '(RNN)', 'is', 'a', 'class', 'of', 'artificial', 'neural', 'networks', 'where', 'connections', 'between', 'nodes', 'form', 'a', 'directed', 'graph', 'along', 'a', 'temporal', 'sequence.', 'This', 'allows', 'it', 'to', 'exhibit', 'temporal', 'dynamic', 'behavior.', 'Derived', 'from', 'feedforward', 'neural', 'networks,', 'RNNs', 'can', 'use', 'their', 'internal', 'state', '(memory)', 'to', 'process', 'variable', 'length', 'sequences', 'of']\n",
            "344 summarize: A recurrent neural network (RNN) is a class of artificial neural networks where connections between nodes form a directed graph along a temporal sequence. This allows it to exhibit temporal dynamic behavior. Derived from feedforward neural networks, RNNs can use their internal state (memory) to process variable length sequences of \n",
            "['Psychology', 'is', 'the', 'science', 'of', 'mind', 'and', 'behavior.', 'Psychology', 'includes', 'the', 'study', 'of', 'conscious', 'and', 'unconscious', 'phenomena,', 'as', 'well', 'as', 'feelings', 'and', 'thought.', 'It', 'is', 'an', 'academic', 'discipline', 'of', 'immense', 'scope.', 'Psychologists', 'also', 'seek', 'an', 'understanding', 'of', 'the', 'emergent', 'properties', 'of', 'brains,', 'linking', 'the', 'discipline', 'to', 'neuroscience.', 'As', 'a', 'social']\n",
            "340 summarize: Psychology is the science of mind and behavior. Psychology includes the study of conscious and unconscious phenomena, as well as feelings and thought. It is an academic discipline of immense scope. Psychologists also seek an understanding of the emergent properties of brains, linking the discipline to neuroscience. As a social \n",
            "['Computer', 'vision', 'is', 'an', 'interdisciplinary', 'scientific', 'field', 'that', 'deals', 'with', 'how', 'computers', 'can', 'gain', 'high-level', 'understanding', 'from', 'digital', 'images', 'or', 'videos.', 'From', 'the', 'perspective', 'of', 'engineering,', 'it', 'seeks', 'to', 'understand', 'and', 'automate', 'tasks', 'that', 'the', 'human', 'visual', 'system', 'can', 'do.[1][2][3]Computer', 'vision', 'tasks', 'include', 'methods', 'for', 'acquiring,', 'processing,', 'analyzing', 'and', 'understanding']\n",
            "380 summarize: Computer vision is an interdisciplinary scientific field that deals with how computers can gain high-level understanding from digital images or videos. From the perspective of engineering, it seeks to understand and automate tasks that the human visual system can do.[1][2][3]Computer vision tasks include methods for acquiring, processing, analyzing and understanding \n"
          ],
          "name": "stdout"
        }
      ]
    },
    {
      "cell_type": "code",
      "metadata": {
        "colab": {
          "base_uri": "https://localhost:8080/"
        },
        "id": "D2PPpsgQ5PvK",
        "outputId": "89920549-21a2-4866-c0dc-72b55772c604"
      },
      "source": [
        "bleu_scores_T5=[]\n",
        "for para in list1:\n",
        "  generated=text_generatorT5(para)\n",
        "  generated = re.sub(r'==.*?==+', '', generated)\n",
        "  generated = generated.replace('\\n', '')\n",
        "\n",
        "  file1=open(\"/content/drive/MyDrive/finance articles generated T5.txt\",\"a\")\n",
        "  file1.write(generated+\"\\n\")\n",
        "  file1.close()\n",
        "\n",
        "  bleu_scores_T5.append(bleu(para,generated))"
      ],
      "execution_count": 26,
      "outputs": [
        {
          "output_type": "stream",
          "text": [
            "['A', 'cryptocurrency,', 'crypto-currency,', 'or', 'crypto', 'is', 'a', 'digital', 'asset', 'designed', 'to', 'work', 'as', 'a', 'medium', 'of', 'exchange', 'wherein', 'individual', 'coin', 'ownership', 'records', 'are', 'stored', 'in', 'a', 'ledger', 'existing', 'in', 'a', 'form', 'of', 'a', 'computerized', 'database', 'using', 'strong', 'cryptography', 'to', 'secure', 'transaction', 'records,', 'to', 'control', 'the', 'creation', 'of', 'additional', 'coins,', 'and']\n",
            "333 summarize: A cryptocurrency, crypto-currency, or crypto is a digital asset designed to work as a medium of exchange wherein individual coin ownership records are stored in a ledger existing in a form of a computerized database using strong cryptography to secure transaction records, to control the creation of additional coins, and \n",
            "['Finance', 'is', 'a', 'term', 'for', 'matters', 'regarding', 'the', 'management,', 'creation,', 'and', 'study', 'of', 'money', 'and', 'investments.Specifically,', 'it', 'deals', 'with', 'the', 'questions', 'of', 'how', 'an', 'individual,', 'company', 'or', 'government', 'acquires', 'money', '–', 'called', 'capital', 'in', 'the', 'context', 'of', 'a', 'business', '–', 'and', 'how', 'they', 'spend', 'or', 'invest', 'that', 'money.', 'Finance', 'is']\n",
            "313 summarize: Finance is a term for matters regarding the management, creation, and study of money and investments.Specifically, it deals with the questions of how an individual, company or government acquires money – called capital in the context of a business – and how they spend or invest that money. Finance is \n",
            "['Bitcoin', '(₿)', 'is', 'a', 'decentralized', 'digital', 'currency,', 'without', 'a', 'central', 'bank', 'or', 'single', 'administrator,', 'that', 'can', 'be', 'sent', 'from', 'user', 'to', 'user', 'on', 'the', 'peer-to-peer', 'bitcoin', 'network', 'without', 'the', 'need', 'for', 'intermediaries.', 'Transactions', 'are', 'verified', 'by', 'network', 'nodes', 'through', 'cryptography', 'and', 'recorded', 'in', 'a', 'public', 'distributed', 'ledger', 'called', 'a', 'blockchain.']\n",
            "345 summarize: Bitcoin (₿) is a decentralized digital currency, without a central bank or single administrator, that can be sent from user to user on the peer-to-peer bitcoin network without the need for intermediaries. Transactions are verified by network nodes through cryptography and recorded in a public distributed ledger called a blockchain. \n",
            "['1%', 'of', 'total', 'assets', '($50', 'million)', 'in', 'bitcoin.', 'In', 'November', '2020,', 'PayPal', 'announced', 'that', 'US', 'users', 'could', 'buy,', 'hold,', 'or', 'sell', 'bitcoin.', 'On', '30', 'November', '2020,', 'the', 'bitcoin', 'value', 'reached', 'a', 'new', 'all-time', 'high', 'of', '$19,860,', 'topping', 'the', 'previous', 'high', 'of', 'December', '2017.', 'Alexander', 'Vinnik,', 'founder', 'of', 'BTC-e,', 'was', 'convicted']\n",
            "312 summarize: 1% of total assets ($50 million) in bitcoin. In November 2020, PayPal announced that US users could buy, hold, or sell bitcoin. On 30 November 2020, the bitcoin value reached a new all-time high of $19,860, topping the previous high of December 2017. Alexander Vinnik, founder of BTC-e, was convicted \n",
            "['and', 'complexity,', 'downloading', 'and', 'verifying', 'the', 'entire', 'blockchain', 'is', 'not', 'suitable', 'for', 'all', 'computing', 'devices.Lightweight', 'clients', 'consult', 'full', 'nodes', 'to', 'send', 'and', 'receive', 'transactions', 'without', 'requiring', 'a', 'local', 'copy', 'of', 'the', 'entire', 'blockchain', '(see', 'simplified', 'payment', 'verification', '–', 'SPV).', 'This', 'makes', 'lightweight', 'clients', 'much', 'faster', 'to', 'set', 'up', 'and', 'allows']\n",
            "354 summarize: and complexity, downloading and verifying the entire blockchain is not suitable for all computing devices.Lightweight clients consult full nodes to send and receive transactions without requiring a local copy of the entire blockchain (see simplified payment verification – SPV). This makes lightweight clients much faster to set up and allows \n",
            "['a', 'single', 'person', 'can', 'have', 'more', 'than', 'one', 'bitcoin', 'wallet.In', 'August', '2020,', 'MicroStrategy', 'invested', 'in', 'Bitcoin.In', 'May', '2021,', 'the', \"Bitcoin's\", 'market', 'share', 'on', 'exchanges', 'dropped', 'from', '70%', 'to', '45%', 'as', 'investors', 'pursued', 'altcoins.Peter', \"Thiel's\", 'Founders', 'Fund', 'invested', 'US$3', 'million', 'in', 'BitPay.', 'In', '2012,', 'an', 'incubator', 'for', 'bitcoin-focused', 'start-ups', 'was', 'founded']\n",
            "347 summarize: a single person can have more than one bitcoin wallet.In August 2020, MicroStrategy invested in Bitcoin.In May 2021, the Bitcoin's market share on exchanges dropped from 70% to 45% as investors pursued altcoins.Peter Thiel's Founders Fund invested US$3 million in BitPay. In 2012, an incubator for bitcoin-focused start-ups was founded \n",
            "['A', 'stock', 'market,', 'equity', 'market,', 'or', 'share', 'market', 'is', 'the', 'aggregation', 'of', 'buyers', 'and', 'sellers', 'of', 'stocks', '(also', 'called', 'shares),', 'which', 'represent', 'ownership', 'claims', 'on', 'businesses;', 'these', 'may', 'include', 'securities', 'listed', 'on', 'a', 'public', 'stock', 'exchange,', 'as', 'well', 'as', 'stock', 'that', 'is', 'only', 'traded', 'privately,', 'such', 'as', 'shares', 'of', 'private']\n",
            "317 summarize: A stock market, equity market, or share market is the aggregation of buyers and sellers of stocks (also called shares), which represent ownership claims on businesses; these may include securities listed on a public stock exchange, as well as stock that is only traded privately, such as shares of private \n",
            "['World\".The', 'first', 'modern', 'stock,', 'for', 'the', 'Dutch', 'East', 'India', 'Company,', 'was', 'traded', 'on', 'the', 'Nieuwe', 'Brug', 'in', 'Amsterdam,', 'the', 'Netherlands', 'in', '1602.', 'Initially', 'only', 'trading', 'on', 'that', 'single', 'company,', 'the', 'first', 'derivatives', 'were', 'traded', 'in', '1607,', 'with', 'the', 'first', 'dividend', 'distributions', 'following', 'several', 'years', 'later.', 'Futures', 'trading', 'and', 'short-selling', 'were']\n",
            "343 summarize: World\".The first modern stock, for the Dutch East India Company, was traded on the Nieuwe Brug in Amsterdam, the Netherlands in 1602. Initially only trading on that single company, the first derivatives were traded in 1607, with the first dividend distributions following several years later. Futures trading and short-selling were \n",
            "['Value', 'investing', 'is', 'an', 'investment', 'paradigm', 'that', 'involves', 'buying', 'securities', 'that', 'appear', 'underpriced', 'by', 'some', 'form', 'of', 'fundamental', 'analysis.', 'The', 'various', 'forms', 'of', 'value', 'investing', 'derive', 'from', 'the', 'investment', 'philosophy', 'first', 'taught', 'by', 'Benjamin', 'Graham', 'and', 'David', 'Dodd', 'at', 'Columbia', 'Business', 'School', 'in', '1928,', 'and', 'subsequently', 'developed', 'in', 'their', '1934']\n",
            "347 summarize: Value investing is an investment paradigm that involves buying securities that appear underpriced by some form of fundamental analysis. The various forms of value investing derive from the investment philosophy first taught by Benjamin Graham and David Dodd at Columbia Business School in 1928, and subsequently developed in their 1934 \n",
            "['In', 'finance,', 'a', 'bond', 'is', 'an', 'instrument', 'of', 'indebtedness', 'of', 'the', 'bond', 'issuer', 'to', 'the', 'holders.', 'The', 'most', 'common', 'types', 'of', 'bonds', 'include', 'municipal', 'bonds', 'and', 'corporate', 'bonds.', 'Bonds', 'can', 'be', 'in', 'mutual', 'funds', 'or', 'can', 'be', 'in', 'private', 'investing', 'where', 'a', 'person', 'would', 'give', 'a', 'loan', 'to', 'a', 'company']\n",
            "280 summarize: In finance, a bond is an instrument of indebtedness of the bond issuer to the holders. The most common types of bonds include municipal bonds and corporate bonds. Bonds can be in mutual funds or can be in private investing where a person would give a loan to a company \n"
          ],
          "name": "stdout"
        }
      ]
    },
    {
      "cell_type": "code",
      "metadata": {
        "colab": {
          "base_uri": "https://localhost:8080/"
        },
        "id": "P7MkE_bz9r_a",
        "outputId": "12a8d0ac-2098-44d6-a8d1-716a44859093"
      },
      "source": [
        "bleu_scores_ent_T5=[]\n",
        "for para in list1:\n",
        "  generated=text_generatorT5(para)\n",
        "  generated = re.sub(r'==.*?==+', '', generated)\n",
        "  generated = generated.replace('\\n', '')\n",
        "\n",
        "  file1=open(\"/content/drive/MyDrive/entertainment articles generated T5.txt\",\"a\")\n",
        "  file1.write(generated+\"\\n\")\n",
        "  file1.close()\n",
        "\n",
        "  bleu_scores_ent_T5.append(bleu(para,generated))"
      ],
      "execution_count": 29,
      "outputs": [
        {
          "output_type": "stream",
          "text": [
            "['Entertainment', 'is', 'a', 'form', 'of', 'activity', 'that', 'holds', 'the', 'attention', 'and', 'interest', 'of', 'an', 'audience', 'or', 'gives', 'pleasure', 'and', 'delight.', 'It', 'can', 'be', 'an', 'idea', 'or', 'a', 'task,', 'but', 'is', 'more', 'likely', 'to', 'be', 'one', 'of', 'the', 'activities', 'or', 'events', 'that', 'have', 'developed', 'over', 'thousands', 'of', 'years', 'specifically', 'for', 'the']\n",
            "282 summarize: Entertainment is a form of activity that holds the attention and interest of an audience or gives pleasure and delight. It can be an idea or a task, but is more likely to be one of the activities or events that have developed over thousands of years specifically for the \n",
            "['or', 'part', 'of', 'the', 'audience,', 'or', 'they', 'may', 'swap', 'roles', 'even', 'during', 'the', 'course', 'of', 'one', 'entertainment.', 'In', 'the', 'court', 'at', 'the', 'Palace', 'of', 'Versailles,', '\"thousands', 'of', 'courtiers,', 'including', 'men', 'and', 'women', 'who', 'inhabited', 'its', 'apartments,', 'acted', 'as', 'both', 'performers', 'and', 'spectators', 'in', 'daily', 'rituals', 'that', 'reinforced', 'the', 'status', 'hierarchy\".Like']\n",
            "325 summarize: or part of the audience, or they may swap roles even during the course of one entertainment. In the court at the Palace of Versailles, \"thousands of courtiers, including men and women who inhabited its apartments, acted as both performers and spectators in daily rituals that reinforced the status hierarchy\".Like \n",
            "['primary', 'purpose.The', 'meaning', 'of', 'the', 'word', '\"comedy\"', 'and', 'the', \"audience's\", 'expectations', 'of', 'it', 'have', 'changed', 'over', 'time', 'and', 'vary', 'according', 'to', 'culture.', 'Simple', 'physical', 'comedy', 'such', 'as', 'slapstick', 'is', 'entertaining', 'to', 'a', 'broad', 'range', 'of', 'people', 'of', 'all', 'ages.', 'However,', 'as', 'cultures', 'become', 'more', 'sophisticated,', 'national', 'nuances', 'appear', 'in', 'the']\n",
            "328 summarize: primary purpose.The meaning of the word \"comedy\" and the audience's expectations of it have changed over time and vary according to culture. Simple physical comedy such as slapstick is entertaining to a broad range of people of all ages. However, as cultures become more sophisticated, national nuances appear in the \n",
            "['were', 'once', 'popular', 'at', 'social', 'gatherings', 'like', 'balls,', 'but', 'are', 'now', 'rarely', 'performed.', 'On', 'the', 'other', 'hand,', 'many', 'folk', 'dances', '(such', 'as', 'Scottish', 'Highland', 'dancing', 'and', 'Irish', 'dancing),', 'have', 'evolved', 'into', 'competitions,', 'which', 'by', 'adding', 'to', 'their', 'audiences,', 'has', 'increased', 'their', 'entertainment', 'value.', '\"Irish', 'dance', 'theatre,', 'which', 'sometimes', 'features', 'traditional']\n",
            "351 summarize: were once popular at social gatherings like balls, but are now rarely performed. On the other hand, many folk dances (such as Scottish Highland dancing and Irish dancing), have evolved into competitions, which by adding to their audiences, has increased their entertainment value. \"Irish dance theatre, which sometimes features traditional \n",
            "['Even', 'if', 'a', 'parade', 'uses', 'new', 'technology', 'and', 'is', 'some', 'distance', 'away', '(9),', 'it', 'is', 'likely', 'to', 'have', 'a', 'strong', 'appeal,', 'draw', 'the', 'attention', 'of', 'onlookers', 'and', 'entertain', 'them.Parades', '–', '10', 'types,', 'six', 'cultures', 'Fireworks', 'Fireworks', 'are', 'a', 'part', 'of', 'many', 'public', 'entertainments', 'and', 'have', 'retained', 'an', 'enduring', 'popularity', 'since']\n",
            "309 summarize: Even if a parade uses new technology and is some distance away (9), it is likely to have a strong appeal, draw the attention of onlookers and entertain them.Parades – 10 types, six cultures Fireworks Fireworks are a part of many public entertainments and have retained an enduring popularity since \n",
            "['Hollywood', 'is', 'a', 'neighborhood', 'in', 'the', 'central', 'region', 'of', 'Los', 'Angeles,', 'California.', 'Its', 'name', 'has', 'come', 'to', 'be', 'a', 'shorthand', 'reference', 'for', 'the', 'U.S.', 'film', 'industry', 'and', 'the', 'people', 'associated', 'with', 'it.', 'Many', 'of', 'its', 'studios', 'such', 'as', 'Disney,', 'Paramount', 'Pictures,', 'Warner', 'Bros.,', 'and', 'Universal', 'Pictures', 'were', 'founded', 'there;', 'Paramount']\n",
            "320 summarize: Hollywood is a neighborhood in the central region of Los Angeles, California. Its name has come to be a shorthand reference for the U.S. film industry and the people associated with it. Many of its studios such as Disney, Paramount Pictures, Warner Bros., and Universal Pictures were founded there; Paramount \n",
            "['A', 'film,', 'also', 'called', 'a', 'movie,', 'motion', 'picture', 'or', 'moving', 'picture,', 'is', 'a', 'work', 'of', 'visual', 'art', 'used', 'to', 'simulate', 'experiences', 'that', 'communicate', 'ideas,', 'stories,', 'perceptions,', 'feelings,', 'beauty,', 'or', 'atmosphere', 'through', 'the', 'use', 'of', 'moving', 'images.', 'These', 'images', 'are', 'generally', 'accompanied', 'by', 'sound,', 'and', 'more', 'rarely,', 'other', 'sensory', 'stimulations.', 'The']\n",
            "337 summarize: A film, also called a movie, motion picture or moving picture, is a work of visual art used to simulate experiences that communicate ideas, stories, perceptions, feelings, beauty, or atmosphere through the use of moving images. These images are generally accompanied by sound, and more rarely, other sensory stimulations. The \n",
            "['technology', 'has', 'been', 'the', 'driving', 'force', 'for', 'change', 'throughout', 'the', '1990s', 'and', 'into', 'the', '2000s.', 'Digital', '3D', 'projection', 'largely', 'replaced', 'earlier', 'problem-prone', '3D', 'film', 'systems', 'and', 'has', 'become', 'popular', 'in', 'the', 'early', '2010s.\"Film', 'theory\"', 'seeks', 'to', 'develop', 'concise', 'and', 'systematic', 'concepts', 'that', 'apply', 'to', 'the', 'study', 'of', 'film', 'as', 'art.']\n",
            "323 summarize: technology has been the driving force for change throughout the 1990s and into the 2000s. Digital 3D projection largely replaced earlier problem-prone 3D film systems and has become popular in the early 2010s.\"Film theory\" seeks to develop concise and systematic concepts that apply to the study of film as art. \n",
            "['to', 'do', 'so.', 'One', 'might', 'propose', '\"going', 'to', 'the', 'cinema\"', 'when', 'referring', 'to', 'the', 'activity,', 'or', 'sometimes', '\"to', 'the', 'pictures\"', 'in', 'British', 'English,', 'whereas', 'the', 'US', 'expression', 'is', 'usually', '\"going', 'to', 'the', 'movies.\"', 'A', 'cinema', 'usually', 'shows', 'a', 'mass-marketed', 'movie', 'using', 'a', 'front-projection', 'screen', 'process', 'with', 'either', 'a', 'film', 'projector']\n",
            "318 summarize: to do so. One might propose \"going to the cinema\" when referring to the activity, or sometimes \"to the pictures\" in British English, whereas the US expression is usually \"going to the movies.\" A cinema usually shows a mass-marketed movie using a front-projection screen process with either a film projector \n",
            "['Thor', 'Odinson,', 'or', 'simply', 'Thor', 'is', 'a', 'fictional', 'character', 'appearing', 'in', 'American', 'comic', 'books', 'published', 'by', 'Marvel', 'Comics.', 'The', 'character,', 'which', 'is', 'based', 'on', 'the', 'Norse', 'deity', 'of', 'the', 'same', 'name,', 'is', 'the', 'Asgardian', 'god', 'of', 'thunder', 'who', 'possesses', 'the', 'enchanted', 'hammer,', 'Mjolnir,', 'which', 'grants', 'him', 'the', 'ability', 'to', 'fly']\n",
            "307 summarize: Thor Odinson, or simply Thor is a fictional character appearing in American comic books published by Marvel Comics. The character, which is based on the Norse deity of the same name, is the Asgardian god of thunder who possesses the enchanted hammer, Mjolnir, which grants him the ability to fly \n"
          ],
          "name": "stdout"
        }
      ]
    },
    {
      "cell_type": "code",
      "metadata": {
        "colab": {
          "base_uri": "https://localhost:8080/"
        },
        "id": "MIutnajWig6c",
        "outputId": "9dde6ca2-c48f-43bd-9c04-41e89db7f1d9"
      },
      "source": [
        "print(\"Science bleu scores T5:\")\n",
        "for i in bleu_scores_sci_T5:\n",
        "  print(i)"
      ],
      "execution_count": 22,
      "outputs": [
        {
          "output_type": "stream",
          "text": [
            "Science bleu scores T5:\n",
            "0.1801413562081085\n",
            "0.1801413562081085\n",
            "0.30528776109824257\n",
            "0.33905704271921533\n",
            "0.12175114371305808\n",
            "0.26381374036376243\n",
            "0.3241320922202416\n",
            "0.28015193218702505\n",
            "0.3153109568285757\n",
            "0.26381374036376243\n"
          ],
          "name": "stdout"
        }
      ]
    },
    {
      "cell_type": "code",
      "metadata": {
        "colab": {
          "base_uri": "https://localhost:8080/"
        },
        "id": "huzVLLqS5rM7",
        "outputId": "e6ba5438-15f9-456b-f090-3a5a1870ce37"
      },
      "source": [
        "print(\"Finance bleu scores T5:\")\n",
        "for i in bleu_scores_T5:\n",
        "  print(i)"
      ],
      "execution_count": 27,
      "outputs": [
        {
          "output_type": "stream",
          "text": [
            "Finance bleu scores T5:\n",
            "0.2170733578395206\n",
            "0.29372960133044873\n",
            "0.26381374036376243\n",
            "0.28015193218702505\n",
            "0.26381374036376243\n",
            "0.1801413562081085\n",
            "0.2170733578395206\n",
            "0.2170733578395206\n",
            "0.2170733578395206\n",
            "0.2170733578395206\n"
          ],
          "name": "stdout"
        }
      ]
    },
    {
      "cell_type": "code",
      "metadata": {
        "colab": {
          "base_uri": "https://localhost:8080/"
        },
        "id": "s4bzl7qX9s8K",
        "outputId": "c773efc5-e119-4604-96b7-6b77b82c6737"
      },
      "source": [
        "print(\"Entertainment bleu scores T5:\")\n",
        "for i in bleu_scores_ent_T5:\n",
        "  print(i)"
      ],
      "execution_count": 30,
      "outputs": [
        {
          "output_type": "stream",
          "text": [
            "Entertainment bleu scores T5:\n",
            "0.1801413562081085\n",
            "0.28015193218702505\n",
            "0.1801413562081085\n",
            "0.24350601878055653\n",
            "0.2170733578395206\n",
            "0.29372960133044873\n",
            "0.24350601878055653\n",
            "0.28015193218702505\n",
            "0.1801413562081085\n",
            "0.26381374036376243\n"
          ],
          "name": "stdout"
        }
      ]
    },
    {
      "cell_type": "markdown",
      "metadata": {
        "id": "iJuKy1rUChM2"
      },
      "source": [
        "##Total bleu of Finance"
      ]
    },
    {
      "cell_type": "code",
      "metadata": {
        "id": "8_UOc7v0CggA"
      },
      "source": [
        "finance_text=''\n",
        "\n",
        "file1=open('/content/drive/MyDrive/finance articles.txt','r')\n",
        "\n",
        "for line in file1:\n",
        "  finance_text+=line\n",
        "\n",
        "file1.close()\n",
        "\n",
        "finance_text_gpt2=''\n",
        "\n",
        "file1=open('/content/drive/MyDrive/finance articles generated.txt','r')\n",
        "\n",
        "for line in file1:\n",
        "  finance_text_gpt2+=line\n",
        "\n",
        "file1.close()\n",
        "\n",
        "finance_text_T5=''\n",
        "\n",
        "file1=open('/content/drive/MyDrive/finance articles generated T5.txt','r')\n",
        "\n",
        "for line in file1:\n",
        "  finance_text_T5+=line\n",
        "\n",
        "file1.close()\n",
        "\n"
      ],
      "execution_count": null,
      "outputs": []
    },
    {
      "cell_type": "code",
      "metadata": {
        "colab": {
          "base_uri": "https://localhost:8080/"
        },
        "id": "GTK9nbupEl93",
        "outputId": "5bf8721a-d4d1-4cd6-8fde-04370c4b1f84"
      },
      "source": [
        "print(len(finance_text.split()),len(finance_text_gpt2.split()),len(finance_text_T5.split()))"
      ],
      "execution_count": 34,
      "outputs": [
        {
          "output_type": "stream",
          "text": [
            "21000 25913 20207\n"
          ],
          "name": "stdout"
        }
      ]
    },
    {
      "cell_type": "code",
      "metadata": {
        "colab": {
          "base_uri": "https://localhost:8080/"
        },
        "id": "5SapfXVKE4JK",
        "outputId": "0e9f691f-e4a2-4aa4-dfc7-9375aba80cd4"
      },
      "source": [
        "bleu_finance_gpt2=bleu(finance_text,finance_text_gpt2,20000)\n",
        "bleu_finance_T5=bleu(finance_text,finance_text_T5,20000)\n",
        "\n",
        "print(bleu_finance_gpt2)\n",
        "print(bleu_finance_T5)"
      ],
      "execution_count": 37,
      "outputs": [
        {
          "output_type": "stream",
          "text": [
            "0.26381374036376243\n",
            "0.2170733578395206\n"
          ],
          "name": "stdout"
        }
      ]
    },
    {
      "cell_type": "markdown",
      "metadata": {
        "id": "xc0fUrKsFwXm"
      },
      "source": [
        "##Total bleu of Entertainment"
      ]
    },
    {
      "cell_type": "code",
      "metadata": {
        "id": "A4dIgYPjGDt9"
      },
      "source": [
        "entertainment_text=''\n",
        "\n",
        "file1=open('/content/drive/MyDrive/entertainment articles.txt','r')\n",
        "\n",
        "for line in file1:\n",
        "  entertainment_text+=line\n",
        "\n",
        "file1.close()\n",
        "\n",
        "entertainment_text_gpt2=''\n",
        "\n",
        "file1=open('/content/drive/MyDrive/entertainment articles generated.txt','r')\n",
        "\n",
        "for line in file1:\n",
        "  entertainment_text_gpt2+=line\n",
        "\n",
        "file1.close()\n",
        "\n",
        "entertainment_text_T5=''\n",
        "\n",
        "file1=open('/content/drive/MyDrive/entertainment articles generated T5.txt','r')\n",
        "\n",
        "for line in file1:\n",
        "  entertainment_text_T5+=line\n",
        "\n",
        "file1.close()"
      ],
      "execution_count": 39,
      "outputs": []
    },
    {
      "cell_type": "code",
      "metadata": {
        "colab": {
          "base_uri": "https://localhost:8080/"
        },
        "id": "gcfH6SMQGcPl",
        "outputId": "10de2c01-7126-4cf2-c8a0-de2e5fd3e566"
      },
      "source": [
        "print(len(entertainment_text.split()),len(entertainment_text_gpt2.split()),len(entertainment_text_T5.split()))"
      ],
      "execution_count": 40,
      "outputs": [
        {
          "output_type": "stream",
          "text": [
            "21000 24129 20310\n"
          ],
          "name": "stdout"
        }
      ]
    },
    {
      "cell_type": "code",
      "metadata": {
        "colab": {
          "base_uri": "https://localhost:8080/"
        },
        "id": "I8u1sWb5Gnvr",
        "outputId": "08adfd5d-3249-4602-f308-431472aeb139"
      },
      "source": [
        "bleu_entertainment_gpt2=bleu(entertainment_text,entertainment_text_gpt2,20000)\n",
        "bleu_entertainment_T5=bleu(entertainment_text,entertainment_text_T5,20000)\n",
        "\n",
        "print(bleu_entertainment_gpt2)\n",
        "print(bleu_entertainment_T5)"
      ],
      "execution_count": 41,
      "outputs": [
        {
          "output_type": "stream",
          "text": [
            "0.24350601878055653\n",
            "0.24350601878055653\n"
          ],
          "name": "stdout"
        }
      ]
    },
    {
      "cell_type": "markdown",
      "metadata": {
        "id": "XyoV1qKoIKDZ"
      },
      "source": [
        "## Total bleu of Science"
      ]
    },
    {
      "cell_type": "code",
      "metadata": {
        "id": "UTN-326jH0hL"
      },
      "source": [
        "science_text=''\n",
        "\n",
        "file1=open('/content/drive/MyDrive/science articles.txt','r')\n",
        "\n",
        "for line in file1:\n",
        "  science_text+=line\n",
        "\n",
        "file1.close()\n",
        "\n",
        "science_text_gpt2=''\n",
        "\n",
        "file1=open('/content/drive/MyDrive/science articles generated.txt','r')\n",
        "\n",
        "for line in file1:\n",
        "  science_text_gpt2+=line\n",
        "\n",
        "file1.close()\n",
        "\n",
        "science_text_T5=''\n",
        "\n",
        "file1=open('/content/drive/MyDrive/science articles generated T5.txt','r')\n",
        "\n",
        "for line in file1:\n",
        "  science_text_T5+=line\n",
        "\n",
        "file1.close()"
      ],
      "execution_count": 42,
      "outputs": []
    },
    {
      "cell_type": "code",
      "metadata": {
        "colab": {
          "base_uri": "https://localhost:8080/"
        },
        "id": "HFGX-osQH0rh",
        "outputId": "21ccc4fe-bc8e-4460-d452-85ee738c3608"
      },
      "source": [
        "print(len(science_text.split()),len(science_text_gpt2.split()),len(science_text_T5.split()))"
      ],
      "execution_count": 43,
      "outputs": [
        {
          "output_type": "stream",
          "text": [
            "20793 46924 30499\n"
          ],
          "name": "stdout"
        }
      ]
    },
    {
      "cell_type": "code",
      "metadata": {
        "colab": {
          "base_uri": "https://localhost:8080/"
        },
        "id": "xUgc17HJH0zL",
        "outputId": "fd465af1-41aa-43d6-e75a-e29e800dab62"
      },
      "source": [
        "bleu_science_gpt2=bleu(science_text,science_text_gpt2,20000)\n",
        "bleu_science_T5=bleu(science_text,science_text_T5,20000)\n",
        "\n",
        "print(bleu_science_gpt2)\n",
        "print(bleu_science_T5)"
      ],
      "execution_count": 45,
      "outputs": [
        {
          "output_type": "stream",
          "text": [
            "0.1801413562081085\n",
            "0.12175114371305808\n"
          ],
          "name": "stdout"
        }
      ]
    },
    {
      "cell_type": "code",
      "metadata": {
        "id": "SAtn_0k8lihC"
      },
      "source": [
        "!pip install wikipedia"
      ],
      "execution_count": null,
      "outputs": []
    },
    {
      "cell_type": "code",
      "metadata": {
        "colab": {
          "base_uri": "https://localhost:8080/"
        },
        "id": "ZD-c4uzijmQs",
        "outputId": "8826c4a6-38c3-448b-d95a-c4622b517572"
      },
      "source": [
        "# Import package\n",
        "import wikipedia\n",
        "# Specify the title of the Wikipedia page\n",
        "wiki = wikipedia.page('Thor (Marvel Comics)')\n",
        "# Extract the plain text content of the page\n",
        "wiki_text = wiki.content\n",
        "#print(wiki_text)\n",
        "\n",
        "# Import package\n",
        "import re\n",
        "# Clean text\n",
        "wiki_text = re.sub(r'==.*?==+', '', wiki_text)\n",
        "wiki_text = wiki_text.replace('\\n', '')\n",
        "print(wiki_text[:2000])\n",
        "print(len(wiki_text.split()))\n",
        "wiki_text=\" \".join(wiki_text.split()[:2100].copy())\n",
        "print(wiki_text)"
      ],
      "execution_count": null,
      "outputs": [
        {
          "output_type": "stream",
          "text": [
            "Thor Odinson, or simply Thor is a fictional character appearing in American comic books published by Marvel Comics. The character, which is based on the Norse deity of the same name, is the Asgardian god of thunder who possesses the enchanted hammer, Mjolnir, which grants him the ability to fly and manipulate weather amongst his other superhuman attributes.Debuting in the Silver Age of Comic Books, the character first appeared in Journey into Mystery #83 (August 1962) and was created by penciller-plotter Jack Kirby, editor-plotter Stan Lee, and scripter Larry Lieber. The character has starred in several ongoing series and limited series, and is a founding member of the superhero team the Avengers, appearing in all volumes of the series. The character has been seen in Marvel Comics merchandise, animated television series, movies, video games, clothing and toys. Thor has a host of supporting characters and enemies.Chris Hemsworth portrays the character in several Marvel Cinematic Universe films including Thor (2011), The Avengers (2012), Thor: The Dark World (2013), Avengers: Age of Ultron (2015), a cameo in Doctor Strange (2016), Thor: Ragnarok (2017), Avengers: Infinity War (2018), Avengers: Endgame (2019) and the upcoming Thor: Love and Thunder (2022).Thor placed 14th on IGN's list of \"Top 100 Comic Book Heroes of All Time\" in 2011, and first in their list of \"The Top 50 Avengers\" in 2012.The Marvel Comics superhero Thor debuted in the science fiction/fantasy anthology title Journey into Mystery #83 (cover-date August 1962), and was created by editor-plotter Stan Lee, scripter Larry Lieber, and penciller-plotter Jack Kirby. A different version of the mythological Thor had appeared previously in Venus #12–13 (February–April 1951).  Lee in 2002 described Thor's genesis early in the Marvel pantheon, following the creation of the Hulk:[H]ow do you make someone stronger than the strongest person? It finally came to me: Don't make him human — make him a god. I decided re\n",
            "6143\n",
            "Thor Odinson, or simply Thor is a fictional character appearing in American comic books published by Marvel Comics. The character, which is based on the Norse deity of the same name, is the Asgardian god of thunder who possesses the enchanted hammer, Mjolnir, which grants him the ability to fly and manipulate weather amongst his other superhuman attributes.Debuting in the Silver Age of Comic Books, the character first appeared in Journey into Mystery #83 (August 1962) and was created by penciller-plotter Jack Kirby, editor-plotter Stan Lee, and scripter Larry Lieber. The character has starred in several ongoing series and limited series, and is a founding member of the superhero team the Avengers, appearing in all volumes of the series. The character has been seen in Marvel Comics merchandise, animated television series, movies, video games, clothing and toys. Thor has a host of supporting characters and enemies.Chris Hemsworth portrays the character in several Marvel Cinematic Universe films including Thor (2011), The Avengers (2012), Thor: The Dark World (2013), Avengers: Age of Ultron (2015), a cameo in Doctor Strange (2016), Thor: Ragnarok (2017), Avengers: Infinity War (2018), Avengers: Endgame (2019) and the upcoming Thor: Love and Thunder (2022).Thor placed 14th on IGN's list of \"Top 100 Comic Book Heroes of All Time\" in 2011, and first in their list of \"The Top 50 Avengers\" in 2012.The Marvel Comics superhero Thor debuted in the science fiction/fantasy anthology title Journey into Mystery #83 (cover-date August 1962), and was created by editor-plotter Stan Lee, scripter Larry Lieber, and penciller-plotter Jack Kirby. A different version of the mythological Thor had appeared previously in Venus #12–13 (February–April 1951). Lee in 2002 described Thor's genesis early in the Marvel pantheon, following the creation of the Hulk:[H]ow do you make someone stronger than the strongest person? It finally came to me: Don't make him human — make him a god. I decided readers were already pretty familiar with the Greek and Roman gods. It might be fun to delve into the old Norse legends... Besides, I pictured Norse gods looking like Vikings of old, with the flowing beards, horned helmets, and battle clubs. ...Journey into Mystery needed a shot in the arm, so I picked Thor ... to headline the book. After writing an outline depicting the story and the characters I had in mind, I asked my brother, Larry, to write the script because I didn't have time. ...and it was only natural for me to assign the penciling to Jack Kirby...In a 1984 interview Kirby said \"I did a version of Thor for D.C. in the fifties before I did him for Marvel. I created Thor at Marvel because I was forever enamored of legends, which is why I knew about Balder, Heimdall, and Odin. I tried to update Thor and put him into a superhero costume, but he was still Thor.\" The story was included in Tales of the Unexpected #16, from 1957; and although the character had a different design, some details would be reused by Kirby when he created the Marvel Comics version. And in a 1992 interview, Kirby said \"[I] knew the Thor legends very well, but I wanted to modernize them. I felt that might be a new thing for comics, taking the old legends and modernizing them.\"Subsequent stories of the 13-page feature \"The Mighty Thor\" continued to be plotted by Lee, and were variously scripted by Lieber or by Robert Bernstein, working under the pseudonym \"R. Berns\". Various artists penciled the feature, including Jack Kirby, Joe Sinnott, Don Heck, and Al Hartley. With Journey into Mystery #101 (Feb. 1964), the series began a long and definitive run by writer and co-plotter Lee and penciler and co-plotter Kirby that lasted until the by-then-retitled Thor #179 (Aug. 1970).Lee and Kirby included Thor in The Avengers #1 (Sept. 1963) as a founding member of the superhero team. The character has since appeared in every subsequent volume of the series.The five-page featurette \"Tales of Asgard\" was added in Journey into Mystery #97 (Oct. 1963), followed by \"The Mighty Thor\" becoming the dominant cover logo with issue #104 (May 1964). The feature itself expanded to 18 pages in #105, which eliminated the remaining anthological story from each issue; it was reduced to 16 pages five issues later. Comics historian Les Daniels noted that \"the adventures of Thor were gradually transformed from stories about a strange-looking superhero into a spectacular saga.\" Artist Chic Stone, who inked several early Thor stories, observed that \"Kirby could just lead you through all these different worlds. The readers would follow him anywhere.\"Journey into Mystery was retitled Thor (per the indicia, or The Mighty Thor per most covers) with issue #126 (March 1966). \"Tales of Asgard\" was replaced by a five-page featurette starring the Inhumans from #146–152 (Nov. 1967 – May 1968), after which featurettes were dropped and the Thor stories expanded to Marvel's then-standard 20-page length. Marvel filed for a trademark for \"The Mighty Thor\" in 1967 and the United States Patent and Trademark Office issued the registration in 1970.After Kirby left the title, Neal Adams penciled issues #180–181 (Sept.-Oct. 1970). John Buscema then became the regular artist the following issue. Buscema continued to draw the book almost without interruption until #278 (Dec. 1978). Lee stopped scripting soon after Kirby left, and during Buscema's long stint on the book, the stories were mostly written by Gerry Conway, Len Wein, or Roy Thomas. Thomas continued to write the title after Buscema's departure, working much of the time with the artist Keith Pollard; during this period Thomas integrated many elements of traditional Norse mythology into the title, with specific stories translated into comics form. Following Thomas's tenure, Thor had a changing creative team.In the mid-1970s, Marvel considered giving the character a second series as part of parent company Magazine Management's line of black-and-white comics magazines. A story written by Steve Englehart for the aborted project appeared in Thor Annual #5 (1976). A black-and-white Thor story appeared in Marvel Preview #10 (Winter 1977).Walt Simonson took over both writing and art as of #337 (Nov. 1983). His stories placed a greater emphasis on the character's mythological origins. Simonson's run as writer-artist lasted until #367 (May 1986), although he continued to write – and occasionally draw – the book until issue #382 (Aug. 1987). Simonson's run, which introduced the character Beta Ray Bill, was regarded as a popular and critical success. Simonson's later stories were drawn by Sal Buscema, who describes Simonson's stories as \"very stimulating. It was a pleasure working on his plots, because they were a lot of fun to illustrate. He had a lot of great ideas, and he took Thor in a totally new direction.\" Asked why he was leaving Thor, Simonson said that he felt the series was due for a change in creative direction, and that he wanted to reduce his work load for a time. After Simonson's departure, Marvel's editor-in-chief at the time, Tom DeFalco, became the writer. Working primarily with artist Ron Frenz, DeFalco stayed on the book until #459 (Feb. 1993).As a consequence of the \"Heroes Reborn\" crossover story arc of the 1990s, Thor was removed from mainstream Marvel continuity and with other Marvel characters re-imagined in an alternate universe for one year. The Thor title reverted to Journey into Mystery with issue #503 (Nov. 1996), and ran four different, sequential features (\"The Lost Gods\"; \"Master of Kung Fu\"; \"Black Widow\", and \"Hannibal King\") before ceasing publication with #521 (June 1998).When the character was returned to the mainstream Marvel Universe, Thor was relaunched with Thor vol. 2, #1 (July 1998). As of issue #36, the title used dual numbering in a tribute to the original Thor series, and the caption box for said issue became #36 / #538 (June 2001). The title ran until issue #85 / #587, dated December 2004. Dan Jurgens wrote the first 79 issues, with Daniel Berman and Michael Avon Oeming completing the series.The third volume debuted as Thor #1 (Sept. 2007), initially written by J. Michael Straczynski and penciled by Olivier Coipel. Beginning with what would have been vol. 3, #13 (Jan. 2009), the third volume reverted to issue #600, reflecting the total number of published issues from all three volumes. Kieron Gillen took over from Straczynski in Thor #604 with artists Billy Tan, Richard Elson and Dougie Braithwaite, with his final storyline finishing in issue #614. Matt Fraction took over the series with issue #615, after having been announced as starting in Thor #610 and #611.To coincide with the Thor film, Marvel launched a number of new series starring the character in mid-2010. These included Thor: The Mighty Avenger by Roger Langridge and Chris Samnee, Thor: First Thunder by Bryan J. L. Glass and Tan Eng Huat, Thor: For Asgard by Robert Rodi and Simone Bianchi, and Iron Man/Thor by the writing duo of Dan Abnett and Andy Lanning.In April 2011, Thor once again reverted to its original title of Journey into Mystery with issue #622, reuniting writer Gillen and artist Braithwaite in a series of stories starring Thor's adopted brother, Loki. An ongoing series, titled The Mighty Thor, launched the same month with writer Fraction and artist Coipel. The series ended with issue #22 in October 2012.In October 2012, Thor became a regular character in Uncanny Avengers, beginning with issue #1. The following month, an ongoing series titled Thor: God of Thunder by writer Jason Aaron and artist Esad Ribić debuted as part of the Marvel NOW! relaunch. This story arc was voted as the 8th best Thor story by Comicbook.com.In October 2014, a fourth volume of Thor by Jason Aaron and artist Russell Dauterman debuted that featured a female character (later revealed to be Jane Foster) in the role of Thor after the classic hero is no longer able to wield Mjolnir. Aaron stated that \"this is not She-Thor. This is not Lady Thor. This is not Thorita. This is Thor. This is the Thor of the Marvel Universe. But it's unlike any Thor we've ever seen before.\" The following October, Aaron and Dauterman signed an exclusive agreement with Marvel to continue their work together in a second volume of The Mighty Thor, also starring Foster.In July 2016, Marvel announced a new ongoing series titled The Unworthy Thor by Aaron and Coipel. The series follows the original Thor, who now refers to himself as Odinson, as he tries to find his purpose after relinquishing his name and title to Foster. Aaron stated that the series finds Odinson in a dark place explaining, \"He failed for a reason we still don't quite understand. He dropped the hammer and hasn't been able to pick it up since. So then we go to a pretty dark place. A darker, more desperate, more driven version.\"Thor's father Odin decides his son needed to be taught humility and consequently incarnates Thor (without memories of godhood) on Earth as a mortal, partially disabled human medical student, Donald Blake. After becoming a doctor, Blake witnesses the arrival of an alien scouting party while he is on vacation in Norway. Blake flees from the aliens into a cave. After discovering Thor's hammer Mjolnir (disguised as a walking stick) and striking it against a rock, he transforms into the thunder god. Later, in Thor #159, Blake is revealed to have always been Thor, Odin's enchantment having caused him to forget his history as The Thunder God and believe himself mortal.Defeating the aliens, Thor shares a double life with his alter ego: treating the ill in a private practice with nurse – and eventual love – Jane Foster, and defending humanity from evil. Thor's presence on Earth almost immediately attracts the attention of his adoptive brother and enemy Loki. Loki is responsible for the emergence of three of Thor's principal foes: the Absorbing Man; the Destroyer, and the Wrecker. On one occasion, Loki's tactics were accidentally beneficial – although successful in using an illusion of the Hulk to draw Thor into battle, it results in the formation of the superhero team the Avengers, of which Thor and Hulk, alongside Ant-Man, the Wasp and Iron Man, would be founding members. Thor's other early foes include Zarrko, the Tomorrow Man; the Radioactive Man; the Lava Man; the Cobra; Mister Hyde; the Enchantress and the Executioner, and the Grey Gargoyle.Falling in love with Jane Foster, Thor disobeys his father and refuses to return to Asgard, an act for which he is punished on several occasions. Thor's natural affinity for Earth is eventually revealed to be due to the fact that he was the son of the Elder Goddess Gaea. Although Thor initially regards\n"
          ],
          "name": "stdout"
        }
      ]
    },
    {
      "cell_type": "code",
      "metadata": {
        "id": "mD7s6rWLl3u2"
      },
      "source": [
        "wikipedia.search('Thor')"
      ],
      "execution_count": null,
      "outputs": []
    },
    {
      "cell_type": "code",
      "metadata": {
        "id": "uvJKpxsKo4cD"
      },
      "source": [
        "'''finance_file_path=\"/content/drive/MyDrive/entertainment articles.txt\"\n",
        "file1=open(finance_file_path,\"a\")\n",
        "file1.write(wiki_text+\"\\n\")\n",
        "file1.close()'''"
      ],
      "execution_count": null,
      "outputs": []
    },
    {
      "cell_type": "code",
      "metadata": {
        "id": "gaqWyAS-tknU"
      },
      "source": [
        ""
      ],
      "execution_count": null,
      "outputs": []
    }
  ]
}