{
  "nbformat": 4,
  "nbformat_minor": 0,
  "metadata": {
    "colab": {
      "name": "week2_implimentation.ipynb",
      "provenance": [],
      "mount_file_id": "1rTLRw9tkc0rWIOKkn7zgzLcvxUXu7uG2",
      "authorship_tag": "ABX9TyM+K4PN+Vgy4Cpa8JFKtWzl",
      "include_colab_link": true
    },
    "kernelspec": {
      "name": "python3",
      "display_name": "Python 3"
    },
    "language_info": {
      "name": "python"
    },
    "accelerator": "GPU"
  },
  "cells": [
    {
      "cell_type": "markdown",
      "metadata": {
        "id": "view-in-github",
        "colab_type": "text"
      },
      "source": [
        "<a href=\"https://colab.research.google.com/github/avc9/NLPlay-with-Transformers--SoC-2021/blob/main/week2_implimentation.ipynb\" target=\"_parent\"><img src=\"https://colab.research.google.com/assets/colab-badge.svg\" alt=\"Open In Colab\"/></a>"
      ]
    },
    {
      "cell_type": "code",
      "metadata": {
        "id": "aEStU7_kRpen"
      },
      "source": [
        "import numpy as np\n",
        "import pandas as pd\n",
        "import nltk\n",
        "from nltk.corpus import stopwords\n",
        "from nltk.stem import PorterStemmer\n",
        "from nltk.tokenize.treebank import TreebankWordDetokenizer\n",
        "import sklearn\n",
        "import matplotlib.pyplot as plt\n",
        "import re\n",
        "from bs4 import BeautifulSoup\n",
        "from sklearn.model_selection import train_test_split\n",
        "from sklearn.feature_extraction.text import CountVectorizer\n",
        "from sklearn.feature_extraction.text import TfidfVectorizer\n",
        "from sklearn.linear_model import LogisticRegression\n",
        "from sklearn.metrics import classification_report,confusion_matrix,accuracy_score\n",
        "import random"
      ],
      "execution_count": 1,
      "outputs": []
    },
    {
      "cell_type": "code",
      "metadata": {
        "colab": {
          "base_uri": "https://localhost:8080/"
        },
        "id": "GSDnam-PSJ2Z",
        "outputId": "4f1c78bd-e70b-4161-c625-afcf1b49b4e6"
      },
      "source": [
        "nltk.download('punkt')\n",
        "nltk.download('stopwords')"
      ],
      "execution_count": 2,
      "outputs": [
        {
          "output_type": "stream",
          "text": [
            "[nltk_data] Downloading package punkt to /root/nltk_data...\n",
            "[nltk_data]   Unzipping tokenizers/punkt.zip.\n",
            "[nltk_data] Downloading package stopwords to /root/nltk_data...\n",
            "[nltk_data]   Unzipping corpora/stopwords.zip.\n"
          ],
          "name": "stdout"
        },
        {
          "output_type": "execute_result",
          "data": {
            "text/plain": [
              "True"
            ]
          },
          "metadata": {
            "tags": []
          },
          "execution_count": 2
        }
      ]
    },
    {
      "cell_type": "code",
      "metadata": {
        "colab": {
          "base_uri": "https://localhost:8080/",
          "height": 196
        },
        "id": "WlKFsK7tSKop",
        "outputId": "10b65f54-dec1-4821-c13d-d38010323ef8"
      },
      "source": [
        "data=pd.read_csv(\"/content/drive/MyDrive/SOC-2021 data/IMDB Dataset.csv\")\n",
        "data.head(5)"
      ],
      "execution_count": 3,
      "outputs": [
        {
          "output_type": "execute_result",
          "data": {
            "text/html": [
              "<div>\n",
              "<style scoped>\n",
              "    .dataframe tbody tr th:only-of-type {\n",
              "        vertical-align: middle;\n",
              "    }\n",
              "\n",
              "    .dataframe tbody tr th {\n",
              "        vertical-align: top;\n",
              "    }\n",
              "\n",
              "    .dataframe thead th {\n",
              "        text-align: right;\n",
              "    }\n",
              "</style>\n",
              "<table border=\"1\" class=\"dataframe\">\n",
              "  <thead>\n",
              "    <tr style=\"text-align: right;\">\n",
              "      <th></th>\n",
              "      <th>review</th>\n",
              "      <th>sentiment</th>\n",
              "    </tr>\n",
              "  </thead>\n",
              "  <tbody>\n",
              "    <tr>\n",
              "      <th>0</th>\n",
              "      <td>One of the other reviewers has mentioned that ...</td>\n",
              "      <td>positive</td>\n",
              "    </tr>\n",
              "    <tr>\n",
              "      <th>1</th>\n",
              "      <td>A wonderful little production. &lt;br /&gt;&lt;br /&gt;The...</td>\n",
              "      <td>positive</td>\n",
              "    </tr>\n",
              "    <tr>\n",
              "      <th>2</th>\n",
              "      <td>I thought this was a wonderful way to spend ti...</td>\n",
              "      <td>positive</td>\n",
              "    </tr>\n",
              "    <tr>\n",
              "      <th>3</th>\n",
              "      <td>Basically there's a family where a little boy ...</td>\n",
              "      <td>negative</td>\n",
              "    </tr>\n",
              "    <tr>\n",
              "      <th>4</th>\n",
              "      <td>Petter Mattei's \"Love in the Time of Money\" is...</td>\n",
              "      <td>positive</td>\n",
              "    </tr>\n",
              "  </tbody>\n",
              "</table>\n",
              "</div>"
            ],
            "text/plain": [
              "                                              review sentiment\n",
              "0  One of the other reviewers has mentioned that ...  positive\n",
              "1  A wonderful little production. <br /><br />The...  positive\n",
              "2  I thought this was a wonderful way to spend ti...  positive\n",
              "3  Basically there's a family where a little boy ...  negative\n",
              "4  Petter Mattei's \"Love in the Time of Money\" is...  positive"
            ]
          },
          "metadata": {
            "tags": []
          },
          "execution_count": 3
        }
      ]
    },
    {
      "cell_type": "code",
      "metadata": {
        "colab": {
          "base_uri": "https://localhost:8080/"
        },
        "id": "G0-asbgySMUZ",
        "outputId": "879f58ef-94bf-4780-bff9-24932f6ea1b5"
      },
      "source": [
        "stop_words=set(stopwords.words('english'))\n",
        "\n",
        "def strip_html(text):\n",
        "    soup = BeautifulSoup(text, \"html.parser\")\n",
        "    return soup.get_text()\n",
        "\n",
        "def remove_between_square_brackets(text):\n",
        "    return re.sub('\\[[^]]*\\]', '', text)\n",
        "\n",
        "\n",
        "def denoise_text(text):\n",
        "    text = strip_html(text)\n",
        "    text = remove_between_square_brackets(text)\n",
        "    return text\n",
        "\n",
        "data['review']=data['review'].apply(denoise_text)\n",
        "print(data.head(5))"
      ],
      "execution_count": 4,
      "outputs": [
        {
          "output_type": "stream",
          "text": [
            "                                              review sentiment\n",
            "0  One of the other reviewers has mentioned that ...  positive\n",
            "1  A wonderful little production. The filming tec...  positive\n",
            "2  I thought this was a wonderful way to spend ti...  positive\n",
            "3  Basically there's a family where a little boy ...  negative\n",
            "4  Petter Mattei's \"Love in the Time of Money\" is...  positive\n"
          ],
          "name": "stdout"
        }
      ]
    },
    {
      "cell_type": "code",
      "metadata": {
        "colab": {
          "base_uri": "https://localhost:8080/"
        },
        "id": "RTwywN7FSO_f",
        "outputId": "91bbcb15-e4cb-4e48-90bc-24da1f9393a0"
      },
      "source": [
        "def stem_tokenizer(text):\n",
        "  tokenizer=nltk.RegexpTokenizer(r\"\\w+\")\n",
        "  stemmer=PorterStemmer()\n",
        "  return [stemmer.stem(word) for word in tokenizer.tokenize(text) if word.lower() not in stop_words]\n",
        "\n",
        "data['review']=data['review'].apply(stem_tokenizer)\n",
        "print(data.head(5))\n",
        "print(data['review'][0])"
      ],
      "execution_count": 5,
      "outputs": [
        {
          "output_type": "stream",
          "text": [
            "                                              review sentiment\n",
            "0  [one, review, mention, watch, 1, Oz, episod, h...  positive\n",
            "1  [wonder, littl, product, film, techniqu, unass...  positive\n",
            "2  [thought, wonder, way, spend, time, hot, summe...  positive\n",
            "3  [basic, famili, littl, boy, jake, think, zombi...  negative\n",
            "4  [petter, mattei, love, time, money, visual, st...  positive\n",
            "['one', 'review', 'mention', 'watch', '1', 'Oz', 'episod', 'hook', 'right', 'exactli', 'happen', 'first', 'thing', 'struck', 'Oz', 'brutal', 'unflinch', 'scene', 'violenc', 'set', 'right', 'word', 'GO', 'trust', 'show', 'faint', 'heart', 'timid', 'show', 'pull', 'punch', 'regard', 'drug', 'sex', 'violenc', 'hardcor', 'classic', 'use', 'word', 'call', 'OZ', 'nicknam', 'given', 'oswald', 'maximum', 'secur', 'state', 'penitentari', 'focus', 'mainli', 'emerald', 'citi', 'experiment', 'section', 'prison', 'cell', 'glass', 'front', 'face', 'inward', 'privaci', 'high', 'agenda', 'Em', 'citi', 'home', 'mani', 'aryan', 'muslim', 'gangsta', 'latino', 'christian', 'italian', 'irish', 'scuffl', 'death', 'stare', 'dodgi', 'deal', 'shadi', 'agreement', 'never', 'far', 'away', 'would', 'say', 'main', 'appeal', 'show', 'due', 'fact', 'goe', 'show', 'dare', 'forget', 'pretti', 'pictur', 'paint', 'mainstream', 'audienc', 'forget', 'charm', 'forget', 'romanc', 'OZ', 'mess', 'around', 'first', 'episod', 'ever', 'saw', 'struck', 'nasti', 'surreal', 'say', 'readi', 'watch', 'develop', 'tast', 'Oz', 'got', 'accustom', 'high', 'level', 'graphic', 'violenc', 'violenc', 'injustic', 'crook', 'guard', 'sold', 'nickel', 'inmat', 'kill', 'order', 'get', 'away', 'well', 'manner', 'middl', 'class', 'inmat', 'turn', 'prison', 'bitch', 'due', 'lack', 'street', 'skill', 'prison', 'experi', 'watch', 'Oz', 'may', 'becom', 'comfort', 'uncomfort', 'view', 'that', 'get', 'touch', 'darker', 'side']\n"
          ],
          "name": "stdout"
        }
      ]
    },
    {
      "cell_type": "code",
      "metadata": {
        "colab": {
          "base_uri": "https://localhost:8080/"
        },
        "id": "DfhFVPq8S0Oc",
        "outputId": "9ce312f6-4269-48e6-b8f3-b51d27ab6c8d"
      },
      "source": [
        "def class_pre(val):\n",
        "  if val=='positive':\n",
        "    return 1\n",
        "  else:\n",
        "    return 0\n",
        "data['sentiment']=data['sentiment'].apply(class_pre)\n",
        "print(data.sentiment.value_counts())"
      ],
      "execution_count": 6,
      "outputs": [
        {
          "output_type": "stream",
          "text": [
            "1    25000\n",
            "0    25000\n",
            "Name: sentiment, dtype: int64\n"
          ],
          "name": "stdout"
        }
      ]
    },
    {
      "cell_type": "code",
      "metadata": {
        "id": "re-agph1Sswv"
      },
      "source": [
        "from gensim import corpora\n",
        "\n",
        "def make_dict(data):\n",
        "    review_dict = corpora.Dictionary(data['review'])\n",
        "    return review_dict\n",
        "\n",
        "\n",
        "review_dict = make_dict(data)"
      ],
      "execution_count": 7,
      "outputs": []
    },
    {
      "cell_type": "code",
      "metadata": {
        "colab": {
          "base_uri": "https://localhost:8080/"
        },
        "id": "BIMH7eBnTlxf",
        "outputId": "7fdf7657-7592-48cb-bdd3-4de58b1d0270"
      },
      "source": [
        "def split_train_test(data, test_size=0.3, shuffle_state=True):\n",
        "    X_train, X_test, Y_train, Y_test = train_test_split(data['review'], \n",
        "                                                        data['sentiment'], \n",
        "                                                        shuffle=shuffle_state,\n",
        "                                                        test_size=test_size, \n",
        "                                                        random_state=15)\n",
        "    print(\"Value counts for Train sentiments\")\n",
        "    print(Y_train.value_counts())\n",
        "    print(\"Value counts for Test sentiments\")\n",
        "    print(Y_test.value_counts())\n",
        "    print(type(X_train))\n",
        "    print(type(Y_train))\n",
        "    X_train = X_train.reset_index()\n",
        "    X_test = X_test.reset_index()\n",
        "    Y_train = Y_train.to_frame()\n",
        "    Y_train = Y_train.reset_index()\n",
        "    Y_test = Y_test.to_frame()\n",
        "    Y_test = Y_test.reset_index()\n",
        "    print(X_train.head())\n",
        "    return X_train, X_test, Y_train, Y_test\n",
        "\n",
        "# Call the train_test_split\n",
        "X_train, X_test, Y_train, Y_test = split_train_test(data)"
      ],
      "execution_count": 8,
      "outputs": [
        {
          "output_type": "stream",
          "text": [
            "Value counts for Train sentiments\n",
            "0    17512\n",
            "1    17488\n",
            "Name: sentiment, dtype: int64\n",
            "Value counts for Test sentiments\n",
            "1    7512\n",
            "0    7488\n",
            "Name: sentiment, dtype: int64\n",
            "<class 'pandas.core.series.Series'>\n",
            "<class 'pandas.core.series.Series'>\n",
            "   index                                             review\n",
            "0  36322  [sequel, exactli, expect, good, enough, everyo...\n",
            "1   4638  [pretti, well, known, one, get, deep, basic, s...\n",
            "2  46808  [made, mistak, buy, sinc, collect, comic, book...\n",
            "3  38099  [movi, proverbi, 80, flick, show, viewer, long...\n",
            "4  31461  [absolut, love, movi, child, seem, find, anywh...\n"
          ],
          "name": "stdout"
        }
      ]
    },
    {
      "cell_type": "code",
      "metadata": {
        "colab": {
          "base_uri": "https://localhost:8080/"
        },
        "id": "zyD5UHp6T80I",
        "outputId": "6a8404c2-d7d1-48cd-b41a-cddfdad7ac9d"
      },
      "source": [
        "import torch.nn as nn\n",
        "import torch.nn.functional as F\n",
        "import torch.optim as optim\n",
        "\n",
        "import torch\n",
        "# Use cuda if present\n",
        "device = torch.device(\"cuda\" if torch.cuda.is_available() else \"cpu\")\n",
        "print(\"Device available for running: \")\n",
        "print(device)"
      ],
      "execution_count": 9,
      "outputs": [
        {
          "output_type": "stream",
          "text": [
            "Device available for running: \n",
            "cuda\n"
          ],
          "name": "stdout"
        }
      ]
    },
    {
      "cell_type": "code",
      "metadata": {
        "id": "OUl8WZwNUAKR"
      },
      "source": [
        "class FeedforwardNeuralNetModel(nn.Module):\n",
        "    def __init__(self, input_dim, hidden_dim, output_dim):\n",
        "        super(FeedforwardNeuralNetModel, self).__init__()\n",
        "        self.fc1 = nn.Linear(input_dim, hidden_dim) \n",
        "        self.relu1 = nn.ReLU()\n",
        "        self.fc2 = nn.Linear(hidden_dim, hidden_dim)\n",
        "        self.relu2 = nn.ReLU()\n",
        "        self.fc3 = nn.Linear(hidden_dim, output_dim)  \n",
        "\n",
        "    def forward(self, x):\n",
        "        out = self.fc1(x)\n",
        "        out = self.relu1(out)\n",
        "        out = self.fc2(out)\n",
        "        out = self.relu2(out)\n",
        "        out = self.fc3(out)\n",
        "        return F.softmax(out, dim=1)\n"
      ],
      "execution_count": 10,
      "outputs": []
    },
    {
      "cell_type": "code",
      "metadata": {
        "id": "En183DaAU36E"
      },
      "source": [
        "VOCAB_SIZE = len(review_dict)\n",
        "NUM_LABELS = 2\n",
        "\n",
        "# Function to make bow vector to be used as input to network\n",
        "def make_bow_vector(review_dict, sentence):\n",
        "    vec = torch.zeros(VOCAB_SIZE, dtype=torch.float64, device=device)\n",
        "    for word in sentence:\n",
        "        vec[review_dict.token2id[word]] += 1\n",
        "    return vec.view(1, -1).float()"
      ],
      "execution_count": 11,
      "outputs": []
    },
    {
      "cell_type": "code",
      "metadata": {
        "id": "v-OkavAhVI2F"
      },
      "source": [
        "def make_target(label):\n",
        "    if label == 0:\n",
        "        return torch.tensor([0], dtype=torch.long, device=device)\n",
        "    else:\n",
        "        return torch.tensor([1], dtype=torch.long, device=device)"
      ],
      "execution_count": 12,
      "outputs": []
    },
    {
      "cell_type": "code",
      "metadata": {
        "id": "qUMsNLdxVTqM"
      },
      "source": [
        "VOCAB_SIZE = len(review_dict)\n",
        "\n",
        "input_dim = VOCAB_SIZE\n",
        "hidden_dim = 200\n",
        "output_dim = 2\n",
        "num_epochs = 26\n",
        "\n",
        "ff_nn_bow_model = FeedforwardNeuralNetModel(input_dim, hidden_dim, output_dim)\n",
        "ff_nn_bow_model.to(device)\n",
        "\n",
        "loss_function = nn.CrossEntropyLoss()\n",
        "optimizer = optim.SGD(ff_nn_bow_model.parameters(), lr=0.003)"
      ],
      "execution_count": 17,
      "outputs": []
    },
    {
      "cell_type": "code",
      "metadata": {
        "colab": {
          "base_uri": "https://localhost:8080/"
        },
        "id": "kphxY31AYfh3",
        "outputId": "852b0785-cbc4-41d7-d9ea-70ca5a50a68a"
      },
      "source": [
        "print(ff_nn_bow_model)"
      ],
      "execution_count": 14,
      "outputs": [
        {
          "output_type": "stream",
          "text": [
            "FeedforwardNeuralNetModel(\n",
            "  (fc1): Linear(in_features=74159, out_features=200, bias=True)\n",
            "  (relu1): ReLU()\n",
            "  (fc2): Linear(in_features=200, out_features=200, bias=True)\n",
            "  (relu2): ReLU()\n",
            "  (fc3): Linear(in_features=200, out_features=2, bias=True)\n",
            ")\n"
          ],
          "name": "stdout"
        }
      ]
    },
    {
      "cell_type": "code",
      "metadata": {
        "colab": {
          "base_uri": "https://localhost:8080/",
          "height": 1000
        },
        "id": "lu-86XjpV279",
        "outputId": "50eb3728-7cb0-459a-b861-a0ac5951dfe5"
      },
      "source": [
        "train_loss = []\n",
        "train_loss_buffer=0\n",
        "\n",
        "for epoch in range(num_epochs):\n",
        "    print(\"epoch number   %d\" % (epoch+1))\n",
        "    if (epoch+1) % 25 == 0:\n",
        "        print(\"Epoch completed: \" + str(epoch+1))\n",
        "    for index, row in X_train.iterrows():\n",
        "        optimizer.zero_grad()\n",
        "        bow_vec = make_bow_vector(review_dict, row['review'])       \n",
        "        probs = ff_nn_bow_model(bow_vec)\n",
        "        target = make_target(Y_train['sentiment'][index])\n",
        "        loss = loss_function(probs, target)        \n",
        "        train_loss_buffer+=loss.item()\n",
        "        loss.backward()\n",
        "        optimizer.step()\n",
        "    train_loss.append(train_loss_buffer/len(X_train))\n",
        "    print(train_loss_buffer/len(X_train))\n",
        "    train_loss_buffer=0\n",
        "plt.plot(train_loss)\n"
      ],
      "execution_count": 18,
      "outputs": [
        {
          "output_type": "stream",
          "text": [
            "epoch number   1\n",
            "0.48500758177127157\n",
            "epoch number   2\n",
            "0.4196617917707988\n",
            "epoch number   3\n",
            "0.40540017738171985\n",
            "epoch number   4\n",
            "0.3978624331840447\n",
            "epoch number   5\n",
            "0.3915704964407853\n",
            "epoch number   6\n",
            "0.3869028840150152\n",
            "epoch number   7\n",
            "0.38394410890936853\n",
            "epoch number   8\n",
            "0.3824993446741785\n",
            "epoch number   9\n",
            "0.3777674894622394\n",
            "epoch number   10\n",
            "0.37596051607557707\n",
            "epoch number   11\n",
            "0.3723873438060284\n",
            "epoch number   12\n",
            "0.37270133303574154\n",
            "epoch number   13\n",
            "0.3706075354703835\n",
            "epoch number   14\n",
            "0.3690310681751796\n",
            "epoch number   15\n",
            "0.3679595217662198\n",
            "epoch number   16\n",
            "0.3666178108964648\n",
            "epoch number   17\n",
            "0.3655858814009598\n",
            "epoch number   18\n",
            "0.36481085030181065\n",
            "epoch number   19\n",
            "0.3634265573118414\n",
            "epoch number   20\n",
            "0.3621887841122491\n",
            "epoch number   21\n",
            "0.3614297447264194\n",
            "epoch number   22\n",
            "0.36204143644826753\n",
            "epoch number   23\n",
            "0.360107060860736\n",
            "epoch number   24\n",
            "0.35950294935703275\n",
            "epoch number   25\n",
            "Epoch completed: 25\n",
            "0.3583930002306189\n",
            "epoch number   26\n",
            "0.35682960414631026\n"
          ],
          "name": "stdout"
        },
        {
          "output_type": "execute_result",
          "data": {
            "text/plain": [
              "[<matplotlib.lines.Line2D at 0x7f2331a3b510>]"
            ]
          },
          "metadata": {
            "tags": []
          },
          "execution_count": 18
        },
        {
          "output_type": "display_data",
          "data": {
            "image/png": "[encoded data removed]",
            "text/plain": [
              "<Figure size 432x288 with 1 Axes>"
            ]
          },
          "metadata": {
            "tags": [],
            "needs_background": "light"
          }
        }
      ]
    },
    {
      "cell_type": "code",
      "metadata": {
        "colab": {
          "base_uri": "https://localhost:8080/"
        },
        "id": "n2EeCUDT4K5w",
        "outputId": "2e859d8d-0b66-4ed6-e618-be91a3bc3a09"
      },
      "source": [
        "from sklearn.metrics import classification_report\n",
        "bow_ff_nn_predictions = []\n",
        "original_lables_ff_bow = []\n",
        "with torch.no_grad():\n",
        "    for index, row in X_test.iterrows():\n",
        "        bow_vec = make_bow_vector(review_dict, row['review'])\n",
        "        probs = ff_nn_bow_model(bow_vec)\n",
        "        bow_ff_nn_predictions.append(torch.argmax(probs, dim=1).cpu().numpy()[0])\n",
        "        original_lables_ff_bow.append(make_target(Y_test['sentiment'][index]).cpu().numpy()[0])\n",
        "print(classification_report(original_lables_ff_bow,bow_ff_nn_predictions))"
      ],
      "execution_count": 20,
      "outputs": [
        {
          "output_type": "stream",
          "text": [
            "              precision    recall  f1-score   support\n",
            "\n",
            "           0       0.91      0.84      0.87      7488\n",
            "           1       0.85      0.91      0.88      7512\n",
            "\n",
            "    accuracy                           0.88     15000\n",
            "   macro avg       0.88      0.88      0.88     15000\n",
            "weighted avg       0.88      0.88      0.88     15000\n",
            "\n"
          ],
          "name": "stdout"
        }
      ]
    }
  ]
}