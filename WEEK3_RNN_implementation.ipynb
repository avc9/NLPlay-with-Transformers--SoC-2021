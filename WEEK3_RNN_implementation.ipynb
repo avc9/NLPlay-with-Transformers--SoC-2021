{
  "nbformat": 4,
  "nbformat_minor": 0,
  "metadata": {
    "accelerator": "GPU",
    "colab": {
      "name": "WEEK3_RNN_implementation.ipynb",
      "provenance": [],
      "mount_file_id": "1sbz64VSJnhHLrd9kND7YH8m64BH17Aoa",
      "authorship_tag": "ABX9TyNQ1z5yHjpbxVJOrlt/PwJF"
    },
    "kernelspec": {
      "display_name": "Python 3",
      "name": "python3"
    },
    "language_info": {
      "name": "python"
    }
  },
  "cells": [
    {
      "cell_type": "code",
      "metadata": {
        "colab": {
          "base_uri": "https://localhost:8080/"
        },
        "id": "1Crp2wgVr06A",
        "outputId": "40815c17-24e2-44be-e616-d9361cfba5f0"
      },
      "source": [
        "import numpy as np\n",
        "import pandas as pd\n",
        "import nltk\n",
        "from nltk.corpus import stopwords\n",
        "from nltk.stem import PorterStemmer\n",
        "from nltk.tokenize.treebank import TreebankWordDetokenizer\n",
        "import sklearn\n",
        "import matplotlib.pyplot as plt\n",
        "import re\n",
        "from bs4 import BeautifulSoup\n",
        "from sklearn.model_selection import train_test_split\n",
        "from sklearn.feature_extraction.text import CountVectorizer\n",
        "from sklearn.feature_extraction.text import TfidfVectorizer\n",
        "from sklearn.linear_model import LogisticRegression\n",
        "from sklearn.metrics import classification_report,confusion_matrix,accuracy_score\n",
        "import random\n",
        "from gensim import corpora\n",
        "\n",
        "nltk.download('punkt');\n",
        "nltk.download('stopwords');\n",
        "\n",
        "data=pd.read_csv(\"/content/drive/MyDrive/SOC-2021 data/IMDB Dataset.csv\")\n",
        "\n",
        "\n",
        "stop_words=set(stopwords.words('english'))\n",
        "\n",
        "def strip_html(text):\n",
        "    soup = BeautifulSoup(text, \"html.parser\")\n",
        "    return soup.get_text()\n",
        "\n",
        "def remove_between_square_brackets(text):\n",
        "    return re.sub('\\[[^]]*\\]', '', text)\n",
        "\n",
        "\n",
        "def denoise_text(text):\n",
        "    text = strip_html(text)\n",
        "    text = remove_between_square_brackets(text)\n",
        "    return text\n",
        "\n",
        "data['review']=data['review'].apply(denoise_text)\n",
        "\n",
        "def stem_tokenizer(text):\n",
        "  tokenizer=nltk.RegexpTokenizer(r\"\\w+\")\n",
        "  stemmer=PorterStemmer()\n",
        "  return [stemmer.stem(word) for word in tokenizer.tokenize(text) if word.lower() not in stop_words]\n",
        "\n",
        "data['review']=data['review'].apply(stem_tokenizer)\n",
        "\n",
        "\n",
        "\n",
        "def make_dict(data):\n",
        "    review_dict = corpora.Dictionary(data['review'])\n",
        "    return review_dict\n",
        "\n",
        "\n",
        "review_dict = make_dict(data)\n",
        "\n",
        "def indexer(s): \n",
        "  return [review_dict.token2id[word] for word in s]\n",
        "\n",
        "data[\"review_index\"]=data[\"review\"].apply(indexer)\n",
        "\n",
        "def class_pre(val):\n",
        "  if val=='positive':\n",
        "    return 1\n",
        "  else:\n",
        "    return 0\n",
        "data['sentiment_val']=data['sentiment'].apply(class_pre)\n",
        "\n",
        "processed_data=data.drop(['review','sentiment'],axis=1)"
      ],
      "execution_count": 10,
      "outputs": [
        {
          "output_type": "stream",
          "text": [
            "[nltk_data] Downloading package punkt to /root/nltk_data...\n",
            "[nltk_data]   Package punkt is already up-to-date!\n",
            "[nltk_data] Downloading package stopwords to /root/nltk_data...\n",
            "[nltk_data]   Package stopwords is already up-to-date!\n"
          ],
          "name": "stdout"
        }
      ]
    },
    {
      "cell_type": "code",
      "metadata": {
        "id": "Nm25TfBGsJRz",
        "colab": {
          "base_uri": "https://localhost:8080/"
        },
        "outputId": "b8c6f587-a588-4673-f56c-5c1324645ed4"
      },
      "source": [
        "import torch\n",
        "from torch import nn\n",
        "from torch.nn.utils.rnn import pad_sequence, pack_padded_sequence, pad_packed_sequence\n",
        "from torch.utils.data import Dataset, DataLoader\n",
        "from torch.nn import functional as F\n",
        "from torch import optim\n",
        "\n",
        "import torch\n",
        "# Use cuda if present\n",
        "device = torch.device(\"cuda\" if torch.cuda.is_available() else \"cpu\")\n",
        "print(\"Device available for running: \")\n",
        "print(device)\n",
        "\n",
        "dict_size = len(review_dict)\n",
        "def review_ohe(review_idex_form):\n",
        "  seq_len=len(review_idex_form)\n",
        "  features = torch.zeros((seq_len, dict_size),device=device) \n",
        "\n",
        "  for i in range(len(review_idex_form)):\n",
        "    features[i,review_idex_form[i]]=1\n",
        "\n",
        "  return features\n",
        "\n",
        "data_test=processed_data[:10]\n",
        "#data_test=review_ohe(data_test)\n",
        "#print(data.review[:10])\n",
        "print(data_test['review_index'].apply(review_ohe)[5][np.newaxis,:,:].shape)\n",
        "\n",
        "temporary=data_test['review_index'].apply(review_ohe)\n",
        "\n",
        "\n",
        "#list_batch=[item for item in temporary]\n",
        "  \n",
        "#print(pad_sequence(list_batch,batch_first=True).shape)\n",
        "\n",
        "def padded_input(tempo):\n",
        "  list_batch=[item for item in tempo]\n",
        "  \n",
        "  return pad_sequence(list_batch,batch_first=True)\n",
        "\n",
        "print(padded_input(temporary).shape)\n",
        "\n",
        "def split_train_test(data, test_size=0.3, shuffle_state=True):\n",
        "    X_train, X_test, Y_train, Y_test = train_test_split(data['review_index'], \n",
        "                                                        data['sentiment_val'], \n",
        "                                                        shuffle=shuffle_state,\n",
        "                                                        test_size=test_size, \n",
        "                                                        random_state=15)\n",
        "    print(\"Value counts for Train sentiments\")\n",
        "    print(Y_train.value_counts())\n",
        "    print(\"Value counts for Test sentiments\")\n",
        "    print(Y_test.value_counts())\n",
        "    print(type(X_train))\n",
        "    print(type(Y_train))\n",
        "    X_train = X_train.reset_index()\n",
        "    X_test = X_test.reset_index()\n",
        "    Y_train_df = Y_train.to_frame()\n",
        "    Y_train_df = Y_train.reset_index()\n",
        "    Y_test_df = Y_test.to_frame()\n",
        "    Y_test_df = Y_test.reset_index()\n",
        "    print(X_train.head())\n",
        "    return X_train, X_test, Y_train, Y_test, Y_train_df, Y_test_df\n",
        "\n",
        "X_train, X_test, Y_train, Y_test, Y_train_df, Y_test_df = split_train_test(processed_data)\n",
        "\n",
        "\n",
        "\n",
        "Y_train=Y_train.to_numpy()\n",
        "Y_test=Y_test.to_numpy()\n",
        "\n",
        "print(Y_train[:10])\n",
        "\n",
        "y_train=torch.zeros(Y_train.shape[0],device=device,dtype=torch.long)\n",
        "y_test=torch.zeros(Y_test.shape[0],device=device,dtype=torch.long)\n",
        "\n",
        "for index in range(Y_train.shape[0]):\n",
        "  if(Y_train[index]==1):\n",
        "    y_train[index]=1\n",
        "\n",
        "for index in range(Y_test.shape[0]):\n",
        "  if(Y_test[index]==1):\n",
        "    y_test[index]=1\n",
        "\n",
        "print(y_train[:10])\n",
        "\n",
        "def make_target(label):\n",
        "    if label == 0:\n",
        "        return torch.tensor([0], dtype=torch.long, device=device)\n",
        "    else:\n",
        "        return torch.tensor([1], dtype=torch.long, device=device)\n"
      ],
      "execution_count": 11,
      "outputs": [
        {
          "output_type": "stream",
          "text": [
            "Device available for running: \n",
            "cuda\n",
            "torch.Size([1, 56, 74159])\n",
            "torch.Size([10, 163, 74159])\n",
            "Value counts for Train sentiments\n",
            "0    17512\n",
            "1    17488\n",
            "Name: sentiment_val, dtype: int64\n",
            "Value counts for Test sentiments\n",
            "1    7512\n",
            "0    7488\n",
            "Name: sentiment_val, dtype: int64\n",
            "<class 'pandas.core.series.Series'>\n",
            "<class 'pandas.core.series.Series'>\n",
            "   index                                       review_index\n",
            "0  36322  [997, 36, 277, 329, 913, 2899, 134, 873, 131, ...\n",
            "1   4638  [91, 132, 1114, 85, 48, 1711, 268, 417, 1426, ...\n",
            "2  46808  [497, 527, 3793, 611, 4147, 3247, 2001, 1355, ...\n",
            "3  38099  [286, 5633, 1889, 2319, 110, 2559, 670, 568, 5...\n",
            "4  31461  [1036, 230, 286, 1952, 360, 327, 1151, 77, 215...\n",
            "[1 1 0 0 1 1 1 1 0 1]\n",
            "tensor([1, 1, 0, 0, 1, 1, 1, 1, 0, 1], device='cuda:0')\n"
          ],
          "name": "stdout"
        }
      ]
    },
    {
      "cell_type": "code",
      "metadata": {
        "colab": {
          "base_uri": "https://localhost:8080/"
        },
        "id": "nGx-Z_EjsAfA",
        "outputId": "34605103-18e2-4652-fb7a-27b1f4365b25"
      },
      "source": [
        "class RNNModel(nn.Module):\n",
        "    def __init__(self, input_dim, hidden_dim, layer_dim, output_dim):\n",
        "        super(RNNModel, self).__init__()\n",
        "        \n",
        "        # Number of hidden dimensions\n",
        "        self.hidden_dim = hidden_dim\n",
        "        \n",
        "        # Number of hidden layers\n",
        "        self.layer_dim = layer_dim\n",
        "        \n",
        "        # RNN\n",
        "        self.rnn = nn.RNN(input_dim, hidden_dim, layer_dim, batch_first=True)\n",
        "        \n",
        "        # Readout layer\n",
        "        self.fc = nn.Linear(hidden_dim, output_dim)\n",
        "    \n",
        "    def forward(self, x):\n",
        "        \n",
        "        # Initialize hidden state with zeros\n",
        "        h0 = torch.zeros(self.layer_dim, x.size(0), self.hidden_dim,device=device)\n",
        "            \n",
        "        # One time step\n",
        "        out, hn = self.rnn(x, h0)\n",
        "        out = self.fc(out[:, -1, :]) \n",
        "        return F.softmax(out, dim=1)\n",
        "\n",
        "# batch_size, epoch and iteration\n",
        "batch_size = 1\n",
        "n_iters = 5\n",
        "\"\"\"num_epochs = n_iters / (len(X_train) / batch_size)\n",
        "num_epochs = int(num_epochs)\"\"\"\n",
        "\n",
        "    \n",
        "# Create RNN\n",
        "input_dim = len(review_dict)    # input dimension\n",
        "hidden_dim = 100  # hidden layer dimension\n",
        "layer_dim = 1     # number of hidden layers\n",
        "output_dim = 2   # output dimension\n",
        "\n",
        "model = RNNModel(input_dim, hidden_dim, layer_dim, output_dim)\n",
        "model.to(device)\n",
        "\n",
        "# Cross Entropy Loss \n",
        "error = nn.CrossEntropyLoss()\n",
        "\n",
        "# SGD Optimizer\n",
        "learning_rate = 0.001\n",
        "optimizer = torch.optim.SGD(model.parameters(), lr=learning_rate)\n",
        "\n",
        "print(model)"
      ],
      "execution_count": 12,
      "outputs": [
        {
          "output_type": "stream",
          "text": [
            "RNNModel(\n",
            "  (rnn): RNN(74159, 100, batch_first=True)\n",
            "  (fc): Linear(in_features=100, out_features=2, bias=True)\n",
            ")\n"
          ],
          "name": "stdout"
        }
      ]
    },
    {
      "cell_type": "code",
      "metadata": {
        "id": "RvJHO3WFHJux",
        "colab": {
          "base_uri": "https://localhost:8080/",
          "height": 450
        },
        "outputId": "6ab9cd3e-eee5-4fe8-e8a1-e78876c03d58"
      },
      "source": [
        "train_loss = []\n",
        "train_loss_buffer=0\n",
        "\n",
        "for epoch in range(n_iters):\n",
        "    print(\"epoch number   %d\" % (epoch+1))\n",
        "    if (epoch+1) % 25 == 0:\n",
        "        print(\"Epoch completed: \" + str(epoch+1))\n",
        "    for index, row in X_train.iterrows():\n",
        "        optimizer.zero_grad()\n",
        "        ip_vec = padded_input(review_ohe(row['review_index']))  \n",
        "        probs = model(ip_vec.unsqueeze(0))\n",
        "        target = make_target(Y_train_df['sentiment_val'][index])\n",
        "        loss = error(probs, target)        \n",
        "        train_loss_buffer+=loss.item()\n",
        "        loss.backward()\n",
        "        optimizer.step()\n",
        "    train_loss.append(train_loss_buffer/len(X_train))\n",
        "    print(train_loss_buffer/len(X_train))\n",
        "    train_loss_buffer=0\n",
        "plt.plot(train_loss)"
      ],
      "execution_count": 13,
      "outputs": [
        {
          "output_type": "stream",
          "text": [
            "epoch number   1\n",
            "0.6926421848007611\n",
            "epoch number   2\n",
            "0.6899204789246831\n",
            "epoch number   3\n",
            "0.6812082053678377\n",
            "epoch number   4\n",
            "0.6440121863722801\n",
            "epoch number   5\n",
            "0.6092744935912745\n"
          ],
          "name": "stdout"
        },
        {
          "output_type": "execute_result",
          "data": {
            "text/plain": [
              "[<matplotlib.lines.Line2D at 0x7f3780fb47d0>]"
            ]
          },
          "metadata": {
            "tags": []
          },
          "execution_count": 13
        },
        {
          "output_type": "display_data",
          "data": {
            "image/png": "[encoded data removed]",
            "text/plain": [
              "<Figure size 432x288 with 1 Axes>"
            ]
          },
          "metadata": {
            "tags": [],
            "needs_background": "light"
          }
        }
      ]
    },
    {
      "cell_type": "code",
      "metadata": {
        "colab": {
          "base_uri": "https://localhost:8080/"
        },
        "id": "UTpYMY2JJXXb",
        "outputId": "434720f2-2a0f-4b33-b91c-e91b5cd9c0ca"
      },
      "source": [
        "from sklearn.metrics import classification_report\n",
        "bow_ff_nn_predictions = []\n",
        "original_lables_ff_bow = []\n",
        "with torch.no_grad():\n",
        "    for index, row in X_test.iterrows():\n",
        "        ip_vec = padded_input(review_ohe(row['review_index']))  \n",
        "        probs = model(ip_vec.unsqueeze(0))\n",
        "        bow_ff_nn_predictions.append(torch.argmax(probs, dim=1).cpu().numpy()[0])\n",
        "        original_lables_ff_bow.append(make_target(Y_test_df['sentiment_val'][index]).cpu().numpy()[0])\n",
        "print(classification_report(original_lables_ff_bow,bow_ff_nn_predictions))"
      ],
      "execution_count": 14,
      "outputs": [
        {
          "output_type": "stream",
          "text": [
            "              precision    recall  f1-score   support\n",
            "\n",
            "           0       0.86      0.51      0.64      7488\n",
            "           1       0.65      0.92      0.76      7512\n",
            "\n",
            "    accuracy                           0.71     15000\n",
            "   macro avg       0.75      0.71      0.70     15000\n",
            "weighted avg       0.75      0.71      0.70     15000\n",
            "\n"
          ],
          "name": "stdout"
        }
      ]
    },
    {
      "cell_type": "code",
      "metadata": {
        "id": "u-jTrWSmJkaT"
      },
      "source": [
        ""
      ],
      "execution_count": null,
      "outputs": []
    }
  ]
}