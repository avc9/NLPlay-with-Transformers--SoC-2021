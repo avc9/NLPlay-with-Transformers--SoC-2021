{
  "nbformat": 4,
  "nbformat_minor": 0,
  "metadata": {
    "accelerator": "GPU",
    "colab": {
      "name": "WEEK3_LSTM.ipynb",
      "provenance": [],
      "mount_file_id": "1_Xv8ouRAzwVwka3Jii4xwD9LvsJS8s9A",
      "authorship_tag": "ABX9TyPEB5E0+95qXYaJ+sr97u0T",
      "include_colab_link": true
    },
    "kernelspec": {
      "display_name": "Python 3",
      "name": "python3"
    },
    "language_info": {
      "name": "python"
    }
  },
  "cells": [
    {
      "cell_type": "markdown",
      "metadata": {
        "id": "view-in-github",
        "colab_type": "text"
      },
      "source": [
        "<a href=\"https://colab.research.google.com/github/avc9/NLPlay-with-Transformers--SoC-2021/blob/main/WEEK3_LSTM.ipynb\" target=\"_parent\"><img src=\"https://colab.research.google.com/assets/colab-badge.svg\" alt=\"Open In Colab\"/></a>"
      ]
    },
    {
      "cell_type": "code",
      "metadata": {
        "colab": {
          "base_uri": "https://localhost:8080/"
        },
        "id": "sCY15ViZtcWi",
        "outputId": "73f622f3-df33-4e33-9437-87dd21a297be"
      },
      "source": [
        "import numpy as np\n",
        "import pandas as pd\n",
        "import nltk\n",
        "from nltk.corpus import stopwords\n",
        "from nltk.stem import PorterStemmer\n",
        "from nltk.tokenize.treebank import TreebankWordDetokenizer\n",
        "import sklearn\n",
        "import matplotlib.pyplot as plt\n",
        "import re\n",
        "from bs4 import BeautifulSoup\n",
        "from sklearn.model_selection import train_test_split\n",
        "from sklearn.feature_extraction.text import CountVectorizer\n",
        "from sklearn.feature_extraction.text import TfidfVectorizer\n",
        "from sklearn.linear_model import LogisticRegression\n",
        "from sklearn.metrics import classification_report,confusion_matrix,accuracy_score\n",
        "import random\n",
        "from gensim import corpora\n",
        "\n",
        "nltk.download('punkt');\n",
        "nltk.download('stopwords');\n",
        "\n",
        "data=pd.read_csv(\"/content/drive/MyDrive/SOC-2021 data/IMDB Dataset.csv\")\n",
        "\n",
        "\n",
        "stop_words=set(stopwords.words('english'))\n",
        "\n",
        "def strip_html(text):\n",
        "    soup = BeautifulSoup(text, \"html.parser\")\n",
        "    return soup.get_text()\n",
        "\n",
        "def remove_between_square_brackets(text):\n",
        "    return re.sub('\\[[^]]*\\]', '', text)\n",
        "\n",
        "\n",
        "def denoise_text(text):\n",
        "    text = strip_html(text)\n",
        "    text = remove_between_square_brackets(text)\n",
        "    return text\n",
        "\n",
        "data['review']=data['review'].apply(denoise_text)\n",
        "\n",
        "def stem_tokenizer(text):\n",
        "  tokenizer=nltk.RegexpTokenizer(r\"\\w+\")\n",
        "  stemmer=PorterStemmer()\n",
        "  return [stemmer.stem(word.lower()) for word in tokenizer.tokenize(text) if word.lower() not in stop_words]\n",
        "\n",
        "data['review']=data['review'].apply(stem_tokenizer)\n",
        "\n",
        "\n",
        "\n",
        "def make_dict(data):\n",
        "    review_dict = corpora.Dictionary(data['review'])\n",
        "    return review_dict\n",
        "\n",
        "\n",
        "review_dict = make_dict(data)\n",
        "\n",
        "def indexer(s): \n",
        "  return [review_dict.token2id[word] for word in s]\n",
        "\n",
        "data[\"review_index\"]=data[\"review\"].apply(indexer)\n",
        "\n",
        "def class_pre(val):\n",
        "  if val=='positive':\n",
        "    return 1\n",
        "  else:\n",
        "    return 0\n",
        "data['sentiment_val']=data['sentiment'].apply(class_pre)\n",
        "\n",
        "processed_data=data.drop(['review','sentiment'],axis=1)\n",
        "\n",
        "def add_1_to_list(ip_list):\n",
        "  op_list=[x+1 for x in ip_list]\n",
        "  return op_list\n",
        "\n",
        "processed_data[\"review_index\"]=processed_data[\"review_index\"].apply(add_1_to_list)"
      ],
      "execution_count": 88,
      "outputs": [
        {
          "output_type": "stream",
          "text": [
            "[nltk_data] Downloading package punkt to /root/nltk_data...\n",
            "[nltk_data]   Package punkt is already up-to-date!\n",
            "[nltk_data] Downloading package stopwords to /root/nltk_data...\n",
            "[nltk_data]   Package stopwords is already up-to-date!\n"
          ],
          "name": "stdout"
        }
      ]
    },
    {
      "cell_type": "code",
      "metadata": {
        "colab": {
          "base_uri": "https://localhost:8080/"
        },
        "id": "wfrRMIHLtoDW",
        "outputId": "251763f2-721a-473d-8019-dbd074b6e19c"
      },
      "source": [
        "print(processed_data.head(5))"
      ],
      "execution_count": 89,
      "outputs": [
        {
          "output_type": "stream",
          "text": [
            "                                        review_index  sentiment_val\n",
            "0  [84, 98, 76, 131, 1, 87, 32, 59, 99, 34, 54, 4...              1\n",
            "1  [196, 162, 174, 154, 187, 193, 166, 190, 136, ...              1\n",
            "2  [251, 196, 254, 243, 190, 218, 247, 256, 242, ...              1\n",
            "3  [266, 276, 162, 268, 280, 298, 302, 269, 288, ...              0\n",
            "4  [349, 340, 229, 190, 342, 375, 366, 154, 131, ...              1\n"
          ],
          "name": "stdout"
        }
      ]
    },
    {
      "cell_type": "code",
      "metadata": {
        "colab": {
          "base_uri": "https://localhost:8080/",
          "height": 425
        },
        "id": "Xv14awXju4K9",
        "outputId": "70dc7430-8a5a-41a0-8d61-88cf7af3edad"
      },
      "source": [
        "rev_len=[len(lists) for lists in processed_data[\"review_index\"] ]\n",
        "pd.Series(rev_len).hist()\n",
        "plt.show()\n",
        "pd.Series(rev_len).describe()"
      ],
      "execution_count": 90,
      "outputs": [
        {
          "output_type": "display_data",
          "data": {
            "image/png": "[encoded data removed]",
            "text/plain": [
              "<Figure size 432x288 with 1 Axes>"
            ]
          },
          "metadata": {
            "tags": [],
            "needs_background": "light"
          }
        },
        {
          "output_type": "execute_result",
          "data": {
            "text/plain": [
              "count    50000.000000\n",
              "mean       119.557280\n",
              "std         90.261716\n",
              "min          3.000000\n",
              "25%         64.000000\n",
              "50%         89.000000\n",
              "75%        145.000000\n",
              "max       1429.000000\n",
              "dtype: float64"
            ]
          },
          "metadata": {
            "tags": []
          },
          "execution_count": 90
        }
      ]
    },
    {
      "cell_type": "code",
      "metadata": {
        "id": "97EQw7Nyv_GG"
      },
      "source": [
        "def padding_(sentences, seq_len):\n",
        "    features = np.zeros((len(sentences), seq_len),dtype=int)\n",
        "    for ii, review in enumerate(sentences):\n",
        "        if len(review) != 0:\n",
        "            features[ii, -len(review):] = np.array(review)[:seq_len]\n",
        "    return features"
      ],
      "execution_count": 91,
      "outputs": []
    },
    {
      "cell_type": "code",
      "metadata": {
        "id": "z7g3B16IvXyv"
      },
      "source": [
        "x_train,x_test,y_train,y_test = train_test_split(processed_data[\"review_index\"],processed_data[\"sentiment_val\"],\n",
        "                                                 shuffle=True,test_size=0.3)\n",
        "#print(pd.Series(y_train).value_counts())"
      ],
      "execution_count": 92,
      "outputs": []
    },
    {
      "cell_type": "code",
      "metadata": {
        "id": "Z1c5rRmUxmoN"
      },
      "source": [
        "x_train_pad = padding_(x_train,600)\n",
        "x_test_pad = padding_(x_test,600)\n",
        "y_train=y_train.to_numpy()\n",
        "y_test=y_test.to_numpy()"
      ],
      "execution_count": 93,
      "outputs": []
    },
    {
      "cell_type": "code",
      "metadata": {
        "colab": {
          "base_uri": "https://localhost:8080/"
        },
        "id": "HbvXr-buyrk0",
        "outputId": "fc4aff98-44b9-4659-cc42-ae747478ac14"
      },
      "source": [
        "print(x_train_pad[:10].shape)\n",
        "print(y_train.shape)"
      ],
      "execution_count": 94,
      "outputs": [
        {
          "output_type": "stream",
          "text": [
            "(10, 600)\n",
            "(35000,)\n"
          ],
          "name": "stdout"
        }
      ]
    },
    {
      "cell_type": "code",
      "metadata": {
        "id": "hJhvSMAWyw1O"
      },
      "source": [
        "import torch\n",
        "import torch.nn as nn\n",
        "from torch.nn import functional as F\n",
        "from torch import optim\n",
        "from torch.utils.data import TensorDataset,DataLoader\n",
        "\n",
        "train_data = TensorDataset(torch.from_numpy(x_train_pad), torch.from_numpy(y_train))\n",
        "train_loader = DataLoader(train_data, shuffle=True, batch_size=1000)\n",
        "dataiter = iter(train_loader)\n",
        "sample_x, sample_y = dataiter.next()\n",
        "\n",
        "test_data = TensorDataset(torch.from_numpy(x_test_pad), torch.from_numpy(y_test))\n",
        "test_loader = DataLoader(test_data, shuffle=True, batch_size=1000)"
      ],
      "execution_count": 95,
      "outputs": []
    },
    {
      "cell_type": "code",
      "metadata": {
        "id": "kG1spMN-18gY"
      },
      "source": [
        "class LSTM_net(nn.Module):\n",
        "    def __init__(self,no_layers,vocab_size,hidden_dim,embedding_dim,drop_prob=0.5):\n",
        "        super(LSTM_net,self).__init__()\n",
        " \n",
        "        self.output_dim = output_dim\n",
        "        self.hidden_dim = hidden_dim\n",
        " \n",
        "        self.no_layers = no_layers\n",
        "        self.vocab_size = vocab_size\n",
        "    \n",
        "        # embedding and LSTM layers\n",
        "        self.embedding = nn.Embedding(vocab_size, embedding_dim)\n",
        "        \n",
        "        #lstm\n",
        "        self.lstm = nn.LSTM(input_size=embedding_dim,hidden_size=self.hidden_dim,\n",
        "                           num_layers=no_layers, batch_first=True,dropout=0.4)\n",
        "        \n",
        "        \n",
        "        # dropout layer\n",
        "        self.dropout = nn.Dropout(0.5)\n",
        "    \n",
        "        # linear and sigmoid layer\n",
        "        self.fc1 = nn.Linear(self.hidden_dim, 10)\n",
        "        self.fc2=nn.Linear(10,output_dim)\n",
        "        self.sig = nn.Sigmoid()\n",
        "        \n",
        "    def forward(self,x,hidden):\n",
        "        batch_size = x.size(0)\n",
        "        # embeddings and lstm_out\n",
        "        embeds = self.embedding(x)  # shape: B x S x Feature   since batch = True\n",
        "        #print(embeds.shape)  #[50, 500, 1000]\n",
        "        lstm_out, hidden = self.lstm(embeds, hidden)\n",
        "        \n",
        "        lstm_out = lstm_out.contiguous().view(-1, self.hidden_dim) \n",
        "        \n",
        "        # dropout and fully connected layer\n",
        "        out = self.dropout(lstm_out)\n",
        "        out = self.fc1(out)\n",
        "        out = self.dropout(out)\n",
        "        out=self.fc2(out)\n",
        "        \n",
        "        # sigmoid function\n",
        "        sig_out = self.sig(out)\n",
        "        \n",
        "        # reshape to be batch_size first\n",
        "        sig_out = sig_out.view(batch_size, -1)\n",
        "\n",
        "        sig_out = sig_out[:, -1] # get last batch of labels\n",
        "        \n",
        "        # return last sigmoid output and hidden state\n",
        "        return sig_out, hidden\n",
        "        \n",
        "        \n",
        "        \n",
        "    def init_hidden(self, batch_size):\n",
        "        ''' Initializes hidden state '''\n",
        "        # Create two new tensors with sizes n_layers x batch_size x hidden_dim,\n",
        "        # initialized to zero, for hidden state and cell state of LSTM\n",
        "        h0 = torch.zeros((self.no_layers,batch_size,self.hidden_dim)).to(device)\n",
        "        c0 = torch.zeros((self.no_layers,batch_size,self.hidden_dim)).to(device)\n",
        "        hidden = (h0,c0)\n",
        "        return hidden\n"
      ],
      "execution_count": 48,
      "outputs": []
    },
    {
      "cell_type": "code",
      "metadata": {
        "colab": {
          "base_uri": "https://localhost:8080/"
        },
        "id": "0wqqa3xb3blH",
        "outputId": "478e5204-d1f0-4e46-ff1b-bcf901054aa4"
      },
      "source": [
        "is_cuda = torch.cuda.is_available()\n",
        "\n",
        "# If we have a GPU available, we'll set our device to GPU. We'll use this device variable later in our code.\n",
        "if is_cuda:\n",
        "    device = torch.device(\"cuda\")\n",
        "    print(\"GPU is available\")\n",
        "else:\n",
        "    device = torch.device(\"cpu\")\n",
        "    print(\"GPU not available, CPU used\")"
      ],
      "execution_count": 49,
      "outputs": [
        {
          "output_type": "stream",
          "text": [
            "GPU is available\n"
          ],
          "name": "stdout"
        }
      ]
    },
    {
      "cell_type": "code",
      "metadata": {
        "colab": {
          "base_uri": "https://localhost:8080/"
        },
        "id": "5wHrYTeV2pje",
        "outputId": "0e1dab1e-4980-459a-86ed-f5b9b162b2f0"
      },
      "source": [
        "no_layers = 1\n",
        "vocab_size = len(review_dict) + 1 #extra 1 for padding\n",
        "embedding_dim = 50\n",
        "output_dim = 1\n",
        "hidden_dim = 50\n",
        "\n",
        "batch_size=1000\n",
        "\n",
        "\n",
        "model = LSTM_net(no_layers,vocab_size,hidden_dim,embedding_dim,drop_prob=0.5)\n",
        "\n",
        "#moving to gpu\n",
        "model.to(device)\n",
        "\n",
        "print(model)"
      ],
      "execution_count": 70,
      "outputs": [
        {
          "output_type": "stream",
          "text": [
            "LSTM_net(\n",
            "  (embedding): Embedding(73664, 50)\n",
            "  (lstm): LSTM(50, 50, batch_first=True, dropout=0.4)\n",
            "  (dropout): Dropout(p=0.5, inplace=False)\n",
            "  (fc1): Linear(in_features=50, out_features=10, bias=True)\n",
            "  (fc2): Linear(in_features=10, out_features=1, bias=True)\n",
            "  (sig): Sigmoid()\n",
            ")\n"
          ],
          "name": "stdout"
        },
        {
          "output_type": "stream",
          "text": [
            "/usr/local/lib/python3.7/dist-packages/torch/nn/modules/rnn.py:63: UserWarning: dropout option adds dropout after all but last recurrent layer, so non-zero dropout expects num_layers greater than 1, but got dropout=0.4 and num_layers=1\n",
            "  \"num_layers={}\".format(dropout, num_layers))\n"
          ],
          "name": "stderr"
        }
      ]
    },
    {
      "cell_type": "code",
      "metadata": {
        "id": "W73KHkPj3ai3"
      },
      "source": [
        "def acc(pred,label):\n",
        "    pred = torch.round(pred.squeeze())\n",
        "    return torch.sum(pred == label.squeeze()).item()"
      ],
      "execution_count": 71,
      "outputs": []
    },
    {
      "cell_type": "code",
      "metadata": {
        "id": "DRCllyYk2zTf"
      },
      "source": [
        "lr=0.001\n",
        "\n",
        "criterion = nn.BCELoss()\n",
        "\n",
        "optimizer = torch.optim.Adam(model.parameters(), lr=lr,weight_decay=0.0001)"
      ],
      "execution_count": 72,
      "outputs": []
    },
    {
      "cell_type": "code",
      "metadata": {
        "colab": {
          "base_uri": "https://localhost:8080/"
        },
        "id": "RxuoexBT27bg",
        "outputId": "229941e6-0992-4fea-fb25-0676ea59b9b4"
      },
      "source": [
        "batch_counter=1\n",
        "clip = 5\n",
        "epochs = 25\n",
        "valid_loss_min = np.Inf\n",
        "# train for some number of epochs\n",
        "epoch_tr_loss,epoch_vl_loss = [],[]\n",
        "epoch_tr_acc,epoch_vl_acc = [],[]\n",
        "\n",
        "for epoch in range(epochs):\n",
        "    batch_counter=0\n",
        "    train_losses = []\n",
        "    train_acc = 0.0\n",
        "    model.train()\n",
        "    # initialize hidden state \n",
        "    h = model.init_hidden(batch_size)\n",
        "    for inputs, labels in train_loader:\n",
        "        batch_counter+=1\n",
        "        #print(f'Batch Number:{batch_counter}')\n",
        "        inputs, labels = inputs.to(device), labels.to(device)   \n",
        "        # Creating new variables for the hidden state, otherwise\n",
        "        # we'd backprop through the entire training history\n",
        "        h = tuple([each.data for each in h])\n",
        "        \n",
        "        model.zero_grad()\n",
        "        output,h = model(inputs,h)\n",
        "        \n",
        "        # calculate the loss and perform backprop\n",
        "        loss = criterion(output.squeeze(), labels.float())\n",
        "        loss.backward()\n",
        "        train_losses.append(loss.item())\n",
        "        #print(f'Batch Loss :{loss.item()}')\n",
        "        # calculating accuracy\n",
        "        accuracy = acc(output,labels)\n",
        "        train_acc += accuracy\n",
        "        #`clip_grad_norm` helps prevent the exploding gradient problem in RNNs / LSTMs.\n",
        "        nn.utils.clip_grad_norm_(model.parameters(), clip)\n",
        "        optimizer.step()\n",
        " \n",
        "    \n",
        "        \n",
        "    val_h = model.init_hidden(batch_size)\n",
        "    val_losses = []\n",
        "    val_acc = 0.0\n",
        "    model.eval()\n",
        "    for inputs, labels in test_loader:\n",
        "            val_h = tuple([each.data for each in val_h])\n",
        "\n",
        "            inputs, labels = inputs.to(device), labels.to(device)\n",
        "\n",
        "            output, val_h = model(inputs, val_h)\n",
        "            val_loss = criterion(output.squeeze(), labels.float())\n",
        "\n",
        "            val_losses.append(val_loss.item())\n",
        "            \n",
        "            accuracy = acc(output,labels)\n",
        "            val_acc += accuracy\n",
        "           \n",
        "    epoch_train_loss = np.mean(train_losses)\n",
        "    epoch_val_loss = np.mean(val_losses)\n",
        "    epoch_train_acc = train_acc/len(train_loader.dataset)\n",
        "    epoch_val_acc = val_acc/len(test_loader.dataset)\n",
        "    epoch_tr_loss.append(epoch_train_loss)\n",
        "    epoch_vl_loss.append(epoch_val_loss)\n",
        "    epoch_tr_acc.append(epoch_train_acc)\n",
        "    epoch_vl_acc.append(epoch_val_acc)\n",
        "    print(f'Epoch {epoch+1}') \n",
        "    print(f'train_loss : {epoch_train_loss} train_accuracy : {epoch_train_acc}')\n",
        "    print(f'test_loss : {epoch_val_loss} test_accuracy : {epoch_val_acc}')\n",
        "    #print(f'train_loss : {epoch_train_loss} val_loss : {epoch_val_loss}')\n",
        "    #print(f'train_accuracy : {epoch_train_acc*100} val_accuracy : {epoch_val_acc*100}')\n",
        "    \"\"\"if epoch_val_loss <= valid_loss_min:\n",
        "        torch.save(model.state_dict(), '../working/state_dict.pt')\n",
        "        print('Validation loss decreased ({:.6f} --> {:.6f}).  Saving model ...'.format(valid_loss_min,epoch_val_loss))\n",
        "        valid_loss_min = epoch_val_loss\n",
        "    print(25*'==')\"\"\""
      ],
      "execution_count": 73,
      "outputs": [
        {
          "output_type": "stream",
          "text": [
            "Epoch 1\n",
            "train_loss : 0.6913550036294119 train_accuracy : 0.5224571428571428\n",
            "test_loss : 0.6857662081718445 test_accuracy : 0.5540666666666667\n",
            "Epoch 2\n",
            "train_loss : 0.6785598039627075 train_accuracy : 0.5646285714285715\n",
            "test_loss : 0.6600222667058309 test_accuracy : 0.6014666666666667\n",
            "Epoch 3\n",
            "train_loss : 0.6286156484058925 train_accuracy : 0.6500571428571429\n",
            "test_loss : 0.5815819422403972 test_accuracy : 0.6995333333333333\n",
            "Epoch 4\n",
            "train_loss : 0.5296133296830313 train_accuracy : 0.7528285714285714\n",
            "test_loss : 0.46072965264320376 test_accuracy : 0.7853333333333333\n",
            "Epoch 5\n",
            "train_loss : 0.4464524277618953 train_accuracy : 0.8090285714285714\n",
            "test_loss : 0.40904833873112995 test_accuracy : 0.8172\n",
            "Epoch 6\n",
            "train_loss : 0.39970613036836894 train_accuracy : 0.8324571428571429\n",
            "test_loss : 0.387072096268336 test_accuracy : 0.8326\n",
            "Epoch 7\n",
            "train_loss : 0.3774549109595163 train_accuracy : 0.8457714285714286\n",
            "test_loss : 0.37723856170972186 test_accuracy : 0.8404\n",
            "Epoch 8\n",
            "train_loss : 0.35806821584701537 train_accuracy : 0.8538285714285714\n",
            "test_loss : 0.373402468363444 test_accuracy : 0.8381333333333333\n",
            "Epoch 9\n",
            "train_loss : 0.3411400999341692 train_accuracy : 0.8625714285714285\n",
            "test_loss : 0.3606318771839142 test_accuracy : 0.844\n",
            "Epoch 10\n",
            "train_loss : 0.3285061682973589 train_accuracy : 0.8706857142857143\n",
            "test_loss : 0.3489339530467987 test_accuracy : 0.8491333333333333\n",
            "Epoch 11\n",
            "train_loss : 0.32545154350144523 train_accuracy : 0.8728285714285714\n",
            "test_loss : 0.358292027314504 test_accuracy : 0.8531333333333333\n",
            "Epoch 12\n",
            "train_loss : 0.30641207780156815 train_accuracy : 0.8832571428571429\n",
            "test_loss : 0.33758525053660077 test_accuracy : 0.8564\n",
            "Epoch 13\n",
            "train_loss : 0.2927931223596845 train_accuracy : 0.8885714285714286\n",
            "test_loss : 0.32994648019472755 test_accuracy : 0.8636\n",
            "Epoch 14\n",
            "train_loss : 0.2845823607274464 train_accuracy : 0.8923142857142857\n",
            "test_loss : 0.32609122395515444 test_accuracy : 0.8633333333333333\n",
            "Epoch 15\n",
            "train_loss : 0.2789506162915911 train_accuracy : 0.8938571428571429\n",
            "test_loss : 0.3346129258473714 test_accuracy : 0.8652\n",
            "Epoch 16\n",
            "train_loss : 0.26403624755995614 train_accuracy : 0.9004\n",
            "test_loss : 0.33462469577789306 test_accuracy : 0.8663333333333333\n",
            "Epoch 17\n",
            "train_loss : 0.255433315890176 train_accuracy : 0.9031714285714286\n",
            "test_loss : 0.3383660813172658 test_accuracy : 0.8655333333333334\n",
            "Epoch 18\n",
            "train_loss : 0.24948471231119973 train_accuracy : 0.9076285714285715\n",
            "test_loss : 0.3263970156510671 test_accuracy : 0.8668\n",
            "Epoch 19\n",
            "train_loss : 0.24073787544454847 train_accuracy : 0.9116571428571428\n",
            "test_loss : 0.3455562969048818 test_accuracy : 0.8646\n",
            "Epoch 20\n",
            "train_loss : 0.2354457621063505 train_accuracy : 0.9137428571428572\n",
            "test_loss : 0.3319981932640076 test_accuracy : 0.8673333333333333\n",
            "Epoch 21\n",
            "train_loss : 0.23098653554916382 train_accuracy : 0.9154\n",
            "test_loss : 0.348064523935318 test_accuracy : 0.8686\n",
            "Epoch 22\n",
            "train_loss : 0.2227523582322257 train_accuracy : 0.9213428571428571\n",
            "test_loss : 0.3250455141067505 test_accuracy : 0.8689333333333333\n",
            "Epoch 23\n",
            "train_loss : 0.2337417164019176 train_accuracy : 0.9156285714285715\n",
            "test_loss : 0.35639994541803993 test_accuracy : 0.8658\n",
            "Epoch 24\n",
            "train_loss : 0.21253309420176913 train_accuracy : 0.9247142857142857\n",
            "test_loss : 0.33879236578941346 test_accuracy : 0.8727333333333334\n",
            "Epoch 25\n",
            "train_loss : 0.21518365485327584 train_accuracy : 0.9221714285714285\n",
            "test_loss : 0.3884838660558065 test_accuracy : 0.8678\n"
          ],
          "name": "stdout"
        }
      ]
    },
    {
      "cell_type": "code",
      "metadata": {
        "colab": {
          "base_uri": "https://localhost:8080/",
          "height": 283
        },
        "id": "aBjmqJIo43Ww",
        "outputId": "6b836d92-bf62-4ec7-ca88-6cdfb83a5497"
      },
      "source": [
        "#x_axis=list(range(25))\n",
        "%matplotlib inline\n",
        "plt.plot(epoch_tr_loss)\n",
        "plt.plot(epoch_vl_loss)\n",
        "#plt.hold()\n",
        "#plt.plot(epoch_val_loss)"
      ],
      "execution_count": 74,
      "outputs": [
        {
          "output_type": "execute_result",
          "data": {
            "text/plain": [
              "[<matplotlib.lines.Line2D at 0x7f099bebbe10>]"
            ]
          },
          "metadata": {
            "tags": []
          },
          "execution_count": 74
        },
        {
          "output_type": "display_data",
          "data": {
            "image/png": "[encoded data removed]",
            "text/plain": [
              "<Figure size 432x288 with 1 Axes>"
            ]
          },
          "metadata": {
            "tags": [],
            "needs_background": "light"
          }
        }
      ]
    },
    {
      "cell_type": "code",
      "metadata": {
        "id": "IKyuykK7DwNn"
      },
      "source": [
        "\"\"\"class RNNModel(nn.Module):\n",
        "    def __init__(self, input_dim, hidden_dim, layer_dim, output_dim,embedding_dim):\n",
        "        super(RNNModel, self).__init__()\n",
        "        \n",
        "        # Number of hidden dimensions\n",
        "        self.hidden_dim = hidden_dim\n",
        "        \n",
        "        # Number of hidden layers\n",
        "        self.layer_dim = layer_dim\n",
        "\n",
        "        #Embedding\n",
        "        self.embedding = nn.Embedding(input_dim, embedding_dim)\n",
        "        \n",
        "        # RNN\n",
        "        self.rnn = nn.RNN(embedding_dim, hidden_dim, layer_dim, batch_first=True, nonlinearity='relu')\n",
        "        \n",
        "        # Readout layer\n",
        "        self.fc1 = nn.Linear(hidden_dim, output_dim)\n",
        "    \n",
        "    def forward(self, x):\n",
        "        \n",
        "        # Initialize hidden state with zeros\n",
        "        h0 = Variable(torch.zeros(self.layer_dim, x.size(0), self.hidden_dim))\n",
        "            \n",
        "        # One time step\n",
        "        out, hn = self.rnn(x, h0)\n",
        "        out = self.fc1(out[:, -1, :]) \n",
        "        return out\"\"\""
      ],
      "execution_count": 104,
      "outputs": []
    },
    {
      "cell_type": "code",
      "metadata": {
        "id": "IDblgTrANGSd"
      },
      "source": [
        "\"\"\"input_dim = len(review_dict)+1    # input dimension\n",
        "hidden_dim = 50  # hidden layer dimension\n",
        "layer_dim = 1     # number of hidden layers\n",
        "output_dim = 1   # output dimension\n",
        "embedding_dim=50\n",
        "model2 = RNNModel(input_dim, hidden_dim, layer_dim, output_dim,embedding_dim)\n",
        "\n",
        "# Cross Entropy Loss \n",
        "error = nn.BCELoss()\n",
        "\n",
        "# SGD Optimizer\n",
        "learning_rate = 0.001\n",
        "optimizer = torch.optim.SGD(model2.parameters(), lr=learning_rate)\n",
        "\n",
        "print(model2)\"\"\""
      ],
      "execution_count": null,
      "outputs": []
    },
    {
      "cell_type": "code",
      "metadata": {
        "id": "gYUHoZ9Bdb_5"
      },
      "source": [
        "\"\"\"from torch.autograd import Variable\n",
        "seq_dim = 600\n",
        "loss_list = []\n",
        "iteration_list = []\n",
        "accuracy_list = []\n",
        "count = 0\n",
        "\n",
        "num_epochs=10\n",
        "\n",
        "for epoch in range(num_epochs):\n",
        "    count=0\n",
        "    for input, labels in train_loader:\n",
        "\n",
        "        #train  = Variable(images.view(-1, seq_dim, input_dim))\n",
        "        #labels = Variable(labels )\n",
        "            \n",
        "        # Clear gradients\n",
        "        optimizer.zero_grad()\n",
        "        \n",
        "        # Forward propagation\n",
        "        outputs = model2(input.to(device))\n",
        "        \n",
        "        # Calculate softmax and ross entropy loss\n",
        "        loss = error(outputs.to(device), labels.float().to(device))\n",
        "        \n",
        "        # Calculating gradients\n",
        "        loss.backward()\n",
        "        \n",
        "        # Update parameters\n",
        "        optimizer.step()\n",
        "        \n",
        "        count += 1\n",
        "\n",
        "        print(f'Epoch : {epoch} Batch : {count} Loss:{loss.item()}')\n",
        "        loss_list.append(loss.item())\n",
        "        \n",
        "        \"\"\"if count % 1 == 0:\n",
        "            # Calculate Accuracy         \n",
        "            correct = 0\n",
        "            total = 0\n",
        "            # Iterate through test dataset\n",
        "            for images, labels in test_loader:\n",
        "                images = Variable(images.view(-1, seq_dim, input_dim))\n",
        "                \n",
        "                # Forward propagation\n",
        "                outputs = model(images)\n",
        "                \n",
        "                # Get predictions from the maximum value\n",
        "                predicted = torch.max(outputs.data, 1)[1]\n",
        "                \n",
        "                # Total number of labels\n",
        "                total += labels.size(0)\n",
        "                \n",
        "                correct += (predicted == labels).sum()\n",
        "            \n",
        "            accuracy = 100 * correct / float(total)\n",
        "            \n",
        "            # store loss and iteration\n",
        "            loss_list.append(loss.data)\n",
        "            iteration_list.append(count)\n",
        "            accuracy_list.append(accuracy)\n",
        "            if count % 500 == 0:\n",
        "                # Print Loss\n",
        "                print('Iteration: {}  Loss: {}  Accuracy: {} %'.format(count, loss.data[0], accuracy))\"\"\"\"\"\""
      ],
      "execution_count": null,
      "outputs": []
    },
    {
      "cell_type": "code",
      "metadata": {
        "id": "850LDWvbf249"
      },
      "source": [
        ""
      ],
      "execution_count": null,
      "outputs": []
    }
  ]
}